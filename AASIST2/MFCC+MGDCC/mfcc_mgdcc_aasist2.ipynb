{
 "cells": [
  {
   "cell_type": "code",
   "execution_count": 1,
   "id": "6d68ed65",
   "metadata": {
    "execution": {
     "iopub.execute_input": "2025-09-15T18:32:25.224842Z",
     "iopub.status.busy": "2025-09-15T18:32:25.224098Z",
     "iopub.status.idle": "2025-09-15T18:32:25.227692Z",
     "shell.execute_reply": "2025-09-15T18:32:25.227188Z"
    },
    "papermill": {
     "duration": 0.013264,
     "end_time": "2025-09-15T18:32:25.228778",
     "exception": false,
     "start_time": "2025-09-15T18:32:25.215514",
     "status": "completed"
    },
    "tags": []
   },
   "outputs": [],
   "source": [
    "# !pip install --upgrade scipy"
   ]
  },
  {
   "cell_type": "code",
   "execution_count": 2,
   "id": "fcf6b672",
   "metadata": {
    "execution": {
     "iopub.execute_input": "2025-09-15T18:32:25.237345Z",
     "iopub.status.busy": "2025-09-15T18:32:25.237168Z",
     "iopub.status.idle": "2025-09-15T18:32:31.599240Z",
     "shell.execute_reply": "2025-09-15T18:32:31.598545Z"
    },
    "papermill": {
     "duration": 6.367737,
     "end_time": "2025-09-15T18:32:31.600571",
     "exception": false,
     "start_time": "2025-09-15T18:32:25.232834",
     "status": "completed"
    },
    "tags": []
   },
   "outputs": [],
   "source": [
    "import torch \n",
    "import torch.nn as nn\n",
    "import torch.nn.functional as F\n",
    "from torch.autograd import Variable\n",
    "from torch.utils.data import Dataset, DataLoader\n",
    "\n",
    "import os, pathlib, glob, random\n",
    "import numpy as np\n",
    "import matplotlib.pyplot as plt \n",
    "\n",
    "from sklearn.metrics import confusion_matrix\n",
    "import scipy\n",
    "from scipy import io"
   ]
  },
  {
   "cell_type": "code",
   "execution_count": 3,
   "id": "84541bd7",
   "metadata": {
    "execution": {
     "iopub.execute_input": "2025-09-15T18:32:31.609462Z",
     "iopub.status.busy": "2025-09-15T18:32:31.609145Z",
     "iopub.status.idle": "2025-09-15T18:32:31.673062Z",
     "shell.execute_reply": "2025-09-15T18:32:31.672430Z"
    },
    "papermill": {
     "duration": 0.069425,
     "end_time": "2025-09-15T18:32:31.674103",
     "exception": false,
     "start_time": "2025-09-15T18:32:31.604678",
     "status": "completed"
    },
    "tags": []
   },
   "outputs": [
    {
     "name": "stdout",
     "output_type": "stream",
     "text": [
      "cuda\n"
     ]
    }
   ],
   "source": [
    "device = torch.device('cuda' if torch.cuda.is_available() else 'cpu')\n",
    "print(device)"
   ]
  },
  {
   "cell_type": "code",
   "execution_count": 4,
   "id": "ad43bc8a",
   "metadata": {
    "execution": {
     "iopub.execute_input": "2025-09-15T18:32:31.682630Z",
     "iopub.status.busy": "2025-09-15T18:32:31.682413Z",
     "iopub.status.idle": "2025-09-15T18:32:31.685773Z",
     "shell.execute_reply": "2025-09-15T18:32:31.685082Z"
    },
    "papermill": {
     "duration": 0.008888,
     "end_time": "2025-09-15T18:32:31.686969",
     "exception": false,
     "start_time": "2025-09-15T18:32:31.678081",
     "status": "completed"
    },
    "tags": []
   },
   "outputs": [],
   "source": [
    "batch_size = 32\n",
    "output_nodes = 10\n",
    "learning_rate = 0.001"
   ]
  },
  {
   "cell_type": "code",
   "execution_count": 5,
   "id": "3bc13cf1",
   "metadata": {
    "execution": {
     "iopub.execute_input": "2025-09-15T18:32:31.695418Z",
     "iopub.status.busy": "2025-09-15T18:32:31.695202Z",
     "iopub.status.idle": "2025-09-15T18:32:31.699502Z",
     "shell.execute_reply": "2025-09-15T18:32:31.698821Z"
    },
    "papermill": {
     "duration": 0.009948,
     "end_time": "2025-09-15T18:32:31.700613",
     "exception": false,
     "start_time": "2025-09-15T18:32:31.690665",
     "status": "completed"
    },
    "tags": []
   },
   "outputs": [],
   "source": [
    "# train_data_path = r\"/kaggle/input/mgdcc-feature/MGDCC/train\"\n",
    "# val_data_path = r\"/kaggle/input/mgdcc-feature/MGDCC/dev\"\n",
    "# test_data_path = r\"/kaggle/input/mgdcc-feature/MGDCC/test\"\n",
    "# import os\n",
    "# import random\n",
    "# import numpy as np\n",
    "# import scipy.io\n",
    "# from torch.utils.data import Dataset\n",
    "# import torch\n",
    "\n",
    "# class PtDataset(Dataset):\n",
    "#     def __init__(self, directory, max_len=10):\n",
    "#         \"\"\"\n",
    "#         Custom dataset for loading .mat files from a directory structure.\n",
    "#         Args:\n",
    "#             directory (str): The path to the root data directory.\n",
    "#             max_len (int): The maximum sequence length for padding/truncating.\n",
    "#         \"\"\"\n",
    "#         self.directory = directory\n",
    "#         self.classes = sorted(entry.name for entry in os.scandir(directory) if entry.is_dir())\n",
    "#         self.class_to_idx = {c: i for i, c in enumerate(self.classes)}\n",
    "#         self.files = []\n",
    "#         self.max_len = max_len\n",
    "#         for c in self.classes:\n",
    "#             c_dir = os.path.join(directory, c)\n",
    "#             c_files = [(os.path.join(c_dir, f), self.class_to_idx[c]) for f in os.listdir(c_dir) if f.endswith('.mat')]\n",
    "#             self.files.extend(c_files)\n",
    "#         random.shuffle(self.files)\n",
    "        \n",
    "#     def __len__(self):\n",
    "#         return len(self.files)\n",
    "    \n",
    "#     def __getitem__(self, idx):\n",
    "#         \"\"\"\n",
    "#         Load a .mat file, process it to the required shape, and return it with the label.\n",
    "#         \"\"\"\n",
    "#         filepath, label = self.files[idx]\n",
    "#         try:\n",
    "#             mat_vals = scipy.io.loadmat(filepath)\n",
    "#             data = mat_vals['final']  # Assuming 'final' is the key for data\n",
    "#             data = data.T  # Transpose to (time, features)\n",
    "#             feature_dim = data.shape[1]\n",
    "\n",
    "#             # Ensure data is exactly (max_len, feature_dim)\n",
    "#             if data.shape[0] < self.max_len:\n",
    "#                 pad_width = self.max_len - data.shape[0]\n",
    "#                 data = np.pad(data, pad_width=((0, pad_width), (0, 0)), mode='constant')\n",
    "#             else:\n",
    "#                 data = data[:self.max_len, :]\n",
    "\n",
    "#             # Flatten data to fit conv1d input (batch_size, in_channels, length)\n",
    "#             data = data.reshape(1, -1)  # Reshape to (1, max_len * feature_dim)\n",
    "#             data = torch.from_numpy(data).double()  # Convert to tensor\n",
    "#         except Exception as e:\n",
    "#             print(f\"Error loading file {filepath}: {str(e)}\")\n",
    "#             return self.__getitem__((idx + 1) % len(self.files))  # Retry with a different sample\n",
    "\n",
    "#         return data, label\n",
    "\n",
    "\n",
    "# train_dataset = PtDataset(train_data_path)\n",
    "# val_dataset = PtDataset(val_data_path)\n",
    "# test_dataset = PtDataset(test_data_path)\n",
    "# class PtDataLoader(DataLoader):\n",
    "#     def __init__(self, directory, batch_size, shuffle=True):\n",
    "#         dataset = PtDataset(directory)\n",
    "#         super().__init__(dataset, batch_size=batch_size, shuffle=shuffle)\n",
    "\n",
    "# train_dataloader = PtDataLoader(directory=train_data_path, batch_size=batch_size)\n",
    "# val_dataloader = PtDataLoader(directory=val_data_path, batch_size=batch_size)\n",
    "# test_dataloader = PtDataLoader(directory=test_data_path, batch_size=batch_size)\n",
    "# train_count = len(train_dataset) \n",
    "# val_count = len(val_dataset)\n",
    "# test_count = len(test_dataset)\n",
    "# print(train_count)\n",
    "# print(val_count)\n",
    "# print(test_count)"
   ]
  },
  {
   "cell_type": "code",
   "execution_count": 6,
   "id": "bdb1c73a",
   "metadata": {
    "execution": {
     "iopub.execute_input": "2025-09-15T18:32:31.709455Z",
     "iopub.status.busy": "2025-09-15T18:32:31.709245Z",
     "iopub.status.idle": "2025-09-15T18:32:36.231043Z",
     "shell.execute_reply": "2025-09-15T18:32:36.230190Z"
    },
    "papermill": {
     "duration": 4.527853,
     "end_time": "2025-09-15T18:32:36.232251",
     "exception": false,
     "start_time": "2025-09-15T18:32:31.704398",
     "status": "completed"
    },
    "tags": []
   },
   "outputs": [
    {
     "name": "stdout",
     "output_type": "stream",
     "text": [
      "111633\n",
      "37152\n",
      "37971\n"
     ]
    }
   ],
   "source": [
    "import os\n",
    "import random\n",
    "import numpy as np\n",
    "import scipy.io\n",
    "from torch.utils.data import Dataset, DataLoader\n",
    "import torch\n",
    "\n",
    "class PtDataset(Dataset):\n",
    "    def __init__(self, directories, max_len=10):\n",
    "        \"\"\"\n",
    "        Args:\n",
    "            directories (tuple or str): Either \n",
    "                - a string (for single feature like before), or\n",
    "                - a tuple (mfcc_dir, lfcc_dir) for two features.\n",
    "        \"\"\"\n",
    "        if isinstance(directories, str):\n",
    "            raise ValueError(\"Now you must pass both MFCC and LFCC directories as a tuple.\")\n",
    "\n",
    "        self.dir_mfcc, self.dir_lfcc = directories\n",
    "        self.max_len = max_len\n",
    "\n",
    "        # get classes from mfcc directory (assume same for lfcc)\n",
    "        self.classes = sorted(entry.name for entry in os.scandir(self.dir_mfcc) if entry.is_dir())\n",
    "        self.class_to_idx = {c: i for i, c in enumerate(self.classes)}\n",
    "\n",
    "        self.files = []\n",
    "        for c in self.classes:\n",
    "            mfcc_c_dir = os.path.join(self.dir_mfcc, c)\n",
    "            lfcc_c_dir = os.path.join(self.dir_lfcc, c)\n",
    "\n",
    "            mfcc_files = [f for f in os.listdir(mfcc_c_dir) if f.endswith('.mat')]\n",
    "            for f in mfcc_files:\n",
    "                mfcc_fp = os.path.join(mfcc_c_dir, f)\n",
    "                lfcc_fp = os.path.join(lfcc_c_dir, f)  # assumes same filenames\n",
    "                self.files.append(((mfcc_fp, lfcc_fp), self.class_to_idx[c]))\n",
    "\n",
    "        random.shuffle(self.files)\n",
    "\n",
    "    def __len__(self):\n",
    "        return len(self.files)\n",
    "\n",
    "    def pad_or_trim(self, data, max_len):\n",
    "        if data.shape[0] < max_len:\n",
    "            pad_width = max_len - data.shape[0]\n",
    "            data = np.pad(data, pad_width=((0, pad_width), (0, 0)), mode='constant')\n",
    "        else:\n",
    "            data = data[:max_len, :]\n",
    "        return data\n",
    "\n",
    "    def __getitem__(self, idx):\n",
    "        (mfcc_fp, lfcc_fp), label = self.files[idx]\n",
    "        try:\n",
    "            mfcc = scipy.io.loadmat(mfcc_fp)['final'].T  # (time, 20)\n",
    "            lfcc = scipy.io.loadmat(lfcc_fp)['final'].T  # (time, 24)\n",
    "\n",
    "            mfcc = self.pad_or_trim(mfcc, self.max_len)\n",
    "            lfcc = self.pad_or_trim(lfcc, self.max_len)\n",
    "\n",
    "            data = np.concatenate([mfcc, lfcc], axis=1)  # (10, 44)\n",
    "            data = data[:, :40]                          # ensure 40 dims\n",
    "            data = data.reshape(1, -1)                   # (1, 400)\n",
    "\n",
    "            data = torch.from_numpy(data).double()\n",
    "\n",
    "        except Exception as e:\n",
    "            print(f\"Error loading file {mfcc_fp} or {lfcc_fp}: {str(e)}\")\n",
    "            return self.__getitem__((idx + 1) % len(self.files))\n",
    "\n",
    "        return data, label\n",
    "\n",
    "# Train\n",
    "train_data_path = (\n",
    "    r\"/kaggle/input/mfcc-new/mfcc/train\",\n",
    "    r\"/kaggle/input/mgdcc-feature/MGDCC/train\"\n",
    ")\n",
    "\n",
    "# Validation\n",
    "val_data_path = (\n",
    "    r\"/kaggle/input/mfcc-new/mfcc/dev\",\n",
    "    r\"/kaggle/input/mgdcc-feature/MGDCC/dev\"\n",
    ")\n",
    "\n",
    "# Test\n",
    "test_data_path = (\n",
    "    r\"/kaggle/input/mfcc-new/mfcc/test\",\n",
    "    r\"/kaggle/input/mgdcc-feature/MGDCC/test\"\n",
    ")\n",
    "\n",
    "# DataLoaders\n",
    "train_dataset = PtDataset(train_data_path)\n",
    "val_dataset   = PtDataset(val_data_path)\n",
    "test_dataset  = PtDataset(test_data_path)\n",
    "\n",
    "class PtDataLoader(DataLoader):\n",
    "    def __init__(self, directory, batch_size, shuffle=True):\n",
    "        dataset = PtDataset(directory)\n",
    "        super().__init__(dataset, batch_size=batch_size, shuffle=shuffle)\n",
    "\n",
    "train_dataloader = PtDataLoader(directory=train_data_path, batch_size=batch_size)\n",
    "val_dataloader   = PtDataLoader(directory=val_data_path, batch_size=batch_size)\n",
    "test_dataloader  = PtDataLoader(directory=test_data_path, batch_size=batch_size)\n",
    "\n",
    "print(len(train_dataset))\n",
    "print(len(val_dataset))\n",
    "print(len(test_dataset))\n",
    "train_count = len(train_dataset) \n",
    "val_count = len(val_dataset)\n",
    "test_count = len(test_dataset)"
   ]
  },
  {
   "cell_type": "code",
   "execution_count": 7,
   "id": "b19986c4",
   "metadata": {
    "execution": {
     "iopub.execute_input": "2025-09-15T18:32:36.242054Z",
     "iopub.status.busy": "2025-09-15T18:32:36.241781Z",
     "iopub.status.idle": "2025-09-15T18:32:36.244886Z",
     "shell.execute_reply": "2025-09-15T18:32:36.244392Z"
    },
    "papermill": {
     "duration": 0.008624,
     "end_time": "2025-09-15T18:32:36.245918",
     "exception": false,
     "start_time": "2025-09-15T18:32:36.237294",
     "status": "completed"
    },
    "tags": []
   },
   "outputs": [],
   "source": [
    "# train_data_path = r\"/kaggle/input/mgdcc-feature/MGDCC/train\"\n",
    "# val_data_path = r\"/kaggle/input/mgdcc-feature/MGDCC/dev\"\n",
    "# test_data_path = r\"/kaggle/input/mgdcc-feature/MGDCC/test\""
   ]
  },
  {
   "cell_type": "code",
   "execution_count": 8,
   "id": "1a6a9695",
   "metadata": {
    "execution": {
     "iopub.execute_input": "2025-09-15T18:32:36.254416Z",
     "iopub.status.busy": "2025-09-15T18:32:36.254021Z",
     "iopub.status.idle": "2025-09-15T18:32:36.297085Z",
     "shell.execute_reply": "2025-09-15T18:32:36.296299Z"
    },
    "papermill": {
     "duration": 0.048476,
     "end_time": "2025-09-15T18:32:36.298204",
     "exception": false,
     "start_time": "2025-09-15T18:32:36.249728",
     "status": "completed"
    },
    "tags": []
   },
   "outputs": [
    {
     "name": "stdout",
     "output_type": "stream",
     "text": [
      "Sample feature shape: torch.Size([1, 400])\n",
      "Sample label: 1\n",
      "MFCC raw shape: (8, 20)\n",
      "LFCC raw shape: (8, 20)\n"
     ]
    }
   ],
   "source": [
    "# Pick one sample from training dataset\n",
    "sample_data, sample_label = train_dataset[0]\n",
    "\n",
    "print(\"Sample feature shape:\", sample_data.shape)   # should be (1, 400)\n",
    "print(\"Sample label:\", sample_label)\n",
    "\n",
    "# If you want to see the first 10x40 stacked feature (before flatten):\n",
    "(mfcc_fp, lfcc_fp), _ = train_dataset.files[0]\n",
    "mfcc = scipy.io.loadmat(mfcc_fp)['final'].T\n",
    "lfcc = scipy.io.loadmat(lfcc_fp)['final'].T\n",
    "\n",
    "print(\"MFCC raw shape:\", mfcc.shape)  # (time, 20)\n",
    "print(\"LFCC raw shape:\", lfcc.shape)  # (time, 24)\n"
   ]
  },
  {
   "cell_type": "code",
   "execution_count": 9,
   "id": "e1a66d40",
   "metadata": {
    "execution": {
     "iopub.execute_input": "2025-09-15T18:32:36.306926Z",
     "iopub.status.busy": "2025-09-15T18:32:36.306704Z",
     "iopub.status.idle": "2025-09-15T18:32:36.310365Z",
     "shell.execute_reply": "2025-09-15T18:32:36.309850Z"
    },
    "papermill": {
     "duration": 0.009181,
     "end_time": "2025-09-15T18:32:36.311393",
     "exception": false,
     "start_time": "2025-09-15T18:32:36.302212",
     "status": "completed"
    },
    "tags": []
   },
   "outputs": [],
   "source": [
    "# import os\n",
    "# import random\n",
    "# import numpy as np\n",
    "# import scipy.io\n",
    "# from torch.utils.data import Dataset\n",
    "# import torch\n",
    "\n",
    "# class PtDataset(Dataset):\n",
    "#     def __init__(self, directory, max_len=10):\n",
    "#         \"\"\"\n",
    "#         Custom dataset for loading .mat files from a directory structure.\n",
    "#         Args:\n",
    "#             directory (str): The path to the root data directory.\n",
    "#             max_len (int): The maximum sequence length for padding/truncating.\n",
    "#         \"\"\"\n",
    "#         self.directory = directory\n",
    "#         self.classes = sorted(entry.name for entry in os.scandir(directory) if entry.is_dir())\n",
    "#         self.class_to_idx = {c: i for i, c in enumerate(self.classes)}\n",
    "#         self.files = []\n",
    "#         self.max_len = max_len\n",
    "#         for c in self.classes:\n",
    "#             c_dir = os.path.join(directory, c)\n",
    "#             c_files = [(os.path.join(c_dir, f), self.class_to_idx[c]) for f in os.listdir(c_dir) if f.endswith('.mat')]\n",
    "#             self.files.extend(c_files)\n",
    "#         random.shuffle(self.files)\n",
    "        \n",
    "#     def __len__(self):\n",
    "#         return len(self.files)\n",
    "    \n",
    "#     def __getitem__(self, idx):\n",
    "#         \"\"\"\n",
    "#         Load a .mat file, process it to the required shape, and return it with the label.\n",
    "#         \"\"\"\n",
    "#         filepath, label = self.files[idx]\n",
    "#         try:\n",
    "#             mat_vals = scipy.io.loadmat(filepath)\n",
    "#             data = mat_vals['final']  # Assuming 'final' is the key for data\n",
    "#             data = data.T  # Transpose to (time, features)\n",
    "#             feature_dim = data.shape[1]\n",
    "\n",
    "#             # Ensure data is exactly (max_len, feature_dim)\n",
    "#             if data.shape[0] < self.max_len:\n",
    "#                 pad_width = self.max_len - data.shape[0]\n",
    "#                 data = np.pad(data, pad_width=((0, pad_width), (0, 0)), mode='constant')\n",
    "#             else:\n",
    "#                 data = data[:self.max_len, :]\n",
    "\n",
    "#             # Flatten data to fit conv1d input (batch_size, in_channels, length)\n",
    "#             data = data.reshape(1, -1)  # Reshape to (1, max_len * feature_dim)\n",
    "#             data = torch.from_numpy(data).double()  # Convert to tensor\n",
    "#         except Exception as e:\n",
    "#             print(f\"Error loading file {filepath}: {str(e)}\")\n",
    "#             return self.__getitem__((idx + 1) % len(self.files))  # Retry with a different sample\n",
    "\n",
    "#         return data, label\n"
   ]
  },
  {
   "cell_type": "code",
   "execution_count": 10,
   "id": "ecb2a8b9",
   "metadata": {
    "execution": {
     "iopub.execute_input": "2025-09-15T18:32:36.319887Z",
     "iopub.status.busy": "2025-09-15T18:32:36.319671Z",
     "iopub.status.idle": "2025-09-15T18:32:36.322588Z",
     "shell.execute_reply": "2025-09-15T18:32:36.322063Z"
    },
    "papermill": {
     "duration": 0.008324,
     "end_time": "2025-09-15T18:32:36.323626",
     "exception": false,
     "start_time": "2025-09-15T18:32:36.315302",
     "status": "completed"
    },
    "tags": []
   },
   "outputs": [],
   "source": [
    "\n",
    "# train_dataset = PtDataset(train_data_path)\n",
    "# val_dataset = PtDataset(val_data_path)\n",
    "# test_dataset = PtDataset(test_data_path)"
   ]
  },
  {
   "cell_type": "code",
   "execution_count": 11,
   "id": "2df86c01",
   "metadata": {
    "execution": {
     "iopub.execute_input": "2025-09-15T18:32:36.331972Z",
     "iopub.status.busy": "2025-09-15T18:32:36.331762Z",
     "iopub.status.idle": "2025-09-15T18:32:36.334664Z",
     "shell.execute_reply": "2025-09-15T18:32:36.334135Z"
    },
    "papermill": {
     "duration": 0.008239,
     "end_time": "2025-09-15T18:32:36.335701",
     "exception": false,
     "start_time": "2025-09-15T18:32:36.327462",
     "status": "completed"
    },
    "tags": []
   },
   "outputs": [],
   "source": [
    "# class PtDataLoader(DataLoader):\n",
    "#     def __init__(self, directory, batch_size, shuffle=True):\n",
    "#         dataset = PtDataset(directory)\n",
    "#         super().__init__(dataset, batch_size=batch_size, shuffle=shuffle)"
   ]
  },
  {
   "cell_type": "code",
   "execution_count": 12,
   "id": "5cb7ce50",
   "metadata": {
    "execution": {
     "iopub.execute_input": "2025-09-15T18:32:36.344050Z",
     "iopub.status.busy": "2025-09-15T18:32:36.343872Z",
     "iopub.status.idle": "2025-09-15T18:32:36.346929Z",
     "shell.execute_reply": "2025-09-15T18:32:36.346211Z"
    },
    "papermill": {
     "duration": 0.008488,
     "end_time": "2025-09-15T18:32:36.348087",
     "exception": false,
     "start_time": "2025-09-15T18:32:36.339599",
     "status": "completed"
    },
    "tags": []
   },
   "outputs": [],
   "source": [
    "# train_dataloader = PtDataLoader(directory=train_data_path, batch_size=batch_size)\n",
    "# val_dataloader = PtDataLoader(directory=val_data_path, batch_size=batch_size)\n",
    "# test_dataloader = PtDataLoader(directory=test_data_path, batch_size=batch_size)"
   ]
  },
  {
   "cell_type": "code",
   "execution_count": 13,
   "id": "ede8d6ff",
   "metadata": {
    "execution": {
     "iopub.execute_input": "2025-09-15T18:32:36.356489Z",
     "iopub.status.busy": "2025-09-15T18:32:36.356103Z",
     "iopub.status.idle": "2025-09-15T18:32:36.358769Z",
     "shell.execute_reply": "2025-09-15T18:32:36.358255Z"
    },
    "papermill": {
     "duration": 0.008015,
     "end_time": "2025-09-15T18:32:36.359914",
     "exception": false,
     "start_time": "2025-09-15T18:32:36.351899",
     "status": "completed"
    },
    "tags": []
   },
   "outputs": [],
   "source": [
    "# train_count = len(train_dataset) \n",
    "# val_count = len(val_dataset)\n",
    "# test_count = len(test_dataset)"
   ]
  },
  {
   "cell_type": "code",
   "execution_count": 14,
   "id": "8a5eddb8",
   "metadata": {
    "execution": {
     "iopub.execute_input": "2025-09-15T18:32:36.368578Z",
     "iopub.status.busy": "2025-09-15T18:32:36.368037Z",
     "iopub.status.idle": "2025-09-15T18:32:36.370952Z",
     "shell.execute_reply": "2025-09-15T18:32:36.370394Z"
    },
    "papermill": {
     "duration": 0.008156,
     "end_time": "2025-09-15T18:32:36.371974",
     "exception": false,
     "start_time": "2025-09-15T18:32:36.363818",
     "status": "completed"
    },
    "tags": []
   },
   "outputs": [],
   "source": [
    "# print(train_count)\n",
    "# print(val_count)\n",
    "# print(test_count)"
   ]
  },
  {
   "cell_type": "code",
   "execution_count": 15,
   "id": "074f56f7",
   "metadata": {
    "execution": {
     "iopub.execute_input": "2025-09-15T18:32:36.380522Z",
     "iopub.status.busy": "2025-09-15T18:32:36.380214Z",
     "iopub.status.idle": "2025-09-15T18:32:36.434380Z",
     "shell.execute_reply": "2025-09-15T18:32:36.433885Z"
    },
    "papermill": {
     "duration": 0.059693,
     "end_time": "2025-09-15T18:32:36.435429",
     "exception": false,
     "start_time": "2025-09-15T18:32:36.375736",
     "status": "completed"
    },
    "tags": []
   },
   "outputs": [],
   "source": [
    "drop_amount = 0.255\n",
    "\n",
    "import torch\n",
    "import torch.nn as nn\n",
    "import torch.nn.functional as F\n",
    "from collections import OrderedDict\n",
    "from torch.nn.parameter import Parameter\n",
    "from torch.utils import data\n",
    "\n",
    "class Res2NetBlock(nn.Module):\n",
    "    def __init__(self, in_channels, out_channels, scale=4, kernel_size=3, stride=1, padding=1):\n",
    "        super(Res2NetBlock, self).__init__()\n",
    "        assert out_channels % scale == 0, \"Output channels must be divisible by scale\"\n",
    "        self.scale = scale\n",
    "        self.split_channels = out_channels // scale\n",
    "\n",
    "        self.conv1 = nn.Conv1d(in_channels, out_channels, kernel_size=1, stride=1, bias=False)\n",
    "        self.bn1 = nn.BatchNorm1d(out_channels)\n",
    "\n",
    "        self.convs = nn.ModuleList([\n",
    "            nn.Conv1d(self.split_channels, self.split_channels, kernel_size, stride=stride, padding=padding, bias=False)\n",
    "            for _ in range(scale - 1)\n",
    "        ])\n",
    "\n",
    "        self.bn2 = nn.BatchNorm1d(out_channels)\n",
    "        self.conv3 = nn.Conv1d(out_channels, out_channels, kernel_size=1, stride=1, bias=False)\n",
    "\n",
    "        self.relu = nn.ReLU(inplace=True)\n",
    "\n",
    "    def forward(self, x):\n",
    "        out = self.conv1(x)\n",
    "        out = self.bn1(out)\n",
    "        out = self.relu(out)\n",
    "\n",
    "        splits = torch.chunk(out, self.scale, dim=1)\n",
    "        out = splits[0]\n",
    "        result = [out]  # Collect outputs here to avoid in-place addition\n",
    "        for i, conv in enumerate(self.convs):\n",
    "            result.append(conv(splits[i + 1]))\n",
    "        out = torch.cat(result, dim=1)  # Concatenate all parts\n",
    "\n",
    "        out = self.conv3(out)\n",
    "        out = self.bn2(out)\n",
    "        return self.relu(out)\n",
    "\n",
    "\n",
    "class AMSoftmaxLoss(nn.Module):\n",
    "    def __init__(self, in_features, out_features, s=30.0, m=0.4):\n",
    "        super(AMSoftmaxLoss, self).__init__()\n",
    "        self.s = s\n",
    "        self.m = m\n",
    "        self.weight = Parameter(torch.DoubleTensor(out_features, in_features))\n",
    "        nn.init.xavier_uniform_(self.weight)\n",
    "\n",
    "    def forward(self, x, labels):\n",
    "        cosine = F.linear(F.normalize(x), F.normalize(self.weight))\n",
    "        phi = cosine - self.m\n",
    "        one_hot = torch.zeros_like(cosine)\n",
    "        one_hot.scatter_(1, labels.view(-1, 1).long(), 1)\n",
    "        logits = one_hot * phi + (1.0 - one_hot) * cosine\n",
    "        logits *= self.s\n",
    "        return logits\n",
    "\n",
    "\n",
    "class AASIST2(nn.Module):\n",
    "    def __init__(self, d_args):\n",
    "        super(AASIST2, self).__init__()\n",
    "        self.res2net_block1 = Res2NetBlock(d_args['in_channels'], d_args['filts'][0], scale=4)\n",
    "        self.res2net_block2 = Res2NetBlock(d_args['filts'][0], d_args['filts'][1], scale=4)\n",
    "        self.res2net_block3 = Res2NetBlock(d_args['filts'][1], d_args['filts'][2], scale=4)\n",
    "\n",
    "        self.gru = nn.GRU(input_size=d_args['filts'][2],\n",
    "                          hidden_size=d_args['gru_node'],\n",
    "                          num_layers=d_args['nb_gru_layer'],\n",
    "                          batch_first=True)\n",
    "\n",
    "        self.fc1 = nn.Linear(d_args['gru_node'], d_args['nb_fc_node'])  # Input size must match GRU hidden size\n",
    "        self.fc2 = nn.Linear(d_args['nb_fc_node'], d_args['nb_classes'])  # Matches number of classes\n",
    "\n",
    "        self.am_softmax = AMSoftmaxLoss(d_args['nb_fc_node'], d_args['nb_classes'])  # Use fc1 output size\n",
    "\n",
    "    def forward(self, x, labels=None, is_test=False):\n",
    "        x = self.res2net_block1(x)\n",
    "        x = self.res2net_block2(x)\n",
    "        x = self.res2net_block3(x)\n",
    "\n",
    "        x = x.permute(0, 2, 1)  # Permute for GRU input [batch, sequence, feature]\n",
    "        self.gru.flatten_parameters()\n",
    "        x, _ = self.gru(x)\n",
    "        x = x[:, -1, :]  # Take last time step output\n",
    "\n",
    "        x = self.fc1(x)\n",
    "        logits = self.fc2(x)\n",
    "\n",
    "        if labels is not None:  # Compute AMSoftmax only if labels are provided\n",
    "            return self.am_softmax(x, labels)\n",
    "        else:  # Return logits for testing/inference\n",
    "            return F.softmax(logits, dim=1)\n",
    "\n",
    "d_args = {\n",
    "    'in_channels': 1,\n",
    "    'filts': [64, 128, 256],\n",
    "    'gru_node': 128,\n",
    "    'nb_gru_layer': 2,\n",
    "    'nb_fc_node': 64,\n",
    "    'nb_classes': 2\n",
    "}\n",
    "model = AASIST2(d_args)\n"
   ]
  },
  {
   "cell_type": "code",
   "execution_count": 16,
   "id": "33ecbaac",
   "metadata": {
    "execution": {
     "iopub.execute_input": "2025-09-15T18:32:36.443843Z",
     "iopub.status.busy": "2025-09-15T18:32:36.443651Z",
     "iopub.status.idle": "2025-09-15T18:32:36.446581Z",
     "shell.execute_reply": "2025-09-15T18:32:36.446106Z"
    },
    "papermill": {
     "duration": 0.00828,
     "end_time": "2025-09-15T18:32:36.447585",
     "exception": false,
     "start_time": "2025-09-15T18:32:36.439305",
     "status": "completed"
    },
    "tags": []
   },
   "outputs": [],
   "source": [
    "import torch\n",
    "from torch import nn\n",
    "from torch.nn import Parameter\n",
    "import torch.nn.functional as F"
   ]
  },
  {
   "cell_type": "code",
   "execution_count": 17,
   "id": "e2d1e9c8",
   "metadata": {
    "execution": {
     "iopub.execute_input": "2025-09-15T18:32:36.455726Z",
     "iopub.status.busy": "2025-09-15T18:32:36.455530Z",
     "iopub.status.idle": "2025-09-15T18:32:36.738666Z",
     "shell.execute_reply": "2025-09-15T18:32:36.737907Z"
    },
    "papermill": {
     "duration": 0.288453,
     "end_time": "2025-09-15T18:32:36.739855",
     "exception": false,
     "start_time": "2025-09-15T18:32:36.451402",
     "status": "completed"
    },
    "tags": []
   },
   "outputs": [
    {
     "data": {
      "text/plain": [
       "AASIST2(\n",
       "  (res2net_block1): Res2NetBlock(\n",
       "    (conv1): Conv1d(1, 64, kernel_size=(1,), stride=(1,), bias=False)\n",
       "    (bn1): BatchNorm1d(64, eps=1e-05, momentum=0.1, affine=True, track_running_stats=True)\n",
       "    (convs): ModuleList(\n",
       "      (0-2): 3 x Conv1d(16, 16, kernel_size=(3,), stride=(1,), padding=(1,), bias=False)\n",
       "    )\n",
       "    (bn2): BatchNorm1d(64, eps=1e-05, momentum=0.1, affine=True, track_running_stats=True)\n",
       "    (conv3): Conv1d(64, 64, kernel_size=(1,), stride=(1,), bias=False)\n",
       "    (relu): ReLU(inplace=True)\n",
       "  )\n",
       "  (res2net_block2): Res2NetBlock(\n",
       "    (conv1): Conv1d(64, 128, kernel_size=(1,), stride=(1,), bias=False)\n",
       "    (bn1): BatchNorm1d(128, eps=1e-05, momentum=0.1, affine=True, track_running_stats=True)\n",
       "    (convs): ModuleList(\n",
       "      (0-2): 3 x Conv1d(32, 32, kernel_size=(3,), stride=(1,), padding=(1,), bias=False)\n",
       "    )\n",
       "    (bn2): BatchNorm1d(128, eps=1e-05, momentum=0.1, affine=True, track_running_stats=True)\n",
       "    (conv3): Conv1d(128, 128, kernel_size=(1,), stride=(1,), bias=False)\n",
       "    (relu): ReLU(inplace=True)\n",
       "  )\n",
       "  (res2net_block3): Res2NetBlock(\n",
       "    (conv1): Conv1d(128, 256, kernel_size=(1,), stride=(1,), bias=False)\n",
       "    (bn1): BatchNorm1d(256, eps=1e-05, momentum=0.1, affine=True, track_running_stats=True)\n",
       "    (convs): ModuleList(\n",
       "      (0-2): 3 x Conv1d(64, 64, kernel_size=(3,), stride=(1,), padding=(1,), bias=False)\n",
       "    )\n",
       "    (bn2): BatchNorm1d(256, eps=1e-05, momentum=0.1, affine=True, track_running_stats=True)\n",
       "    (conv3): Conv1d(256, 256, kernel_size=(1,), stride=(1,), bias=False)\n",
       "    (relu): ReLU(inplace=True)\n",
       "  )\n",
       "  (gru): GRU(256, 128, num_layers=2, batch_first=True)\n",
       "  (fc1): Linear(in_features=128, out_features=64, bias=True)\n",
       "  (fc2): Linear(in_features=64, out_features=2, bias=True)\n",
       "  (am_softmax): AMSoftmaxLoss()\n",
       ")"
      ]
     },
     "execution_count": 17,
     "metadata": {},
     "output_type": "execute_result"
    }
   ],
   "source": [
    "# Define the parameters\n",
    "# input_size = 20\n",
    "# hidden_size = 256\n",
    "# num_layers = 2\n",
    "# num_classes = 8\n",
    "\n",
    "# model = BiLSTMClassifier(input_size, hidden_size, num_layers, num_classes)\n",
    "model.to(device, dtype=torch.double)"
   ]
  },
  {
   "cell_type": "code",
   "execution_count": 18,
   "id": "7793a109",
   "metadata": {
    "execution": {
     "iopub.execute_input": "2025-09-15T18:32:36.749633Z",
     "iopub.status.busy": "2025-09-15T18:32:36.749121Z",
     "iopub.status.idle": "2025-09-15T18:32:36.752408Z",
     "shell.execute_reply": "2025-09-15T18:32:36.751827Z"
    },
    "papermill": {
     "duration": 0.009017,
     "end_time": "2025-09-15T18:32:36.753422",
     "exception": false,
     "start_time": "2025-09-15T18:32:36.744405",
     "status": "completed"
    },
    "tags": []
   },
   "outputs": [],
   "source": [
    "import torch\n",
    "import torch.nn as nn\n",
    "import torch.optim as optim"
   ]
  },
  {
   "cell_type": "code",
   "execution_count": 19,
   "id": "e8a0f050",
   "metadata": {
    "execution": {
     "iopub.execute_input": "2025-09-15T18:32:36.762043Z",
     "iopub.status.busy": "2025-09-15T18:32:36.761862Z",
     "iopub.status.idle": "2025-09-15T18:32:41.499021Z",
     "shell.execute_reply": "2025-09-15T18:32:41.498459Z"
    },
    "papermill": {
     "duration": 4.743068,
     "end_time": "2025-09-15T18:32:41.500505",
     "exception": false,
     "start_time": "2025-09-15T18:32:36.757437",
     "status": "completed"
    },
    "tags": []
   },
   "outputs": [],
   "source": [
    "loss_function = nn.CrossEntropyLoss()\n",
    "optimizer = optim.Adam(model.parameters(), lr=learning_rate)"
   ]
  },
  {
   "cell_type": "code",
   "execution_count": 20,
   "id": "7c2cdbc8",
   "metadata": {
    "execution": {
     "iopub.execute_input": "2025-09-15T18:32:41.509983Z",
     "iopub.status.busy": "2025-09-15T18:32:41.509637Z",
     "iopub.status.idle": "2025-09-15T18:32:41.514133Z",
     "shell.execute_reply": "2025-09-15T18:32:41.513266Z"
    },
    "papermill": {
     "duration": 0.010186,
     "end_time": "2025-09-15T18:32:41.515244",
     "exception": false,
     "start_time": "2025-09-15T18:32:41.505058",
     "status": "completed"
    },
    "tags": []
   },
   "outputs": [
    {
     "name": "stdout",
     "output_type": "stream",
     "text": [
      "AASIST2(\n",
      "  (res2net_block1): Res2NetBlock(\n",
      "    (conv1): Conv1d(1, 64, kernel_size=(1,), stride=(1,), bias=False)\n",
      "    (bn1): BatchNorm1d(64, eps=1e-05, momentum=0.1, affine=True, track_running_stats=True)\n",
      "    (convs): ModuleList(\n",
      "      (0-2): 3 x Conv1d(16, 16, kernel_size=(3,), stride=(1,), padding=(1,), bias=False)\n",
      "    )\n",
      "    (bn2): BatchNorm1d(64, eps=1e-05, momentum=0.1, affine=True, track_running_stats=True)\n",
      "    (conv3): Conv1d(64, 64, kernel_size=(1,), stride=(1,), bias=False)\n",
      "    (relu): ReLU(inplace=True)\n",
      "  )\n",
      "  (res2net_block2): Res2NetBlock(\n",
      "    (conv1): Conv1d(64, 128, kernel_size=(1,), stride=(1,), bias=False)\n",
      "    (bn1): BatchNorm1d(128, eps=1e-05, momentum=0.1, affine=True, track_running_stats=True)\n",
      "    (convs): ModuleList(\n",
      "      (0-2): 3 x Conv1d(32, 32, kernel_size=(3,), stride=(1,), padding=(1,), bias=False)\n",
      "    )\n",
      "    (bn2): BatchNorm1d(128, eps=1e-05, momentum=0.1, affine=True, track_running_stats=True)\n",
      "    (conv3): Conv1d(128, 128, kernel_size=(1,), stride=(1,), bias=False)\n",
      "    (relu): ReLU(inplace=True)\n",
      "  )\n",
      "  (res2net_block3): Res2NetBlock(\n",
      "    (conv1): Conv1d(128, 256, kernel_size=(1,), stride=(1,), bias=False)\n",
      "    (bn1): BatchNorm1d(256, eps=1e-05, momentum=0.1, affine=True, track_running_stats=True)\n",
      "    (convs): ModuleList(\n",
      "      (0-2): 3 x Conv1d(64, 64, kernel_size=(3,), stride=(1,), padding=(1,), bias=False)\n",
      "    )\n",
      "    (bn2): BatchNorm1d(256, eps=1e-05, momentum=0.1, affine=True, track_running_stats=True)\n",
      "    (conv3): Conv1d(256, 256, kernel_size=(1,), stride=(1,), bias=False)\n",
      "    (relu): ReLU(inplace=True)\n",
      "  )\n",
      "  (gru): GRU(256, 128, num_layers=2, batch_first=True)\n",
      "  (fc1): Linear(in_features=128, out_features=64, bias=True)\n",
      "  (fc2): Linear(in_features=64, out_features=2, bias=True)\n",
      "  (am_softmax): AMSoftmaxLoss()\n",
      ")\n"
     ]
    }
   ],
   "source": [
    "print(model)"
   ]
  },
  {
   "cell_type": "code",
   "execution_count": 21,
   "id": "cef8be18",
   "metadata": {
    "execution": {
     "iopub.execute_input": "2025-09-15T18:32:41.524182Z",
     "iopub.status.busy": "2025-09-15T18:32:41.523980Z",
     "iopub.status.idle": "2025-09-16T04:06:43.568367Z",
     "shell.execute_reply": "2025-09-16T04:06:43.567512Z"
    },
    "papermill": {
     "duration": 34442.050285,
     "end_time": "2025-09-16T04:06:43.569636",
     "exception": false,
     "start_time": "2025-09-15T18:32:41.519351",
     "status": "completed"
    },
    "tags": []
   },
   "outputs": [
    {
     "name": "stderr",
     "output_type": "stream",
     "text": [
      "                                                                     \r"
     ]
    },
    {
     "name": "stdout",
     "output_type": "stream",
     "text": [
      "Epoch: 1/35, Train Loss: 0.6331, Train Accuracy: 0.6098, Val Accuracy: 0.7894\n"
     ]
    },
    {
     "name": "stderr",
     "output_type": "stream",
     "text": [
      "                                                                     \r"
     ]
    },
    {
     "name": "stdout",
     "output_type": "stream",
     "text": [
      "Epoch: 2/35, Train Loss: 0.4630, Train Accuracy: 0.8440, Val Accuracy: 0.8571\n"
     ]
    },
    {
     "name": "stderr",
     "output_type": "stream",
     "text": [
      "                                                                     \r"
     ]
    },
    {
     "name": "stdout",
     "output_type": "stream",
     "text": [
      "Epoch: 3/35, Train Loss: 0.4199, Train Accuracy: 0.8883, Val Accuracy: 0.8830\n"
     ]
    },
    {
     "name": "stderr",
     "output_type": "stream",
     "text": [
      "                                                                     \r"
     ]
    },
    {
     "name": "stdout",
     "output_type": "stream",
     "text": [
      "Epoch: 4/35, Train Loss: 0.4016, Train Accuracy: 0.9072, Val Accuracy: 0.8744\n"
     ]
    },
    {
     "name": "stderr",
     "output_type": "stream",
     "text": [
      "                                                                     \r"
     ]
    },
    {
     "name": "stdout",
     "output_type": "stream",
     "text": [
      "Epoch: 5/35, Train Loss: 0.3920, Train Accuracy: 0.9178, Val Accuracy: 0.8702\n"
     ]
    },
    {
     "name": "stderr",
     "output_type": "stream",
     "text": [
      "                                                                     \r"
     ]
    },
    {
     "name": "stdout",
     "output_type": "stream",
     "text": [
      "Epoch: 6/35, Train Loss: 0.3846, Train Accuracy: 0.9260, Val Accuracy: 0.8733\n"
     ]
    },
    {
     "name": "stderr",
     "output_type": "stream",
     "text": [
      "                                                                     \r"
     ]
    },
    {
     "name": "stdout",
     "output_type": "stream",
     "text": [
      "Epoch: 7/35, Train Loss: 0.3737, Train Accuracy: 0.9369, Val Accuracy: 0.8957\n"
     ]
    },
    {
     "name": "stderr",
     "output_type": "stream",
     "text": [
      "                                                                     \r"
     ]
    },
    {
     "name": "stdout",
     "output_type": "stream",
     "text": [
      "Epoch: 8/35, Train Loss: 0.3684, Train Accuracy: 0.9425, Val Accuracy: 0.9201\n"
     ]
    },
    {
     "name": "stderr",
     "output_type": "stream",
     "text": [
      "                                                                     \r"
     ]
    },
    {
     "name": "stdout",
     "output_type": "stream",
     "text": [
      "Epoch: 9/35, Train Loss: 0.3648, Train Accuracy: 0.9464, Val Accuracy: 0.9155\n"
     ]
    },
    {
     "name": "stderr",
     "output_type": "stream",
     "text": [
      "                                                                      \r"
     ]
    },
    {
     "name": "stdout",
     "output_type": "stream",
     "text": [
      "Epoch: 10/35, Train Loss: 0.3643, Train Accuracy: 0.9469, Val Accuracy: 0.9164\n"
     ]
    },
    {
     "name": "stderr",
     "output_type": "stream",
     "text": [
      "                                                                      \r"
     ]
    },
    {
     "name": "stdout",
     "output_type": "stream",
     "text": [
      "Epoch: 11/35, Train Loss: 0.3599, Train Accuracy: 0.9513, Val Accuracy: 0.9216\n"
     ]
    },
    {
     "name": "stderr",
     "output_type": "stream",
     "text": [
      "                                                                      \r"
     ]
    },
    {
     "name": "stdout",
     "output_type": "stream",
     "text": [
      "Epoch: 12/35, Train Loss: 0.3583, Train Accuracy: 0.9532, Val Accuracy: 0.9184\n"
     ]
    },
    {
     "name": "stderr",
     "output_type": "stream",
     "text": [
      "                                                                      \r"
     ]
    },
    {
     "name": "stdout",
     "output_type": "stream",
     "text": [
      "Epoch: 13/35, Train Loss: 0.3568, Train Accuracy: 0.9547, Val Accuracy: 0.9061\n"
     ]
    },
    {
     "name": "stderr",
     "output_type": "stream",
     "text": [
      "                                                                      \r"
     ]
    },
    {
     "name": "stdout",
     "output_type": "stream",
     "text": [
      "Epoch: 14/35, Train Loss: 0.3558, Train Accuracy: 0.9557, Val Accuracy: 0.9188\n"
     ]
    },
    {
     "name": "stderr",
     "output_type": "stream",
     "text": [
      "                                                                      \r"
     ]
    },
    {
     "name": "stdout",
     "output_type": "stream",
     "text": [
      "Epoch: 15/35, Train Loss: 0.3558, Train Accuracy: 0.9558, Val Accuracy: 0.9230\n"
     ]
    },
    {
     "name": "stderr",
     "output_type": "stream",
     "text": [
      "                                                                      \r"
     ]
    },
    {
     "name": "stdout",
     "output_type": "stream",
     "text": [
      "Epoch: 16/35, Train Loss: 0.3536, Train Accuracy: 0.9581, Val Accuracy: 0.9202\n"
     ]
    },
    {
     "name": "stderr",
     "output_type": "stream",
     "text": [
      "                                                                      \r"
     ]
    },
    {
     "name": "stdout",
     "output_type": "stream",
     "text": [
      "Epoch: 17/35, Train Loss: 0.3537, Train Accuracy: 0.9579, Val Accuracy: 0.9199\n"
     ]
    },
    {
     "name": "stderr",
     "output_type": "stream",
     "text": [
      "                                                                      \r"
     ]
    },
    {
     "name": "stdout",
     "output_type": "stream",
     "text": [
      "Epoch: 18/35, Train Loss: 0.3517, Train Accuracy: 0.9601, Val Accuracy: 0.9225\n"
     ]
    },
    {
     "name": "stderr",
     "output_type": "stream",
     "text": [
      "                                                                      \r"
     ]
    },
    {
     "name": "stdout",
     "output_type": "stream",
     "text": [
      "Epoch: 19/35, Train Loss: 0.3540, Train Accuracy: 0.9577, Val Accuracy: 0.9310\n"
     ]
    },
    {
     "name": "stderr",
     "output_type": "stream",
     "text": [
      "                                                                      \r"
     ]
    },
    {
     "name": "stdout",
     "output_type": "stream",
     "text": [
      "Epoch: 20/35, Train Loss: 0.3510, Train Accuracy: 0.9607, Val Accuracy: 0.9269\n"
     ]
    },
    {
     "name": "stderr",
     "output_type": "stream",
     "text": [
      "                                                                      \r"
     ]
    },
    {
     "name": "stdout",
     "output_type": "stream",
     "text": [
      "Epoch: 21/35, Train Loss: 0.3522, Train Accuracy: 0.9595, Val Accuracy: 0.9247\n"
     ]
    },
    {
     "name": "stderr",
     "output_type": "stream",
     "text": [
      "                                                                      \r"
     ]
    },
    {
     "name": "stdout",
     "output_type": "stream",
     "text": [
      "Epoch: 22/35, Train Loss: 0.3518, Train Accuracy: 0.9597, Val Accuracy: 0.9170\n"
     ]
    },
    {
     "name": "stderr",
     "output_type": "stream",
     "text": [
      "                                                                      \r"
     ]
    },
    {
     "name": "stdout",
     "output_type": "stream",
     "text": [
      "Epoch: 23/35, Train Loss: 0.3524, Train Accuracy: 0.9594, Val Accuracy: 0.9266\n"
     ]
    },
    {
     "name": "stderr",
     "output_type": "stream",
     "text": [
      "                                                                      \r"
     ]
    },
    {
     "name": "stdout",
     "output_type": "stream",
     "text": [
      "Epoch: 24/35, Train Loss: 0.3516, Train Accuracy: 0.9602, Val Accuracy: 0.9120\n"
     ]
    },
    {
     "name": "stderr",
     "output_type": "stream",
     "text": [
      "                                                                      \r"
     ]
    },
    {
     "name": "stdout",
     "output_type": "stream",
     "text": [
      "Epoch: 25/35, Train Loss: 0.3516, Train Accuracy: 0.9604, Val Accuracy: 0.9223\n"
     ]
    },
    {
     "name": "stderr",
     "output_type": "stream",
     "text": [
      "                                                                      \r"
     ]
    },
    {
     "name": "stdout",
     "output_type": "stream",
     "text": [
      "Epoch: 26/35, Train Loss: 0.3520, Train Accuracy: 0.9598, Val Accuracy: 0.9222\n"
     ]
    },
    {
     "name": "stderr",
     "output_type": "stream",
     "text": [
      "                                                                      \r"
     ]
    },
    {
     "name": "stdout",
     "output_type": "stream",
     "text": [
      "Epoch: 27/35, Train Loss: 0.3528, Train Accuracy: 0.9588, Val Accuracy: 0.9107\n"
     ]
    },
    {
     "name": "stderr",
     "output_type": "stream",
     "text": [
      "                                                                      \r"
     ]
    },
    {
     "name": "stdout",
     "output_type": "stream",
     "text": [
      "Epoch: 28/35, Train Loss: 0.3556, Train Accuracy: 0.9560, Val Accuracy: 0.9245\n"
     ]
    },
    {
     "name": "stderr",
     "output_type": "stream",
     "text": [
      "                                                                      \r"
     ]
    },
    {
     "name": "stdout",
     "output_type": "stream",
     "text": [
      "Epoch: 29/35, Train Loss: 0.3530, Train Accuracy: 0.9588, Val Accuracy: 0.9214\n"
     ]
    },
    {
     "name": "stderr",
     "output_type": "stream",
     "text": [
      "                                                                      \r"
     ]
    },
    {
     "name": "stdout",
     "output_type": "stream",
     "text": [
      "Epoch: 30/35, Train Loss: 0.3548, Train Accuracy: 0.9569, Val Accuracy: 0.9266\n"
     ]
    },
    {
     "name": "stderr",
     "output_type": "stream",
     "text": [
      "                                                                      \r"
     ]
    },
    {
     "name": "stdout",
     "output_type": "stream",
     "text": [
      "Epoch: 31/35, Train Loss: 0.3522, Train Accuracy: 0.9593, Val Accuracy: 0.9193\n"
     ]
    },
    {
     "name": "stderr",
     "output_type": "stream",
     "text": [
      "                                                                      \r"
     ]
    },
    {
     "name": "stdout",
     "output_type": "stream",
     "text": [
      "Epoch: 32/35, Train Loss: 0.3525, Train Accuracy: 0.9591, Val Accuracy: 0.9234\n"
     ]
    },
    {
     "name": "stderr",
     "output_type": "stream",
     "text": [
      "                                                                      \r"
     ]
    },
    {
     "name": "stdout",
     "output_type": "stream",
     "text": [
      "Epoch: 33/35, Train Loss: 0.3542, Train Accuracy: 0.9574, Val Accuracy: 0.9186\n"
     ]
    },
    {
     "name": "stderr",
     "output_type": "stream",
     "text": [
      "                                                                      \r"
     ]
    },
    {
     "name": "stdout",
     "output_type": "stream",
     "text": [
      "Epoch: 34/35, Train Loss: 0.3545, Train Accuracy: 0.9571, Val Accuracy: 0.9269\n"
     ]
    },
    {
     "name": "stderr",
     "output_type": "stream",
     "text": [
      "                                                                      "
     ]
    },
    {
     "name": "stdout",
     "output_type": "stream",
     "text": [
      "Epoch: 35/35, Train Loss: 0.3592, Train Accuracy: 0.9521, Val Accuracy: 0.9095\n",
      "Max Accuracy: 0.9310131352282515\n"
     ]
    },
    {
     "name": "stderr",
     "output_type": "stream",
     "text": [
      "\r"
     ]
    }
   ],
   "source": [
    "#Model training and testing \n",
    "n_total_steps = len(train_dataloader) # n_total_steps * batch size will give total number of training files (consider that last batch may not be fully filled)\n",
    "train_accuracy_list = []\n",
    "train_loss_list = []\n",
    "val_accuracy_list = []\n",
    "max_acc=0\n",
    "num_epochs = 35\n",
    "pred_labels =[]\n",
    "act_labels = []\n",
    "device = torch.device('cuda' if torch.cuda.is_available() else 'cpu')\n",
    "model.to(device)\n",
    "\n",
    "from tqdm import tqdm\n",
    "\n",
    "# Model training and testing \n",
    "n_total_steps = len(train_dataloader) \n",
    "train_accuracy_list = []\n",
    "train_loss_list = []\n",
    "val_accuracy_list = []\n",
    "max_acc = 0\n",
    "num_epochs = 35\n",
    "pred_labels = []\n",
    "act_labels = []\n",
    "device = torch.device('cuda' if torch.cuda.is_available() else 'cpu')\n",
    "model.to(device)\n",
    "\n",
    "for epoch in range(num_epochs):\n",
    "    model.train()\n",
    "    train_accuracy = 0.0\n",
    "    train_loss = 0.0\n",
    "\n",
    "    # ✅ tqdm for training loop\n",
    "    train_bar = tqdm(train_dataloader, desc=f\"Epoch {epoch+1}/{num_epochs} [Train]\", leave=False)\n",
    "    for batch_idx, (images, labels) in enumerate(train_bar):\n",
    "        images, labels = images.to(device), labels.to(device)\n",
    "        optimizer.zero_grad()\n",
    "        outputs = model(images)\n",
    "        loss = loss_function(outputs, labels)\n",
    "        loss.backward()\n",
    "        optimizer.step()\n",
    "\n",
    "        train_loss += loss.item() * images.size(0)\n",
    "        _, prediction = torch.max(outputs.data, 1)\n",
    "        train_accuracy += int((prediction == labels).sum().item())\n",
    "\n",
    "        # Update tqdm bar\n",
    "        train_bar.set_postfix({\n",
    "            \"loss\": f\"{loss.item():.4f}\"\n",
    "        })\n",
    "\n",
    "    train_accuracy /= train_count\n",
    "    train_loss /= train_count\n",
    "    train_accuracy_list.append(train_accuracy)\n",
    "    train_loss_list.append(train_loss)\n",
    "\n",
    "    # Validation\n",
    "    model.eval()\n",
    "    val_accuracy = 0.0\n",
    "    pred = []\n",
    "    lab = []\n",
    "\n",
    "    # ✅ tqdm for validation loop\n",
    "    val_bar = tqdm(val_dataloader, desc=f\"Epoch {epoch+1}/{num_epochs} [Val]\", leave=False)\n",
    "    with torch.no_grad():\n",
    "        for images, labels in val_bar:\n",
    "            images, labels = images.to(device), labels.to(device)\n",
    "            outputs = model(images)\n",
    "            _, prediction = torch.max(outputs.data, 1)\n",
    "            val_accuracy += int((prediction == labels).sum().item())\n",
    "            pred.extend(prediction.cpu().tolist())\n",
    "            lab.extend(labels.cpu().tolist())\n",
    "\n",
    "    val_accuracy /= val_count\n",
    "    val_accuracy_list.append(val_accuracy)\n",
    "\n",
    "    if max_acc < val_accuracy:\n",
    "        max_acc = val_accuracy\n",
    "        pred_labels = pred\n",
    "        actual_labels = lab\n",
    "        torch.save(model, \"best_accuracy_model_BiLSTM.pth\")\n",
    "\n",
    "    # Print epoch summary\n",
    "    print(f\"Epoch: {epoch + 1}/{num_epochs}, \"\n",
    "          f\"Train Loss: {train_loss:.4f}, \"\n",
    "          f\"Train Accuracy: {train_accuracy:.4f}, \"\n",
    "          f\"Val Accuracy: {val_accuracy:.4f}\")\n",
    "\n",
    "print(\"Max Accuracy:\", max_acc)\n",
    "\n"
   ]
  },
  {
   "cell_type": "code",
   "execution_count": 22,
   "id": "c0475aea",
   "metadata": {
    "execution": {
     "iopub.execute_input": "2025-09-16T04:07:07.986004Z",
     "iopub.status.busy": "2025-09-16T04:07:07.985430Z",
     "iopub.status.idle": "2025-09-16T04:17:45.274800Z",
     "shell.execute_reply": "2025-09-16T04:17:45.274029Z"
    },
    "papermill": {
     "duration": 661.761749,
     "end_time": "2025-09-16T04:17:57.360692",
     "exception": false,
     "start_time": "2025-09-16T04:06:55.598943",
     "status": "completed"
    },
    "tags": []
   },
   "outputs": [
    {
     "name": "stdout",
     "output_type": "stream",
     "text": [
      "Testing Accuracy: 93.56%\n"
     ]
    }
   ],
   "source": [
    "import torch\n",
    "from torch.autograd import Variable\n",
    "\n",
    "best_model = torch.load(\"best_accuracy_model_BiLSTM.pth\", weights_only=False)\n",
    "\n",
    "# Put the best_model in evaluation mode\n",
    "best_model.eval()\n",
    "\n",
    "# Initialize variables to store results\n",
    "testing_accuracy = 0.0\n",
    "pred_labels = []\n",
    "act_labels = []\n",
    "\n",
    "# Iterate over the test dataloader\n",
    "for i, (images, labels) in enumerate(test_dataloader):\n",
    "    if torch.cuda.is_available():\n",
    "        images = Variable(images.cuda())\n",
    "        labels = Variable(labels.cuda())\n",
    "    else:\n",
    "        images = Variable(images)\n",
    "        labels = Variable(labels)\n",
    "\n",
    "    # Pass the images through the model for inference\n",
    "    outputs = best_model(images, labels=None, is_test=True)\n",
    "    \n",
    "    # Get predictions by taking the index with the highest score\n",
    "    _, prediction = torch.max(outputs.data, 1)\n",
    "    \n",
    "    # Calculate the number of correct predictions\n",
    "    testing_accuracy += (prediction == labels).sum().item()\n",
    "    \n",
    "    # Store predicted and actual labels\n",
    "    pred_labels.extend(prediction.cpu().tolist())\n",
    "    act_labels.extend(labels.cpu().tolist())\n",
    "\n",
    "# Calculate the testing accuracy\n",
    "testing_accuracy /= len(test_dataloader.dataset)\n",
    "\n",
    "# Print the testing accuracy\n",
    "print(f\"Testing Accuracy: {testing_accuracy * 100:.2f}%\")\n"
   ]
  },
  {
   "cell_type": "code",
   "execution_count": 23,
   "id": "7f2e9790",
   "metadata": {
    "execution": {
     "iopub.execute_input": "2025-09-16T04:18:21.397994Z",
     "iopub.status.busy": "2025-09-16T04:18:21.397703Z",
     "iopub.status.idle": "2025-09-16T04:18:24.259740Z",
     "shell.execute_reply": "2025-09-16T04:18:24.258919Z"
    },
    "papermill": {
     "duration": 14.815553,
     "end_time": "2025-09-16T04:18:24.261028",
     "exception": false,
     "start_time": "2025-09-16T04:18:09.445475",
     "status": "completed"
    },
    "tags": []
   },
   "outputs": [
    {
     "data": {
      "image/png": "[encoded data removed]",
      "text/plain": [
       "<Figure size 640x480 with 2 Axes>"
      ]
     },
     "metadata": {},
     "output_type": "display_data"
    },
    {
     "name": "stdout",
     "output_type": "stream",
     "text": [
      "F1 Score :  0.9355148628772721\n"
     ]
    }
   ],
   "source": [
    "# Calculate the confusion matrix\n",
    "import seaborn as sns\n",
    "conf_mat = confusion_matrix(act_labels, pred_labels)\n",
    "# Plot confusion matrix heat map\n",
    "sns.heatmap(conf_mat, cmap=\"flare\",annot=True, fmt = \"g\", \n",
    "            cbar_kws={\"label\":\"color bar\"},\n",
    "            xticklabels=train_dataset.classes,\n",
    "            yticklabels=train_dataset.classes)\n",
    "plt.xlabel(\"Predicted\")\n",
    "plt.ylabel(\"Actual\")\n",
    "plt.title(\"Confusion Matrix\")\n",
    "plt.savefig(\"ConfusionMatrix_BiLSTM.png\")\n",
    "plt.show()\n",
    "from sklearn.metrics import f1_score\n",
    "f1_score = f1_score(pred_labels, act_labels, average='macro')\n",
    "print('F1 Score : ', f1_score)"
   ]
  },
  {
   "cell_type": "code",
   "execution_count": 24,
   "id": "59291d42",
   "metadata": {
    "execution": {
     "iopub.execute_input": "2025-09-16T04:18:48.458246Z",
     "iopub.status.busy": "2025-09-16T04:18:48.457841Z",
     "iopub.status.idle": "2025-09-16T04:18:48.475883Z",
     "shell.execute_reply": "2025-09-16T04:18:48.475175Z"
    },
    "papermill": {
     "duration": 12.223633,
     "end_time": "2025-09-16T04:18:48.476993",
     "exception": false,
     "start_time": "2025-09-16T04:18:36.253360",
     "status": "completed"
    },
    "tags": []
   },
   "outputs": [
    {
     "name": "stdout",
     "output_type": "stream",
     "text": [
      "The equal error rate is 0.065\n"
     ]
    }
   ],
   "source": [
    "import numpy as np\n",
    "import sklearn.metrics\n",
    "\n",
    "\"\"\"\n",
    "Python compute equal error rate (eer)\n",
    "ONLY tested on binary classification\n",
    "\n",
    ":param label: ground-truth label, should be a 1-d list or np.array, each element represents the ground-truth label of one sample\n",
    ":param pred: model prediction, should be a 1-d list or np.array, each element represents the model prediction of one sample\n",
    ":param positive_label: the class that is viewed as positive class when computing EER\n",
    ":return: equal error rate (EER)\n",
    "\"\"\"\n",
    "def compute_eer(label, pred):\n",
    "    # all fpr, tpr, fnr, fnr, threshold are lists (in the format of np.array)\n",
    "    fpr, tpr, threshold = sklearn.metrics.roc_curve(label, pred)\n",
    "    fnr = 1 - tpr\n",
    "\n",
    "    # the threshold of fnr == fpr\n",
    "    eer_threshold = threshold[np.nanargmin(np.absolute((fnr - fpr)))]\n",
    "\n",
    "    # theoretically eer from fpr and eer from fnr should be identical but they can be slightly differ in reality\n",
    "    eer_1 = fpr[np.nanargmin(np.absolute((fnr - fpr)))]\n",
    "    eer_2 = fnr[np.nanargmin(np.absolute((fnr - fpr)))]\n",
    "\n",
    "    # return the mean of eer from fpr and from fnr\n",
    "    eer = (eer_1 + eer_2) / 2\n",
    "    return eer\n",
    "\n",
    "eer = compute_eer(act_labels, pred_labels)\n",
    "print('The equal error rate is {:.3f}'.format(eer))"
   ]
  },
  {
   "cell_type": "code",
   "execution_count": null,
   "id": "18431354",
   "metadata": {
    "papermill": {
     "duration": 12.138421,
     "end_time": "2025-09-16T04:19:12.905599",
     "exception": false,
     "start_time": "2025-09-16T04:19:00.767178",
     "status": "completed"
    },
    "tags": []
   },
   "outputs": [],
   "source": []
  }
 ],
 "metadata": {
  "kaggle": {
   "accelerator": "gpu",
   "dataSources": [
    {
     "datasetId": 8157101,
     "sourceId": 12892670,
     "sourceType": "datasetVersion"
    },
    {
     "datasetId": 8169899,
     "sourceId": 12911904,
     "sourceType": "datasetVersion"
    }
   ],
   "dockerImageVersionId": 31090,
   "isGpuEnabled": true,
   "isInternetEnabled": false,
   "language": "python",
   "sourceType": "notebook"
  },
  "kernelspec": {
   "display_name": "Python 3",
   "language": "python",
   "name": "python3"
  },
  "language_info": {
   "codemirror_mode": {
    "name": "ipython",
    "version": 3
   },
   "file_extension": ".py",
   "mimetype": "text/x-python",
   "name": "python",
   "nbconvert_exporter": "python",
   "pygments_lexer": "ipython3",
   "version": "3.11.13"
  },
  "papermill": {
   "default_parameters": {},
   "duration": 35227.197873,
   "end_time": "2025-09-16T04:19:27.833717",
   "environment_variables": {},
   "exception": null,
   "input_path": "__notebook__.ipynb",
   "output_path": "__notebook__.ipynb",
   "parameters": {},
   "start_time": "2025-09-15T18:32:20.635844",
   "version": "2.5.0"
  }
 },
 "nbformat": 4,
 "nbformat_minor": 5
}
