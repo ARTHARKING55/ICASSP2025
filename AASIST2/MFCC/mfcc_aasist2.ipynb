{
 "cells": [
  {
   "cell_type": "code",
   "execution_count": 1,
   "id": "fba0dfe9",
   "metadata": {
    "execution": {
     "iopub.execute_input": "2025-08-30T07:40:28.887455Z",
     "iopub.status.busy": "2025-08-30T07:40:28.887041Z",
     "iopub.status.idle": "2025-08-30T07:40:28.891899Z",
     "shell.execute_reply": "2025-08-30T07:40:28.891085Z"
    },
    "papermill": {
     "duration": 0.010942,
     "end_time": "2025-08-30T07:40:28.893195",
     "exception": false,
     "start_time": "2025-08-30T07:40:28.882253",
     "status": "completed"
    },
    "tags": []
   },
   "outputs": [],
   "source": [
    "# !pip install --upgrade scipy"
   ]
  },
  {
   "cell_type": "code",
   "execution_count": 2,
   "id": "d8e652c0",
   "metadata": {
    "execution": {
     "iopub.execute_input": "2025-08-30T07:40:28.900532Z",
     "iopub.status.busy": "2025-08-30T07:40:28.900321Z",
     "iopub.status.idle": "2025-08-30T07:40:34.318213Z",
     "shell.execute_reply": "2025-08-30T07:40:34.317515Z"
    },
    "papermill": {
     "duration": 5.423072,
     "end_time": "2025-08-30T07:40:34.319773",
     "exception": false,
     "start_time": "2025-08-30T07:40:28.896701",
     "status": "completed"
    },
    "tags": []
   },
   "outputs": [],
   "source": [
    "import torch \n",
    "import torch.nn as nn\n",
    "import torch.nn.functional as F\n",
    "from torch.autograd import Variable\n",
    "from torch.utils.data import Dataset, DataLoader\n",
    "\n",
    "import os, pathlib, glob, random\n",
    "import numpy as np\n",
    "import matplotlib.pyplot as plt \n",
    "\n",
    "from sklearn.metrics import confusion_matrix\n",
    "import scipy\n",
    "from scipy import io"
   ]
  },
  {
   "cell_type": "code",
   "execution_count": 3,
   "id": "0af556b0",
   "metadata": {
    "execution": {
     "iopub.execute_input": "2025-08-30T07:40:34.327451Z",
     "iopub.status.busy": "2025-08-30T07:40:34.327112Z",
     "iopub.status.idle": "2025-08-30T07:40:34.392350Z",
     "shell.execute_reply": "2025-08-30T07:40:34.391505Z"
    },
    "papermill": {
     "duration": 0.070286,
     "end_time": "2025-08-30T07:40:34.393645",
     "exception": false,
     "start_time": "2025-08-30T07:40:34.323359",
     "status": "completed"
    },
    "tags": []
   },
   "outputs": [
    {
     "name": "stdout",
     "output_type": "stream",
     "text": [
      "cuda\n"
     ]
    }
   ],
   "source": [
    "device = torch.device('cuda' if torch.cuda.is_available() else 'cpu')\n",
    "print(device)"
   ]
  },
  {
   "cell_type": "code",
   "execution_count": 4,
   "id": "a44a0f8f",
   "metadata": {
    "execution": {
     "iopub.execute_input": "2025-08-30T07:40:34.401264Z",
     "iopub.status.busy": "2025-08-30T07:40:34.401040Z",
     "iopub.status.idle": "2025-08-30T07:40:34.404216Z",
     "shell.execute_reply": "2025-08-30T07:40:34.403544Z"
    },
    "papermill": {
     "duration": 0.008339,
     "end_time": "2025-08-30T07:40:34.405477",
     "exception": false,
     "start_time": "2025-08-30T07:40:34.397138",
     "status": "completed"
    },
    "tags": []
   },
   "outputs": [],
   "source": [
    "batch_size = 32\n",
    "output_nodes = 10\n",
    "learning_rate = 0.001"
   ]
  },
  {
   "cell_type": "code",
   "execution_count": 5,
   "id": "8159f2fc",
   "metadata": {
    "execution": {
     "iopub.execute_input": "2025-08-30T07:40:34.412619Z",
     "iopub.status.busy": "2025-08-30T07:40:34.412415Z",
     "iopub.status.idle": "2025-08-30T07:40:34.415504Z",
     "shell.execute_reply": "2025-08-30T07:40:34.414872Z"
    },
    "papermill": {
     "duration": 0.007899,
     "end_time": "2025-08-30T07:40:34.416663",
     "exception": false,
     "start_time": "2025-08-30T07:40:34.408764",
     "status": "completed"
    },
    "tags": []
   },
   "outputs": [],
   "source": [
    "train_data_path = r\"/kaggle/input/mfcc-new/mfcc/train\"\n",
    "val_data_path = r\"/kaggle/input/mfcc-new/mfcc/dev\"\n",
    "test_data_path = r\"/kaggle/input/mfcc-new/mfcc/test\""
   ]
  },
  {
   "cell_type": "code",
   "execution_count": 6,
   "id": "61e0c4d9",
   "metadata": {
    "execution": {
     "iopub.execute_input": "2025-08-30T07:40:34.423772Z",
     "iopub.status.busy": "2025-08-30T07:40:34.423580Z",
     "iopub.status.idle": "2025-08-30T07:40:34.431364Z",
     "shell.execute_reply": "2025-08-30T07:40:34.430761Z"
    },
    "papermill": {
     "duration": 0.012522,
     "end_time": "2025-08-30T07:40:34.432472",
     "exception": false,
     "start_time": "2025-08-30T07:40:34.419950",
     "status": "completed"
    },
    "tags": []
   },
   "outputs": [],
   "source": [
    "import os\n",
    "import random\n",
    "import numpy as np\n",
    "import scipy.io\n",
    "from torch.utils.data import Dataset\n",
    "import torch\n",
    "\n",
    "class PtDataset(Dataset):\n",
    "    def __init__(self, directory, max_len=10):\n",
    "        \"\"\"\n",
    "        Custom dataset for loading .mat files from a directory structure.\n",
    "        Args:\n",
    "            directory (str): The path to the root data directory.\n",
    "            max_len (int): The maximum sequence length for padding/truncating.\n",
    "        \"\"\"\n",
    "        self.directory = directory\n",
    "        self.classes = sorted(entry.name for entry in os.scandir(directory) if entry.is_dir())\n",
    "        self.class_to_idx = {c: i for i, c in enumerate(self.classes)}\n",
    "        self.files = []\n",
    "        self.max_len = max_len\n",
    "        for c in self.classes:\n",
    "            c_dir = os.path.join(directory, c)\n",
    "            c_files = [(os.path.join(c_dir, f), self.class_to_idx[c]) for f in os.listdir(c_dir) if f.endswith('.mat')]\n",
    "            self.files.extend(c_files)\n",
    "        random.shuffle(self.files)\n",
    "        \n",
    "    def __len__(self):\n",
    "        return len(self.files)\n",
    "    \n",
    "    def __getitem__(self, idx):\n",
    "        \"\"\"\n",
    "        Load a .mat file, process it to the required shape, and return it with the label.\n",
    "        \"\"\"\n",
    "        filepath, label = self.files[idx]\n",
    "        try:\n",
    "            mat_vals = scipy.io.loadmat(filepath)\n",
    "            data = mat_vals['final']  # Assuming 'final' is the key for data\n",
    "            data = data.T  # Transpose to (time, features)\n",
    "            feature_dim = data.shape[1]\n",
    "\n",
    "            # Ensure data is exactly (max_len, feature_dim)\n",
    "            if data.shape[0] < self.max_len:\n",
    "                pad_width = self.max_len - data.shape[0]\n",
    "                data = np.pad(data, pad_width=((0, pad_width), (0, 0)), mode='constant')\n",
    "            else:\n",
    "                data = data[:self.max_len, :]\n",
    "\n",
    "            # Flatten data to fit conv1d input (batch_size, in_channels, length)\n",
    "            data = data.reshape(1, -1)  # Reshape to (1, max_len * feature_dim)\n",
    "            data = torch.from_numpy(data).double()  # Convert to tensor\n",
    "        except Exception as e:\n",
    "            print(f\"Error loading file {filepath}: {str(e)}\")\n",
    "            return self.__getitem__((idx + 1) % len(self.files))  # Retry with a different sample\n",
    "\n",
    "        return data, label\n"
   ]
  },
  {
   "cell_type": "code",
   "execution_count": 7,
   "id": "6275db70",
   "metadata": {
    "execution": {
     "iopub.execute_input": "2025-08-30T07:40:34.439652Z",
     "iopub.status.busy": "2025-08-30T07:40:34.439458Z",
     "iopub.status.idle": "2025-08-30T07:40:37.002741Z",
     "shell.execute_reply": "2025-08-30T07:40:37.001772Z"
    },
    "papermill": {
     "duration": 2.568691,
     "end_time": "2025-08-30T07:40:37.004498",
     "exception": false,
     "start_time": "2025-08-30T07:40:34.435807",
     "status": "completed"
    },
    "tags": []
   },
   "outputs": [],
   "source": [
    "\n",
    "train_dataset = PtDataset(train_data_path)\n",
    "val_dataset = PtDataset(val_data_path)\n",
    "test_dataset = PtDataset(test_data_path)"
   ]
  },
  {
   "cell_type": "code",
   "execution_count": 8,
   "id": "465d5f6b",
   "metadata": {
    "execution": {
     "iopub.execute_input": "2025-08-30T07:40:37.012450Z",
     "iopub.status.busy": "2025-08-30T07:40:37.012187Z",
     "iopub.status.idle": "2025-08-30T07:40:37.016070Z",
     "shell.execute_reply": "2025-08-30T07:40:37.015175Z"
    },
    "papermill": {
     "duration": 0.009064,
     "end_time": "2025-08-30T07:40:37.017331",
     "exception": false,
     "start_time": "2025-08-30T07:40:37.008267",
     "status": "completed"
    },
    "tags": []
   },
   "outputs": [],
   "source": [
    "class PtDataLoader(DataLoader):\n",
    "    def __init__(self, directory, batch_size, shuffle=True):\n",
    "        dataset = PtDataset(directory)\n",
    "        super().__init__(dataset, batch_size=batch_size, shuffle=shuffle)"
   ]
  },
  {
   "cell_type": "code",
   "execution_count": 9,
   "id": "6ffa18b2",
   "metadata": {
    "execution": {
     "iopub.execute_input": "2025-08-30T07:40:37.025018Z",
     "iopub.status.busy": "2025-08-30T07:40:37.024734Z",
     "iopub.status.idle": "2025-08-30T07:40:37.893211Z",
     "shell.execute_reply": "2025-08-30T07:40:37.892170Z"
    },
    "papermill": {
     "duration": 0.873865,
     "end_time": "2025-08-30T07:40:37.894821",
     "exception": false,
     "start_time": "2025-08-30T07:40:37.020956",
     "status": "completed"
    },
    "tags": []
   },
   "outputs": [],
   "source": [
    "train_dataloader = PtDataLoader(directory=train_data_path, batch_size=batch_size)\n",
    "val_dataloader = PtDataLoader(directory=val_data_path, batch_size=batch_size)\n",
    "test_dataloader = PtDataLoader(directory=test_data_path, batch_size=batch_size)"
   ]
  },
  {
   "cell_type": "code",
   "execution_count": 10,
   "id": "24a3bd8d",
   "metadata": {
    "execution": {
     "iopub.execute_input": "2025-08-30T07:40:37.903015Z",
     "iopub.status.busy": "2025-08-30T07:40:37.902743Z",
     "iopub.status.idle": "2025-08-30T07:40:37.906174Z",
     "shell.execute_reply": "2025-08-30T07:40:37.905469Z"
    },
    "papermill": {
     "duration": 0.008689,
     "end_time": "2025-08-30T07:40:37.907300",
     "exception": false,
     "start_time": "2025-08-30T07:40:37.898611",
     "status": "completed"
    },
    "tags": []
   },
   "outputs": [],
   "source": [
    "train_count = len(train_dataset) \n",
    "val_count = len(val_dataset)\n",
    "test_count = len(test_dataset)"
   ]
  },
  {
   "cell_type": "code",
   "execution_count": 11,
   "id": "cb2ff111",
   "metadata": {
    "execution": {
     "iopub.execute_input": "2025-08-30T07:40:37.914998Z",
     "iopub.status.busy": "2025-08-30T07:40:37.914768Z",
     "iopub.status.idle": "2025-08-30T07:40:37.918937Z",
     "shell.execute_reply": "2025-08-30T07:40:37.918150Z"
    },
    "papermill": {
     "duration": 0.009141,
     "end_time": "2025-08-30T07:40:37.920037",
     "exception": false,
     "start_time": "2025-08-30T07:40:37.910896",
     "status": "completed"
    },
    "tags": []
   },
   "outputs": [
    {
     "name": "stdout",
     "output_type": "stream",
     "text": [
      "111633\n",
      "37152\n",
      "37971\n"
     ]
    }
   ],
   "source": [
    "print(train_count)\n",
    "print(val_count)\n",
    "print(test_count)"
   ]
  },
  {
   "cell_type": "code",
   "execution_count": 12,
   "id": "88bd64ab",
   "metadata": {
    "execution": {
     "iopub.execute_input": "2025-08-30T07:40:37.927952Z",
     "iopub.status.busy": "2025-08-30T07:40:37.927718Z",
     "iopub.status.idle": "2025-08-30T07:40:37.996274Z",
     "shell.execute_reply": "2025-08-30T07:40:37.995644Z"
    },
    "papermill": {
     "duration": 0.073885,
     "end_time": "2025-08-30T07:40:37.997494",
     "exception": false,
     "start_time": "2025-08-30T07:40:37.923609",
     "status": "completed"
    },
    "tags": []
   },
   "outputs": [],
   "source": [
    "drop_amount = 0.255\n",
    "\n",
    "import torch\n",
    "import torch.nn as nn\n",
    "import torch.nn.functional as F\n",
    "from collections import OrderedDict\n",
    "from torch.nn.parameter import Parameter\n",
    "from torch.utils import data\n",
    "\n",
    "class Res2NetBlock(nn.Module):\n",
    "    def __init__(self, in_channels, out_channels, scale=4, kernel_size=3, stride=1, padding=1):\n",
    "        super(Res2NetBlock, self).__init__()\n",
    "        assert out_channels % scale == 0, \"Output channels must be divisible by scale\"\n",
    "        self.scale = scale\n",
    "        self.split_channels = out_channels // scale\n",
    "\n",
    "        self.conv1 = nn.Conv1d(in_channels, out_channels, kernel_size=1, stride=1, bias=False)\n",
    "        self.bn1 = nn.BatchNorm1d(out_channels)\n",
    "\n",
    "        self.convs = nn.ModuleList([\n",
    "            nn.Conv1d(self.split_channels, self.split_channels, kernel_size, stride=stride, padding=padding, bias=False)\n",
    "            for _ in range(scale - 1)\n",
    "        ])\n",
    "\n",
    "        self.bn2 = nn.BatchNorm1d(out_channels)\n",
    "        self.conv3 = nn.Conv1d(out_channels, out_channels, kernel_size=1, stride=1, bias=False)\n",
    "\n",
    "        self.relu = nn.ReLU(inplace=True)\n",
    "\n",
    "    def forward(self, x):\n",
    "        out = self.conv1(x)\n",
    "        out = self.bn1(out)\n",
    "        out = self.relu(out)\n",
    "\n",
    "        splits = torch.chunk(out, self.scale, dim=1)\n",
    "        out = splits[0]\n",
    "        result = [out]  # Collect outputs here to avoid in-place addition\n",
    "        for i, conv in enumerate(self.convs):\n",
    "            result.append(conv(splits[i + 1]))\n",
    "        out = torch.cat(result, dim=1)  # Concatenate all parts\n",
    "\n",
    "        out = self.conv3(out)\n",
    "        out = self.bn2(out)\n",
    "        return self.relu(out)\n",
    "\n",
    "\n",
    "class AMSoftmaxLoss(nn.Module):\n",
    "    def __init__(self, in_features, out_features, s=30.0, m=0.4):\n",
    "        super(AMSoftmaxLoss, self).__init__()\n",
    "        self.s = s\n",
    "        self.m = m\n",
    "        self.weight = Parameter(torch.DoubleTensor(out_features, in_features))\n",
    "        nn.init.xavier_uniform_(self.weight)\n",
    "\n",
    "    def forward(self, x, labels):\n",
    "        cosine = F.linear(F.normalize(x), F.normalize(self.weight))\n",
    "        phi = cosine - self.m\n",
    "        one_hot = torch.zeros_like(cosine)\n",
    "        one_hot.scatter_(1, labels.view(-1, 1).long(), 1)\n",
    "        logits = one_hot * phi + (1.0 - one_hot) * cosine\n",
    "        logits *= self.s\n",
    "        return logits\n",
    "\n",
    "\n",
    "class AASIST2(nn.Module):\n",
    "    def __init__(self, d_args):\n",
    "        super(AASIST2, self).__init__()\n",
    "        self.res2net_block1 = Res2NetBlock(d_args['in_channels'], d_args['filts'][0], scale=4)\n",
    "        self.res2net_block2 = Res2NetBlock(d_args['filts'][0], d_args['filts'][1], scale=4)\n",
    "        self.res2net_block3 = Res2NetBlock(d_args['filts'][1], d_args['filts'][2], scale=4)\n",
    "\n",
    "        self.gru = nn.GRU(input_size=d_args['filts'][2],\n",
    "                          hidden_size=d_args['gru_node'],\n",
    "                          num_layers=d_args['nb_gru_layer'],\n",
    "                          batch_first=True)\n",
    "\n",
    "        self.fc1 = nn.Linear(d_args['gru_node'], d_args['nb_fc_node'])  # Input size must match GRU hidden size\n",
    "        self.fc2 = nn.Linear(d_args['nb_fc_node'], d_args['nb_classes'])  # Matches number of classes\n",
    "\n",
    "        self.am_softmax = AMSoftmaxLoss(d_args['nb_fc_node'], d_args['nb_classes'])  # Use fc1 output size\n",
    "\n",
    "    def forward(self, x, labels=None, is_test=False):\n",
    "        x = self.res2net_block1(x)\n",
    "        x = self.res2net_block2(x)\n",
    "        x = self.res2net_block3(x)\n",
    "\n",
    "        x = x.permute(0, 2, 1)  # Permute for GRU input [batch, sequence, feature]\n",
    "        self.gru.flatten_parameters()\n",
    "        x, _ = self.gru(x)\n",
    "        x = x[:, -1, :]  # Take last time step output\n",
    "\n",
    "        x = self.fc1(x)\n",
    "        logits = self.fc2(x)\n",
    "\n",
    "        if labels is not None:  # Compute AMSoftmax only if labels are provided\n",
    "            return self.am_softmax(x, labels)\n",
    "        else:  # Return logits for testing/inference\n",
    "            return F.softmax(logits, dim=1)\n",
    "\n",
    "d_args = {\n",
    "    'in_channels': 1,\n",
    "    'filts': [64, 128, 256],\n",
    "    'gru_node': 128,\n",
    "    'nb_gru_layer': 2,\n",
    "    'nb_fc_node': 64,\n",
    "    'nb_classes': 2\n",
    "}\n",
    "model = AASIST2(d_args)\n"
   ]
  },
  {
   "cell_type": "code",
   "execution_count": 13,
   "id": "c191f456",
   "metadata": {
    "execution": {
     "iopub.execute_input": "2025-08-30T07:40:38.005426Z",
     "iopub.status.busy": "2025-08-30T07:40:38.005202Z",
     "iopub.status.idle": "2025-08-30T07:40:38.008376Z",
     "shell.execute_reply": "2025-08-30T07:40:38.007738Z"
    },
    "papermill": {
     "duration": 0.008343,
     "end_time": "2025-08-30T07:40:38.009567",
     "exception": false,
     "start_time": "2025-08-30T07:40:38.001224",
     "status": "completed"
    },
    "tags": []
   },
   "outputs": [],
   "source": [
    "import torch\n",
    "from torch import nn\n",
    "from torch.nn import Parameter\n",
    "import torch.nn.functional as F"
   ]
  },
  {
   "cell_type": "code",
   "execution_count": 14,
   "id": "717eb8a7",
   "metadata": {
    "execution": {
     "iopub.execute_input": "2025-08-30T07:40:38.017394Z",
     "iopub.status.busy": "2025-08-30T07:40:38.017198Z",
     "iopub.status.idle": "2025-08-30T07:40:38.315333Z",
     "shell.execute_reply": "2025-08-30T07:40:38.314488Z"
    },
    "papermill": {
     "duration": 0.303514,
     "end_time": "2025-08-30T07:40:38.316665",
     "exception": false,
     "start_time": "2025-08-30T07:40:38.013151",
     "status": "completed"
    },
    "tags": []
   },
   "outputs": [
    {
     "data": {
      "text/plain": [
       "AASIST2(\n",
       "  (res2net_block1): Res2NetBlock(\n",
       "    (conv1): Conv1d(1, 64, kernel_size=(1,), stride=(1,), bias=False)\n",
       "    (bn1): BatchNorm1d(64, eps=1e-05, momentum=0.1, affine=True, track_running_stats=True)\n",
       "    (convs): ModuleList(\n",
       "      (0-2): 3 x Conv1d(16, 16, kernel_size=(3,), stride=(1,), padding=(1,), bias=False)\n",
       "    )\n",
       "    (bn2): BatchNorm1d(64, eps=1e-05, momentum=0.1, affine=True, track_running_stats=True)\n",
       "    (conv3): Conv1d(64, 64, kernel_size=(1,), stride=(1,), bias=False)\n",
       "    (relu): ReLU(inplace=True)\n",
       "  )\n",
       "  (res2net_block2): Res2NetBlock(\n",
       "    (conv1): Conv1d(64, 128, kernel_size=(1,), stride=(1,), bias=False)\n",
       "    (bn1): BatchNorm1d(128, eps=1e-05, momentum=0.1, affine=True, track_running_stats=True)\n",
       "    (convs): ModuleList(\n",
       "      (0-2): 3 x Conv1d(32, 32, kernel_size=(3,), stride=(1,), padding=(1,), bias=False)\n",
       "    )\n",
       "    (bn2): BatchNorm1d(128, eps=1e-05, momentum=0.1, affine=True, track_running_stats=True)\n",
       "    (conv3): Conv1d(128, 128, kernel_size=(1,), stride=(1,), bias=False)\n",
       "    (relu): ReLU(inplace=True)\n",
       "  )\n",
       "  (res2net_block3): Res2NetBlock(\n",
       "    (conv1): Conv1d(128, 256, kernel_size=(1,), stride=(1,), bias=False)\n",
       "    (bn1): BatchNorm1d(256, eps=1e-05, momentum=0.1, affine=True, track_running_stats=True)\n",
       "    (convs): ModuleList(\n",
       "      (0-2): 3 x Conv1d(64, 64, kernel_size=(3,), stride=(1,), padding=(1,), bias=False)\n",
       "    )\n",
       "    (bn2): BatchNorm1d(256, eps=1e-05, momentum=0.1, affine=True, track_running_stats=True)\n",
       "    (conv3): Conv1d(256, 256, kernel_size=(1,), stride=(1,), bias=False)\n",
       "    (relu): ReLU(inplace=True)\n",
       "  )\n",
       "  (gru): GRU(256, 128, num_layers=2, batch_first=True)\n",
       "  (fc1): Linear(in_features=128, out_features=64, bias=True)\n",
       "  (fc2): Linear(in_features=64, out_features=2, bias=True)\n",
       "  (am_softmax): AMSoftmaxLoss()\n",
       ")"
      ]
     },
     "execution_count": 14,
     "metadata": {},
     "output_type": "execute_result"
    }
   ],
   "source": [
    "# Define the parameters\n",
    "# input_size = 20\n",
    "# hidden_size = 256\n",
    "# num_layers = 2\n",
    "# num_classes = 8\n",
    "\n",
    "# model = BiLSTMClassifier(input_size, hidden_size, num_layers, num_classes)\n",
    "model.to(device, dtype=torch.double)"
   ]
  },
  {
   "cell_type": "code",
   "execution_count": 15,
   "id": "aceef798",
   "metadata": {
    "execution": {
     "iopub.execute_input": "2025-08-30T07:40:38.325338Z",
     "iopub.status.busy": "2025-08-30T07:40:38.325110Z",
     "iopub.status.idle": "2025-08-30T07:40:38.328237Z",
     "shell.execute_reply": "2025-08-30T07:40:38.327589Z"
    },
    "papermill": {
     "duration": 0.008633,
     "end_time": "2025-08-30T07:40:38.329393",
     "exception": false,
     "start_time": "2025-08-30T07:40:38.320760",
     "status": "completed"
    },
    "tags": []
   },
   "outputs": [],
   "source": [
    "import torch\n",
    "import torch.nn as nn\n",
    "import torch.optim as optim"
   ]
  },
  {
   "cell_type": "code",
   "execution_count": 16,
   "id": "e75018c4",
   "metadata": {
    "execution": {
     "iopub.execute_input": "2025-08-30T07:40:38.337394Z",
     "iopub.status.busy": "2025-08-30T07:40:38.337198Z",
     "iopub.status.idle": "2025-08-30T07:40:41.976955Z",
     "shell.execute_reply": "2025-08-30T07:40:41.976022Z"
    },
    "papermill": {
     "duration": 3.645544,
     "end_time": "2025-08-30T07:40:41.978615",
     "exception": false,
     "start_time": "2025-08-30T07:40:38.333071",
     "status": "completed"
    },
    "tags": []
   },
   "outputs": [],
   "source": [
    "loss_function = nn.CrossEntropyLoss()\n",
    "optimizer = optim.Adam(model.parameters(), lr=learning_rate)"
   ]
  },
  {
   "cell_type": "code",
   "execution_count": 17,
   "id": "bea2664e",
   "metadata": {
    "execution": {
     "iopub.execute_input": "2025-08-30T07:40:41.988060Z",
     "iopub.status.busy": "2025-08-30T07:40:41.987691Z",
     "iopub.status.idle": "2025-08-30T07:40:41.992250Z",
     "shell.execute_reply": "2025-08-30T07:40:41.990995Z"
    },
    "papermill": {
     "duration": 0.010295,
     "end_time": "2025-08-30T07:40:41.993436",
     "exception": false,
     "start_time": "2025-08-30T07:40:41.983141",
     "status": "completed"
    },
    "tags": []
   },
   "outputs": [
    {
     "name": "stdout",
     "output_type": "stream",
     "text": [
      "AASIST2(\n",
      "  (res2net_block1): Res2NetBlock(\n",
      "    (conv1): Conv1d(1, 64, kernel_size=(1,), stride=(1,), bias=False)\n",
      "    (bn1): BatchNorm1d(64, eps=1e-05, momentum=0.1, affine=True, track_running_stats=True)\n",
      "    (convs): ModuleList(\n",
      "      (0-2): 3 x Conv1d(16, 16, kernel_size=(3,), stride=(1,), padding=(1,), bias=False)\n",
      "    )\n",
      "    (bn2): BatchNorm1d(64, eps=1e-05, momentum=0.1, affine=True, track_running_stats=True)\n",
      "    (conv3): Conv1d(64, 64, kernel_size=(1,), stride=(1,), bias=False)\n",
      "    (relu): ReLU(inplace=True)\n",
      "  )\n",
      "  (res2net_block2): Res2NetBlock(\n",
      "    (conv1): Conv1d(64, 128, kernel_size=(1,), stride=(1,), bias=False)\n",
      "    (bn1): BatchNorm1d(128, eps=1e-05, momentum=0.1, affine=True, track_running_stats=True)\n",
      "    (convs): ModuleList(\n",
      "      (0-2): 3 x Conv1d(32, 32, kernel_size=(3,), stride=(1,), padding=(1,), bias=False)\n",
      "    )\n",
      "    (bn2): BatchNorm1d(128, eps=1e-05, momentum=0.1, affine=True, track_running_stats=True)\n",
      "    (conv3): Conv1d(128, 128, kernel_size=(1,), stride=(1,), bias=False)\n",
      "    (relu): ReLU(inplace=True)\n",
      "  )\n",
      "  (res2net_block3): Res2NetBlock(\n",
      "    (conv1): Conv1d(128, 256, kernel_size=(1,), stride=(1,), bias=False)\n",
      "    (bn1): BatchNorm1d(256, eps=1e-05, momentum=0.1, affine=True, track_running_stats=True)\n",
      "    (convs): ModuleList(\n",
      "      (0-2): 3 x Conv1d(64, 64, kernel_size=(3,), stride=(1,), padding=(1,), bias=False)\n",
      "    )\n",
      "    (bn2): BatchNorm1d(256, eps=1e-05, momentum=0.1, affine=True, track_running_stats=True)\n",
      "    (conv3): Conv1d(256, 256, kernel_size=(1,), stride=(1,), bias=False)\n",
      "    (relu): ReLU(inplace=True)\n",
      "  )\n",
      "  (gru): GRU(256, 128, num_layers=2, batch_first=True)\n",
      "  (fc1): Linear(in_features=128, out_features=64, bias=True)\n",
      "  (fc2): Linear(in_features=64, out_features=2, bias=True)\n",
      "  (am_softmax): AMSoftmaxLoss()\n",
      ")\n"
     ]
    }
   ],
   "source": [
    "print(model)"
   ]
  },
  {
   "cell_type": "code",
   "execution_count": 18,
   "id": "34474b0a",
   "metadata": {
    "execution": {
     "iopub.execute_input": "2025-08-30T07:40:42.002203Z",
     "iopub.status.busy": "2025-08-30T07:40:42.001959Z",
     "iopub.status.idle": "2025-08-30T13:11:55.940615Z",
     "shell.execute_reply": "2025-08-30T13:11:55.939667Z"
    },
    "papermill": {
     "duration": 19873.951495,
     "end_time": "2025-08-30T13:11:55.948984",
     "exception": false,
     "start_time": "2025-08-30T07:40:41.997489",
     "status": "completed"
    },
    "tags": []
   },
   "outputs": [
    {
     "name": "stdout",
     "output_type": "stream",
     "text": [
      "Epoch: 1/40, Train Loss: 0.7399, Train Accuracy: 0.5115, Val Accuracy: 0.5140\n",
      "Epoch: 2/40, Train Loss: 0.8012, Train Accuracy: 0.5121, Val Accuracy: 0.5140\n",
      "Epoch: 3/40, Train Loss: 0.8012, Train Accuracy: 0.5121, Val Accuracy: 0.5140\n",
      "Epoch: 4/40, Train Loss: 0.8012, Train Accuracy: 0.5121, Val Accuracy: 0.5140\n",
      "Epoch: 5/40, Train Loss: 0.5360, Train Accuracy: 0.7723, Val Accuracy: 0.8048\n",
      "Epoch: 6/40, Train Loss: 0.4635, Train Accuracy: 0.8436, Val Accuracy: 0.8209\n",
      "Epoch: 7/40, Train Loss: 0.4497, Train Accuracy: 0.8584, Val Accuracy: 0.8449\n",
      "Epoch: 8/40, Train Loss: 0.4379, Train Accuracy: 0.8702, Val Accuracy: 0.8511\n",
      "Epoch: 9/40, Train Loss: 0.4306, Train Accuracy: 0.8778, Val Accuracy: 0.8572\n",
      "Epoch: 10/40, Train Loss: 0.4161, Train Accuracy: 0.8928, Val Accuracy: 0.8655\n",
      "Epoch: 11/40, Train Loss: 0.4081, Train Accuracy: 0.9011, Val Accuracy: 0.8781\n",
      "Epoch: 12/40, Train Loss: 0.3995, Train Accuracy: 0.9099, Val Accuracy: 0.8833\n",
      "Epoch: 13/40, Train Loss: 0.3958, Train Accuracy: 0.9142, Val Accuracy: 0.8579\n",
      "Epoch: 14/40, Train Loss: 0.3928, Train Accuracy: 0.9170, Val Accuracy: 0.8856\n",
      "Epoch: 15/40, Train Loss: 0.3909, Train Accuracy: 0.9191, Val Accuracy: 0.8902\n",
      "Epoch: 16/40, Train Loss: 0.3877, Train Accuracy: 0.9221, Val Accuracy: 0.8969\n",
      "Epoch: 17/40, Train Loss: 0.3851, Train Accuracy: 0.9251, Val Accuracy: 0.8988\n",
      "Epoch: 18/40, Train Loss: 0.3828, Train Accuracy: 0.9273, Val Accuracy: 0.8864\n",
      "Epoch: 19/40, Train Loss: 0.3821, Train Accuracy: 0.9280, Val Accuracy: 0.8962\n",
      "Epoch: 20/40, Train Loss: 0.3811, Train Accuracy: 0.9291, Val Accuracy: 0.8995\n",
      "Epoch: 21/40, Train Loss: 0.3805, Train Accuracy: 0.9299, Val Accuracy: 0.9023\n",
      "Epoch: 22/40, Train Loss: 0.3801, Train Accuracy: 0.9306, Val Accuracy: 0.8821\n",
      "Epoch: 23/40, Train Loss: 0.3785, Train Accuracy: 0.9320, Val Accuracy: 0.8984\n",
      "Epoch: 24/40, Train Loss: 0.3784, Train Accuracy: 0.9324, Val Accuracy: 0.9040\n",
      "Epoch: 25/40, Train Loss: 0.3787, Train Accuracy: 0.9318, Val Accuracy: 0.8982\n",
      "Epoch: 26/40, Train Loss: 0.3766, Train Accuracy: 0.9338, Val Accuracy: 0.9048\n",
      "Epoch: 27/40, Train Loss: 0.3760, Train Accuracy: 0.9347, Val Accuracy: 0.8935\n",
      "Epoch: 28/40, Train Loss: 0.3763, Train Accuracy: 0.9343, Val Accuracy: 0.8928\n",
      "Epoch: 29/40, Train Loss: 0.3760, Train Accuracy: 0.9344, Val Accuracy: 0.9022\n",
      "Epoch: 30/40, Train Loss: 0.3776, Train Accuracy: 0.9327, Val Accuracy: 0.9035\n",
      "Epoch: 31/40, Train Loss: 0.3764, Train Accuracy: 0.9341, Val Accuracy: 0.9044\n",
      "Epoch: 32/40, Train Loss: 0.3762, Train Accuracy: 0.9347, Val Accuracy: 0.8983\n",
      "Epoch: 33/40, Train Loss: 0.3769, Train Accuracy: 0.9338, Val Accuracy: 0.9057\n",
      "Epoch: 34/40, Train Loss: 0.3752, Train Accuracy: 0.9356, Val Accuracy: 0.8989\n",
      "Epoch: 35/40, Train Loss: 0.3760, Train Accuracy: 0.9346, Val Accuracy: 0.9075\n",
      "Epoch: 36/40, Train Loss: 0.3746, Train Accuracy: 0.9361, Val Accuracy: 0.9006\n",
      "Epoch: 37/40, Train Loss: 0.3771, Train Accuracy: 0.9338, Val Accuracy: 0.9031\n",
      "Epoch: 38/40, Train Loss: 0.3746, Train Accuracy: 0.9358, Val Accuracy: 0.9005\n",
      "Epoch: 39/40, Train Loss: 0.3737, Train Accuracy: 0.9371, Val Accuracy: 0.9011\n",
      "Epoch: 40/40, Train Loss: 0.3759, Train Accuracy: 0.9351, Val Accuracy: 0.8936\n",
      "Max Accuracy: 0.9074612403100775\n"
     ]
    }
   ],
   "source": [
    "#Model training and testing \n",
    "n_total_steps = len(train_dataloader) # n_total_steps * batch size will give total number of training files (consider that last batch may not be fully filled)\n",
    "train_accuracy_list = []\n",
    "train_loss_list = []\n",
    "val_accuracy_list = []\n",
    "max_acc=0\n",
    "num_epochs = 40\n",
    "pred_labels =[]\n",
    "act_labels = []\n",
    "device = torch.device('cuda' if torch.cuda.is_available() else 'cpu')\n",
    "model.to(device)\n",
    "\n",
    "for epoch in range(num_epochs):\n",
    "    model.train()\n",
    "    train_accuracy = 0.0\n",
    "    train_loss = 0.0\n",
    "    \n",
    "    for batch_idx, (images, labels) in enumerate(train_dataloader):\n",
    "        images, labels = images.to(device), labels.to(device)\n",
    "        optimizer.zero_grad()\n",
    "        outputs = model(images)\n",
    "        loss = loss_function(outputs, labels)\n",
    "        loss.backward()\n",
    "        optimizer.step()\n",
    "        \n",
    "        train_loss += loss.item() * images.size(0)\n",
    "        _, prediction = torch.max(outputs.data, 1)\n",
    "        train_accuracy += int((prediction == labels).sum().item())\n",
    "    \n",
    "    train_accuracy /= train_count\n",
    "    train_loss /= train_count\n",
    "    train_accuracy_list.append(train_accuracy)\n",
    "    train_loss_list.append(train_loss)\n",
    "    \n",
    "    # Validation\n",
    "    model.eval()\n",
    "    val_accuracy = 0.0\n",
    "    pred = []\n",
    "    lab = []\n",
    "    \n",
    "    with torch.no_grad():\n",
    "        for images, labels in val_dataloader:\n",
    "            images, labels = images.to(device), labels.to(device)\n",
    "            outputs = model(images)\n",
    "            _, prediction = torch.max(outputs.data, 1)\n",
    "            val_accuracy += int((prediction == labels).sum().item())\n",
    "            pred.extend(prediction.cpu().tolist())\n",
    "            lab.extend(labels.cpu().tolist())\n",
    "    \n",
    "    val_accuracy /= val_count\n",
    "    val_accuracy_list.append(val_accuracy)\n",
    "    \n",
    "    if max_acc < val_accuracy:\n",
    "        max_acc = val_accuracy\n",
    "        pred_labels = pred\n",
    "        actual_labels = lab\n",
    "        torch.save(model, \"best_accuracy_model_BiLSTM.pth\")\n",
    "    \n",
    "    print(f\"Epoch: {epoch + 1}/{num_epochs}, Train Loss: {train_loss:.4f}, Train Accuracy: {train_accuracy:.4f}, Val Accuracy: {val_accuracy:.4f}\")\n",
    "\n",
    "print(\"Max Accuracy:\", max_acc)\n"
   ]
  },
  {
   "cell_type": "code",
   "execution_count": 19,
   "id": "105cee8b",
   "metadata": {
    "execution": {
     "iopub.execute_input": "2025-08-30T13:11:55.961527Z",
     "iopub.status.busy": "2025-08-30T13:11:55.961265Z",
     "iopub.status.idle": "2025-08-30T13:18:15.029023Z",
     "shell.execute_reply": "2025-08-30T13:18:15.028143Z"
    },
    "papermill": {
     "duration": 379.081794,
     "end_time": "2025-08-30T13:18:15.036684",
     "exception": false,
     "start_time": "2025-08-30T13:11:55.954890",
     "status": "completed"
    },
    "tags": []
   },
   "outputs": [
    {
     "name": "stderr",
     "output_type": "stream",
     "text": [
      "<ipython-input-19-4beedf5fee82>:5: FutureWarning: You are using `torch.load` with `weights_only=False` (the current default value), which uses the default pickle module implicitly. It is possible to construct malicious pickle data which will execute arbitrary code during unpickling (See https://github.com/pytorch/pytorch/blob/main/SECURITY.md#untrusted-models for more details). In a future release, the default value for `weights_only` will be flipped to `True`. This limits the functions that could be executed during unpickling. Arbitrary objects will no longer be allowed to be loaded via this mode unless they are explicitly allowlisted by the user via `torch.serialization.add_safe_globals`. We recommend you start setting `weights_only=True` for any use case where you don't have full control of the loaded file. Please open an issue on GitHub for any issues related to this experimental feature.\n",
      "  best_model = torch.load(\"best_accuracy_model_BiLSTM.pth\")\n"
     ]
    },
    {
     "name": "stdout",
     "output_type": "stream",
     "text": [
      "Testing Accuracy: 92.27%\n"
     ]
    }
   ],
   "source": [
    "import torch\n",
    "from torch.autograd import Variable\n",
    "\n",
    "# Load the best model\n",
    "best_model = torch.load(\"best_accuracy_model_BiLSTM.pth\")\n",
    "\n",
    "# Put the best_model in evaluation mode\n",
    "best_model.eval()\n",
    "\n",
    "# Initialize variables to store results\n",
    "testing_accuracy = 0.0\n",
    "pred_labels = []\n",
    "act_labels = []\n",
    "\n",
    "# Iterate over the test dataloader\n",
    "for i, (images, labels) in enumerate(test_dataloader):\n",
    "    if torch.cuda.is_available():\n",
    "        images = Variable(images.cuda())\n",
    "        labels = Variable(labels.cuda())\n",
    "    else:\n",
    "        images = Variable(images)\n",
    "        labels = Variable(labels)\n",
    "\n",
    "    # Pass the images through the model for inference\n",
    "    outputs = best_model(images, labels=None, is_test=True)\n",
    "    \n",
    "    # Get predictions by taking the index with the highest score\n",
    "    _, prediction = torch.max(outputs.data, 1)\n",
    "    \n",
    "    # Calculate the number of correct predictions\n",
    "    testing_accuracy += (prediction == labels).sum().item()\n",
    "    \n",
    "    # Store predicted and actual labels\n",
    "    pred_labels.extend(prediction.cpu().tolist())\n",
    "    act_labels.extend(labels.cpu().tolist())\n",
    "\n",
    "# Calculate the testing accuracy\n",
    "testing_accuracy /= len(test_dataloader.dataset)\n",
    "\n",
    "# Print the testing accuracy\n",
    "print(f\"Testing Accuracy: {testing_accuracy * 100:.2f}%\")\n"
   ]
  },
  {
   "cell_type": "code",
   "execution_count": 20,
   "id": "5039e6c2",
   "metadata": {
    "execution": {
     "iopub.execute_input": "2025-08-30T13:18:15.049090Z",
     "iopub.status.busy": "2025-08-30T13:18:15.048810Z",
     "iopub.status.idle": "2025-08-30T13:18:17.077612Z",
     "shell.execute_reply": "2025-08-30T13:18:17.076730Z"
    },
    "papermill": {
     "duration": 2.036545,
     "end_time": "2025-08-30T13:18:17.079021",
     "exception": false,
     "start_time": "2025-08-30T13:18:15.042476",
     "status": "completed"
    },
    "tags": []
   },
   "outputs": [
    {
     "data": {
      "image/png": "[encoded data removed]",
      "text/plain": [
       "<Figure size 640x480 with 2 Axes>"
      ]
     },
     "metadata": {},
     "output_type": "display_data"
    },
    {
     "name": "stdout",
     "output_type": "stream",
     "text": [
      "F1 Score :  0.9226934782353455\n"
     ]
    }
   ],
   "source": [
    "# Calculate the confusion matrix\n",
    "import seaborn as sns\n",
    "conf_mat = confusion_matrix(act_labels, pred_labels)\n",
    "# Plot confusion matrix heat map\n",
    "sns.heatmap(conf_mat, cmap=\"flare\",annot=True, fmt = \"g\", \n",
    "            cbar_kws={\"label\":\"color bar\"},\n",
    "            xticklabels=train_dataset.classes,\n",
    "            yticklabels=train_dataset.classes)\n",
    "plt.xlabel(\"Predicted\")\n",
    "plt.ylabel(\"Actual\")\n",
    "plt.title(\"Confusion Matrix\")\n",
    "plt.savefig(\"ConfusionMatrix_BiLSTM.png\")\n",
    "plt.show()\n",
    "from sklearn.metrics import f1_score\n",
    "f1_score = f1_score(pred_labels, act_labels, average='macro')\n",
    "print('F1 Score : ', f1_score)"
   ]
  },
  {
   "cell_type": "code",
   "execution_count": 21,
   "id": "8e5f8662",
   "metadata": {
    "execution": {
     "iopub.execute_input": "2025-08-30T13:18:17.093005Z",
     "iopub.status.busy": "2025-08-30T13:18:17.092635Z",
     "iopub.status.idle": "2025-08-30T13:18:17.110913Z",
     "shell.execute_reply": "2025-08-30T13:18:17.109941Z"
    },
    "papermill": {
     "duration": 0.026435,
     "end_time": "2025-08-30T13:18:17.112130",
     "exception": false,
     "start_time": "2025-08-30T13:18:17.085695",
     "status": "completed"
    },
    "tags": []
   },
   "outputs": [
    {
     "name": "stdout",
     "output_type": "stream",
     "text": [
      "The equal error rate is 0.077\n"
     ]
    }
   ],
   "source": [
    "import numpy as np\n",
    "import sklearn.metrics\n",
    "\n",
    "\"\"\"\n",
    "Python compute equal error rate (eer)\n",
    "ONLY tested on binary classification\n",
    "\n",
    ":param label: ground-truth label, should be a 1-d list or np.array, each element represents the ground-truth label of one sample\n",
    ":param pred: model prediction, should be a 1-d list or np.array, each element represents the model prediction of one sample\n",
    ":param positive_label: the class that is viewed as positive class when computing EER\n",
    ":return: equal error rate (EER)\n",
    "\"\"\"\n",
    "def compute_eer(label, pred):\n",
    "    # all fpr, tpr, fnr, fnr, threshold are lists (in the format of np.array)\n",
    "    fpr, tpr, threshold = sklearn.metrics.roc_curve(label, pred)\n",
    "    fnr = 1 - tpr\n",
    "\n",
    "    # the threshold of fnr == fpr\n",
    "    eer_threshold = threshold[np.nanargmin(np.absolute((fnr - fpr)))]\n",
    "\n",
    "    # theoretically eer from fpr and eer from fnr should be identical but they can be slightly differ in reality\n",
    "    eer_1 = fpr[np.nanargmin(np.absolute((fnr - fpr)))]\n",
    "    eer_2 = fnr[np.nanargmin(np.absolute((fnr - fpr)))]\n",
    "\n",
    "    # return the mean of eer from fpr and from fnr\n",
    "    eer = (eer_1 + eer_2) / 2\n",
    "    return eer\n",
    "\n",
    "eer = compute_eer(act_labels, pred_labels)\n",
    "print('The equal error rate is {:.3f}'.format(eer))"
   ]
  }
 ],
 "metadata": {
  "kaggle": {
   "accelerator": "gpu",
   "dataSources": [
    {
     "datasetId": 8169899,
     "sourceId": 12911904,
     "sourceType": "datasetVersion"
    },
    {
     "datasetId": 8157101,
     "sourceId": 12892670,
     "sourceType": "datasetVersion"
    }
   ],
   "dockerImageVersionId": 30839,
   "isGpuEnabled": true,
   "isInternetEnabled": false,
   "language": "python",
   "sourceType": "notebook"
  },
  "kernelspec": {
   "display_name": "Python 3",
   "language": "python",
   "name": "python3"
  },
  "language_info": {
   "codemirror_mode": {
    "name": "ipython",
    "version": 3
   },
   "file_extension": ".py",
   "mimetype": "text/x-python",
   "name": "python",
   "nbconvert_exporter": "python",
   "pygments_lexer": "ipython3",
   "version": "3.10.12"
  },
  "papermill": {
   "default_parameters": {},
   "duration": 20273.911719,
   "end_time": "2025-08-30T13:18:20.003875",
   "environment_variables": {},
   "exception": null,
   "input_path": "__notebook__.ipynb",
   "output_path": "__notebook__.ipynb",
   "parameters": {},
   "start_time": "2025-08-30T07:40:26.092156",
   "version": "2.5.0"
  }
 },
 "nbformat": 4,
 "nbformat_minor": 5
}
