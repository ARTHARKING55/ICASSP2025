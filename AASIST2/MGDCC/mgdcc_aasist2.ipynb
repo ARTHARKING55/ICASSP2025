{
 "cells": [
  {
   "cell_type": "code",
   "execution_count": 1,
   "id": "f0d2886b",
   "metadata": {
    "execution": {
     "iopub.execute_input": "2025-08-28T06:32:03.350156Z",
     "iopub.status.busy": "2025-08-28T06:32:03.349900Z",
     "iopub.status.idle": "2025-08-28T06:35:27.663976Z",
     "shell.execute_reply": "2025-08-28T06:35:27.662731Z"
    },
    "papermill": {
     "duration": 204.321582,
     "end_time": "2025-08-28T06:35:27.666106",
     "exception": false,
     "start_time": "2025-08-28T06:32:03.344524",
     "status": "completed"
    },
    "tags": []
   },
   "outputs": [
    {
     "name": "stdout",
     "output_type": "stream",
     "text": [
      "Requirement already satisfied: scipy in /usr/local/lib/python3.10/dist-packages (1.13.1)\r\n",
      "\u001b[33mWARNING: Retrying (Retry(total=4, connect=None, read=None, redirect=None, status=None)) after connection broken by 'NewConnectionError('<pip._vendor.urllib3.connection.HTTPSConnection object at 0x7ccf25d87e20>: Failed to establish a new connection: [Errno -3] Temporary failure in name resolution')': /simple/scipy/\u001b[0m\u001b[33m\r\n",
      "\u001b[0m\u001b[33mWARNING: Retrying (Retry(total=3, connect=None, read=None, redirect=None, status=None)) after connection broken by 'NewConnectionError('<pip._vendor.urllib3.connection.HTTPSConnection object at 0x7ccf25dbc190>: Failed to establish a new connection: [Errno -3] Temporary failure in name resolution')': /simple/scipy/\u001b[0m\u001b[33m\r\n",
      "\u001b[0m\u001b[33mWARNING: Retrying (Retry(total=2, connect=None, read=None, redirect=None, status=None)) after connection broken by 'NewConnectionError('<pip._vendor.urllib3.connection.HTTPSConnection object at 0x7ccf25dbc4f0>: Failed to establish a new connection: [Errno -3] Temporary failure in name resolution')': /simple/scipy/\u001b[0m\u001b[33m\r\n",
      "\u001b[0m\u001b[33mWARNING: Retrying (Retry(total=1, connect=None, read=None, redirect=None, status=None)) after connection broken by 'NewConnectionError('<pip._vendor.urllib3.connection.HTTPSConnection object at 0x7ccf25dbc6a0>: Failed to establish a new connection: [Errno -3] Temporary failure in name resolution')': /simple/scipy/\u001b[0m\u001b[33m\r\n",
      "\u001b[0m\u001b[33mWARNING: Retrying (Retry(total=0, connect=None, read=None, redirect=None, status=None)) after connection broken by 'NewConnectionError('<pip._vendor.urllib3.connection.HTTPSConnection object at 0x7ccf25dbc850>: Failed to establish a new connection: [Errno -3] Temporary failure in name resolution')': /simple/scipy/\u001b[0m\u001b[33m\r\n",
      "\u001b[0mRequirement already satisfied: numpy<2.3,>=1.22.4 in /usr/local/lib/python3.10/dist-packages (from scipy) (1.26.4)\r\n",
      "Requirement already satisfied: mkl_fft in /usr/local/lib/python3.10/dist-packages (from numpy<2.3,>=1.22.4->scipy) (1.3.8)\r\n",
      "Requirement already satisfied: mkl_random in /usr/local/lib/python3.10/dist-packages (from numpy<2.3,>=1.22.4->scipy) (1.2.4)\r\n",
      "Requirement already satisfied: mkl_umath in /usr/local/lib/python3.10/dist-packages (from numpy<2.3,>=1.22.4->scipy) (0.1.1)\r\n",
      "Requirement already satisfied: mkl in /usr/local/lib/python3.10/dist-packages (from numpy<2.3,>=1.22.4->scipy) (2025.0.1)\r\n",
      "Requirement already satisfied: tbb4py in /usr/local/lib/python3.10/dist-packages (from numpy<2.3,>=1.22.4->scipy) (2022.0.0)\r\n",
      "Requirement already satisfied: mkl-service in /usr/local/lib/python3.10/dist-packages (from numpy<2.3,>=1.22.4->scipy) (2.4.1)\r\n",
      "Requirement already satisfied: intel-openmp>=2024 in /usr/local/lib/python3.10/dist-packages (from mkl->numpy<2.3,>=1.22.4->scipy) (2024.2.0)\r\n",
      "Requirement already satisfied: tbb==2022.* in /usr/local/lib/python3.10/dist-packages (from mkl->numpy<2.3,>=1.22.4->scipy) (2022.0.0)\r\n",
      "Requirement already satisfied: tcmlib==1.* in /usr/local/lib/python3.10/dist-packages (from tbb==2022.*->mkl->numpy<2.3,>=1.22.4->scipy) (1.2.0)\r\n",
      "Requirement already satisfied: intel-cmplr-lib-rt in /usr/local/lib/python3.10/dist-packages (from mkl_umath->numpy<2.3,>=1.22.4->scipy) (2024.2.0)\r\n",
      "Requirement already satisfied: intel-cmplr-lib-ur==2024.2.0 in /usr/local/lib/python3.10/dist-packages (from intel-openmp>=2024->mkl->numpy<2.3,>=1.22.4->scipy) (2024.2.0)\r\n"
     ]
    }
   ],
   "source": [
    "!pip install --upgrade scipy"
   ]
  },
  {
   "cell_type": "code",
   "execution_count": 2,
   "id": "97041da5",
   "metadata": {
    "execution": {
     "iopub.execute_input": "2025-08-28T06:35:27.676004Z",
     "iopub.status.busy": "2025-08-28T06:35:27.675733Z",
     "iopub.status.idle": "2025-08-28T06:35:32.904594Z",
     "shell.execute_reply": "2025-08-28T06:35:32.903896Z"
    },
    "papermill": {
     "duration": 5.235223,
     "end_time": "2025-08-28T06:35:32.906154",
     "exception": false,
     "start_time": "2025-08-28T06:35:27.670931",
     "status": "completed"
    },
    "tags": []
   },
   "outputs": [],
   "source": [
    "import torch \n",
    "import torch.nn as nn\n",
    "import torch.nn.functional as F\n",
    "from torch.autograd import Variable\n",
    "from torch.utils.data import Dataset, DataLoader\n",
    "\n",
    "import os, pathlib, glob, random\n",
    "import numpy as np\n",
    "import matplotlib.pyplot as plt \n",
    "\n",
    "from sklearn.metrics import confusion_matrix\n",
    "import scipy\n",
    "from scipy import io"
   ]
  },
  {
   "cell_type": "code",
   "execution_count": 3,
   "id": "49472f8e",
   "metadata": {
    "execution": {
     "iopub.execute_input": "2025-08-28T06:35:32.915640Z",
     "iopub.status.busy": "2025-08-28T06:35:32.915292Z",
     "iopub.status.idle": "2025-08-28T06:35:32.967832Z",
     "shell.execute_reply": "2025-08-28T06:35:32.967045Z"
    },
    "papermill": {
     "duration": 0.058476,
     "end_time": "2025-08-28T06:35:32.969045",
     "exception": false,
     "start_time": "2025-08-28T06:35:32.910569",
     "status": "completed"
    },
    "tags": []
   },
   "outputs": [
    {
     "name": "stdout",
     "output_type": "stream",
     "text": [
      "cuda\n"
     ]
    }
   ],
   "source": [
    "device = torch.device('cuda' if torch.cuda.is_available() else 'cpu')\n",
    "print(device)"
   ]
  },
  {
   "cell_type": "code",
   "execution_count": 4,
   "id": "d212ec83",
   "metadata": {
    "execution": {
     "iopub.execute_input": "2025-08-28T06:35:32.978313Z",
     "iopub.status.busy": "2025-08-28T06:35:32.978084Z",
     "iopub.status.idle": "2025-08-28T06:35:32.980972Z",
     "shell.execute_reply": "2025-08-28T06:35:32.980370Z"
    },
    "papermill": {
     "duration": 0.008855,
     "end_time": "2025-08-28T06:35:32.982287",
     "exception": false,
     "start_time": "2025-08-28T06:35:32.973432",
     "status": "completed"
    },
    "tags": []
   },
   "outputs": [],
   "source": [
    "batch_size = 32\n",
    "output_nodes = 10\n",
    "learning_rate = 0.001"
   ]
  },
  {
   "cell_type": "code",
   "execution_count": 5,
   "id": "cafbb1a4",
   "metadata": {
    "execution": {
     "iopub.execute_input": "2025-08-28T06:35:32.991429Z",
     "iopub.status.busy": "2025-08-28T06:35:32.991207Z",
     "iopub.status.idle": "2025-08-28T06:35:32.994133Z",
     "shell.execute_reply": "2025-08-28T06:35:32.993560Z"
    },
    "papermill": {
     "duration": 0.008708,
     "end_time": "2025-08-28T06:35:32.995242",
     "exception": false,
     "start_time": "2025-08-28T06:35:32.986534",
     "status": "completed"
    },
    "tags": []
   },
   "outputs": [],
   "source": [
    "train_data_path = r\"/kaggle/input/mgdcc-feature/MGDCC/train\"\n",
    "val_data_path = r\"/kaggle/input/mgdcc-feature/MGDCC/dev\"\n",
    "test_data_path = r\"/kaggle/input/mgdcc-feature/MGDCC/test\""
   ]
  },
  {
   "cell_type": "code",
   "execution_count": 6,
   "id": "94d40c84",
   "metadata": {
    "execution": {
     "iopub.execute_input": "2025-08-28T06:35:33.004748Z",
     "iopub.status.busy": "2025-08-28T06:35:33.004550Z",
     "iopub.status.idle": "2025-08-28T06:35:33.011969Z",
     "shell.execute_reply": "2025-08-28T06:35:33.011334Z"
    },
    "papermill": {
     "duration": 0.013225,
     "end_time": "2025-08-28T06:35:33.013085",
     "exception": false,
     "start_time": "2025-08-28T06:35:32.999860",
     "status": "completed"
    },
    "tags": []
   },
   "outputs": [],
   "source": [
    "import os\n",
    "import random\n",
    "import numpy as np\n",
    "import scipy.io\n",
    "from torch.utils.data import Dataset\n",
    "import torch\n",
    "\n",
    "class PtDataset(Dataset):\n",
    "    def __init__(self, directory, max_len=10):\n",
    "        \"\"\"\n",
    "        Custom dataset for loading .mat files from a directory structure.\n",
    "        Args:\n",
    "            directory (str): The path to the root data directory.\n",
    "            max_len (int): The maximum sequence length for padding/truncating.\n",
    "        \"\"\"\n",
    "        self.directory = directory\n",
    "        self.classes = sorted(entry.name for entry in os.scandir(directory) if entry.is_dir())\n",
    "        self.class_to_idx = {c: i for i, c in enumerate(self.classes)}\n",
    "        self.files = []\n",
    "        self.max_len = max_len\n",
    "        for c in self.classes:\n",
    "            c_dir = os.path.join(directory, c)\n",
    "            c_files = [(os.path.join(c_dir, f), self.class_to_idx[c]) for f in os.listdir(c_dir) if f.endswith('.mat')]\n",
    "            self.files.extend(c_files)\n",
    "        random.shuffle(self.files)\n",
    "        \n",
    "    def __len__(self):\n",
    "        return len(self.files)\n",
    "    \n",
    "    def __getitem__(self, idx):\n",
    "        \"\"\"\n",
    "        Load a .mat file, process it to the required shape, and return it with the label.\n",
    "        \"\"\"\n",
    "        filepath, label = self.files[idx]\n",
    "        try:\n",
    "            mat_vals = scipy.io.loadmat(filepath)\n",
    "            data = mat_vals['final']  # Assuming 'final' is the key for data\n",
    "            data = data.T  # Transpose to (time, features)\n",
    "            feature_dim = data.shape[1]\n",
    "\n",
    "            # Ensure data is exactly (max_len, feature_dim)\n",
    "            if data.shape[0] < self.max_len:\n",
    "                pad_width = self.max_len - data.shape[0]\n",
    "                data = np.pad(data, pad_width=((0, pad_width), (0, 0)), mode='constant')\n",
    "            else:\n",
    "                data = data[:self.max_len, :]\n",
    "\n",
    "            # Flatten data to fit conv1d input (batch_size, in_channels, length)\n",
    "            data = data.reshape(1, -1)  # Reshape to (1, max_len * feature_dim)\n",
    "            data = torch.from_numpy(data).double()  # Convert to tensor\n",
    "        except Exception as e:\n",
    "            print(f\"Error loading file {filepath}: {str(e)}\")\n",
    "            return self.__getitem__((idx + 1) % len(self.files))  # Retry with a different sample\n",
    "\n",
    "        return data, label\n"
   ]
  },
  {
   "cell_type": "code",
   "execution_count": 7,
   "id": "7e5d3e3f",
   "metadata": {
    "execution": {
     "iopub.execute_input": "2025-08-28T06:35:33.021888Z",
     "iopub.status.busy": "2025-08-28T06:35:33.021674Z",
     "iopub.status.idle": "2025-08-28T06:35:35.348232Z",
     "shell.execute_reply": "2025-08-28T06:35:35.347504Z"
    },
    "papermill": {
     "duration": 2.332603,
     "end_time": "2025-08-28T06:35:35.349856",
     "exception": false,
     "start_time": "2025-08-28T06:35:33.017253",
     "status": "completed"
    },
    "tags": []
   },
   "outputs": [],
   "source": [
    "\n",
    "train_dataset = PtDataset(train_data_path)\n",
    "val_dataset = PtDataset(val_data_path)\n",
    "test_dataset = PtDataset(test_data_path)"
   ]
  },
  {
   "cell_type": "code",
   "execution_count": 8,
   "id": "53b67194",
   "metadata": {
    "execution": {
     "iopub.execute_input": "2025-08-28T06:35:35.359585Z",
     "iopub.status.busy": "2025-08-28T06:35:35.359348Z",
     "iopub.status.idle": "2025-08-28T06:35:35.362795Z",
     "shell.execute_reply": "2025-08-28T06:35:35.362195Z"
    },
    "papermill": {
     "duration": 0.009478,
     "end_time": "2025-08-28T06:35:35.364049",
     "exception": false,
     "start_time": "2025-08-28T06:35:35.354571",
     "status": "completed"
    },
    "tags": []
   },
   "outputs": [],
   "source": [
    "class PtDataLoader(DataLoader):\n",
    "    def __init__(self, directory, batch_size, shuffle=True):\n",
    "        dataset = PtDataset(directory)\n",
    "        super().__init__(dataset, batch_size=batch_size, shuffle=shuffle)"
   ]
  },
  {
   "cell_type": "code",
   "execution_count": 9,
   "id": "60d53e27",
   "metadata": {
    "execution": {
     "iopub.execute_input": "2025-08-28T06:35:35.373142Z",
     "iopub.status.busy": "2025-08-28T06:35:35.372932Z",
     "iopub.status.idle": "2025-08-28T06:35:36.186078Z",
     "shell.execute_reply": "2025-08-28T06:35:36.185146Z"
    },
    "papermill": {
     "duration": 0.819501,
     "end_time": "2025-08-28T06:35:36.187738",
     "exception": false,
     "start_time": "2025-08-28T06:35:35.368237",
     "status": "completed"
    },
    "tags": []
   },
   "outputs": [],
   "source": [
    "train_dataloader = PtDataLoader(directory=train_data_path, batch_size=batch_size)\n",
    "val_dataloader = PtDataLoader(directory=val_data_path, batch_size=batch_size)\n",
    "test_dataloader = PtDataLoader(directory=test_data_path, batch_size=batch_size)"
   ]
  },
  {
   "cell_type": "code",
   "execution_count": 10,
   "id": "b620750a",
   "metadata": {
    "execution": {
     "iopub.execute_input": "2025-08-28T06:35:36.197147Z",
     "iopub.status.busy": "2025-08-28T06:35:36.196919Z",
     "iopub.status.idle": "2025-08-28T06:35:36.199937Z",
     "shell.execute_reply": "2025-08-28T06:35:36.199325Z"
    },
    "papermill": {
     "duration": 0.008992,
     "end_time": "2025-08-28T06:35:36.201235",
     "exception": false,
     "start_time": "2025-08-28T06:35:36.192243",
     "status": "completed"
    },
    "tags": []
   },
   "outputs": [],
   "source": [
    "train_count = len(train_dataset) \n",
    "val_count = len(val_dataset)\n",
    "test_count = len(test_dataset)"
   ]
  },
  {
   "cell_type": "code",
   "execution_count": 11,
   "id": "b923f9cb",
   "metadata": {
    "execution": {
     "iopub.execute_input": "2025-08-28T06:35:36.210145Z",
     "iopub.status.busy": "2025-08-28T06:35:36.209926Z",
     "iopub.status.idle": "2025-08-28T06:35:36.213566Z",
     "shell.execute_reply": "2025-08-28T06:35:36.212627Z"
    },
    "papermill": {
     "duration": 0.009524,
     "end_time": "2025-08-28T06:35:36.214920",
     "exception": false,
     "start_time": "2025-08-28T06:35:36.205396",
     "status": "completed"
    },
    "tags": []
   },
   "outputs": [
    {
     "name": "stdout",
     "output_type": "stream",
     "text": [
      "111633\n",
      "37152\n",
      "37971\n"
     ]
    }
   ],
   "source": [
    "print(train_count)\n",
    "print(val_count)\n",
    "print(test_count)"
   ]
  },
  {
   "cell_type": "code",
   "execution_count": 12,
   "id": "0d4d319c",
   "metadata": {
    "execution": {
     "iopub.execute_input": "2025-08-28T06:35:36.224311Z",
     "iopub.status.busy": "2025-08-28T06:35:36.224094Z",
     "iopub.status.idle": "2025-08-28T06:35:36.291759Z",
     "shell.execute_reply": "2025-08-28T06:35:36.291000Z"
    },
    "papermill": {
     "duration": 0.073476,
     "end_time": "2025-08-28T06:35:36.292976",
     "exception": false,
     "start_time": "2025-08-28T06:35:36.219500",
     "status": "completed"
    },
    "tags": []
   },
   "outputs": [],
   "source": [
    "drop_amount = 0.255\n",
    "\n",
    "import torch\n",
    "import torch.nn as nn\n",
    "import torch.nn.functional as F\n",
    "from collections import OrderedDict\n",
    "from torch.nn.parameter import Parameter\n",
    "from torch.utils import data\n",
    "\n",
    "class Res2NetBlock(nn.Module):\n",
    "    def __init__(self, in_channels, out_channels, scale=4, kernel_size=3, stride=1, padding=1):\n",
    "        super(Res2NetBlock, self).__init__()\n",
    "        assert out_channels % scale == 0, \"Output channels must be divisible by scale\"\n",
    "        self.scale = scale\n",
    "        self.split_channels = out_channels // scale\n",
    "\n",
    "        self.conv1 = nn.Conv1d(in_channels, out_channels, kernel_size=1, stride=1, bias=False)\n",
    "        self.bn1 = nn.BatchNorm1d(out_channels)\n",
    "\n",
    "        self.convs = nn.ModuleList([\n",
    "            nn.Conv1d(self.split_channels, self.split_channels, kernel_size, stride=stride, padding=padding, bias=False)\n",
    "            for _ in range(scale - 1)\n",
    "        ])\n",
    "\n",
    "        self.bn2 = nn.BatchNorm1d(out_channels)\n",
    "        self.conv3 = nn.Conv1d(out_channels, out_channels, kernel_size=1, stride=1, bias=False)\n",
    "\n",
    "        self.relu = nn.ReLU(inplace=True)\n",
    "\n",
    "    def forward(self, x):\n",
    "        out = self.conv1(x)\n",
    "        out = self.bn1(out)\n",
    "        out = self.relu(out)\n",
    "\n",
    "        splits = torch.chunk(out, self.scale, dim=1)\n",
    "        out = splits[0]\n",
    "        result = [out]  # Collect outputs here to avoid in-place addition\n",
    "        for i, conv in enumerate(self.convs):\n",
    "            result.append(conv(splits[i + 1]))\n",
    "        out = torch.cat(result, dim=1)  # Concatenate all parts\n",
    "\n",
    "        out = self.conv3(out)\n",
    "        out = self.bn2(out)\n",
    "        return self.relu(out)\n",
    "\n",
    "\n",
    "class AMSoftmaxLoss(nn.Module):\n",
    "    def __init__(self, in_features, out_features, s=30.0, m=0.4):\n",
    "        super(AMSoftmaxLoss, self).__init__()\n",
    "        self.s = s\n",
    "        self.m = m\n",
    "        self.weight = Parameter(torch.DoubleTensor(out_features, in_features))\n",
    "        nn.init.xavier_uniform_(self.weight)\n",
    "\n",
    "    def forward(self, x, labels):\n",
    "        cosine = F.linear(F.normalize(x), F.normalize(self.weight))\n",
    "        phi = cosine - self.m\n",
    "        one_hot = torch.zeros_like(cosine)\n",
    "        one_hot.scatter_(1, labels.view(-1, 1).long(), 1)\n",
    "        logits = one_hot * phi + (1.0 - one_hot) * cosine\n",
    "        logits *= self.s\n",
    "        return logits\n",
    "\n",
    "\n",
    "class AASIST2(nn.Module):\n",
    "    def __init__(self, d_args):\n",
    "        super(AASIST2, self).__init__()\n",
    "        self.res2net_block1 = Res2NetBlock(d_args['in_channels'], d_args['filts'][0], scale=4)\n",
    "        self.res2net_block2 = Res2NetBlock(d_args['filts'][0], d_args['filts'][1], scale=4)\n",
    "        self.res2net_block3 = Res2NetBlock(d_args['filts'][1], d_args['filts'][2], scale=4)\n",
    "\n",
    "        self.gru = nn.GRU(input_size=d_args['filts'][2],\n",
    "                          hidden_size=d_args['gru_node'],\n",
    "                          num_layers=d_args['nb_gru_layer'],\n",
    "                          batch_first=True)\n",
    "\n",
    "        self.fc1 = nn.Linear(d_args['gru_node'], d_args['nb_fc_node'])  # Input size must match GRU hidden size\n",
    "        self.fc2 = nn.Linear(d_args['nb_fc_node'], d_args['nb_classes'])  # Matches number of classes\n",
    "\n",
    "        self.am_softmax = AMSoftmaxLoss(d_args['nb_fc_node'], d_args['nb_classes'])  # Use fc1 output size\n",
    "\n",
    "    def forward(self, x, labels=None, is_test=False):\n",
    "        x = self.res2net_block1(x)\n",
    "        x = self.res2net_block2(x)\n",
    "        x = self.res2net_block3(x)\n",
    "\n",
    "        x = x.permute(0, 2, 1)  # Permute for GRU input [batch, sequence, feature]\n",
    "        self.gru.flatten_parameters()\n",
    "        x, _ = self.gru(x)\n",
    "        x = x[:, -1, :]  # Take last time step output\n",
    "\n",
    "        x = self.fc1(x)\n",
    "        logits = self.fc2(x)\n",
    "\n",
    "        if labels is not None:  # Compute AMSoftmax only if labels are provided\n",
    "            return self.am_softmax(x, labels)\n",
    "        else:  # Return logits for testing/inference\n",
    "            return F.softmax(logits, dim=1)\n",
    "\n",
    "d_args = {\n",
    "    'in_channels': 1,\n",
    "    'filts': [64, 128, 256],\n",
    "    'gru_node': 128,\n",
    "    'nb_gru_layer': 2,\n",
    "    'nb_fc_node': 64,\n",
    "    'nb_classes': 2\n",
    "}\n",
    "model = AASIST2(d_args)\n"
   ]
  },
  {
   "cell_type": "code",
   "execution_count": 13,
   "id": "fe291213",
   "metadata": {
    "execution": {
     "iopub.execute_input": "2025-08-28T06:35:36.301974Z",
     "iopub.status.busy": "2025-08-28T06:35:36.301728Z",
     "iopub.status.idle": "2025-08-28T06:35:36.304856Z",
     "shell.execute_reply": "2025-08-28T06:35:36.304198Z"
    },
    "papermill": {
     "duration": 0.008962,
     "end_time": "2025-08-28T06:35:36.306128",
     "exception": false,
     "start_time": "2025-08-28T06:35:36.297166",
     "status": "completed"
    },
    "tags": []
   },
   "outputs": [],
   "source": [
    "import torch\n",
    "from torch import nn\n",
    "from torch.nn import Parameter\n",
    "import torch.nn.functional as F"
   ]
  },
  {
   "cell_type": "code",
   "execution_count": 14,
   "id": "229a66f7",
   "metadata": {
    "execution": {
     "iopub.execute_input": "2025-08-28T06:35:36.315349Z",
     "iopub.status.busy": "2025-08-28T06:35:36.315146Z",
     "iopub.status.idle": "2025-08-28T06:35:36.612770Z",
     "shell.execute_reply": "2025-08-28T06:35:36.611870Z"
    },
    "papermill": {
     "duration": 0.304116,
     "end_time": "2025-08-28T06:35:36.614379",
     "exception": false,
     "start_time": "2025-08-28T06:35:36.310263",
     "status": "completed"
    },
    "tags": []
   },
   "outputs": [
    {
     "data": {
      "text/plain": [
       "AASIST2(\n",
       "  (res2net_block1): Res2NetBlock(\n",
       "    (conv1): Conv1d(1, 64, kernel_size=(1,), stride=(1,), bias=False)\n",
       "    (bn1): BatchNorm1d(64, eps=1e-05, momentum=0.1, affine=True, track_running_stats=True)\n",
       "    (convs): ModuleList(\n",
       "      (0-2): 3 x Conv1d(16, 16, kernel_size=(3,), stride=(1,), padding=(1,), bias=False)\n",
       "    )\n",
       "    (bn2): BatchNorm1d(64, eps=1e-05, momentum=0.1, affine=True, track_running_stats=True)\n",
       "    (conv3): Conv1d(64, 64, kernel_size=(1,), stride=(1,), bias=False)\n",
       "    (relu): ReLU(inplace=True)\n",
       "  )\n",
       "  (res2net_block2): Res2NetBlock(\n",
       "    (conv1): Conv1d(64, 128, kernel_size=(1,), stride=(1,), bias=False)\n",
       "    (bn1): BatchNorm1d(128, eps=1e-05, momentum=0.1, affine=True, track_running_stats=True)\n",
       "    (convs): ModuleList(\n",
       "      (0-2): 3 x Conv1d(32, 32, kernel_size=(3,), stride=(1,), padding=(1,), bias=False)\n",
       "    )\n",
       "    (bn2): BatchNorm1d(128, eps=1e-05, momentum=0.1, affine=True, track_running_stats=True)\n",
       "    (conv3): Conv1d(128, 128, kernel_size=(1,), stride=(1,), bias=False)\n",
       "    (relu): ReLU(inplace=True)\n",
       "  )\n",
       "  (res2net_block3): Res2NetBlock(\n",
       "    (conv1): Conv1d(128, 256, kernel_size=(1,), stride=(1,), bias=False)\n",
       "    (bn1): BatchNorm1d(256, eps=1e-05, momentum=0.1, affine=True, track_running_stats=True)\n",
       "    (convs): ModuleList(\n",
       "      (0-2): 3 x Conv1d(64, 64, kernel_size=(3,), stride=(1,), padding=(1,), bias=False)\n",
       "    )\n",
       "    (bn2): BatchNorm1d(256, eps=1e-05, momentum=0.1, affine=True, track_running_stats=True)\n",
       "    (conv3): Conv1d(256, 256, kernel_size=(1,), stride=(1,), bias=False)\n",
       "    (relu): ReLU(inplace=True)\n",
       "  )\n",
       "  (gru): GRU(256, 128, num_layers=2, batch_first=True)\n",
       "  (fc1): Linear(in_features=128, out_features=64, bias=True)\n",
       "  (fc2): Linear(in_features=64, out_features=2, bias=True)\n",
       "  (am_softmax): AMSoftmaxLoss()\n",
       ")"
      ]
     },
     "execution_count": 14,
     "metadata": {},
     "output_type": "execute_result"
    }
   ],
   "source": [
    "# Define the parameters\n",
    "# input_size = 20\n",
    "# hidden_size = 256\n",
    "# num_layers = 2\n",
    "# num_classes = 8\n",
    "\n",
    "# model = BiLSTMClassifier(input_size, hidden_size, num_layers, num_classes)\n",
    "model.to(device, dtype=torch.double)"
   ]
  },
  {
   "cell_type": "code",
   "execution_count": 15,
   "id": "1c49f417",
   "metadata": {
    "execution": {
     "iopub.execute_input": "2025-08-28T06:35:36.624333Z",
     "iopub.status.busy": "2025-08-28T06:35:36.624091Z",
     "iopub.status.idle": "2025-08-28T06:35:36.627380Z",
     "shell.execute_reply": "2025-08-28T06:35:36.626705Z"
    },
    "papermill": {
     "duration": 0.00948,
     "end_time": "2025-08-28T06:35:36.628596",
     "exception": false,
     "start_time": "2025-08-28T06:35:36.619116",
     "status": "completed"
    },
    "tags": []
   },
   "outputs": [],
   "source": [
    "import torch\n",
    "import torch.nn as nn\n",
    "import torch.optim as optim"
   ]
  },
  {
   "cell_type": "code",
   "execution_count": 16,
   "id": "33ae163e",
   "metadata": {
    "execution": {
     "iopub.execute_input": "2025-08-28T06:35:36.638125Z",
     "iopub.status.busy": "2025-08-28T06:35:36.637871Z",
     "iopub.status.idle": "2025-08-28T06:35:40.311881Z",
     "shell.execute_reply": "2025-08-28T06:35:40.310985Z"
    },
    "papermill": {
     "duration": 3.680551,
     "end_time": "2025-08-28T06:35:40.313550",
     "exception": false,
     "start_time": "2025-08-28T06:35:36.632999",
     "status": "completed"
    },
    "tags": []
   },
   "outputs": [],
   "source": [
    "loss_function = nn.CrossEntropyLoss()\n",
    "optimizer = optim.Adam(model.parameters(), lr=learning_rate)"
   ]
  },
  {
   "cell_type": "code",
   "execution_count": 17,
   "id": "eb22b6a3",
   "metadata": {
    "execution": {
     "iopub.execute_input": "2025-08-28T06:35:40.323786Z",
     "iopub.status.busy": "2025-08-28T06:35:40.323463Z",
     "iopub.status.idle": "2025-08-28T06:35:40.327754Z",
     "shell.execute_reply": "2025-08-28T06:35:40.326879Z"
    },
    "papermill": {
     "duration": 0.010781,
     "end_time": "2025-08-28T06:35:40.329095",
     "exception": false,
     "start_time": "2025-08-28T06:35:40.318314",
     "status": "completed"
    },
    "tags": []
   },
   "outputs": [
    {
     "name": "stdout",
     "output_type": "stream",
     "text": [
      "AASIST2(\n",
      "  (res2net_block1): Res2NetBlock(\n",
      "    (conv1): Conv1d(1, 64, kernel_size=(1,), stride=(1,), bias=False)\n",
      "    (bn1): BatchNorm1d(64, eps=1e-05, momentum=0.1, affine=True, track_running_stats=True)\n",
      "    (convs): ModuleList(\n",
      "      (0-2): 3 x Conv1d(16, 16, kernel_size=(3,), stride=(1,), padding=(1,), bias=False)\n",
      "    )\n",
      "    (bn2): BatchNorm1d(64, eps=1e-05, momentum=0.1, affine=True, track_running_stats=True)\n",
      "    (conv3): Conv1d(64, 64, kernel_size=(1,), stride=(1,), bias=False)\n",
      "    (relu): ReLU(inplace=True)\n",
      "  )\n",
      "  (res2net_block2): Res2NetBlock(\n",
      "    (conv1): Conv1d(64, 128, kernel_size=(1,), stride=(1,), bias=False)\n",
      "    (bn1): BatchNorm1d(128, eps=1e-05, momentum=0.1, affine=True, track_running_stats=True)\n",
      "    (convs): ModuleList(\n",
      "      (0-2): 3 x Conv1d(32, 32, kernel_size=(3,), stride=(1,), padding=(1,), bias=False)\n",
      "    )\n",
      "    (bn2): BatchNorm1d(128, eps=1e-05, momentum=0.1, affine=True, track_running_stats=True)\n",
      "    (conv3): Conv1d(128, 128, kernel_size=(1,), stride=(1,), bias=False)\n",
      "    (relu): ReLU(inplace=True)\n",
      "  )\n",
      "  (res2net_block3): Res2NetBlock(\n",
      "    (conv1): Conv1d(128, 256, kernel_size=(1,), stride=(1,), bias=False)\n",
      "    (bn1): BatchNorm1d(256, eps=1e-05, momentum=0.1, affine=True, track_running_stats=True)\n",
      "    (convs): ModuleList(\n",
      "      (0-2): 3 x Conv1d(64, 64, kernel_size=(3,), stride=(1,), padding=(1,), bias=False)\n",
      "    )\n",
      "    (bn2): BatchNorm1d(256, eps=1e-05, momentum=0.1, affine=True, track_running_stats=True)\n",
      "    (conv3): Conv1d(256, 256, kernel_size=(1,), stride=(1,), bias=False)\n",
      "    (relu): ReLU(inplace=True)\n",
      "  )\n",
      "  (gru): GRU(256, 128, num_layers=2, batch_first=True)\n",
      "  (fc1): Linear(in_features=128, out_features=64, bias=True)\n",
      "  (fc2): Linear(in_features=64, out_features=2, bias=True)\n",
      "  (am_softmax): AMSoftmaxLoss()\n",
      ")\n"
     ]
    }
   ],
   "source": [
    "print(model)"
   ]
  },
  {
   "cell_type": "code",
   "execution_count": 18,
   "id": "f3c7d58b",
   "metadata": {
    "execution": {
     "iopub.execute_input": "2025-08-28T06:35:40.338643Z",
     "iopub.status.busy": "2025-08-28T06:35:40.338409Z",
     "iopub.status.idle": "2025-08-28T11:46:13.031262Z",
     "shell.execute_reply": "2025-08-28T11:46:13.030350Z"
    },
    "papermill": {
     "duration": 18632.705643,
     "end_time": "2025-08-28T11:46:13.039169",
     "exception": false,
     "start_time": "2025-08-28T06:35:40.333526",
     "status": "completed"
    },
    "tags": []
   },
   "outputs": [
    {
     "name": "stdout",
     "output_type": "stream",
     "text": [
      "Epoch: 1/40, Train Loss: 0.6931, Train Accuracy: 0.5113, Val Accuracy: 0.5140\n",
      "Epoch: 2/40, Train Loss: 0.6929, Train Accuracy: 0.5119, Val Accuracy: 0.5140\n",
      "Epoch: 3/40, Train Loss: 0.6929, Train Accuracy: 0.5121, Val Accuracy: 0.5140\n",
      "Epoch: 4/40, Train Loss: 0.6929, Train Accuracy: 0.5120, Val Accuracy: 0.5140\n",
      "Epoch: 5/40, Train Loss: 0.6929, Train Accuracy: 0.5113, Val Accuracy: 0.5140\n",
      "Epoch: 6/40, Train Loss: 0.6929, Train Accuracy: 0.5121, Val Accuracy: 0.5140\n",
      "Epoch: 7/40, Train Loss: 0.6929, Train Accuracy: 0.5118, Val Accuracy: 0.5140\n",
      "Epoch: 8/40, Train Loss: 0.6929, Train Accuracy: 0.5121, Val Accuracy: 0.5140\n",
      "Epoch: 9/40, Train Loss: 0.6929, Train Accuracy: 0.5119, Val Accuracy: 0.5140\n",
      "Epoch: 10/40, Train Loss: 0.6929, Train Accuracy: 0.5121, Val Accuracy: 0.5140\n",
      "Epoch: 11/40, Train Loss: 0.6929, Train Accuracy: 0.5120, Val Accuracy: 0.5140\n",
      "Epoch: 12/40, Train Loss: 0.6929, Train Accuracy: 0.5120, Val Accuracy: 0.5140\n",
      "Epoch: 13/40, Train Loss: 0.6929, Train Accuracy: 0.5115, Val Accuracy: 0.5140\n",
      "Epoch: 14/40, Train Loss: 0.6929, Train Accuracy: 0.5121, Val Accuracy: 0.5140\n",
      "Epoch: 15/40, Train Loss: 0.6929, Train Accuracy: 0.5120, Val Accuracy: 0.5140\n",
      "Epoch: 16/40, Train Loss: 0.6929, Train Accuracy: 0.5116, Val Accuracy: 0.5140\n",
      "Epoch: 17/40, Train Loss: 0.6929, Train Accuracy: 0.5121, Val Accuracy: 0.5140\n",
      "Epoch: 18/40, Train Loss: 0.6929, Train Accuracy: 0.5117, Val Accuracy: 0.5140\n",
      "Epoch: 19/40, Train Loss: 0.6929, Train Accuracy: 0.5120, Val Accuracy: 0.5140\n",
      "Epoch: 20/40, Train Loss: 0.6929, Train Accuracy: 0.5120, Val Accuracy: 0.5140\n",
      "Epoch: 21/40, Train Loss: 0.6929, Train Accuracy: 0.5120, Val Accuracy: 0.5140\n",
      "Epoch: 22/40, Train Loss: 0.6216, Train Accuracy: 0.6402, Val Accuracy: 0.7402\n",
      "Epoch: 23/40, Train Loss: 0.4975, Train Accuracy: 0.8047, Val Accuracy: 0.8297\n",
      "Epoch: 24/40, Train Loss: 0.4612, Train Accuracy: 0.8446, Val Accuracy: 0.8451\n",
      "Epoch: 25/40, Train Loss: 0.4283, Train Accuracy: 0.8792, Val Accuracy: 0.8552\n",
      "Epoch: 26/40, Train Loss: 0.4130, Train Accuracy: 0.8958, Val Accuracy: 0.8675\n",
      "Epoch: 27/40, Train Loss: 0.4014, Train Accuracy: 0.9077, Val Accuracy: 0.8781\n",
      "Epoch: 28/40, Train Loss: 0.3931, Train Accuracy: 0.9169, Val Accuracy: 0.8846\n",
      "Epoch: 29/40, Train Loss: 0.3910, Train Accuracy: 0.9191, Val Accuracy: 0.8878\n",
      "Epoch: 30/40, Train Loss: 0.3858, Train Accuracy: 0.9247, Val Accuracy: 0.8850\n",
      "Epoch: 31/40, Train Loss: 0.3864, Train Accuracy: 0.9242, Val Accuracy: 0.8811\n",
      "Epoch: 32/40, Train Loss: 0.3904, Train Accuracy: 0.9195, Val Accuracy: 0.8925\n",
      "Epoch: 33/40, Train Loss: 0.3813, Train Accuracy: 0.9291, Val Accuracy: 0.8796\n",
      "Epoch: 34/40, Train Loss: 0.3841, Train Accuracy: 0.9263, Val Accuracy: 0.8836\n",
      "Epoch: 35/40, Train Loss: 0.3812, Train Accuracy: 0.9293, Val Accuracy: 0.8902\n",
      "Epoch: 36/40, Train Loss: 0.3821, Train Accuracy: 0.9284, Val Accuracy: 0.8915\n",
      "Epoch: 37/40, Train Loss: 0.3874, Train Accuracy: 0.9230, Val Accuracy: 0.8881\n",
      "Epoch: 38/40, Train Loss: 0.3976, Train Accuracy: 0.9117, Val Accuracy: 0.8695\n",
      "Epoch: 39/40, Train Loss: 0.4851, Train Accuracy: 0.8174, Val Accuracy: 0.8003\n",
      "Epoch: 40/40, Train Loss: 0.4557, Train Accuracy: 0.8496, Val Accuracy: 0.8469\n",
      "Max Accuracy: 0.8924687769164513\n"
     ]
    }
   ],
   "source": [
    "#Model training and testing \n",
    "n_total_steps = len(train_dataloader) # n_total_steps * batch size will give total number of training files (consider that last batch may not be fully filled)\n",
    "train_accuracy_list = []\n",
    "train_loss_list = []\n",
    "val_accuracy_list = []\n",
    "max_acc=0\n",
    "num_epochs = 40\n",
    "pred_labels =[]\n",
    "act_labels = []\n",
    "device = torch.device('cuda' if torch.cuda.is_available() else 'cpu')\n",
    "model.to(device)\n",
    "\n",
    "for epoch in range(num_epochs):\n",
    "    model.train()\n",
    "    train_accuracy = 0.0\n",
    "    train_loss = 0.0\n",
    "    \n",
    "    for batch_idx, (images, labels) in enumerate(train_dataloader):\n",
    "        images, labels = images.to(device), labels.to(device)\n",
    "        optimizer.zero_grad()\n",
    "        outputs = model(images)\n",
    "        loss = loss_function(outputs, labels)\n",
    "        loss.backward()\n",
    "        optimizer.step()\n",
    "        \n",
    "        train_loss += loss.item() * images.size(0)\n",
    "        _, prediction = torch.max(outputs.data, 1)\n",
    "        train_accuracy += int((prediction == labels).sum().item())\n",
    "    \n",
    "    train_accuracy /= train_count\n",
    "    train_loss /= train_count\n",
    "    train_accuracy_list.append(train_accuracy)\n",
    "    train_loss_list.append(train_loss)\n",
    "    \n",
    "    # Validation\n",
    "    model.eval()\n",
    "    val_accuracy = 0.0\n",
    "    pred = []\n",
    "    lab = []\n",
    "    \n",
    "    with torch.no_grad():\n",
    "        for images, labels in val_dataloader:\n",
    "            images, labels = images.to(device), labels.to(device)\n",
    "            outputs = model(images)\n",
    "            _, prediction = torch.max(outputs.data, 1)\n",
    "            val_accuracy += int((prediction == labels).sum().item())\n",
    "            pred.extend(prediction.cpu().tolist())\n",
    "            lab.extend(labels.cpu().tolist())\n",
    "    \n",
    "    val_accuracy /= val_count\n",
    "    val_accuracy_list.append(val_accuracy)\n",
    "    \n",
    "    if max_acc < val_accuracy:\n",
    "        max_acc = val_accuracy\n",
    "        pred_labels = pred\n",
    "        actual_labels = lab\n",
    "        torch.save(model, \"best_accuracy_model_BiLSTM.pth\")\n",
    "    \n",
    "    print(f\"Epoch: {epoch + 1}/{num_epochs}, Train Loss: {train_loss:.4f}, Train Accuracy: {train_accuracy:.4f}, Val Accuracy: {val_accuracy:.4f}\")\n",
    "\n",
    "print(\"Max Accuracy:\", max_acc)\n"
   ]
  },
  {
   "cell_type": "code",
   "execution_count": 19,
   "id": "0e371a9c",
   "metadata": {
    "execution": {
     "iopub.execute_input": "2025-08-28T11:46:13.052382Z",
     "iopub.status.busy": "2025-08-28T11:46:13.052157Z",
     "iopub.status.idle": "2025-08-28T11:52:13.389365Z",
     "shell.execute_reply": "2025-08-28T11:52:13.388514Z"
    },
    "papermill": {
     "duration": 360.352087,
     "end_time": "2025-08-28T11:52:13.397569",
     "exception": false,
     "start_time": "2025-08-28T11:46:13.045482",
     "status": "completed"
    },
    "tags": []
   },
   "outputs": [
    {
     "name": "stderr",
     "output_type": "stream",
     "text": [
      "<ipython-input-19-4beedf5fee82>:5: FutureWarning: You are using `torch.load` with `weights_only=False` (the current default value), which uses the default pickle module implicitly. It is possible to construct malicious pickle data which will execute arbitrary code during unpickling (See https://github.com/pytorch/pytorch/blob/main/SECURITY.md#untrusted-models for more details). In a future release, the default value for `weights_only` will be flipped to `True`. This limits the functions that could be executed during unpickling. Arbitrary objects will no longer be allowed to be loaded via this mode unless they are explicitly allowlisted by the user via `torch.serialization.add_safe_globals`. We recommend you start setting `weights_only=True` for any use case where you don't have full control of the loaded file. Please open an issue on GitHub for any issues related to this experimental feature.\n",
      "  best_model = torch.load(\"best_accuracy_model_BiLSTM.pth\")\n"
     ]
    },
    {
     "name": "stdout",
     "output_type": "stream",
     "text": [
      "Testing Accuracy: 90.22%\n"
     ]
    }
   ],
   "source": [
    "import torch\n",
    "from torch.autograd import Variable\n",
    "\n",
    "# Load the best model\n",
    "best_model = torch.load(\"best_accuracy_model_BiLSTM.pth\")\n",
    "\n",
    "# Put the best_model in evaluation mode\n",
    "best_model.eval()\n",
    "\n",
    "# Initialize variables to store results\n",
    "testing_accuracy = 0.0\n",
    "pred_labels = []\n",
    "act_labels = []\n",
    "\n",
    "# Iterate over the test dataloader\n",
    "for i, (images, labels) in enumerate(test_dataloader):\n",
    "    if torch.cuda.is_available():\n",
    "        images = Variable(images.cuda())\n",
    "        labels = Variable(labels.cuda())\n",
    "    else:\n",
    "        images = Variable(images)\n",
    "        labels = Variable(labels)\n",
    "\n",
    "    # Pass the images through the model for inference\n",
    "    outputs = best_model(images, labels=None, is_test=True)\n",
    "    \n",
    "    # Get predictions by taking the index with the highest score\n",
    "    _, prediction = torch.max(outputs.data, 1)\n",
    "    \n",
    "    # Calculate the number of correct predictions\n",
    "    testing_accuracy += (prediction == labels).sum().item()\n",
    "    \n",
    "    # Store predicted and actual labels\n",
    "    pred_labels.extend(prediction.cpu().tolist())\n",
    "    act_labels.extend(labels.cpu().tolist())\n",
    "\n",
    "# Calculate the testing accuracy\n",
    "testing_accuracy /= len(test_dataloader.dataset)\n",
    "\n",
    "# Print the testing accuracy\n",
    "print(f\"Testing Accuracy: {testing_accuracy * 100:.2f}%\")\n"
   ]
  },
  {
   "cell_type": "code",
   "execution_count": 20,
   "id": "27ab41c6",
   "metadata": {
    "execution": {
     "iopub.execute_input": "2025-08-28T11:52:13.410977Z",
     "iopub.status.busy": "2025-08-28T11:52:13.410715Z",
     "iopub.status.idle": "2025-08-28T11:52:15.467039Z",
     "shell.execute_reply": "2025-08-28T11:52:15.466293Z"
    },
    "papermill": {
     "duration": 2.064394,
     "end_time": "2025-08-28T11:52:15.468378",
     "exception": false,
     "start_time": "2025-08-28T11:52:13.403984",
     "status": "completed"
    },
    "tags": []
   },
   "outputs": [
    {
     "data": {
      "image/png": "[encoded data removed]",
      "text/plain": [
       "<Figure size 640x480 with 2 Axes>"
      ]
     },
     "metadata": {},
     "output_type": "display_data"
    },
    {
     "name": "stdout",
     "output_type": "stream",
     "text": [
      "F1 Score :  0.9021745501829812\n"
     ]
    }
   ],
   "source": [
    "# Calculate the confusion matrix\n",
    "import seaborn as sns\n",
    "conf_mat = confusion_matrix(act_labels, pred_labels)\n",
    "# Plot confusion matrix heat map\n",
    "sns.heatmap(conf_mat, cmap=\"flare\",annot=True, fmt = \"g\", \n",
    "            cbar_kws={\"label\":\"color bar\"},\n",
    "            xticklabels=train_dataset.classes,\n",
    "            yticklabels=train_dataset.classes)\n",
    "plt.xlabel(\"Predicted\")\n",
    "plt.ylabel(\"Actual\")\n",
    "plt.title(\"Confusion Matrix\")\n",
    "plt.savefig(\"ConfusionMatrix_BiLSTM.png\")\n",
    "plt.show()\n",
    "from sklearn.metrics import f1_score\n",
    "f1_score = f1_score(pred_labels, act_labels, average='macro')\n",
    "print('F1 Score : ', f1_score)"
   ]
  },
  {
   "cell_type": "code",
   "execution_count": 21,
   "id": "eca82cc8",
   "metadata": {
    "execution": {
     "iopub.execute_input": "2025-08-28T11:52:15.483679Z",
     "iopub.status.busy": "2025-08-28T11:52:15.483299Z",
     "iopub.status.idle": "2025-08-28T11:52:15.502378Z",
     "shell.execute_reply": "2025-08-28T11:52:15.501263Z"
    },
    "papermill": {
     "duration": 0.028213,
     "end_time": "2025-08-28T11:52:15.504144",
     "exception": false,
     "start_time": "2025-08-28T11:52:15.475931",
     "status": "completed"
    },
    "tags": []
   },
   "outputs": [
    {
     "name": "stdout",
     "output_type": "stream",
     "text": [
      "The equal error rate is 0.098\n"
     ]
    }
   ],
   "source": [
    "import numpy as np\n",
    "import sklearn.metrics\n",
    "\n",
    "\"\"\"\n",
    "Python compute equal error rate (eer)\n",
    "ONLY tested on binary classification\n",
    "\n",
    ":param label: ground-truth label, should be a 1-d list or np.array, each element represents the ground-truth label of one sample\n",
    ":param pred: model prediction, should be a 1-d list or np.array, each element represents the model prediction of one sample\n",
    ":param positive_label: the class that is viewed as positive class when computing EER\n",
    ":return: equal error rate (EER)\n",
    "\"\"\"\n",
    "def compute_eer(label, pred):\n",
    "    # all fpr, tpr, fnr, fnr, threshold are lists (in the format of np.array)\n",
    "    fpr, tpr, threshold = sklearn.metrics.roc_curve(label, pred)\n",
    "    fnr = 1 - tpr\n",
    "\n",
    "    # the threshold of fnr == fpr\n",
    "    eer_threshold = threshold[np.nanargmin(np.absolute((fnr - fpr)))]\n",
    "\n",
    "    # theoretically eer from fpr and eer from fnr should be identical but they can be slightly differ in reality\n",
    "    eer_1 = fpr[np.nanargmin(np.absolute((fnr - fpr)))]\n",
    "    eer_2 = fnr[np.nanargmin(np.absolute((fnr - fpr)))]\n",
    "\n",
    "    # return the mean of eer from fpr and from fnr\n",
    "    eer = (eer_1 + eer_2) / 2\n",
    "    return eer\n",
    "\n",
    "eer = compute_eer(act_labels, pred_labels)\n",
    "print('The equal error rate is {:.3f}'.format(eer))"
   ]
  }
 ],
 "metadata": {
  "kaggle": {
   "accelerator": "gpu",
   "dataSources": [
    {
     "datasetId": 8157101,
     "sourceId": 12892670,
     "sourceType": "datasetVersion"
    }
   ],
   "dockerImageVersionId": 30839,
   "isGpuEnabled": true,
   "isInternetEnabled": false,
   "language": "python",
   "sourceType": "notebook"
  },
  "kernelspec": {
   "display_name": "Python 3",
   "language": "python",
   "name": "python3"
  },
  "language_info": {
   "codemirror_mode": {
    "name": "ipython",
    "version": 3
   },
   "file_extension": ".py",
   "mimetype": "text/x-python",
   "name": "python",
   "nbconvert_exporter": "python",
   "pygments_lexer": "ipython3",
   "version": "3.10.12"
  },
  "papermill": {
   "default_parameters": {},
   "duration": 19217.779109,
   "end_time": "2025-08-28T11:52:18.226757",
   "environment_variables": {},
   "exception": null,
   "input_path": "__notebook__.ipynb",
   "output_path": "__notebook__.ipynb",
   "parameters": {},
   "start_time": "2025-08-28T06:32:00.447648",
   "version": "2.5.0"
  }
 },
 "nbformat": 4,
 "nbformat_minor": 5
}
