{
 "cells": [
  {
   "cell_type": "code",
   "execution_count": 1,
   "id": "26c63518",
   "metadata": {
    "execution": {
     "iopub.execute_input": "2025-09-03T18:31:13.466737Z",
     "iopub.status.busy": "2025-09-03T18:31:13.465990Z",
     "iopub.status.idle": "2025-09-03T18:31:13.470363Z",
     "shell.execute_reply": "2025-09-03T18:31:13.469732Z"
    },
    "papermill": {
     "duration": 0.01209,
     "end_time": "2025-09-03T18:31:13.471689",
     "exception": false,
     "start_time": "2025-09-03T18:31:13.459599",
     "status": "completed"
    },
    "tags": []
   },
   "outputs": [],
   "source": [
    "# !pip install --upgrade scipy"
   ]
  },
  {
   "cell_type": "code",
   "execution_count": 2,
   "id": "71d4edec",
   "metadata": {
    "execution": {
     "iopub.execute_input": "2025-09-03T18:31:13.481055Z",
     "iopub.status.busy": "2025-09-03T18:31:13.480576Z",
     "iopub.status.idle": "2025-09-03T18:31:21.143958Z",
     "shell.execute_reply": "2025-09-03T18:31:21.143311Z"
    },
    "papermill": {
     "duration": 7.669509,
     "end_time": "2025-09-03T18:31:21.145473",
     "exception": false,
     "start_time": "2025-09-03T18:31:13.475964",
     "status": "completed"
    },
    "tags": []
   },
   "outputs": [],
   "source": [
    "import torch \n",
    "import torch.nn as nn\n",
    "import torch.nn.functional as F\n",
    "from torch.autograd import Variable\n",
    "from torch.utils.data import Dataset, DataLoader\n",
    "\n",
    "import os, pathlib, glob, random\n",
    "import numpy as np\n",
    "import matplotlib.pyplot as plt \n",
    "\n",
    "from sklearn.metrics import confusion_matrix\n",
    "import scipy\n",
    "from scipy import io"
   ]
  },
  {
   "cell_type": "code",
   "execution_count": 3,
   "id": "212f730e",
   "metadata": {
    "execution": {
     "iopub.execute_input": "2025-09-03T18:31:21.154536Z",
     "iopub.status.busy": "2025-09-03T18:31:21.154178Z",
     "iopub.status.idle": "2025-09-03T18:31:21.234708Z",
     "shell.execute_reply": "2025-09-03T18:31:21.233680Z"
    },
    "papermill": {
     "duration": 0.086163,
     "end_time": "2025-09-03T18:31:21.235964",
     "exception": false,
     "start_time": "2025-09-03T18:31:21.149801",
     "status": "completed"
    },
    "tags": []
   },
   "outputs": [
    {
     "name": "stdout",
     "output_type": "stream",
     "text": [
      "cuda\n"
     ]
    }
   ],
   "source": [
    "device = torch.device('cuda' if torch.cuda.is_available() else 'cpu')\n",
    "print(device)"
   ]
  },
  {
   "cell_type": "code",
   "execution_count": 4,
   "id": "50cbdf81",
   "metadata": {
    "execution": {
     "iopub.execute_input": "2025-09-03T18:31:21.244839Z",
     "iopub.status.busy": "2025-09-03T18:31:21.244180Z",
     "iopub.status.idle": "2025-09-03T18:31:21.247816Z",
     "shell.execute_reply": "2025-09-03T18:31:21.247144Z"
    },
    "papermill": {
     "duration": 0.009049,
     "end_time": "2025-09-03T18:31:21.248926",
     "exception": false,
     "start_time": "2025-09-03T18:31:21.239877",
     "status": "completed"
    },
    "tags": []
   },
   "outputs": [],
   "source": [
    "batch_size = 32\n",
    "output_nodes = 10\n",
    "learning_rate = 0.001"
   ]
  },
  {
   "cell_type": "code",
   "execution_count": 5,
   "id": "985b966a",
   "metadata": {
    "execution": {
     "iopub.execute_input": "2025-09-03T18:31:21.257050Z",
     "iopub.status.busy": "2025-09-03T18:31:21.256842Z",
     "iopub.status.idle": "2025-09-03T18:31:24.338545Z",
     "shell.execute_reply": "2025-09-03T18:31:24.337667Z"
    },
    "papermill": {
     "duration": 3.087392,
     "end_time": "2025-09-03T18:31:24.339894",
     "exception": false,
     "start_time": "2025-09-03T18:31:21.252502",
     "status": "completed"
    },
    "tags": []
   },
   "outputs": [
    {
     "name": "stdout",
     "output_type": "stream",
     "text": [
      "Training samples: 111633\n",
      "Validation samples: 37152\n",
      "Testing samples: 37971\n"
     ]
    }
   ],
   "source": [
    "import os\n",
    "import random\n",
    "import scipy.io\n",
    "import numpy as np\n",
    "from torch.utils.data import Dataset, DataLoader\n",
    "\n",
    "# Paths for both datasets\n",
    "train_data_paths = [\n",
    "    r\"/kaggle/input/lfcc-feature/LFCC_Features/train\" #,  # Language 1\n",
    "    # r\"/kaggle/input/singfox-t2-gfcc-icassp/GFCC_T2/gfcc/train\"   # Language 2\n",
    "]\n",
    "validation_data_paths = [\n",
    "    r\"/kaggle/input/lfcc-feature/LFCC_Features/dev\" #,\n",
    "    # r\"/kaggle/input/singfox-t2-gfcc-icassp/GFCC_T2/gfcc/val\"\n",
    "]\n",
    "testing_data_paths = [\n",
    "    r\"/kaggle/input/lfcc-feature/LFCC_Features/test\" #,\n",
    "    # r\"/kaggle/input/singfox-t2-gfcc-icassp/GFCC_T2/gfcc/test\"\n",
    "]\n",
    "\n",
    "class MixedPtDataset(Dataset):\n",
    "    def __init__(self, directories):\n",
    "        \"\"\"Load features from multiple directories.\"\"\"\n",
    "        self.files = []\n",
    "        self.class_to_idx = {}\n",
    "\n",
    "        for directory in directories:\n",
    "            classes = sorted(entry.name for entry in os.scandir(directory) if entry.is_dir())\n",
    "            \n",
    "            # Assign class indices if not already assigned\n",
    "            for c in classes:\n",
    "                if c not in self.class_to_idx:\n",
    "                    self.class_to_idx[c] = len(self.class_to_idx)\n",
    "\n",
    "            for c in classes:\n",
    "                c_dir = os.path.join(directory, c)\n",
    "                c_files = [(os.path.join(c_dir, f), self.class_to_idx[c]) for f in os.listdir(c_dir)]\n",
    "                self.files.extend(c_files)\n",
    "\n",
    "        random.shuffle(self.files)\n",
    "\n",
    "    def __len__(self):\n",
    "        return len(self.files)\n",
    "\n",
    "    def __getitem__(self, idx):\n",
    "        filepath, label = self.files[idx]\n",
    "        try:\n",
    "            mat_vals = scipy.io.loadmat(filepath)\n",
    "            data = mat_vals['final'].T\n",
    "            max_len = 10\n",
    "            if max_len > data.shape[0]:\n",
    "                pad_width = max_len - data.shape[0]\n",
    "                data = np.pad(data, pad_width=((0, pad_width), (0, 0)), mode='constant')\n",
    "            else:\n",
    "                data = data[:max_len, :]\n",
    "        except Exception as e:\n",
    "            print(f\"Error loading file {filepath}: {str(e)}\")\n",
    "            return None\n",
    "        return data, label\n",
    "\n",
    "# Combine both datasets\n",
    "train_dataset = MixedPtDataset(train_data_paths)\n",
    "val_dataset = MixedPtDataset(validation_data_paths)\n",
    "test_dataset = MixedPtDataset(testing_data_paths)\n",
    "\n",
    "class PtDataLoader(DataLoader):\n",
    "    def __init__(self, directories, batch_size, shuffle=True):\n",
    "        dataset = MixedPtDataset(directories)\n",
    "        super().__init__(dataset, batch_size=batch_size, shuffle=shuffle)\n",
    "\n",
    "# Load mixed datasets\n",
    "batch_size = 32\n",
    "train_dataloader = PtDataLoader(directories=train_data_paths, batch_size=batch_size)\n",
    "val_dataloader = PtDataLoader(directories=validation_data_paths, batch_size=batch_size)\n",
    "test_dataloader = PtDataLoader(directories=testing_data_paths, batch_size=batch_size)\n",
    "\n",
    "train_count = len(train_dataset)\n",
    "val_count = len(val_dataset)\n",
    "test_count = len(test_dataset)\n",
    "\n",
    "print(f\"Training samples: {train_count}\\nValidation samples: {val_count}\\nTesting samples: {test_count}\")"
   ]
  },
  {
   "cell_type": "code",
   "execution_count": 6,
   "id": "e98a4d47",
   "metadata": {
    "execution": {
     "iopub.execute_input": "2025-09-03T18:31:24.349213Z",
     "iopub.status.busy": "2025-09-03T18:31:24.348687Z",
     "iopub.status.idle": "2025-09-03T18:31:24.352085Z",
     "shell.execute_reply": "2025-09-03T18:31:24.351472Z"
    },
    "papermill": {
     "duration": 0.009137,
     "end_time": "2025-09-03T18:31:24.353164",
     "exception": false,
     "start_time": "2025-09-03T18:31:24.344027",
     "status": "completed"
    },
    "tags": []
   },
   "outputs": [],
   "source": [
    "# train_dataset = PtDataset(train_data_path)\n",
    "# val_dataset = PtDataset(val_data_path)\n",
    "# test_dataset = PtDataset(test_data_path)"
   ]
  },
  {
   "cell_type": "code",
   "execution_count": 7,
   "id": "4c7dcb40",
   "metadata": {
    "execution": {
     "iopub.execute_input": "2025-09-03T18:31:24.362336Z",
     "iopub.status.busy": "2025-09-03T18:31:24.362022Z",
     "iopub.status.idle": "2025-09-03T18:31:24.365661Z",
     "shell.execute_reply": "2025-09-03T18:31:24.364872Z"
    },
    "papermill": {
     "duration": 0.009574,
     "end_time": "2025-09-03T18:31:24.366803",
     "exception": false,
     "start_time": "2025-09-03T18:31:24.357229",
     "status": "completed"
    },
    "tags": []
   },
   "outputs": [],
   "source": [
    "# class PtDataLoader(DataLoader):\n",
    "#     def __init__(self, directory, batch_size, shuffle=True):\n",
    "#         dataset = PtDataset(directory)\n",
    "#         super().__init__(dataset, batch_size=batch_size, shuffle=shuffle)"
   ]
  },
  {
   "cell_type": "code",
   "execution_count": 8,
   "id": "f038e419",
   "metadata": {
    "execution": {
     "iopub.execute_input": "2025-09-03T18:31:24.375845Z",
     "iopub.status.busy": "2025-09-03T18:31:24.375072Z",
     "iopub.status.idle": "2025-09-03T18:31:24.378635Z",
     "shell.execute_reply": "2025-09-03T18:31:24.378015Z"
    },
    "papermill": {
     "duration": 0.009376,
     "end_time": "2025-09-03T18:31:24.379909",
     "exception": false,
     "start_time": "2025-09-03T18:31:24.370533",
     "status": "completed"
    },
    "tags": []
   },
   "outputs": [],
   "source": [
    "# train_dataloader = PtDataLoader(directory=train_data_path, batch_size=batch_size)\n",
    "# val_dataloader = PtDataLoader(directory=val_data_path, batch_size=batch_size)\n",
    "# test_dataloader = PtDataLoader(directory=test_data_path, batch_size=batch_size)"
   ]
  },
  {
   "cell_type": "code",
   "execution_count": 9,
   "id": "a28d7862",
   "metadata": {
    "execution": {
     "iopub.execute_input": "2025-09-03T18:31:24.389785Z",
     "iopub.status.busy": "2025-09-03T18:31:24.389300Z",
     "iopub.status.idle": "2025-09-03T18:31:24.392339Z",
     "shell.execute_reply": "2025-09-03T18:31:24.391765Z"
    },
    "papermill": {
     "duration": 0.008656,
     "end_time": "2025-09-03T18:31:24.393427",
     "exception": false,
     "start_time": "2025-09-03T18:31:24.384771",
     "status": "completed"
    },
    "tags": []
   },
   "outputs": [],
   "source": [
    "# train_count = len(train_dataset) \n",
    "# val_count = len(val_dataset)\n",
    "# test_count = len(test_dataset)"
   ]
  },
  {
   "cell_type": "code",
   "execution_count": 10,
   "id": "aed61208",
   "metadata": {
    "execution": {
     "iopub.execute_input": "2025-09-03T18:31:24.402107Z",
     "iopub.status.busy": "2025-09-03T18:31:24.401693Z",
     "iopub.status.idle": "2025-09-03T18:31:24.405705Z",
     "shell.execute_reply": "2025-09-03T18:31:24.405014Z"
    },
    "papermill": {
     "duration": 0.009561,
     "end_time": "2025-09-03T18:31:24.406921",
     "exception": false,
     "start_time": "2025-09-03T18:31:24.397360",
     "status": "completed"
    },
    "tags": []
   },
   "outputs": [
    {
     "name": "stdout",
     "output_type": "stream",
     "text": [
      "111633\n",
      "37152\n",
      "37971\n"
     ]
    }
   ],
   "source": [
    "print(train_count)\n",
    "print(val_count)\n",
    "print(test_count)"
   ]
  },
  {
   "cell_type": "code",
   "execution_count": 11,
   "id": "3119a8a6",
   "metadata": {
    "execution": {
     "iopub.execute_input": "2025-09-03T18:31:24.415247Z",
     "iopub.status.busy": "2025-09-03T18:31:24.414995Z",
     "iopub.status.idle": "2025-09-03T18:31:24.478741Z",
     "shell.execute_reply": "2025-09-03T18:31:24.477906Z"
    },
    "papermill": {
     "duration": 0.06942,
     "end_time": "2025-09-03T18:31:24.480160",
     "exception": false,
     "start_time": "2025-09-03T18:31:24.410740",
     "status": "completed"
    },
    "tags": []
   },
   "outputs": [],
   "source": [
    "drop_amount = 0.255\n",
    "\n",
    "import torch\n",
    "import torch.nn as nn\n",
    "import torch.nn.functional as F\n",
    "from collections import OrderedDict\n",
    "from torch.nn.parameter import Parameter\n",
    "from torch.utils import data\n",
    "\n",
    "class Res2NetBlock(nn.Module):\n",
    "    def __init__(self, in_channels, out_channels, scale=4, kernel_size=3, stride=1, padding=1):\n",
    "        super(Res2NetBlock, self).__init__()\n",
    "        assert out_channels % scale == 0, \"Output channels must be divisible by scale\"\n",
    "        self.scale = scale\n",
    "        self.split_channels = out_channels // scale\n",
    "\n",
    "        self.conv1 = nn.Conv1d(in_channels, out_channels, kernel_size=1, stride=1, bias=False)\n",
    "        self.bn1 = nn.BatchNorm1d(out_channels)\n",
    "\n",
    "        self.convs = nn.ModuleList([\n",
    "            nn.Conv1d(self.split_channels, self.split_channels, kernel_size, stride=stride, padding=padding, bias=False)\n",
    "            for _ in range(scale - 1)\n",
    "        ])\n",
    "\n",
    "        self.bn2 = nn.BatchNorm1d(out_channels)\n",
    "        self.conv3 = nn.Conv1d(out_channels, out_channels, kernel_size=1, stride=1, bias=False)\n",
    "\n",
    "        self.relu = nn.ReLU(inplace=True)\n",
    "\n",
    "    def forward(self, x):\n",
    "        out = self.conv1(x)\n",
    "        out = self.bn1(out)\n",
    "        out = self.relu(out)\n",
    "\n",
    "        splits = torch.chunk(out, self.scale, dim=1)\n",
    "        out = splits[0]\n",
    "        result = [out]  # Collect outputs here to avoid in-place addition\n",
    "        for i, conv in enumerate(self.convs):\n",
    "            result.append(conv(splits[i + 1]))\n",
    "        out = torch.cat(result, dim=1)  # Concatenate all parts\n",
    "\n",
    "        out = self.conv3(out)\n",
    "        out = self.bn2(out)\n",
    "        return self.relu(out)\n",
    "\n",
    "\n",
    "class AMSoftmaxLoss(nn.Module):\n",
    "    def __init__(self, in_features, out_features, s=30.0, m=0.4):\n",
    "        super(AMSoftmaxLoss, self).__init__()\n",
    "        self.s = s\n",
    "        self.m = m\n",
    "        self.weight = Parameter(torch.DoubleTensor(out_features, in_features))\n",
    "        nn.init.xavier_uniform_(self.weight)\n",
    "\n",
    "    def forward(self, x, labels):\n",
    "        cosine = F.linear(F.normalize(x), F.normalize(self.weight))\n",
    "        phi = cosine - self.m\n",
    "        one_hot = torch.zeros_like(cosine)\n",
    "        one_hot.scatter_(1, labels.view(-1, 1).long(), 1)\n",
    "        logits = one_hot * phi + (1.0 - one_hot) * cosine\n",
    "        logits *= self.s\n",
    "        return logits\n",
    "\n",
    "\n",
    "class AASIST2(nn.Module):\n",
    "    def __init__(self, d_args):\n",
    "        super(AASIST2, self).__init__()\n",
    "        self.res2net_block1 = Res2NetBlock(d_args['in_channels'], d_args['filts'][0], scale=4)\n",
    "        self.res2net_block2 = Res2NetBlock(d_args['filts'][0], d_args['filts'][1], scale=4)\n",
    "        self.res2net_block3 = Res2NetBlock(d_args['filts'][1], d_args['filts'][2], scale=4)\n",
    "\n",
    "        self.gru = nn.GRU(input_size=d_args['filts'][2],\n",
    "                          hidden_size=d_args['gru_node'],\n",
    "                          num_layers=d_args['nb_gru_layer'],\n",
    "                          batch_first=True)\n",
    "\n",
    "        self.fc1 = nn.Linear(d_args['gru_node'], d_args['nb_fc_node'])  # Input size must match GRU hidden size\n",
    "        self.fc2 = nn.Linear(d_args['nb_fc_node'], d_args['nb_classes'])  # Matches number of classes\n",
    "\n",
    "        self.am_softmax = AMSoftmaxLoss(d_args['nb_fc_node'], d_args['nb_classes'])  # Use fc1 output size\n",
    "\n",
    "    def forward(self, x, labels=None, is_test=False):\n",
    "        x = self.res2net_block1(x)\n",
    "        x = self.res2net_block2(x)\n",
    "        x = self.res2net_block3(x)\n",
    "\n",
    "        x = x.permute(0, 2, 1)  # Permute for GRU input [batch, sequence, feature]\n",
    "        self.gru.flatten_parameters()\n",
    "        x, _ = self.gru(x)\n",
    "        x = x[:, -1, :]  # Take last time step output\n",
    "\n",
    "        x = self.fc1(x)\n",
    "        logits = self.fc2(x)\n",
    "\n",
    "        if labels is not None:  # Compute AMSoftmax only if labels are provided\n",
    "            return self.am_softmax(x, labels)\n",
    "        else:  # Return logits for testing/inference\n",
    "            return F.softmax(logits, dim=1)\n",
    "\n",
    "d_args = {\n",
    "    'in_channels': 1,\n",
    "    'filts': [64, 128, 256],\n",
    "    'gru_node': 128,\n",
    "    'nb_gru_layer': 2,\n",
    "    'nb_fc_node': 64,\n",
    "    'nb_classes': 2\n",
    "}\n",
    "model = AASIST2(d_args)\n"
   ]
  },
  {
   "cell_type": "code",
   "execution_count": 12,
   "id": "39cef36f",
   "metadata": {
    "execution": {
     "iopub.execute_input": "2025-09-03T18:31:24.489476Z",
     "iopub.status.busy": "2025-09-03T18:31:24.488639Z",
     "iopub.status.idle": "2025-09-03T18:31:24.492783Z",
     "shell.execute_reply": "2025-09-03T18:31:24.492014Z"
    },
    "papermill": {
     "duration": 0.009885,
     "end_time": "2025-09-03T18:31:24.493898",
     "exception": false,
     "start_time": "2025-09-03T18:31:24.484013",
     "status": "completed"
    },
    "tags": []
   },
   "outputs": [],
   "source": [
    "import torch\n",
    "from torch import nn\n",
    "from torch.nn import Parameter\n",
    "import torch.nn.functional as F"
   ]
  },
  {
   "cell_type": "code",
   "execution_count": 13,
   "id": "92db2114",
   "metadata": {
    "execution": {
     "iopub.execute_input": "2025-09-03T18:31:24.502760Z",
     "iopub.status.busy": "2025-09-03T18:31:24.502522Z",
     "iopub.status.idle": "2025-09-03T18:31:24.511286Z",
     "shell.execute_reply": "2025-09-03T18:31:24.510477Z"
    },
    "papermill": {
     "duration": 0.014529,
     "end_time": "2025-09-03T18:31:24.512520",
     "exception": false,
     "start_time": "2025-09-03T18:31:24.497991",
     "status": "completed"
    },
    "tags": []
   },
   "outputs": [],
   "source": [
    "# drop_amount = 0.255\n",
    "\n",
    "# class BiLSTMClassifier(nn.Module):\n",
    "#     def __init__(self, input_size, hidden_size, num_layers, num_classes):\n",
    "#         super(BiLSTMClassifier, self).__init__()\n",
    "#         self.hidden_size = hidden_size\n",
    "#         self.num_layers = num_layers\n",
    "#         self.lstm = nn.LSTM(input_size, hidden_size, num_layers, batch_first=True, bidirectional=True)\n",
    "#         self.dropout = nn.Dropout(p=drop_amount)\n",
    "#         self.fc = nn.Linear(hidden_size*2, num_classes)\n",
    "\n",
    "#     def forward(self, x):\n",
    "#         h0 = torch.zeros(self.num_layers*2, x.size(0), self.hidden_size).to(device=x.device, dtype=torch.double)\n",
    "#         c0 = torch.zeros(self.num_layers*2, x.size(0), self.hidden_size).to(device=x.device, dtype=torch.double)\n",
    "#         out, _ = self.lstm(x, (h0, c0))\n",
    "#         out = self.dropout(out)\n",
    "#         # Extract the output of the last time step from both directions\n",
    "#         last_hidden_state = torch.cat((out[:, -1, :self.hidden_size], out[:, 0, self.hidden_size:]), dim=1)\n",
    "#         output = self.fc(last_hidden_state)\n",
    "#         return output\n",
    "import torch\n",
    "import torch.nn as nn\n",
    "import torch.nn.functional as F\n",
    "\n",
    "drop_amount = 0.255  # keep your global drop\n",
    "\n",
    "class BiLSTMWithCrossAttention(nn.Module):\n",
    "    def __init__(self, input_size, hidden_size, num_layers, num_classes, num_heads=4):\n",
    "        super().__init__()\n",
    "        self.hidden_size = hidden_size\n",
    "        self.num_layers = num_layers\n",
    "\n",
    "        # BiLSTM (same as yours)\n",
    "        self.lstm = nn.LSTM(\n",
    "            input_size=input_size,\n",
    "            hidden_size=hidden_size,\n",
    "            num_layers=num_layers,\n",
    "            batch_first=True,\n",
    "            bidirectional=True\n",
    "        )\n",
    "\n",
    "        # Cross-attention: Q from BiLSTM (dim = 2*hidden),\n",
    "        # K,V from input projected to the same dim.\n",
    "        embed_dim = hidden_size * 2\n",
    "        self.k_proj = nn.Linear(input_size, embed_dim)\n",
    "        self.v_proj = nn.Linear(input_size, embed_dim)\n",
    "        self.cross_attn = nn.MultiheadAttention(\n",
    "            embed_dim=embed_dim,\n",
    "            num_heads=num_heads,\n",
    "            batch_first=True,\n",
    "            dropout=drop_amount\n",
    "        )\n",
    "\n",
    "        self.dropout = nn.Dropout(p=drop_amount)\n",
    "        self.fc = nn.Linear(embed_dim, num_classes)\n",
    "\n",
    "    def forward(self, x):\n",
    "        # x: [batch, seq_len, input_size]\n",
    "        # init states in the same device/dtype as x\n",
    "        h0 = torch.zeros(self.num_layers * 2, x.size(0), self.hidden_size,\n",
    "                         device=x.device, dtype=x.dtype)\n",
    "        c0 = torch.zeros(self.num_layers * 2, x.size(0), self.hidden_size,\n",
    "                         device=x.device, dtype=x.dtype)\n",
    "\n",
    "        # BiLSTM\n",
    "        lstm_out, _ = self.lstm(x, (h0, c0))            # [B, T, 2H]\n",
    "\n",
    "        # Project input to K,V for cross-attention\n",
    "        K = self.k_proj(x)                               # [B, T, 2H]\n",
    "        V = self.v_proj(x)                               # [B, T, 2H]\n",
    "\n",
    "        # Cross-attention: queries = BiLSTM outputs\n",
    "        attn_out, _ = self.cross_attn(query=lstm_out, key=K, value=V)  # [B, T, 2H]\n",
    "\n",
    "        # Residual + dropout\n",
    "        fused = self.dropout(lstm_out + attn_out)        # [B, T, 2H]\n",
    "\n",
    "        # Keep your original \"last forward + first backward\" trick\n",
    "        last_hidden_state = torch.cat(\n",
    "            (fused[:, -1, :self.hidden_size], fused[:, 0, self.hidden_size:]),\n",
    "            dim=1\n",
    "        )  # [B, 2H]\n",
    "\n",
    "        output = self.fc(last_hidden_state)              # [B, num_classes]\n",
    "        return output\n"
   ]
  },
  {
   "cell_type": "code",
   "execution_count": 14,
   "id": "9e5b55d0",
   "metadata": {
    "execution": {
     "iopub.execute_input": "2025-09-03T18:31:24.520995Z",
     "iopub.status.busy": "2025-09-03T18:31:24.520756Z",
     "iopub.status.idle": "2025-09-03T18:31:24.839325Z",
     "shell.execute_reply": "2025-09-03T18:31:24.838521Z"
    },
    "papermill": {
     "duration": 0.324231,
     "end_time": "2025-09-03T18:31:24.840593",
     "exception": false,
     "start_time": "2025-09-03T18:31:24.516362",
     "status": "completed"
    },
    "tags": []
   },
   "outputs": [
    {
     "data": {
      "text/plain": [
       "BiLSTMWithCrossAttention(\n",
       "  (lstm): LSTM(20, 256, num_layers=2, batch_first=True, bidirectional=True)\n",
       "  (k_proj): Linear(in_features=20, out_features=512, bias=True)\n",
       "  (v_proj): Linear(in_features=20, out_features=512, bias=True)\n",
       "  (cross_attn): MultiheadAttention(\n",
       "    (out_proj): NonDynamicallyQuantizableLinear(in_features=512, out_features=512, bias=True)\n",
       "  )\n",
       "  (dropout): Dropout(p=0.255, inplace=False)\n",
       "  (fc): Linear(in_features=512, out_features=2, bias=True)\n",
       ")"
      ]
     },
     "execution_count": 14,
     "metadata": {},
     "output_type": "execute_result"
    }
   ],
   "source": [
    "# Define the parameters\n",
    "input_size = 20\n",
    "hidden_size = 256\n",
    "num_layers = 2\n",
    "num_classes = 2\n",
    "# model = BiLSTMClassifier(input_size, hidden_size, num_layers, num_classes)\n",
    "model = BiLSTMWithCrossAttention(\n",
    "    input_size=20,   # your MFCC dim\n",
    "    hidden_size=256,\n",
    "    num_layers=2,\n",
    "    num_classes=2,\n",
    "    num_heads=4\n",
    ")\n",
    "model.to(device, dtype=torch.double)  # stays compatible with your training loop\n",
    "\n",
    "model.to(device, dtype=torch.double)"
   ]
  },
  {
   "cell_type": "code",
   "execution_count": 15,
   "id": "adb23c36",
   "metadata": {
    "execution": {
     "iopub.execute_input": "2025-09-03T18:31:24.850342Z",
     "iopub.status.busy": "2025-09-03T18:31:24.850065Z",
     "iopub.status.idle": "2025-09-03T18:31:24.853909Z",
     "shell.execute_reply": "2025-09-03T18:31:24.853095Z"
    },
    "papermill": {
     "duration": 0.01008,
     "end_time": "2025-09-03T18:31:24.855106",
     "exception": false,
     "start_time": "2025-09-03T18:31:24.845026",
     "status": "completed"
    },
    "tags": []
   },
   "outputs": [],
   "source": [
    "import torch\n",
    "import torch.nn as nn\n",
    "import torch.optim as optim"
   ]
  },
  {
   "cell_type": "code",
   "execution_count": 16,
   "id": "a1f44286",
   "metadata": {
    "execution": {
     "iopub.execute_input": "2025-09-03T18:31:24.864307Z",
     "iopub.status.busy": "2025-09-03T18:31:24.863795Z",
     "iopub.status.idle": "2025-09-03T18:31:29.935404Z",
     "shell.execute_reply": "2025-09-03T18:31:29.934517Z"
    },
    "papermill": {
     "duration": 5.077793,
     "end_time": "2025-09-03T18:31:29.936955",
     "exception": false,
     "start_time": "2025-09-03T18:31:24.859162",
     "status": "completed"
    },
    "tags": []
   },
   "outputs": [],
   "source": [
    "loss_function = nn.CrossEntropyLoss()\n",
    "optimizer = optim.Adam(model.parameters(), lr=learning_rate)"
   ]
  },
  {
   "cell_type": "code",
   "execution_count": 17,
   "id": "5079c205",
   "metadata": {
    "execution": {
     "iopub.execute_input": "2025-09-03T18:31:29.946588Z",
     "iopub.status.busy": "2025-09-03T18:31:29.945937Z",
     "iopub.status.idle": "2025-09-03T18:31:29.950628Z",
     "shell.execute_reply": "2025-09-03T18:31:29.949718Z"
    },
    "papermill": {
     "duration": 0.010756,
     "end_time": "2025-09-03T18:31:29.952030",
     "exception": false,
     "start_time": "2025-09-03T18:31:29.941274",
     "status": "completed"
    },
    "tags": []
   },
   "outputs": [
    {
     "name": "stdout",
     "output_type": "stream",
     "text": [
      "BiLSTMWithCrossAttention(\n",
      "  (lstm): LSTM(20, 256, num_layers=2, batch_first=True, bidirectional=True)\n",
      "  (k_proj): Linear(in_features=20, out_features=512, bias=True)\n",
      "  (v_proj): Linear(in_features=20, out_features=512, bias=True)\n",
      "  (cross_attn): MultiheadAttention(\n",
      "    (out_proj): NonDynamicallyQuantizableLinear(in_features=512, out_features=512, bias=True)\n",
      "  )\n",
      "  (dropout): Dropout(p=0.255, inplace=False)\n",
      "  (fc): Linear(in_features=512, out_features=2, bias=True)\n",
      ")\n"
     ]
    }
   ],
   "source": [
    "print(model)"
   ]
  },
  {
   "cell_type": "code",
   "execution_count": 18,
   "id": "b54e46d6",
   "metadata": {
    "execution": {
     "iopub.execute_input": "2025-09-03T18:31:29.960763Z",
     "iopub.status.busy": "2025-09-03T18:31:29.960560Z",
     "iopub.status.idle": "2025-09-03T20:46:39.810122Z",
     "shell.execute_reply": "2025-09-03T20:46:39.809234Z"
    },
    "papermill": {
     "duration": 8109.855691,
     "end_time": "2025-09-03T20:46:39.811648",
     "exception": false,
     "start_time": "2025-09-03T18:31:29.955957",
     "status": "completed"
    },
    "tags": []
   },
   "outputs": [
    {
     "name": "stderr",
     "output_type": "stream",
     "text": [
      "Epoch 1/40 [Train]: 100%|██████████| 3489/3489 [10:54<00:00,  5.33it/s, loss=0.468]\n",
      "Epoch 1/40 [Val]: 100%|██████████| 1161/1161 [03:55<00:00,  4.93it/s]\n"
     ]
    },
    {
     "name": "stdout",
     "output_type": "stream",
     "text": [
      "Epoch: 1/40, Train Loss: 0.3859, Train Accuracy: 0.8345, Val Accuracy: 0.8464\n"
     ]
    },
    {
     "name": "stderr",
     "output_type": "stream",
     "text": [
      "Epoch 2/40 [Train]: 100%|██████████| 3489/3489 [03:28<00:00, 16.70it/s, loss=0.159]\n",
      "Epoch 2/40 [Val]: 100%|██████████| 1161/1161 [00:41<00:00, 27.81it/s]\n"
     ]
    },
    {
     "name": "stdout",
     "output_type": "stream",
     "text": [
      "Epoch: 2/40, Train Loss: 0.3234, Train Accuracy: 0.8671, Val Accuracy: 0.8711\n"
     ]
    },
    {
     "name": "stderr",
     "output_type": "stream",
     "text": [
      "Epoch 3/40 [Train]: 100%|██████████| 3489/3489 [02:27<00:00, 23.65it/s, loss=0.463]\n",
      "Epoch 3/40 [Val]: 100%|██████████| 1161/1161 [00:38<00:00, 30.40it/s]\n"
     ]
    },
    {
     "name": "stdout",
     "output_type": "stream",
     "text": [
      "Epoch: 3/40, Train Loss: 0.2562, Train Accuracy: 0.8980, Val Accuracy: 0.8823\n"
     ]
    },
    {
     "name": "stderr",
     "output_type": "stream",
     "text": [
      "Epoch 4/40 [Train]: 100%|██████████| 3489/3489 [02:24<00:00, 24.09it/s, loss=0.697]\n",
      "Epoch 4/40 [Val]: 100%|██████████| 1161/1161 [00:38<00:00, 29.94it/s]\n"
     ]
    },
    {
     "name": "stdout",
     "output_type": "stream",
     "text": [
      "Epoch: 4/40, Train Loss: 0.3204, Train Accuracy: 0.8674, Val Accuracy: 0.8635\n"
     ]
    },
    {
     "name": "stderr",
     "output_type": "stream",
     "text": [
      "Epoch 5/40 [Train]: 100%|██████████| 3489/3489 [02:26<00:00, 23.78it/s, loss=0.236]\n",
      "Epoch 5/40 [Val]: 100%|██████████| 1161/1161 [00:40<00:00, 28.63it/s]\n"
     ]
    },
    {
     "name": "stdout",
     "output_type": "stream",
     "text": [
      "Epoch: 5/40, Train Loss: 0.2753, Train Accuracy: 0.8878, Val Accuracy: 0.8834\n"
     ]
    },
    {
     "name": "stderr",
     "output_type": "stream",
     "text": [
      "Epoch 6/40 [Train]: 100%|██████████| 3489/3489 [02:29<00:00, 23.35it/s, loss=0.394]\n",
      "Epoch 6/40 [Val]: 100%|██████████| 1161/1161 [00:41<00:00, 27.75it/s]\n"
     ]
    },
    {
     "name": "stdout",
     "output_type": "stream",
     "text": [
      "Epoch: 6/40, Train Loss: 0.2129, Train Accuracy: 0.9161, Val Accuracy: 0.8374\n"
     ]
    },
    {
     "name": "stderr",
     "output_type": "stream",
     "text": [
      "Epoch 7/40 [Train]: 100%|██████████| 3489/3489 [02:36<00:00, 22.36it/s, loss=0.246]\n",
      "Epoch 7/40 [Val]: 100%|██████████| 1161/1161 [00:41<00:00, 27.79it/s]\n"
     ]
    },
    {
     "name": "stdout",
     "output_type": "stream",
     "text": [
      "Epoch: 7/40, Train Loss: 0.2749, Train Accuracy: 0.8849, Val Accuracy: 0.8551\n"
     ]
    },
    {
     "name": "stderr",
     "output_type": "stream",
     "text": [
      "Epoch 8/40 [Train]: 100%|██████████| 3489/3489 [02:24<00:00, 24.07it/s, loss=0.0491]\n",
      "Epoch 8/40 [Val]: 100%|██████████| 1161/1161 [00:40<00:00, 28.97it/s]\n"
     ]
    },
    {
     "name": "stdout",
     "output_type": "stream",
     "text": [
      "Epoch: 8/40, Train Loss: 0.2246, Train Accuracy: 0.9112, Val Accuracy: 0.8965\n"
     ]
    },
    {
     "name": "stderr",
     "output_type": "stream",
     "text": [
      "Epoch 9/40 [Train]: 100%|██████████| 3489/3489 [02:25<00:00, 23.92it/s, loss=0.107]\n",
      "Epoch 9/40 [Val]: 100%|██████████| 1161/1161 [00:39<00:00, 29.36it/s]\n"
     ]
    },
    {
     "name": "stdout",
     "output_type": "stream",
     "text": [
      "Epoch: 9/40, Train Loss: 0.1929, Train Accuracy: 0.9264, Val Accuracy: 0.8888\n"
     ]
    },
    {
     "name": "stderr",
     "output_type": "stream",
     "text": [
      "Epoch 10/40 [Train]: 100%|██████████| 3489/3489 [02:32<00:00, 22.80it/s, loss=0.0335]\n",
      "Epoch 10/40 [Val]: 100%|██████████| 1161/1161 [00:40<00:00, 29.00it/s]\n"
     ]
    },
    {
     "name": "stdout",
     "output_type": "stream",
     "text": [
      "Epoch: 10/40, Train Loss: 0.1681, Train Accuracy: 0.9354, Val Accuracy: 0.8991\n"
     ]
    },
    {
     "name": "stderr",
     "output_type": "stream",
     "text": [
      "Epoch 11/40 [Train]: 100%|██████████| 3489/3489 [02:27<00:00, 23.62it/s, loss=0.118]\n",
      "Epoch 11/40 [Val]: 100%|██████████| 1161/1161 [00:43<00:00, 26.60it/s]\n"
     ]
    },
    {
     "name": "stdout",
     "output_type": "stream",
     "text": [
      "Epoch: 11/40, Train Loss: 0.1529, Train Accuracy: 0.9424, Val Accuracy: 0.9120\n"
     ]
    },
    {
     "name": "stderr",
     "output_type": "stream",
     "text": [
      "Epoch 12/40 [Train]: 100%|██████████| 3489/3489 [02:33<00:00, 22.69it/s, loss=0.0853]\n",
      "Epoch 12/40 [Val]: 100%|██████████| 1161/1161 [00:37<00:00, 31.25it/s]\n"
     ]
    },
    {
     "name": "stdout",
     "output_type": "stream",
     "text": [
      "Epoch: 12/40, Train Loss: 0.1379, Train Accuracy: 0.9481, Val Accuracy: 0.9215\n"
     ]
    },
    {
     "name": "stderr",
     "output_type": "stream",
     "text": [
      "Epoch 13/40 [Train]: 100%|██████████| 3489/3489 [02:18<00:00, 25.25it/s, loss=0.138]\n",
      "Epoch 13/40 [Val]: 100%|██████████| 1161/1161 [00:41<00:00, 28.13it/s]\n"
     ]
    },
    {
     "name": "stdout",
     "output_type": "stream",
     "text": [
      "Epoch: 13/40, Train Loss: 0.1297, Train Accuracy: 0.9517, Val Accuracy: 0.9205\n"
     ]
    },
    {
     "name": "stderr",
     "output_type": "stream",
     "text": [
      "Epoch 14/40 [Train]: 100%|██████████| 3489/3489 [02:21<00:00, 24.70it/s, loss=0.0365]\n",
      "Epoch 14/40 [Val]: 100%|██████████| 1161/1161 [00:38<00:00, 30.18it/s]\n"
     ]
    },
    {
     "name": "stdout",
     "output_type": "stream",
     "text": [
      "Epoch: 14/40, Train Loss: 0.1490, Train Accuracy: 0.9422, Val Accuracy: 0.9214\n"
     ]
    },
    {
     "name": "stderr",
     "output_type": "stream",
     "text": [
      "Epoch 15/40 [Train]: 100%|██████████| 3489/3489 [02:19<00:00, 24.96it/s, loss=0.0319]\n",
      "Epoch 15/40 [Val]: 100%|██████████| 1161/1161 [00:38<00:00, 29.79it/s]\n"
     ]
    },
    {
     "name": "stdout",
     "output_type": "stream",
     "text": [
      "Epoch: 15/40, Train Loss: 0.1473, Train Accuracy: 0.9430, Val Accuracy: 0.9158\n"
     ]
    },
    {
     "name": "stderr",
     "output_type": "stream",
     "text": [
      "Epoch 16/40 [Train]: 100%|██████████| 3489/3489 [02:24<00:00, 24.16it/s, loss=0.0486]\n",
      "Epoch 16/40 [Val]: 100%|██████████| 1161/1161 [00:38<00:00, 29.97it/s]\n"
     ]
    },
    {
     "name": "stdout",
     "output_type": "stream",
     "text": [
      "Epoch: 16/40, Train Loss: 0.1066, Train Accuracy: 0.9610, Val Accuracy: 0.9136\n"
     ]
    },
    {
     "name": "stderr",
     "output_type": "stream",
     "text": [
      "Epoch 17/40 [Train]: 100%|██████████| 3489/3489 [02:20<00:00, 24.75it/s, loss=0.107]\n",
      "Epoch 17/40 [Val]: 100%|██████████| 1161/1161 [00:37<00:00, 30.70it/s]\n"
     ]
    },
    {
     "name": "stdout",
     "output_type": "stream",
     "text": [
      "Epoch: 17/40, Train Loss: 0.1852, Train Accuracy: 0.9274, Val Accuracy: 0.9189\n"
     ]
    },
    {
     "name": "stderr",
     "output_type": "stream",
     "text": [
      "Epoch 18/40 [Train]: 100%|██████████| 3489/3489 [02:19<00:00, 24.93it/s, loss=0.0591]\n",
      "Epoch 18/40 [Val]: 100%|██████████| 1161/1161 [00:39<00:00, 29.56it/s]\n"
     ]
    },
    {
     "name": "stdout",
     "output_type": "stream",
     "text": [
      "Epoch: 18/40, Train Loss: 0.1099, Train Accuracy: 0.9603, Val Accuracy: 0.9056\n"
     ]
    },
    {
     "name": "stderr",
     "output_type": "stream",
     "text": [
      "Epoch 19/40 [Train]: 100%|██████████| 3489/3489 [02:20<00:00, 24.86it/s, loss=0.0991]\n",
      "Epoch 19/40 [Val]: 100%|██████████| 1161/1161 [00:37<00:00, 30.94it/s]\n"
     ]
    },
    {
     "name": "stdout",
     "output_type": "stream",
     "text": [
      "Epoch: 19/40, Train Loss: 0.0900, Train Accuracy: 0.9673, Val Accuracy: 0.9311\n"
     ]
    },
    {
     "name": "stderr",
     "output_type": "stream",
     "text": [
      "Epoch 20/40 [Train]: 100%|██████████| 3489/3489 [02:22<00:00, 24.54it/s, loss=0.761]\n",
      "Epoch 20/40 [Val]: 100%|██████████| 1161/1161 [00:38<00:00, 29.81it/s]\n"
     ]
    },
    {
     "name": "stdout",
     "output_type": "stream",
     "text": [
      "Epoch: 20/40, Train Loss: 0.1036, Train Accuracy: 0.9649, Val Accuracy: 0.9208\n"
     ]
    },
    {
     "name": "stderr",
     "output_type": "stream",
     "text": [
      "Epoch 21/40 [Train]: 100%|██████████| 3489/3489 [02:25<00:00, 23.91it/s, loss=0.016]\n",
      "Epoch 21/40 [Val]: 100%|██████████| 1161/1161 [00:41<00:00, 27.88it/s]\n"
     ]
    },
    {
     "name": "stdout",
     "output_type": "stream",
     "text": [
      "Epoch: 21/40, Train Loss: 0.0861, Train Accuracy: 0.9676, Val Accuracy: 0.9144\n"
     ]
    },
    {
     "name": "stderr",
     "output_type": "stream",
     "text": [
      "Epoch 22/40 [Train]: 100%|██████████| 3489/3489 [02:23<00:00, 24.39it/s, loss=0.216]\n",
      "Epoch 22/40 [Val]: 100%|██████████| 1161/1161 [00:38<00:00, 30.53it/s]\n"
     ]
    },
    {
     "name": "stdout",
     "output_type": "stream",
     "text": [
      "Epoch: 22/40, Train Loss: 0.0822, Train Accuracy: 0.9702, Val Accuracy: 0.9062\n"
     ]
    },
    {
     "name": "stderr",
     "output_type": "stream",
     "text": [
      "Epoch 23/40 [Train]: 100%|██████████| 3489/3489 [02:18<00:00, 25.25it/s, loss=0.0106]\n",
      "Epoch 23/40 [Val]: 100%|██████████| 1161/1161 [00:37<00:00, 30.60it/s]\n"
     ]
    },
    {
     "name": "stdout",
     "output_type": "stream",
     "text": [
      "Epoch: 23/40, Train Loss: 0.0768, Train Accuracy: 0.9726, Val Accuracy: 0.9236\n"
     ]
    },
    {
     "name": "stderr",
     "output_type": "stream",
     "text": [
      "Epoch 24/40 [Train]: 100%|██████████| 3489/3489 [02:23<00:00, 24.33it/s, loss=0.00211]\n",
      "Epoch 24/40 [Val]: 100%|██████████| 1161/1161 [00:37<00:00, 31.20it/s]\n"
     ]
    },
    {
     "name": "stdout",
     "output_type": "stream",
     "text": [
      "Epoch: 24/40, Train Loss: 0.0611, Train Accuracy: 0.9786, Val Accuracy: 0.9294\n"
     ]
    },
    {
     "name": "stderr",
     "output_type": "stream",
     "text": [
      "Epoch 25/40 [Train]: 100%|██████████| 3489/3489 [02:21<00:00, 24.68it/s, loss=0.0195]\n",
      "Epoch 25/40 [Val]: 100%|██████████| 1161/1161 [00:41<00:00, 27.68it/s]\n"
     ]
    },
    {
     "name": "stdout",
     "output_type": "stream",
     "text": [
      "Epoch: 25/40, Train Loss: 0.0655, Train Accuracy: 0.9772, Val Accuracy: 0.9283\n"
     ]
    },
    {
     "name": "stderr",
     "output_type": "stream",
     "text": [
      "Epoch 26/40 [Train]: 100%|██████████| 3489/3489 [02:34<00:00, 22.66it/s, loss=0.0939]\n",
      "Epoch 26/40 [Val]: 100%|██████████| 1161/1161 [00:37<00:00, 31.01it/s]\n"
     ]
    },
    {
     "name": "stdout",
     "output_type": "stream",
     "text": [
      "Epoch: 26/40, Train Loss: 0.1483, Train Accuracy: 0.9424, Val Accuracy: 0.9214\n"
     ]
    },
    {
     "name": "stderr",
     "output_type": "stream",
     "text": [
      "Epoch 27/40 [Train]: 100%|██████████| 3489/3489 [02:21<00:00, 24.59it/s, loss=0.0675]\n",
      "Epoch 27/40 [Val]: 100%|██████████| 1161/1161 [00:38<00:00, 29.97it/s]\n"
     ]
    },
    {
     "name": "stdout",
     "output_type": "stream",
     "text": [
      "Epoch: 27/40, Train Loss: 0.1172, Train Accuracy: 0.9553, Val Accuracy: 0.9256\n"
     ]
    },
    {
     "name": "stderr",
     "output_type": "stream",
     "text": [
      "Epoch 28/40 [Train]: 100%|██████████| 3489/3489 [02:18<00:00, 25.21it/s, loss=0.018]\n",
      "Epoch 28/40 [Val]: 100%|██████████| 1161/1161 [00:36<00:00, 31.47it/s]\n"
     ]
    },
    {
     "name": "stdout",
     "output_type": "stream",
     "text": [
      "Epoch: 28/40, Train Loss: 0.0732, Train Accuracy: 0.9736, Val Accuracy: 0.9110\n"
     ]
    },
    {
     "name": "stderr",
     "output_type": "stream",
     "text": [
      "Epoch 29/40 [Train]: 100%|██████████| 3489/3489 [02:18<00:00, 25.19it/s, loss=0.00687]\n",
      "Epoch 29/40 [Val]: 100%|██████████| 1161/1161 [00:37<00:00, 31.30it/s]\n"
     ]
    },
    {
     "name": "stdout",
     "output_type": "stream",
     "text": [
      "Epoch: 29/40, Train Loss: 0.0651, Train Accuracy: 0.9776, Val Accuracy: 0.9122\n"
     ]
    },
    {
     "name": "stderr",
     "output_type": "stream",
     "text": [
      "Epoch 30/40 [Train]: 100%|██████████| 3489/3489 [02:17<00:00, 25.31it/s, loss=0.111]\n",
      "Epoch 30/40 [Val]: 100%|██████████| 1161/1161 [00:36<00:00, 31.68it/s]\n"
     ]
    },
    {
     "name": "stdout",
     "output_type": "stream",
     "text": [
      "Epoch: 30/40, Train Loss: 0.1131, Train Accuracy: 0.9585, Val Accuracy: 0.9079\n"
     ]
    },
    {
     "name": "stderr",
     "output_type": "stream",
     "text": [
      "Epoch 31/40 [Train]: 100%|██████████| 3489/3489 [02:21<00:00, 24.73it/s, loss=0.00209]\n",
      "Epoch 31/40 [Val]: 100%|██████████| 1161/1161 [00:36<00:00, 31.69it/s]\n"
     ]
    },
    {
     "name": "stdout",
     "output_type": "stream",
     "text": [
      "Epoch: 31/40, Train Loss: 0.0954, Train Accuracy: 0.9651, Val Accuracy: 0.9251\n"
     ]
    },
    {
     "name": "stderr",
     "output_type": "stream",
     "text": [
      "Epoch 32/40 [Train]: 100%|██████████| 3489/3489 [02:17<00:00, 25.36it/s, loss=0.125]\n",
      "Epoch 32/40 [Val]: 100%|██████████| 1161/1161 [00:36<00:00, 32.19it/s]\n"
     ]
    },
    {
     "name": "stdout",
     "output_type": "stream",
     "text": [
      "Epoch: 32/40, Train Loss: 0.0646, Train Accuracy: 0.9773, Val Accuracy: 0.9173\n"
     ]
    },
    {
     "name": "stderr",
     "output_type": "stream",
     "text": [
      "Epoch 33/40 [Train]: 100%|██████████| 3489/3489 [02:15<00:00, 25.75it/s, loss=0.00202]\n",
      "Epoch 33/40 [Val]: 100%|██████████| 1161/1161 [00:36<00:00, 31.87it/s]\n"
     ]
    },
    {
     "name": "stdout",
     "output_type": "stream",
     "text": [
      "Epoch: 33/40, Train Loss: 0.0757, Train Accuracy: 0.9732, Val Accuracy: 0.9333\n"
     ]
    },
    {
     "name": "stderr",
     "output_type": "stream",
     "text": [
      "Epoch 34/40 [Train]: 100%|██████████| 3489/3489 [02:23<00:00, 24.38it/s, loss=0.00975]\n",
      "Epoch 34/40 [Val]: 100%|██████████| 1161/1161 [00:37<00:00, 30.92it/s]\n"
     ]
    },
    {
     "name": "stdout",
     "output_type": "stream",
     "text": [
      "Epoch: 34/40, Train Loss: 0.0710, Train Accuracy: 0.9746, Val Accuracy: 0.9257\n"
     ]
    },
    {
     "name": "stderr",
     "output_type": "stream",
     "text": [
      "Epoch 35/40 [Train]: 100%|██████████| 3489/3489 [02:26<00:00, 23.86it/s, loss=0.0152]\n",
      "Epoch 35/40 [Val]: 100%|██████████| 1161/1161 [00:46<00:00, 25.16it/s]\n"
     ]
    },
    {
     "name": "stdout",
     "output_type": "stream",
     "text": [
      "Epoch: 35/40, Train Loss: 0.0656, Train Accuracy: 0.9810, Val Accuracy: 0.9201\n"
     ]
    },
    {
     "name": "stderr",
     "output_type": "stream",
     "text": [
      "Epoch 36/40 [Train]: 100%|██████████| 3489/3489 [02:52<00:00, 20.19it/s, loss=0.00249]\n",
      "Epoch 36/40 [Val]: 100%|██████████| 1161/1161 [00:41<00:00, 28.29it/s]\n"
     ]
    },
    {
     "name": "stdout",
     "output_type": "stream",
     "text": [
      "Epoch: 36/40, Train Loss: 0.0664, Train Accuracy: 0.9763, Val Accuracy: 0.9301\n"
     ]
    },
    {
     "name": "stderr",
     "output_type": "stream",
     "text": [
      "Epoch 37/40 [Train]: 100%|██████████| 3489/3489 [02:31<00:00, 23.07it/s, loss=0.0213]\n",
      "Epoch 37/40 [Val]: 100%|██████████| 1161/1161 [00:39<00:00, 29.31it/s]\n"
     ]
    },
    {
     "name": "stdout",
     "output_type": "stream",
     "text": [
      "Epoch: 37/40, Train Loss: 0.0738, Train Accuracy: 0.9738, Val Accuracy: 0.9036\n"
     ]
    },
    {
     "name": "stderr",
     "output_type": "stream",
     "text": [
      "Epoch 38/40 [Train]: 100%|██████████| 3489/3489 [02:23<00:00, 24.29it/s, loss=0.00476]\n",
      "Epoch 38/40 [Val]: 100%|██████████| 1161/1161 [00:41<00:00, 28.11it/s]\n"
     ]
    },
    {
     "name": "stdout",
     "output_type": "stream",
     "text": [
      "Epoch: 38/40, Train Loss: 0.0688, Train Accuracy: 0.9751, Val Accuracy: 0.9230\n"
     ]
    },
    {
     "name": "stderr",
     "output_type": "stream",
     "text": [
      "Epoch 39/40 [Train]: 100%|██████████| 3489/3489 [02:18<00:00, 25.20it/s, loss=0.235]\n",
      "Epoch 39/40 [Val]: 100%|██████████| 1161/1161 [00:36<00:00, 31.98it/s]\n"
     ]
    },
    {
     "name": "stdout",
     "output_type": "stream",
     "text": [
      "Epoch: 39/40, Train Loss: 0.0859, Train Accuracy: 0.9679, Val Accuracy: 0.9174\n"
     ]
    },
    {
     "name": "stderr",
     "output_type": "stream",
     "text": [
      "Epoch 40/40 [Train]: 100%|██████████| 3489/3489 [02:12<00:00, 26.24it/s, loss=0.00503]\n",
      "Epoch 40/40 [Val]: 100%|██████████| 1161/1161 [00:38<00:00, 30.11it/s]"
     ]
    },
    {
     "name": "stdout",
     "output_type": "stream",
     "text": [
      "Epoch: 40/40, Train Loss: 0.0628, Train Accuracy: 0.9786, Val Accuracy: 0.9313\n",
      "Max Accuracy: 0.9333010335917312\n"
     ]
    },
    {
     "name": "stderr",
     "output_type": "stream",
     "text": [
      "\n"
     ]
    }
   ],
   "source": [
    "from tqdm import tqdm\n",
    "\n",
    "# Model training and testing\n",
    "n_total_steps = len(train_dataloader)\n",
    "train_accuracy_list = []\n",
    "train_loss_list = []\n",
    "val_accuracy_list = []\n",
    "max_acc = 0\n",
    "num_epochs = 40\n",
    "pred_labels = []\n",
    "act_labels = []\n",
    "device = torch.device('cuda' if torch.cuda.is_available() else 'cpu')\n",
    "model.to(device)\n",
    "\n",
    "for epoch in range(num_epochs):\n",
    "    model.train()\n",
    "    train_accuracy = 0.0\n",
    "    train_loss = 0.0\n",
    "\n",
    "    # Training loop with tqdm\n",
    "    train_loop = tqdm(enumerate(train_dataloader), total=len(train_dataloader), desc=f\"Epoch {epoch+1}/{num_epochs} [Train]\")\n",
    "    for batch_idx, (images, labels) in train_loop:\n",
    "        images, labels = images.to(device), labels.to(device)\n",
    "        optimizer.zero_grad()\n",
    "        outputs = model(images)\n",
    "        loss = loss_function(outputs, labels)\n",
    "        loss.backward()\n",
    "        optimizer.step()\n",
    "\n",
    "        # stats\n",
    "        train_loss += loss.item() * images.size(0)\n",
    "        _, prediction = torch.max(outputs.data, 1)\n",
    "        train_accuracy += int((prediction == labels).sum().item())\n",
    "\n",
    "        # Update tqdm bar\n",
    "        train_loop.set_postfix(loss=loss.item())\n",
    "\n",
    "    train_accuracy /= train_count\n",
    "    train_loss /= train_count\n",
    "    train_accuracy_list.append(train_accuracy)\n",
    "    train_loss_list.append(train_loss)\n",
    "\n",
    "    # Validation loop with tqdm\n",
    "    model.eval()\n",
    "    val_accuracy = 0.0\n",
    "    pred = []\n",
    "    lab = []\n",
    "\n",
    "    val_loop = tqdm(val_dataloader, total=len(val_dataloader), desc=f\"Epoch {epoch+1}/{num_epochs} [Val]\")\n",
    "    with torch.no_grad():\n",
    "        for images, labels in val_loop:\n",
    "            images, labels = images.to(device), labels.to(device)\n",
    "            outputs = model(images)\n",
    "            _, prediction = torch.max(outputs.data, 1)\n",
    "            val_accuracy += int((prediction == labels).sum().item())\n",
    "            pred.extend(prediction.cpu().tolist())\n",
    "            lab.extend(labels.cpu().tolist())\n",
    "\n",
    "    val_accuracy /= val_count\n",
    "    val_accuracy_list.append(val_accuracy)\n",
    "\n",
    "    if max_acc < val_accuracy:\n",
    "        max_acc = val_accuracy\n",
    "        pred_labels = pred\n",
    "        actual_labels = lab\n",
    "        torch.save(model, \"best_accuracy_model_BiLSTM.pth\")\n",
    "\n",
    "    print(f\"Epoch: {epoch + 1}/{num_epochs}, Train Loss: {train_loss:.4f}, \"\n",
    "          f\"Train Accuracy: {train_accuracy:.4f}, Val Accuracy: {val_accuracy:.4f}\")\n",
    "\n",
    "print(\"Max Accuracy:\", max_acc)\n"
   ]
  },
  {
   "cell_type": "code",
   "execution_count": 19,
   "id": "b897fe8d",
   "metadata": {
    "execution": {
     "iopub.execute_input": "2025-09-03T20:46:58.469641Z",
     "iopub.status.busy": "2025-09-03T20:46:58.469333Z",
     "iopub.status.idle": "2025-09-03T20:51:05.671458Z",
     "shell.execute_reply": "2025-09-03T20:51:05.670644Z"
    },
    "papermill": {
     "duration": 265.804016,
     "end_time": "2025-09-03T20:51:14.986638",
     "exception": false,
     "start_time": "2025-09-03T20:46:49.182622",
     "status": "completed"
    },
    "tags": []
   },
   "outputs": [
    {
     "name": "stdout",
     "output_type": "stream",
     "text": [
      "Testing Accuracy: 94.30%\n"
     ]
    }
   ],
   "source": [
    "best_model=torch.load(\"best_accuracy_model_BiLSTM.pth\", weights_only=False)\n",
    "best_model.to(device, dtype=torch.double)\n",
    "best_model.eval()\n",
    "\n",
    "# Initialize variables to store results\n",
    "testing_accuracy = 0.0\n",
    "pred_labels = []\n",
    "act_labels = []\n",
    "\n",
    "# Iterate over the test dataloader\n",
    "with torch.no_grad():\n",
    "    for i, (images, labels) in enumerate(test_dataloader):\n",
    "        if torch.cuda.is_available():\n",
    "            images = Variable(images.cuda())\n",
    "            labels = Variable(labels.cuda())\n",
    "        else:\n",
    "            images = Variable(images)\n",
    "            labels = Variable(labels)\n",
    "\n",
    "        # Forward pass (only input x)\n",
    "        outputs = best_model(images)\n",
    "\n",
    "        # Get predictions by taking the index with the highest score\n",
    "        _, prediction = torch.max(outputs.data, 1)\n",
    "\n",
    "        # Calculate the number of correct predictions\n",
    "        testing_accuracy += (prediction == labels).sum().item()\n",
    "\n",
    "        # Store predicted and actual labels\n",
    "        pred_labels.extend(prediction.cpu().tolist())\n",
    "        act_labels.extend(labels.cpu().tolist())\n",
    "\n",
    "# Calculate the testing accuracy\n",
    "testing_accuracy /= len(test_dataloader.dataset)\n",
    "\n",
    "# Print the testing accuracy\n",
    "print(f\"Testing Accuracy: {testing_accuracy * 100:.2f}%\")"
   ]
  },
  {
   "cell_type": "code",
   "execution_count": 20,
   "id": "7963a561",
   "metadata": {
    "execution": {
     "iopub.execute_input": "2025-09-03T20:51:33.288687Z",
     "iopub.status.busy": "2025-09-03T20:51:33.288397Z",
     "iopub.status.idle": "2025-09-03T20:51:33.292035Z",
     "shell.execute_reply": "2025-09-03T20:51:33.291431Z"
    },
    "papermill": {
     "duration": 8.997269,
     "end_time": "2025-09-03T20:51:33.293068",
     "exception": false,
     "start_time": "2025-09-03T20:51:24.295799",
     "status": "completed"
    },
    "tags": []
   },
   "outputs": [],
   "source": [
    "# # Calculate the confusion matrix\n",
    "# import seaborn as sns\n",
    "# conf_mat = confusion_matrix(act_labels, pred_labels)\n",
    "# # Plot confusion matrix heat map\n",
    "# sns.heatmap(conf_mat, cmap=\"flare\",annot=True, fmt = \"g\", \n",
    "#             cbar_kws={\"label\":\"color bar\"},\n",
    "#             xticklabels=train_dataset.classes,\n",
    "#             yticklabels=train_dataset.classes)\n",
    "# plt.xlabel(\"Predicted\")\n",
    "# plt.ylabel(\"Actual\")\n",
    "# plt.title(\"Confusion Matrix\")\n",
    "# plt.savefig(\"ConfusionMatrix_BiLSTM.png\")\n",
    "# plt.show()\n",
    "# from sklearn.metrics import f1_score\n",
    "# f1_score = f1_score(pred_labels, act_labels, average='macro')\n",
    "# print('F1 Score : ', f1_score)"
   ]
  },
  {
   "cell_type": "code",
   "execution_count": 21,
   "id": "471530dd",
   "metadata": {
    "execution": {
     "iopub.execute_input": "2025-09-03T20:51:51.519643Z",
     "iopub.status.busy": "2025-09-03T20:51:51.519350Z",
     "iopub.status.idle": "2025-09-03T20:51:51.540734Z",
     "shell.execute_reply": "2025-09-03T20:51:51.540039Z"
    },
    "papermill": {
     "duration": 9.217487,
     "end_time": "2025-09-03T20:51:51.541825",
     "exception": false,
     "start_time": "2025-09-03T20:51:42.324338",
     "status": "completed"
    },
    "tags": []
   },
   "outputs": [
    {
     "name": "stdout",
     "output_type": "stream",
     "text": [
      "The equal error rate is 0.057\n"
     ]
    }
   ],
   "source": [
    "import numpy as np\n",
    "import sklearn.metrics\n",
    "\n",
    "\"\"\"\n",
    "Python compute equal error rate (eer)\n",
    "ONLY tested on binary classification\n",
    "\n",
    ":param label: ground-truth label, should be a 1-d list or np.array, each element represents the ground-truth label of one sample\n",
    ":param pred: model prediction, should be a 1-d list or np.array, each element represents the model prediction of one sample\n",
    ":param positive_label: the class that is viewed as positive class when computing EER\n",
    ":return: equal error rate (EER)\n",
    "\"\"\"\n",
    "def compute_eer(label, pred):\n",
    "    # all fpr, tpr, fnr, fnr, threshold are lists (in the format of np.array)\n",
    "    fpr, tpr, threshold = sklearn.metrics.roc_curve(label, pred)\n",
    "    fnr = 1 - tpr\n",
    "\n",
    "    # the threshold of fnr == fpr\n",
    "    eer_threshold = threshold[np.nanargmin(np.absolute((fnr - fpr)))]\n",
    "\n",
    "    # theoretically eer from fpr and eer from fnr should be identical but they can be slightly differ in reality\n",
    "    eer_1 = fpr[np.nanargmin(np.absolute((fnr - fpr)))]\n",
    "    eer_2 = fnr[np.nanargmin(np.absolute((fnr - fpr)))]\n",
    "\n",
    "    # return the mean of eer from fpr and from fnr\n",
    "    eer = (eer_1 + eer_2) / 2\n",
    "    return eer\n",
    "\n",
    "eer = compute_eer(act_labels, pred_labels)\n",
    "print('The equal error rate is {:.3f}'.format(eer))"
   ]
  },
  {
   "cell_type": "code",
   "execution_count": null,
   "id": "55a5389b",
   "metadata": {
    "papermill": {
     "duration": 9.244401,
     "end_time": "2025-09-03T20:52:10.099665",
     "exception": false,
     "start_time": "2025-09-03T20:52:00.855264",
     "status": "completed"
    },
    "tags": []
   },
   "outputs": [],
   "source": []
  }
 ],
 "metadata": {
  "kaggle": {
   "accelerator": "gpu",
   "dataSources": [
    {
     "datasetId": 6539291,
     "sourceId": 10567782,
     "sourceType": "datasetVersion"
    }
   ],
   "dockerImageVersionId": 31090,
   "isGpuEnabled": true,
   "isInternetEnabled": false,
   "language": "python",
   "sourceType": "notebook"
  },
  "kernelspec": {
   "display_name": "Python 3",
   "language": "python",
   "name": "python3"
  },
  "language_info": {
   "codemirror_mode": {
    "name": "ipython",
    "version": 3
   },
   "file_extension": ".py",
   "mimetype": "text/x-python",
   "name": "python",
   "nbconvert_exporter": "python",
   "pygments_lexer": "ipython3",
   "version": "3.11.13"
  },
  "papermill": {
   "default_parameters": {},
   "duration": 8472.336585,
   "end_time": "2025-09-03T20:52:20.946622",
   "environment_variables": {},
   "exception": null,
   "input_path": "__notebook__.ipynb",
   "output_path": "__notebook__.ipynb",
   "parameters": {},
   "start_time": "2025-09-03T18:31:08.610037",
   "version": "2.5.0"
  }
 },
 "nbformat": 4,
 "nbformat_minor": 5
}
