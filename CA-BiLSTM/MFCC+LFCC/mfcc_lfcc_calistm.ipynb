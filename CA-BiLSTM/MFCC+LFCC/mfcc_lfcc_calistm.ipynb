{
 "cells": [
  {
   "cell_type": "code",
   "execution_count": 1,
   "id": "43d35e28",
   "metadata": {
    "execution": {
     "iopub.execute_input": "2025-09-06T10:36:33.916887Z",
     "iopub.status.busy": "2025-09-06T10:36:33.916680Z",
     "iopub.status.idle": "2025-09-06T10:36:33.920074Z",
     "shell.execute_reply": "2025-09-06T10:36:33.919556Z"
    },
    "papermill": {
     "duration": 0.009018,
     "end_time": "2025-09-06T10:36:33.921325",
     "exception": false,
     "start_time": "2025-09-06T10:36:33.912307",
     "status": "completed"
    },
    "tags": []
   },
   "outputs": [],
   "source": [
    "# !pip install --upgrade scipy"
   ]
  },
  {
   "cell_type": "code",
   "execution_count": 2,
   "id": "62e59ff5",
   "metadata": {
    "execution": {
     "iopub.execute_input": "2025-09-06T10:36:33.927932Z",
     "iopub.status.busy": "2025-09-06T10:36:33.927742Z",
     "iopub.status.idle": "2025-09-06T10:36:38.706696Z",
     "shell.execute_reply": "2025-09-06T10:36:38.706133Z"
    },
    "papermill": {
     "duration": 4.783546,
     "end_time": "2025-09-06T10:36:38.707995",
     "exception": false,
     "start_time": "2025-09-06T10:36:33.924449",
     "status": "completed"
    },
    "tags": []
   },
   "outputs": [],
   "source": [
    "import torch \n",
    "import torch.nn as nn\n",
    "import torch.nn.functional as F\n",
    "from torch.autograd import Variable\n",
    "from torch.utils.data import Dataset, DataLoader\n",
    "\n",
    "import os, pathlib, glob, random\n",
    "import numpy as np\n",
    "import matplotlib.pyplot as plt \n",
    "\n",
    "from sklearn.metrics import confusion_matrix\n",
    "import scipy\n",
    "from scipy import io"
   ]
  },
  {
   "cell_type": "code",
   "execution_count": 3,
   "id": "2746e2df",
   "metadata": {
    "execution": {
     "iopub.execute_input": "2025-09-06T10:36:38.715127Z",
     "iopub.status.busy": "2025-09-06T10:36:38.714811Z",
     "iopub.status.idle": "2025-09-06T10:36:38.770505Z",
     "shell.execute_reply": "2025-09-06T10:36:38.769657Z"
    },
    "papermill": {
     "duration": 0.060341,
     "end_time": "2025-09-06T10:36:38.771689",
     "exception": false,
     "start_time": "2025-09-06T10:36:38.711348",
     "status": "completed"
    },
    "tags": []
   },
   "outputs": [
    {
     "name": "stdout",
     "output_type": "stream",
     "text": [
      "cuda\n"
     ]
    }
   ],
   "source": [
    "device = torch.device('cuda' if torch.cuda.is_available() else 'cpu')\n",
    "print(device)"
   ]
  },
  {
   "cell_type": "code",
   "execution_count": 4,
   "id": "9d36052a",
   "metadata": {
    "execution": {
     "iopub.execute_input": "2025-09-06T10:36:38.778766Z",
     "iopub.status.busy": "2025-09-06T10:36:38.778079Z",
     "iopub.status.idle": "2025-09-06T10:36:38.781396Z",
     "shell.execute_reply": "2025-09-06T10:36:38.780872Z"
    },
    "papermill": {
     "duration": 0.007797,
     "end_time": "2025-09-06T10:36:38.782477",
     "exception": false,
     "start_time": "2025-09-06T10:36:38.774680",
     "status": "completed"
    },
    "tags": []
   },
   "outputs": [],
   "source": [
    "batch_size = 32\n",
    "output_nodes = 10\n",
    "learning_rate = 0.001"
   ]
  },
  {
   "cell_type": "code",
   "execution_count": 5,
   "id": "f7c69647",
   "metadata": {
    "execution": {
     "iopub.execute_input": "2025-09-06T10:36:38.789251Z",
     "iopub.status.busy": "2025-09-06T10:36:38.788966Z",
     "iopub.status.idle": "2025-09-06T10:46:38.028750Z",
     "shell.execute_reply": "2025-09-06T10:46:38.027963Z"
    },
    "papermill": {
     "duration": 599.247237,
     "end_time": "2025-09-06T10:46:38.032681",
     "exception": false,
     "start_time": "2025-09-06T10:36:38.785444",
     "status": "completed"
    },
    "tags": []
   },
   "outputs": [
    {
     "name": "stdout",
     "output_type": "stream",
     "text": [
      "Training samples: 111633\n",
      "Validation samples: 37152\n",
      "Testing samples: 37971\n"
     ]
    }
   ],
   "source": [
    "import os\n",
    "import random\n",
    "import scipy.io\n",
    "import numpy as np\n",
    "from torch.utils.data import Dataset, DataLoader\n",
    "# ======================\n",
    "# Paths for both datasets\n",
    "# ======================\n",
    "train_mgdcc = r\"/kaggle/input/mfcc-new/mfcc/train\"\n",
    "val_mgdcc   = r\"/kaggle/input/mfcc-new/mfcc/dev\"\n",
    "test_mgdcc  = r\"/kaggle/input/mfcc-new/mfcc/test\"\n",
    "\n",
    "train_lfcc = r\"/kaggle/input/lfcc-feature/LFCC_Features/train\"\n",
    "val_lfcc   = r\"/kaggle/input/lfcc-feature/LFCC_Features/dev\"\n",
    "test_lfcc  = r\"/kaggle/input/lfcc-feature/LFCC_Features/test\"\n",
    "\n",
    "# ======================\n",
    "# Dataset Class\n",
    "# ======================\n",
    "class MixedFeatureDataset(Dataset):\n",
    "    def __init__(self, mgdcc_dir, lfcc_dir, max_len=10):\n",
    "        \"\"\"Load MGDCC + LFCC features for the same audio files.\"\"\"\n",
    "        self.files = []\n",
    "        self.class_to_idx = {}\n",
    "        self.max_len = max_len\n",
    "\n",
    "        classes = sorted(entry.name for entry in os.scandir(mgdcc_dir) if entry.is_dir())\n",
    "\n",
    "        for c in classes:\n",
    "            if c not in self.class_to_idx:\n",
    "                self.class_to_idx[c] = len(self.class_to_idx)\n",
    "\n",
    "            mgdcc_cdir = os.path.join(mgdcc_dir, c)\n",
    "            lfcc_cdir = os.path.join(lfcc_dir, c)\n",
    "\n",
    "            for f in os.listdir(mgdcc_cdir):\n",
    "                mgdcc_file = os.path.join(mgdcc_cdir, f)\n",
    "                lfcc_file = os.path.join(lfcc_cdir, f)\n",
    "\n",
    "                if os.path.exists(lfcc_file):   # only keep if both exist\n",
    "                    self.files.append((mgdcc_file, lfcc_file, self.class_to_idx[c]))\n",
    "\n",
    "        random.shuffle(self.files)\n",
    "\n",
    "    def __len__(self):\n",
    "        return len(self.files)\n",
    "\n",
    "    def __getitem__(self, idx):\n",
    "        mgdcc_file, lfcc_file, label = self.files[idx]\n",
    "        try:\n",
    "            mgdcc_vals = scipy.io.loadmat(mgdcc_file)['final'].T\n",
    "            lfcc_vals  = scipy.io.loadmat(lfcc_file)['final'].T\n",
    "    \n",
    "            # Align feature dimension (rows)\n",
    "            max_rows = max(mgdcc_vals.shape[0], lfcc_vals.shape[0])\n",
    "    \n",
    "            def pad_rows(x, target_rows):\n",
    "                if x.shape[0] < target_rows:\n",
    "                    pad_amt = target_rows - x.shape[0]\n",
    "                    return np.pad(x, pad_width=((0, pad_amt), (0, 0)), mode='constant')\n",
    "                return x\n",
    "    \n",
    "            mgdcc_vals = pad_rows(mgdcc_vals, max_rows)\n",
    "            lfcc_vals  = pad_rows(lfcc_vals, max_rows)\n",
    "    \n",
    "            # Now safe to hstack (same rows, concatenate columns)\n",
    "            data = np.hstack([mgdcc_vals, lfcc_vals])\n",
    "    \n",
    "            # Optional: pad/truncate along time dimension (rows = frames)\n",
    "            max_len = 10\n",
    "            if max_len > data.shape[0]:\n",
    "                pad_width = max_len - data.shape[0]\n",
    "                data = np.pad(data, pad_width=((0, pad_width), (0, 0)), mode='constant')\n",
    "            else:\n",
    "                data = data[:max_len, :]\n",
    "    \n",
    "        except Exception as e:\n",
    "            print(f\"Error loading files {mgdcc_file}, {lfcc_file}: {str(e)}\")\n",
    "            return None\n",
    "    \n",
    "        return data, label\n",
    "    \n",
    "    \n",
    "    \n",
    "    # ======================\n",
    "# DataLoader wrapper\n",
    "# ======================\n",
    "class PtDataLoader(DataLoader):\n",
    "    def __init__(self, mgdcc_dir, lfcc_dir, batch_size, shuffle=True):\n",
    "        dataset = MixedFeatureDataset(mgdcc_dir, lfcc_dir)\n",
    "        super().__init__(dataset, batch_size=batch_size, shuffle=shuffle)\n",
    "\n",
    "# ======================\n",
    "# Load datasets\n",
    "# ======================\n",
    "batch_size = 32\n",
    "\n",
    "train_dataset = MixedFeatureDataset(train_mgdcc, train_lfcc)\n",
    "val_dataset   = MixedFeatureDataset(val_mgdcc, val_lfcc)\n",
    "test_dataset  = MixedFeatureDataset(test_mgdcc, test_lfcc)\n",
    "\n",
    "train_dataloader = PtDataLoader(train_mgdcc, train_lfcc, batch_size=batch_size)\n",
    "val_dataloader   = PtDataLoader(val_mgdcc, val_lfcc, batch_size=batch_size)\n",
    "test_dataloader  = PtDataLoader(test_mgdcc, test_lfcc, batch_size=batch_size)\n",
    "\n",
    "train_count = len(train_dataset)\n",
    "val_count   = len(val_dataset)\n",
    "test_count  = len(test_dataset)\n",
    "\n",
    "print(f\"Training samples: {train_count}\\nValidation samples: {val_count}\\nTesting samples: {test_count}\")\n"
   ]
  },
  {
   "cell_type": "code",
   "execution_count": 6,
   "id": "95e35459",
   "metadata": {
    "execution": {
     "iopub.execute_input": "2025-09-06T10:46:38.039743Z",
     "iopub.status.busy": "2025-09-06T10:46:38.039509Z",
     "iopub.status.idle": "2025-09-06T10:46:38.145143Z",
     "shell.execute_reply": "2025-09-06T10:46:38.144415Z"
    },
    "papermill": {
     "duration": 0.110685,
     "end_time": "2025-09-06T10:46:38.146379",
     "exception": false,
     "start_time": "2025-09-06T10:46:38.035694",
     "status": "completed"
    },
    "tags": []
   },
   "outputs": [],
   "source": [
    "drop_amount = 0.255\n",
    "\n",
    "import torch\n",
    "import torch.nn as nn\n",
    "import torch.nn.functional as F\n",
    "from collections import OrderedDict\n",
    "from torch.nn.parameter import Parameter\n",
    "from torch.utils import data\n",
    "\n",
    "class Res2NetBlock(nn.Module):\n",
    "    def __init__(self, in_channels, out_channels, scale=4, kernel_size=3, stride=1, padding=1):\n",
    "        super(Res2NetBlock, self).__init__()\n",
    "        assert out_channels % scale == 0, \"Output channels must be divisible by scale\"\n",
    "        self.scale = scale\n",
    "        self.split_channels = out_channels // scale\n",
    "\n",
    "        self.conv1 = nn.Conv1d(in_channels, out_channels, kernel_size=1, stride=1, bias=False)\n",
    "        self.bn1 = nn.BatchNorm1d(out_channels)\n",
    "\n",
    "        self.convs = nn.ModuleList([\n",
    "            nn.Conv1d(self.split_channels, self.split_channels, kernel_size, stride=stride, padding=padding, bias=False)\n",
    "            for _ in range(scale - 1)\n",
    "        ])\n",
    "\n",
    "        self.bn2 = nn.BatchNorm1d(out_channels)\n",
    "        self.conv3 = nn.Conv1d(out_channels, out_channels, kernel_size=1, stride=1, bias=False)\n",
    "\n",
    "        self.relu = nn.ReLU(inplace=True)\n",
    "\n",
    "    def forward(self, x):\n",
    "        out = self.conv1(x)\n",
    "        out = self.bn1(out)\n",
    "        out = self.relu(out)\n",
    "\n",
    "        splits = torch.chunk(out, self.scale, dim=1)\n",
    "        out = splits[0]\n",
    "        result = [out]  # Collect outputs here to avoid in-place addition\n",
    "        for i, conv in enumerate(self.convs):\n",
    "            result.append(conv(splits[i + 1]))\n",
    "        out = torch.cat(result, dim=1)  # Concatenate all parts\n",
    "\n",
    "        out = self.conv3(out)\n",
    "        out = self.bn2(out)\n",
    "        return self.relu(out)\n",
    "\n",
    "\n",
    "class AMSoftmaxLoss(nn.Module):\n",
    "    def __init__(self, in_features, out_features, s=30.0, m=0.4):\n",
    "        super(AMSoftmaxLoss, self).__init__()\n",
    "        self.s = s\n",
    "        self.m = m\n",
    "        self.weight = Parameter(torch.DoubleTensor(out_features, in_features))\n",
    "        nn.init.xavier_uniform_(self.weight)\n",
    "\n",
    "    def forward(self, x, labels):\n",
    "        cosine = F.linear(F.normalize(x), F.normalize(self.weight))\n",
    "        phi = cosine - self.m\n",
    "        one_hot = torch.zeros_like(cosine)\n",
    "        one_hot.scatter_(1, labels.view(-1, 1).long(), 1)\n",
    "        logits = one_hot * phi + (1.0 - one_hot) * cosine\n",
    "        logits *= self.s\n",
    "        return logits\n",
    "\n",
    "\n",
    "class AASIST2(nn.Module):\n",
    "    def __init__(self, d_args):\n",
    "        super(AASIST2, self).__init__()\n",
    "        self.res2net_block1 = Res2NetBlock(d_args['in_channels'], d_args['filts'][0], scale=4)\n",
    "        self.res2net_block2 = Res2NetBlock(d_args['filts'][0], d_args['filts'][1], scale=4)\n",
    "        self.res2net_block3 = Res2NetBlock(d_args['filts'][1], d_args['filts'][2], scale=4)\n",
    "\n",
    "        self.gru = nn.GRU(input_size=d_args['filts'][2],\n",
    "                          hidden_size=d_args['gru_node'],\n",
    "                          num_layers=d_args['nb_gru_layer'],\n",
    "                          batch_first=True)\n",
    "\n",
    "        self.fc1 = nn.Linear(d_args['gru_node'], d_args['nb_fc_node'])  # Input size must match GRU hidden size\n",
    "        self.fc2 = nn.Linear(d_args['nb_fc_node'], d_args['nb_classes'])  # Matches number of classes\n",
    "\n",
    "        self.am_softmax = AMSoftmaxLoss(d_args['nb_fc_node'], d_args['nb_classes'])  # Use fc1 output size\n",
    "\n",
    "    def forward(self, x, labels=None, is_test=False):\n",
    "        x = self.res2net_block1(x)\n",
    "        x = self.res2net_block2(x)\n",
    "        x = self.res2net_block3(x)\n",
    "\n",
    "        x = x.permute(0, 2, 1)  # Permute for GRU input [batch, sequence, feature]\n",
    "        self.gru.flatten_parameters()\n",
    "        x, _ = self.gru(x)\n",
    "        x = x[:, -1, :]  # Take last time step output\n",
    "\n",
    "        x = self.fc1(x)\n",
    "        logits = self.fc2(x)\n",
    "\n",
    "        if labels is not None:  # Compute AMSoftmax only if labels are provided\n",
    "            return self.am_softmax(x, labels)\n",
    "        else:  # Return logits for testing/inference\n",
    "            return F.softmax(logits, dim=1)\n",
    "\n",
    "d_args = {\n",
    "    'in_channels': 1,\n",
    "    'filts': [64, 128, 256],\n",
    "    'gru_node': 128,\n",
    "    'nb_gru_layer': 2,\n",
    "    'nb_fc_node': 64,\n",
    "    'nb_classes': 2\n",
    "}\n",
    "model = AASIST2(d_args)\n"
   ]
  },
  {
   "cell_type": "code",
   "execution_count": 7,
   "id": "9dacc83b",
   "metadata": {
    "execution": {
     "iopub.execute_input": "2025-09-06T10:46:38.153238Z",
     "iopub.status.busy": "2025-09-06T10:46:38.152778Z",
     "iopub.status.idle": "2025-09-06T10:46:38.155989Z",
     "shell.execute_reply": "2025-09-06T10:46:38.155476Z"
    },
    "papermill": {
     "duration": 0.007716,
     "end_time": "2025-09-06T10:46:38.157074",
     "exception": false,
     "start_time": "2025-09-06T10:46:38.149358",
     "status": "completed"
    },
    "tags": []
   },
   "outputs": [],
   "source": [
    "import torch\n",
    "from torch import nn\n",
    "from torch.nn import Parameter\n",
    "import torch.nn.functional as F"
   ]
  },
  {
   "cell_type": "code",
   "execution_count": 8,
   "id": "2d8c3f63",
   "metadata": {
    "execution": {
     "iopub.execute_input": "2025-09-06T10:46:38.163740Z",
     "iopub.status.busy": "2025-09-06T10:46:38.163561Z",
     "iopub.status.idle": "2025-09-06T10:46:38.170643Z",
     "shell.execute_reply": "2025-09-06T10:46:38.170141Z"
    },
    "papermill": {
     "duration": 0.011589,
     "end_time": "2025-09-06T10:46:38.171578",
     "exception": false,
     "start_time": "2025-09-06T10:46:38.159989",
     "status": "completed"
    },
    "tags": []
   },
   "outputs": [],
   "source": [
    "# drop_amount = 0.255\n",
    "\n",
    "# class BiLSTMClassifier(nn.Module):\n",
    "#     def __init__(self, input_size, hidden_size, num_layers, num_classes):\n",
    "#         super(BiLSTMClassifier, self).__init__()\n",
    "#         self.hidden_size = hidden_size\n",
    "#         self.num_layers = num_layers\n",
    "#         self.lstm = nn.LSTM(input_size, hidden_size, num_layers, batch_first=True, bidirectional=True)\n",
    "#         self.dropout = nn.Dropout(p=drop_amount)\n",
    "#         self.fc = nn.Linear(hidden_size*2, num_classes)\n",
    "\n",
    "#     def forward(self, x):\n",
    "#         h0 = torch.zeros(self.num_layers*2, x.size(0), self.hidden_size).to(device=x.device, dtype=torch.double)\n",
    "#         c0 = torch.zeros(self.num_layers*2, x.size(0), self.hidden_size).to(device=x.device, dtype=torch.double)\n",
    "#         out, _ = self.lstm(x, (h0, c0))\n",
    "#         out = self.dropout(out)\n",
    "#         # Extract the output of the last time step from both directions\n",
    "#         last_hidden_state = torch.cat((out[:, -1, :self.hidden_size], out[:, 0, self.hidden_size:]), dim=1)\n",
    "#         output = self.fc(last_hidden_state)\n",
    "#         return output\n",
    "import torch\n",
    "import torch.nn as nn\n",
    "import torch.nn.functional as F\n",
    "\n",
    "drop_amount = 0.255  # keep your global drop\n",
    "\n",
    "class BiLSTMWithCrossAttention(nn.Module):\n",
    "    def __init__(self, input_size, hidden_size, num_layers, num_classes, num_heads=4):\n",
    "        super().__init__()\n",
    "        self.hidden_size = hidden_size\n",
    "        self.num_layers = num_layers\n",
    "\n",
    "        # BiLSTM (same as yours)\n",
    "        self.lstm = nn.LSTM(\n",
    "            input_size=input_size,\n",
    "            hidden_size=hidden_size,\n",
    "            num_layers=num_layers,\n",
    "            batch_first=True,\n",
    "            bidirectional=True\n",
    "        )\n",
    "\n",
    "        # Cross-attention: Q from BiLSTM (dim = 2*hidden),\n",
    "        # K,V from input projected to the same dim.\n",
    "        embed_dim = hidden_size * 2\n",
    "        self.k_proj = nn.Linear(input_size, embed_dim)\n",
    "        self.v_proj = nn.Linear(input_size, embed_dim)\n",
    "        self.cross_attn = nn.MultiheadAttention(\n",
    "            embed_dim=embed_dim,\n",
    "            num_heads=num_heads,\n",
    "            batch_first=True,\n",
    "            dropout=drop_amount\n",
    "        )\n",
    "\n",
    "        self.dropout = nn.Dropout(p=drop_amount)\n",
    "        self.fc = nn.Linear(embed_dim, num_classes)\n",
    "\n",
    "    def forward(self, x):\n",
    "        # x: [batch, seq_len, input_size]\n",
    "        # init states in the same device/dtype as x\n",
    "        h0 = torch.zeros(self.num_layers * 2, x.size(0), self.hidden_size,\n",
    "                         device=x.device, dtype=x.dtype)\n",
    "        c0 = torch.zeros(self.num_layers * 2, x.size(0), self.hidden_size,\n",
    "                         device=x.device, dtype=x.dtype)\n",
    "\n",
    "        # BiLSTM\n",
    "        lstm_out, _ = self.lstm(x, (h0, c0))            # [B, T, 2H]\n",
    "\n",
    "        # Project input to K,V for cross-attention\n",
    "        K = self.k_proj(x)                               # [B, T, 2H]\n",
    "        V = self.v_proj(x)                               # [B, T, 2H]\n",
    "\n",
    "        # Cross-attention: queries = BiLSTM outputs\n",
    "        attn_out, _ = self.cross_attn(query=lstm_out, key=K, value=V)  # [B, T, 2H]\n",
    "\n",
    "        # Residual + dropout\n",
    "        fused = self.dropout(lstm_out + attn_out)        # [B, T, 2H]\n",
    "\n",
    "        # Keep your original \"last forward + first backward\" trick\n",
    "        last_hidden_state = torch.cat(\n",
    "            (fused[:, -1, :self.hidden_size], fused[:, 0, self.hidden_size:]),\n",
    "            dim=1\n",
    "        )  # [B, 2H]\n",
    "\n",
    "        output = self.fc(last_hidden_state)              # [B, num_classes]\n",
    "        return output\n"
   ]
  },
  {
   "cell_type": "code",
   "execution_count": 9,
   "id": "dde06108",
   "metadata": {
    "execution": {
     "iopub.execute_input": "2025-09-06T10:46:38.177992Z",
     "iopub.status.busy": "2025-09-06T10:46:38.177814Z",
     "iopub.status.idle": "2025-09-06T10:46:38.457607Z",
     "shell.execute_reply": "2025-09-06T10:46:38.456996Z"
    },
    "papermill": {
     "duration": 0.284236,
     "end_time": "2025-09-06T10:46:38.458756",
     "exception": false,
     "start_time": "2025-09-06T10:46:38.174520",
     "status": "completed"
    },
    "tags": []
   },
   "outputs": [
    {
     "data": {
      "text/plain": [
       "BiLSTMWithCrossAttention(\n",
       "  (lstm): LSTM(40, 256, num_layers=2, batch_first=True, bidirectional=True)\n",
       "  (k_proj): Linear(in_features=40, out_features=512, bias=True)\n",
       "  (v_proj): Linear(in_features=40, out_features=512, bias=True)\n",
       "  (cross_attn): MultiheadAttention(\n",
       "    (out_proj): NonDynamicallyQuantizableLinear(in_features=512, out_features=512, bias=True)\n",
       "  )\n",
       "  (dropout): Dropout(p=0.255, inplace=False)\n",
       "  (fc): Linear(in_features=512, out_features=2, bias=True)\n",
       ")"
      ]
     },
     "execution_count": 9,
     "metadata": {},
     "output_type": "execute_result"
    }
   ],
   "source": [
    "# Define the parameters\n",
    "input_size = 40\n",
    "hidden_size = 256\n",
    "num_layers = 2\n",
    "num_classes = 2\n",
    "# model = BiLSTMClassifier(input_size, hidden_size, num_layers, num_classes)\n",
    "model = BiLSTMWithCrossAttention(\n",
    "    input_size=40,   # your MFCC dim\n",
    "    hidden_size=256,\n",
    "    num_layers=2,\n",
    "    num_classes=2,\n",
    "    num_heads=4\n",
    ")\n",
    "model.to(device, dtype=torch.double)  # stays compatible with your training loop\n",
    "\n",
    "model.to(device, dtype=torch.double)"
   ]
  },
  {
   "cell_type": "code",
   "execution_count": 10,
   "id": "b07d2a1c",
   "metadata": {
    "execution": {
     "iopub.execute_input": "2025-09-06T10:46:38.466682Z",
     "iopub.status.busy": "2025-09-06T10:46:38.466471Z",
     "iopub.status.idle": "2025-09-06T10:46:38.469866Z",
     "shell.execute_reply": "2025-09-06T10:46:38.469206Z"
    },
    "papermill": {
     "duration": 0.008185,
     "end_time": "2025-09-06T10:46:38.470963",
     "exception": false,
     "start_time": "2025-09-06T10:46:38.462778",
     "status": "completed"
    },
    "tags": []
   },
   "outputs": [],
   "source": [
    "import torch\n",
    "import torch.nn as nn\n",
    "import torch.optim as optim"
   ]
  },
  {
   "cell_type": "code",
   "execution_count": 11,
   "id": "78a182b9",
   "metadata": {
    "execution": {
     "iopub.execute_input": "2025-09-06T10:46:38.477615Z",
     "iopub.status.busy": "2025-09-06T10:46:38.477445Z",
     "iopub.status.idle": "2025-09-06T10:46:42.630231Z",
     "shell.execute_reply": "2025-09-06T10:46:42.629442Z"
    },
    "papermill": {
     "duration": 4.157605,
     "end_time": "2025-09-06T10:46:42.631601",
     "exception": false,
     "start_time": "2025-09-06T10:46:38.473996",
     "status": "completed"
    },
    "tags": []
   },
   "outputs": [],
   "source": [
    "loss_function = nn.CrossEntropyLoss()\n",
    "optimizer = optim.Adam(model.parameters(), lr=learning_rate)"
   ]
  },
  {
   "cell_type": "code",
   "execution_count": 12,
   "id": "feb11703",
   "metadata": {
    "execution": {
     "iopub.execute_input": "2025-09-06T10:46:42.638789Z",
     "iopub.status.busy": "2025-09-06T10:46:42.638493Z",
     "iopub.status.idle": "2025-09-06T10:46:42.642557Z",
     "shell.execute_reply": "2025-09-06T10:46:42.641802Z"
    },
    "papermill": {
     "duration": 0.008799,
     "end_time": "2025-09-06T10:46:42.643644",
     "exception": false,
     "start_time": "2025-09-06T10:46:42.634845",
     "status": "completed"
    },
    "tags": []
   },
   "outputs": [
    {
     "name": "stdout",
     "output_type": "stream",
     "text": [
      "BiLSTMWithCrossAttention(\n",
      "  (lstm): LSTM(40, 256, num_layers=2, batch_first=True, bidirectional=True)\n",
      "  (k_proj): Linear(in_features=40, out_features=512, bias=True)\n",
      "  (v_proj): Linear(in_features=40, out_features=512, bias=True)\n",
      "  (cross_attn): MultiheadAttention(\n",
      "    (out_proj): NonDynamicallyQuantizableLinear(in_features=512, out_features=512, bias=True)\n",
      "  )\n",
      "  (dropout): Dropout(p=0.255, inplace=False)\n",
      "  (fc): Linear(in_features=512, out_features=2, bias=True)\n",
      ")\n"
     ]
    }
   ],
   "source": [
    "print(model)"
   ]
  },
  {
   "cell_type": "code",
   "execution_count": 13,
   "id": "12c2c141",
   "metadata": {
    "execution": {
     "iopub.execute_input": "2025-09-06T10:46:42.650300Z",
     "iopub.status.busy": "2025-09-06T10:46:42.650083Z",
     "iopub.status.idle": "2025-09-06T18:00:30.651227Z",
     "shell.execute_reply": "2025-09-06T18:00:30.650321Z"
    },
    "papermill": {
     "duration": 26028.005882,
     "end_time": "2025-09-06T18:00:30.652551",
     "exception": false,
     "start_time": "2025-09-06T10:46:42.646669",
     "status": "completed"
    },
    "tags": []
   },
   "outputs": [
    {
     "name": "stderr",
     "output_type": "stream",
     "text": [
      "Epoch 1/40 [Train]: 100%|██████████| 3489/3489 [28:24<00:00,  2.05it/s, loss=0.508]\n",
      "Epoch 1/40 [Val]: 100%|██████████| 1161/1161 [09:18<00:00,  2.08it/s]\n"
     ]
    },
    {
     "name": "stdout",
     "output_type": "stream",
     "text": [
      "Epoch: 1/40, Train Loss: 0.3159, Train Accuracy: 0.8696, Val Accuracy: 0.8597\n"
     ]
    },
    {
     "name": "stderr",
     "output_type": "stream",
     "text": [
      "Epoch 2/40 [Train]: 100%|██████████| 3489/3489 [08:52<00:00,  6.55it/s, loss=0.18]\n",
      "Epoch 2/40 [Val]: 100%|██████████| 1161/1161 [03:41<00:00,  5.25it/s]\n"
     ]
    },
    {
     "name": "stdout",
     "output_type": "stream",
     "text": [
      "Epoch: 2/40, Train Loss: 0.2202, Train Accuracy: 0.9191, Val Accuracy: 0.8980\n"
     ]
    },
    {
     "name": "stderr",
     "output_type": "stream",
     "text": [
      "Epoch 3/40 [Train]: 100%|██████████| 3489/3489 [07:21<00:00,  7.90it/s, loss=0.166]\n",
      "Epoch 3/40 [Val]: 100%|██████████| 1161/1161 [02:44<00:00,  7.06it/s]\n"
     ]
    },
    {
     "name": "stdout",
     "output_type": "stream",
     "text": [
      "Epoch: 3/40, Train Loss: 0.1451, Train Accuracy: 0.9439, Val Accuracy: 0.9058\n"
     ]
    },
    {
     "name": "stderr",
     "output_type": "stream",
     "text": [
      "Epoch 4/40 [Train]: 100%|██████████| 3489/3489 [09:38<00:00,  6.03it/s, loss=0.263]\n",
      "Epoch 4/40 [Val]: 100%|██████████| 1161/1161 [03:08<00:00,  6.16it/s]\n"
     ]
    },
    {
     "name": "stdout",
     "output_type": "stream",
     "text": [
      "Epoch: 4/40, Train Loss: 0.1139, Train Accuracy: 0.9564, Val Accuracy: 0.9204\n"
     ]
    },
    {
     "name": "stderr",
     "output_type": "stream",
     "text": [
      "Epoch 5/40 [Train]: 100%|██████████| 3489/3489 [08:25<00:00,  6.90it/s, loss=0.0258]\n",
      "Epoch 5/40 [Val]: 100%|██████████| 1161/1161 [02:42<00:00,  7.13it/s]\n"
     ]
    },
    {
     "name": "stdout",
     "output_type": "stream",
     "text": [
      "Epoch: 5/40, Train Loss: 0.0901, Train Accuracy: 0.9657, Val Accuracy: 0.9184\n"
     ]
    },
    {
     "name": "stderr",
     "output_type": "stream",
     "text": [
      "Epoch 6/40 [Train]: 100%|██████████| 3489/3489 [08:00<00:00,  7.26it/s, loss=0.0374]\n",
      "Epoch 6/40 [Val]: 100%|██████████| 1161/1161 [01:52<00:00, 10.35it/s]\n"
     ]
    },
    {
     "name": "stdout",
     "output_type": "stream",
     "text": [
      "Epoch: 6/40, Train Loss: 0.0730, Train Accuracy: 0.9725, Val Accuracy: 0.9286\n"
     ]
    },
    {
     "name": "stderr",
     "output_type": "stream",
     "text": [
      "Epoch 7/40 [Train]: 100%|██████████| 3489/3489 [07:32<00:00,  7.70it/s, loss=0.0497]\n",
      "Epoch 7/40 [Val]: 100%|██████████| 1161/1161 [01:53<00:00, 10.27it/s]\n"
     ]
    },
    {
     "name": "stdout",
     "output_type": "stream",
     "text": [
      "Epoch: 7/40, Train Loss: 0.0599, Train Accuracy: 0.9779, Val Accuracy: 0.9244\n"
     ]
    },
    {
     "name": "stderr",
     "output_type": "stream",
     "text": [
      "Epoch 8/40 [Train]: 100%|██████████| 3489/3489 [08:47<00:00,  6.62it/s, loss=0.00756]\n",
      "Epoch 8/40 [Val]: 100%|██████████| 1161/1161 [03:04<00:00,  6.30it/s]\n"
     ]
    },
    {
     "name": "stdout",
     "output_type": "stream",
     "text": [
      "Epoch: 8/40, Train Loss: 0.0516, Train Accuracy: 0.9812, Val Accuracy: 0.9291\n"
     ]
    },
    {
     "name": "stderr",
     "output_type": "stream",
     "text": [
      "Epoch 9/40 [Train]: 100%|██████████| 3489/3489 [09:24<00:00,  6.18it/s, loss=0.0131]\n",
      "Epoch 9/40 [Val]: 100%|██████████| 1161/1161 [03:18<00:00,  5.85it/s]\n"
     ]
    },
    {
     "name": "stdout",
     "output_type": "stream",
     "text": [
      "Epoch: 9/40, Train Loss: 0.0425, Train Accuracy: 0.9845, Val Accuracy: 0.9370\n"
     ]
    },
    {
     "name": "stderr",
     "output_type": "stream",
     "text": [
      "Epoch 10/40 [Train]: 100%|██████████| 3489/3489 [08:07<00:00,  7.16it/s, loss=0.0937]\n",
      "Epoch 10/40 [Val]: 100%|██████████| 1161/1161 [01:58<00:00,  9.79it/s]\n"
     ]
    },
    {
     "name": "stdout",
     "output_type": "stream",
     "text": [
      "Epoch: 10/40, Train Loss: 0.0375, Train Accuracy: 0.9862, Val Accuracy: 0.9342\n"
     ]
    },
    {
     "name": "stderr",
     "output_type": "stream",
     "text": [
      "Epoch 11/40 [Train]: 100%|██████████| 3489/3489 [05:50<00:00,  9.96it/s, loss=0.00917]\n",
      "Epoch 11/40 [Val]: 100%|██████████| 1161/1161 [01:54<00:00, 10.12it/s]\n"
     ]
    },
    {
     "name": "stdout",
     "output_type": "stream",
     "text": [
      "Epoch: 11/40, Train Loss: 0.0337, Train Accuracy: 0.9880, Val Accuracy: 0.9287\n"
     ]
    },
    {
     "name": "stderr",
     "output_type": "stream",
     "text": [
      "Epoch 12/40 [Train]: 100%|██████████| 3489/3489 [05:56<00:00,  9.78it/s, loss=0.131]\n",
      "Epoch 12/40 [Val]: 100%|██████████| 1161/1161 [01:53<00:00, 10.23it/s]\n"
     ]
    },
    {
     "name": "stdout",
     "output_type": "stream",
     "text": [
      "Epoch: 12/40, Train Loss: 0.0301, Train Accuracy: 0.9894, Val Accuracy: 0.9250\n"
     ]
    },
    {
     "name": "stderr",
     "output_type": "stream",
     "text": [
      "Epoch 13/40 [Train]: 100%|██████████| 3489/3489 [07:58<00:00,  7.28it/s, loss=0.00164]\n",
      "Epoch 13/40 [Val]: 100%|██████████| 1161/1161 [03:11<00:00,  6.07it/s]\n"
     ]
    },
    {
     "name": "stdout",
     "output_type": "stream",
     "text": [
      "Epoch: 13/40, Train Loss: 0.0277, Train Accuracy: 0.9902, Val Accuracy: 0.9274\n"
     ]
    },
    {
     "name": "stderr",
     "output_type": "stream",
     "text": [
      "Epoch 14/40 [Train]: 100%|██████████| 3489/3489 [09:38<00:00,  6.03it/s, loss=0.0037]\n",
      "Epoch 14/40 [Val]: 100%|██████████| 1161/1161 [02:58<00:00,  6.49it/s]\n"
     ]
    },
    {
     "name": "stdout",
     "output_type": "stream",
     "text": [
      "Epoch: 14/40, Train Loss: 0.0249, Train Accuracy: 0.9912, Val Accuracy: 0.9331\n"
     ]
    },
    {
     "name": "stderr",
     "output_type": "stream",
     "text": [
      "Epoch 15/40 [Train]: 100%|██████████| 3489/3489 [09:01<00:00,  6.44it/s, loss=0.00484]\n",
      "Epoch 15/40 [Val]: 100%|██████████| 1161/1161 [02:02<00:00,  9.46it/s]\n"
     ]
    },
    {
     "name": "stdout",
     "output_type": "stream",
     "text": [
      "Epoch: 15/40, Train Loss: 0.0233, Train Accuracy: 0.9921, Val Accuracy: 0.9361\n"
     ]
    },
    {
     "name": "stderr",
     "output_type": "stream",
     "text": [
      "Epoch 16/40 [Train]: 100%|██████████| 3489/3489 [06:47<00:00,  8.56it/s, loss=0.000359]\n",
      "Epoch 16/40 [Val]: 100%|██████████| 1161/1161 [02:12<00:00,  8.74it/s]\n"
     ]
    },
    {
     "name": "stdout",
     "output_type": "stream",
     "text": [
      "Epoch: 16/40, Train Loss: 0.0323, Train Accuracy: 0.9903, Val Accuracy: 0.9315\n"
     ]
    },
    {
     "name": "stderr",
     "output_type": "stream",
     "text": [
      "Epoch 17/40 [Train]: 100%|██████████| 3489/3489 [06:44<00:00,  8.62it/s, loss=0.000171]\n",
      "Epoch 17/40 [Val]: 100%|██████████| 1161/1161 [02:02<00:00,  9.51it/s]\n"
     ]
    },
    {
     "name": "stdout",
     "output_type": "stream",
     "text": [
      "Epoch: 17/40, Train Loss: 0.0194, Train Accuracy: 0.9932, Val Accuracy: 0.9353\n"
     ]
    },
    {
     "name": "stderr",
     "output_type": "stream",
     "text": [
      "Epoch 18/40 [Train]: 100%|██████████| 3489/3489 [06:36<00:00,  8.79it/s, loss=0.0229]\n",
      "Epoch 18/40 [Val]: 100%|██████████| 1161/1161 [01:59<00:00,  9.75it/s]\n"
     ]
    },
    {
     "name": "stdout",
     "output_type": "stream",
     "text": [
      "Epoch: 18/40, Train Loss: 0.0190, Train Accuracy: 0.9935, Val Accuracy: 0.9365\n"
     ]
    },
    {
     "name": "stderr",
     "output_type": "stream",
     "text": [
      "Epoch 19/40 [Train]: 100%|██████████| 3489/3489 [06:05<00:00,  9.55it/s, loss=0.000291]\n",
      "Epoch 19/40 [Val]: 100%|██████████| 1161/1161 [01:56<00:00,  9.93it/s]\n"
     ]
    },
    {
     "name": "stdout",
     "output_type": "stream",
     "text": [
      "Epoch: 19/40, Train Loss: 0.0187, Train Accuracy: 0.9938, Val Accuracy: 0.9337\n"
     ]
    },
    {
     "name": "stderr",
     "output_type": "stream",
     "text": [
      "Epoch 20/40 [Train]: 100%|██████████| 3489/3489 [06:19<00:00,  9.21it/s, loss=0.003]\n",
      "Epoch 20/40 [Val]: 100%|██████████| 1161/1161 [01:58<00:00,  9.82it/s]\n"
     ]
    },
    {
     "name": "stdout",
     "output_type": "stream",
     "text": [
      "Epoch: 20/40, Train Loss: 0.0193, Train Accuracy: 0.9933, Val Accuracy: 0.9358\n"
     ]
    },
    {
     "name": "stderr",
     "output_type": "stream",
     "text": [
      "Epoch 21/40 [Train]: 100%|██████████| 3489/3489 [07:08<00:00,  8.15it/s, loss=0.000149]\n",
      "Epoch 21/40 [Val]: 100%|██████████| 1161/1161 [01:49<00:00, 10.63it/s]\n"
     ]
    },
    {
     "name": "stdout",
     "output_type": "stream",
     "text": [
      "Epoch: 21/40, Train Loss: 0.0175, Train Accuracy: 0.9940, Val Accuracy: 0.9360\n"
     ]
    },
    {
     "name": "stderr",
     "output_type": "stream",
     "text": [
      "Epoch 22/40 [Train]: 100%|██████████| 3489/3489 [06:20<00:00,  9.17it/s, loss=0.0364]\n",
      "Epoch 22/40 [Val]: 100%|██████████| 1161/1161 [01:48<00:00, 10.67it/s]\n"
     ]
    },
    {
     "name": "stdout",
     "output_type": "stream",
     "text": [
      "Epoch: 22/40, Train Loss: 0.0173, Train Accuracy: 0.9940, Val Accuracy: 0.9346\n"
     ]
    },
    {
     "name": "stderr",
     "output_type": "stream",
     "text": [
      "Epoch 23/40 [Train]: 100%|██████████| 3489/3489 [06:00<00:00,  9.68it/s, loss=0.000938]\n",
      "Epoch 23/40 [Val]: 100%|██████████| 1161/1161 [01:48<00:00, 10.65it/s]\n"
     ]
    },
    {
     "name": "stdout",
     "output_type": "stream",
     "text": [
      "Epoch: 23/40, Train Loss: 0.0181, Train Accuracy: 0.9944, Val Accuracy: 0.9362\n"
     ]
    },
    {
     "name": "stderr",
     "output_type": "stream",
     "text": [
      "Epoch 24/40 [Train]: 100%|██████████| 3489/3489 [05:49<00:00,  9.99it/s, loss=0.0062]\n",
      "Epoch 24/40 [Val]: 100%|██████████| 1161/1161 [01:46<00:00, 10.90it/s]\n"
     ]
    },
    {
     "name": "stdout",
     "output_type": "stream",
     "text": [
      "Epoch: 24/40, Train Loss: 0.0152, Train Accuracy: 0.9946, Val Accuracy: 0.9348\n"
     ]
    },
    {
     "name": "stderr",
     "output_type": "stream",
     "text": [
      "Epoch 25/40 [Train]: 100%|██████████| 3489/3489 [07:14<00:00,  8.04it/s, loss=0.000872]\n",
      "Epoch 25/40 [Val]: 100%|██████████| 1161/1161 [02:13<00:00,  8.67it/s]\n"
     ]
    },
    {
     "name": "stdout",
     "output_type": "stream",
     "text": [
      "Epoch: 25/40, Train Loss: 0.0151, Train Accuracy: 0.9950, Val Accuracy: 0.9354\n"
     ]
    },
    {
     "name": "stderr",
     "output_type": "stream",
     "text": [
      "Epoch 26/40 [Train]: 100%|██████████| 3489/3489 [09:08<00:00,  6.36it/s, loss=0.0019]\n",
      "Epoch 26/40 [Val]: 100%|██████████| 1161/1161 [03:21<00:00,  5.76it/s]\n"
     ]
    },
    {
     "name": "stdout",
     "output_type": "stream",
     "text": [
      "Epoch: 26/40, Train Loss: 0.0140, Train Accuracy: 0.9952, Val Accuracy: 0.9341\n"
     ]
    },
    {
     "name": "stderr",
     "output_type": "stream",
     "text": [
      "Epoch 27/40 [Train]: 100%|██████████| 3489/3489 [09:40<00:00,  6.01it/s, loss=0.0008]\n",
      "Epoch 27/40 [Val]: 100%|██████████| 1161/1161 [03:12<00:00,  6.04it/s]\n"
     ]
    },
    {
     "name": "stdout",
     "output_type": "stream",
     "text": [
      "Epoch: 27/40, Train Loss: 0.0139, Train Accuracy: 0.9954, Val Accuracy: 0.9326\n"
     ]
    },
    {
     "name": "stderr",
     "output_type": "stream",
     "text": [
      "Epoch 28/40 [Train]: 100%|██████████| 3489/3489 [09:07<00:00,  6.38it/s, loss=0.00427]\n",
      "Epoch 28/40 [Val]: 100%|██████████| 1161/1161 [03:24<00:00,  5.68it/s]\n"
     ]
    },
    {
     "name": "stdout",
     "output_type": "stream",
     "text": [
      "Epoch: 28/40, Train Loss: 0.0145, Train Accuracy: 0.9950, Val Accuracy: 0.9320\n"
     ]
    },
    {
     "name": "stderr",
     "output_type": "stream",
     "text": [
      "Epoch 29/40 [Train]: 100%|██████████| 3489/3489 [09:18<00:00,  6.25it/s, loss=0.00376]\n",
      "Epoch 29/40 [Val]: 100%|██████████| 1161/1161 [03:17<00:00,  5.89it/s]\n"
     ]
    },
    {
     "name": "stdout",
     "output_type": "stream",
     "text": [
      "Epoch: 29/40, Train Loss: 0.0157, Train Accuracy: 0.9946, Val Accuracy: 0.9302\n"
     ]
    },
    {
     "name": "stderr",
     "output_type": "stream",
     "text": [
      "Epoch 30/40 [Train]: 100%|██████████| 3489/3489 [08:07<00:00,  7.15it/s, loss=0.000348]\n",
      "Epoch 30/40 [Val]: 100%|██████████| 1161/1161 [01:48<00:00, 10.74it/s]\n"
     ]
    },
    {
     "name": "stdout",
     "output_type": "stream",
     "text": [
      "Epoch: 30/40, Train Loss: 0.0133, Train Accuracy: 0.9953, Val Accuracy: 0.9336\n"
     ]
    },
    {
     "name": "stderr",
     "output_type": "stream",
     "text": [
      "Epoch 31/40 [Train]: 100%|██████████| 3489/3489 [06:35<00:00,  8.82it/s, loss=0.00102]\n",
      "Epoch 31/40 [Val]: 100%|██████████| 1161/1161 [01:56<00:00,  9.93it/s]\n"
     ]
    },
    {
     "name": "stdout",
     "output_type": "stream",
     "text": [
      "Epoch: 31/40, Train Loss: 0.0126, Train Accuracy: 0.9959, Val Accuracy: 0.9327\n"
     ]
    },
    {
     "name": "stderr",
     "output_type": "stream",
     "text": [
      "Epoch 32/40 [Train]: 100%|██████████| 3489/3489 [06:30<00:00,  8.94it/s, loss=0.00426]\n",
      "Epoch 32/40 [Val]: 100%|██████████| 1161/1161 [01:52<00:00, 10.28it/s]\n"
     ]
    },
    {
     "name": "stdout",
     "output_type": "stream",
     "text": [
      "Epoch: 32/40, Train Loss: 0.0128, Train Accuracy: 0.9956, Val Accuracy: 0.9325\n"
     ]
    },
    {
     "name": "stderr",
     "output_type": "stream",
     "text": [
      "Epoch 33/40 [Train]: 100%|██████████| 3489/3489 [06:48<00:00,  8.55it/s, loss=0.0469]\n",
      "Epoch 33/40 [Val]: 100%|██████████| 1161/1161 [02:55<00:00,  6.63it/s]\n"
     ]
    },
    {
     "name": "stdout",
     "output_type": "stream",
     "text": [
      "Epoch: 33/40, Train Loss: 0.0125, Train Accuracy: 0.9958, Val Accuracy: 0.9337\n"
     ]
    },
    {
     "name": "stderr",
     "output_type": "stream",
     "text": [
      "Epoch 34/40 [Train]: 100%|██████████| 3489/3489 [10:22<00:00,  5.60it/s, loss=0.000945]\n",
      "Epoch 34/40 [Val]: 100%|██████████| 1161/1161 [03:10<00:00,  6.09it/s]\n"
     ]
    },
    {
     "name": "stdout",
     "output_type": "stream",
     "text": [
      "Epoch: 34/40, Train Loss: 0.0116, Train Accuracy: 0.9960, Val Accuracy: 0.9330\n"
     ]
    },
    {
     "name": "stderr",
     "output_type": "stream",
     "text": [
      "Epoch 35/40 [Train]: 100%|██████████| 3489/3489 [09:23<00:00,  6.19it/s, loss=0.00087]\n",
      "Epoch 35/40 [Val]: 100%|██████████| 1161/1161 [02:50<00:00,  6.83it/s]\n"
     ]
    },
    {
     "name": "stdout",
     "output_type": "stream",
     "text": [
      "Epoch: 35/40, Train Loss: 0.0112, Train Accuracy: 0.9961, Val Accuracy: 0.9363\n"
     ]
    },
    {
     "name": "stderr",
     "output_type": "stream",
     "text": [
      "Epoch 36/40 [Train]: 100%|██████████| 3489/3489 [08:31<00:00,  6.82it/s, loss=0.00835]\n",
      "Epoch 36/40 [Val]: 100%|██████████| 1161/1161 [03:29<00:00,  5.55it/s]\n"
     ]
    },
    {
     "name": "stdout",
     "output_type": "stream",
     "text": [
      "Epoch: 36/40, Train Loss: 0.0121, Train Accuracy: 0.9960, Val Accuracy: 0.9342\n"
     ]
    },
    {
     "name": "stderr",
     "output_type": "stream",
     "text": [
      "Epoch 37/40 [Train]: 100%|██████████| 3489/3489 [09:02<00:00,  6.44it/s, loss=0.000204]\n",
      "Epoch 37/40 [Val]: 100%|██████████| 1161/1161 [01:57<00:00,  9.87it/s]\n"
     ]
    },
    {
     "name": "stdout",
     "output_type": "stream",
     "text": [
      "Epoch: 37/40, Train Loss: 0.0117, Train Accuracy: 0.9961, Val Accuracy: 0.9338\n"
     ]
    },
    {
     "name": "stderr",
     "output_type": "stream",
     "text": [
      "Epoch 38/40 [Train]: 100%|██████████| 3489/3489 [06:34<00:00,  8.84it/s, loss=0.257]\n",
      "Epoch 38/40 [Val]: 100%|██████████| 1161/1161 [01:47<00:00, 10.79it/s]\n"
     ]
    },
    {
     "name": "stdout",
     "output_type": "stream",
     "text": [
      "Epoch: 38/40, Train Loss: 0.0106, Train Accuracy: 0.9962, Val Accuracy: 0.9318\n"
     ]
    },
    {
     "name": "stderr",
     "output_type": "stream",
     "text": [
      "Epoch 39/40 [Train]: 100%|██████████| 3489/3489 [06:34<00:00,  8.84it/s, loss=0.000172]\n",
      "Epoch 39/40 [Val]: 100%|██████████| 1161/1161 [01:51<00:00, 10.45it/s]\n"
     ]
    },
    {
     "name": "stdout",
     "output_type": "stream",
     "text": [
      "Epoch: 39/40, Train Loss: 0.0109, Train Accuracy: 0.9964, Val Accuracy: 0.9334\n"
     ]
    },
    {
     "name": "stderr",
     "output_type": "stream",
     "text": [
      "Epoch 40/40 [Train]: 100%|██████████| 3489/3489 [05:49<00:00,  9.97it/s, loss=0.00176]\n",
      "Epoch 40/40 [Val]: 100%|██████████| 1161/1161 [01:48<00:00, 10.70it/s]"
     ]
    },
    {
     "name": "stdout",
     "output_type": "stream",
     "text": [
      "Epoch: 40/40, Train Loss: 0.0110, Train Accuracy: 0.9964, Val Accuracy: 0.9275\n",
      "Max Accuracy: 0.9369616709732989\n"
     ]
    },
    {
     "name": "stderr",
     "output_type": "stream",
     "text": [
      "\n"
     ]
    }
   ],
   "source": [
    "from tqdm import tqdm\n",
    "\n",
    "# Model training and testing\n",
    "n_total_steps = len(train_dataloader)\n",
    "train_accuracy_list = []\n",
    "train_loss_list = []\n",
    "val_accuracy_list = []\n",
    "max_acc = 0\n",
    "num_epochs = 40\n",
    "pred_labels = []\n",
    "act_labels = []\n",
    "device = torch.device('cuda' if torch.cuda.is_available() else 'cpu')\n",
    "model.to(device)\n",
    "\n",
    "for epoch in range(num_epochs):\n",
    "    model.train()\n",
    "    train_accuracy = 0.0\n",
    "    train_loss = 0.0\n",
    "\n",
    "    # Training loop with tqdm\n",
    "    train_loop = tqdm(enumerate(train_dataloader), total=len(train_dataloader), desc=f\"Epoch {epoch+1}/{num_epochs} [Train]\")\n",
    "    for batch_idx, (images, labels) in train_loop:\n",
    "        images, labels = images.to(device), labels.to(device)\n",
    "        optimizer.zero_grad()\n",
    "        outputs = model(images)\n",
    "        loss = loss_function(outputs, labels)\n",
    "        loss.backward()\n",
    "        optimizer.step()\n",
    "\n",
    "        # stats\n",
    "        train_loss += loss.item() * images.size(0)\n",
    "        _, prediction = torch.max(outputs.data, 1)\n",
    "        train_accuracy += int((prediction == labels).sum().item())\n",
    "\n",
    "        # Update tqdm bar\n",
    "        train_loop.set_postfix(loss=loss.item())\n",
    "\n",
    "    train_accuracy /= train_count\n",
    "    train_loss /= train_count\n",
    "    train_accuracy_list.append(train_accuracy)\n",
    "    train_loss_list.append(train_loss)\n",
    "\n",
    "    # Validation loop with tqdm\n",
    "    model.eval()\n",
    "    val_accuracy = 0.0\n",
    "    pred = []\n",
    "    lab = []\n",
    "\n",
    "    val_loop = tqdm(val_dataloader, total=len(val_dataloader), desc=f\"Epoch {epoch+1}/{num_epochs} [Val]\")\n",
    "    with torch.no_grad():\n",
    "        for images, labels in val_loop:\n",
    "            images, labels = images.to(device), labels.to(device)\n",
    "            outputs = model(images)\n",
    "            _, prediction = torch.max(outputs.data, 1)\n",
    "            val_accuracy += int((prediction == labels).sum().item())\n",
    "            pred.extend(prediction.cpu().tolist())\n",
    "            lab.extend(labels.cpu().tolist())\n",
    "\n",
    "    val_accuracy /= val_count\n",
    "    val_accuracy_list.append(val_accuracy)\n",
    "\n",
    "    if max_acc < val_accuracy:\n",
    "        max_acc = val_accuracy\n",
    "        pred_labels = pred\n",
    "        actual_labels = lab\n",
    "        torch.save(model, \"best_accuracy_model_BiLSTM.pth\")\n",
    "\n",
    "    print(f\"Epoch: {epoch + 1}/{num_epochs}, Train Loss: {train_loss:.4f}, \"\n",
    "          f\"Train Accuracy: {train_accuracy:.4f}, Val Accuracy: {val_accuracy:.4f}\")\n",
    "\n",
    "print(\"Max Accuracy:\", max_acc)\n"
   ]
  },
  {
   "cell_type": "code",
   "execution_count": 14,
   "id": "8dc5d6e5",
   "metadata": {
    "execution": {
     "iopub.execute_input": "2025-09-06T18:00:56.473868Z",
     "iopub.status.busy": "2025-09-06T18:00:56.473215Z",
     "iopub.status.idle": "2025-09-06T18:13:11.313545Z",
     "shell.execute_reply": "2025-09-06T18:13:11.312810Z"
    },
    "papermill": {
     "duration": 760.41918,
     "end_time": "2025-09-06T18:13:24.033764",
     "exception": false,
     "start_time": "2025-09-06T18:00:43.614584",
     "status": "completed"
    },
    "tags": []
   },
   "outputs": [
    {
     "name": "stdout",
     "output_type": "stream",
     "text": [
      "Testing Accuracy: 95.03%\n"
     ]
    }
   ],
   "source": [
    "best_model=torch.load(\"best_accuracy_model_BiLSTM.pth\", weights_only=False)\n",
    "best_model.to(device, dtype=torch.double)\n",
    "best_model.eval()\n",
    "\n",
    "# Initialize variables to store results\n",
    "testing_accuracy = 0.0\n",
    "pred_labels = []\n",
    "act_labels = []\n",
    "\n",
    "# Iterate over the test dataloader\n",
    "with torch.no_grad():\n",
    "    for i, (images, labels) in enumerate(test_dataloader):\n",
    "        if torch.cuda.is_available():\n",
    "            images = Variable(images.cuda())\n",
    "            labels = Variable(labels.cuda())\n",
    "        else:\n",
    "            images = Variable(images)\n",
    "            labels = Variable(labels)\n",
    "\n",
    "        # Forward pass (only input x)\n",
    "        outputs = best_model(images)\n",
    "\n",
    "        # Get predictions by taking the index with the highest score\n",
    "        _, prediction = torch.max(outputs.data, 1)\n",
    "\n",
    "        # Calculate the number of correct predictions\n",
    "        testing_accuracy += (prediction == labels).sum().item()\n",
    "\n",
    "        # Store predicted and actual labels\n",
    "        pred_labels.extend(prediction.cpu().tolist())\n",
    "        act_labels.extend(labels.cpu().tolist())\n",
    "\n",
    "# Calculate the testing accuracy\n",
    "testing_accuracy /= len(test_dataloader.dataset)\n",
    "\n",
    "# Print the testing accuracy\n",
    "print(f\"Testing Accuracy: {testing_accuracy * 100:.2f}%\")"
   ]
  },
  {
   "cell_type": "code",
   "execution_count": 15,
   "id": "8f4202aa",
   "metadata": {
    "execution": {
     "iopub.execute_input": "2025-09-06T18:13:50.110909Z",
     "iopub.status.busy": "2025-09-06T18:13:50.110049Z",
     "iopub.status.idle": "2025-09-06T18:13:50.113679Z",
     "shell.execute_reply": "2025-09-06T18:13:50.113149Z"
    },
    "papermill": {
     "duration": 13.011679,
     "end_time": "2025-09-06T18:13:50.114681",
     "exception": false,
     "start_time": "2025-09-06T18:13:37.103002",
     "status": "completed"
    },
    "tags": []
   },
   "outputs": [],
   "source": [
    "# # Calculate the confusion matrix\n",
    "# import seaborn as sns\n",
    "# conf_mat = confusion_matrix(act_labels, pred_labels)\n",
    "# # Plot confusion matrix heat map\n",
    "# sns.heatmap(conf_mat, cmap=\"flare\",annot=True, fmt = \"g\", \n",
    "#             cbar_kws={\"label\":\"color bar\"},\n",
    "#             xticklabels=train_dataset.classes,\n",
    "#             yticklabels=train_dataset.classes)\n",
    "# plt.xlabel(\"Predicted\")\n",
    "# plt.ylabel(\"Actual\")\n",
    "# plt.title(\"Confusion Matrix\")\n",
    "# plt.savefig(\"ConfusionMatrix_BiLSTM.png\")\n",
    "# plt.show()\n",
    "# from sklearn.metrics import f1_score\n",
    "# f1_score = f1_score(pred_labels, act_labels, average='macro')\n",
    "# print('F1 Score : ', f1_score)"
   ]
  },
  {
   "cell_type": "code",
   "execution_count": 16,
   "id": "14876a1f",
   "metadata": {
    "execution": {
     "iopub.execute_input": "2025-09-06T18:14:15.982376Z",
     "iopub.status.busy": "2025-09-06T18:14:15.981810Z",
     "iopub.status.idle": "2025-09-06T18:14:16.001388Z",
     "shell.execute_reply": "2025-09-06T18:14:16.000503Z"
    },
    "papermill": {
     "duration": 12.924927,
     "end_time": "2025-09-06T18:14:16.002839",
     "exception": false,
     "start_time": "2025-09-06T18:14:03.077912",
     "status": "completed"
    },
    "tags": []
   },
   "outputs": [
    {
     "name": "stdout",
     "output_type": "stream",
     "text": [
      "The equal error rate is 0.050\n"
     ]
    }
   ],
   "source": [
    "import numpy as np\n",
    "import sklearn.metrics\n",
    "\n",
    "\"\"\"\n",
    "Python compute equal error rate (eer)\n",
    "ONLY tested on binary classification\n",
    "\n",
    ":param label: ground-truth label, should be a 1-d list or np.array, each element represents the ground-truth label of one sample\n",
    ":param pred: model prediction, should be a 1-d list or np.array, each element represents the model prediction of one sample\n",
    ":param positive_label: the class that is viewed as positive class when computing EER\n",
    ":return: equal error rate (EER)\n",
    "\"\"\"\n",
    "def compute_eer(label, pred):\n",
    "    # all fpr, tpr, fnr, fnr, threshold are lists (in the format of np.array)\n",
    "    fpr, tpr, threshold = sklearn.metrics.roc_curve(label, pred)\n",
    "    fnr = 1 - tpr\n",
    "\n",
    "    # the threshold of fnr == fpr\n",
    "    eer_threshold = threshold[np.nanargmin(np.absolute((fnr - fpr)))]\n",
    "\n",
    "    # theoretically eer from fpr and eer from fnr should be identical but they can be slightly differ in reality\n",
    "    eer_1 = fpr[np.nanargmin(np.absolute((fnr - fpr)))]\n",
    "    eer_2 = fnr[np.nanargmin(np.absolute((fnr - fpr)))]\n",
    "\n",
    "    # return the mean of eer from fpr and from fnr\n",
    "    eer = (eer_1 + eer_2) / 2\n",
    "    return eer\n",
    "\n",
    "eer = compute_eer(act_labels, pred_labels)\n",
    "print('The equal error rate is {:.3f}'.format(eer))"
   ]
  },
  {
   "cell_type": "code",
   "execution_count": null,
   "id": "5a6d3d23",
   "metadata": {
    "papermill": {
     "duration": 12.594768,
     "end_time": "2025-09-06T18:14:41.345182",
     "exception": false,
     "start_time": "2025-09-06T18:14:28.750414",
     "status": "completed"
    },
    "tags": []
   },
   "outputs": [],
   "source": []
  }
 ],
 "metadata": {
  "kaggle": {
   "accelerator": "gpu",
   "dataSources": [
    {
     "datasetId": 6539291,
     "sourceId": 10567782,
     "sourceType": "datasetVersion"
    },
    {
     "datasetId": 8169899,
     "sourceId": 12911904,
     "sourceType": "datasetVersion"
    }
   ],
   "dockerImageVersionId": 31090,
   "isGpuEnabled": true,
   "isInternetEnabled": false,
   "language": "python",
   "sourceType": "notebook"
  },
  "kernelspec": {
   "display_name": "Python 3",
   "language": "python",
   "name": "python3"
  },
  "language_info": {
   "codemirror_mode": {
    "name": "ipython",
    "version": 3
   },
   "file_extension": ".py",
   "mimetype": "text/x-python",
   "name": "python",
   "nbconvert_exporter": "python",
   "pygments_lexer": "ipython3",
   "version": "3.11.13"
  },
  "papermill": {
   "default_parameters": {},
   "duration": 27506.062308,
   "end_time": "2025-09-06T18:14:55.976208",
   "environment_variables": {},
   "exception": null,
   "input_path": "__notebook__.ipynb",
   "output_path": "__notebook__.ipynb",
   "parameters": {},
   "start_time": "2025-09-06T10:36:29.913900",
   "version": "2.5.0"
  }
 },
 "nbformat": 4,
 "nbformat_minor": 5
}
