{
 "cells": [
  {
   "cell_type": "code",
   "execution_count": 1,
   "id": "ea1edb62",
   "metadata": {
    "execution": {
     "iopub.execute_input": "2025-09-05T11:19:09.462470Z",
     "iopub.status.busy": "2025-09-05T11:19:09.462171Z",
     "iopub.status.idle": "2025-09-05T11:19:09.466567Z",
     "shell.execute_reply": "2025-09-05T11:19:09.465764Z"
    },
    "papermill": {
     "duration": 0.011151,
     "end_time": "2025-09-05T11:19:09.467787",
     "exception": false,
     "start_time": "2025-09-05T11:19:09.456636",
     "status": "completed"
    },
    "tags": []
   },
   "outputs": [],
   "source": [
    "# !pip install --upgrade scipy"
   ]
  },
  {
   "cell_type": "code",
   "execution_count": 2,
   "id": "c24792c7",
   "metadata": {
    "execution": {
     "iopub.execute_input": "2025-09-05T11:19:09.476917Z",
     "iopub.status.busy": "2025-09-05T11:19:09.476712Z",
     "iopub.status.idle": "2025-09-05T11:19:13.587464Z",
     "shell.execute_reply": "2025-09-05T11:19:13.586550Z"
    },
    "papermill": {
     "duration": 4.116945,
     "end_time": "2025-09-05T11:19:13.588987",
     "exception": false,
     "start_time": "2025-09-05T11:19:09.472042",
     "status": "completed"
    },
    "tags": []
   },
   "outputs": [],
   "source": [
    "import torch \n",
    "import torch.nn as nn\n",
    "import torch.nn.functional as F\n",
    "from torch.autograd import Variable\n",
    "from torch.utils.data import Dataset, DataLoader\n",
    "\n",
    "import os, pathlib, glob, random\n",
    "import numpy as np\n",
    "import matplotlib.pyplot as plt \n",
    "\n",
    "from sklearn.metrics import confusion_matrix\n",
    "import scipy\n",
    "from scipy import io"
   ]
  },
  {
   "cell_type": "code",
   "execution_count": 3,
   "id": "3686ccf8",
   "metadata": {
    "execution": {
     "iopub.execute_input": "2025-09-05T11:19:13.598610Z",
     "iopub.status.busy": "2025-09-05T11:19:13.598170Z",
     "iopub.status.idle": "2025-09-05T11:19:13.651324Z",
     "shell.execute_reply": "2025-09-05T11:19:13.650468Z"
    },
    "papermill": {
     "duration": 0.059448,
     "end_time": "2025-09-05T11:19:13.652762",
     "exception": false,
     "start_time": "2025-09-05T11:19:13.593314",
     "status": "completed"
    },
    "tags": []
   },
   "outputs": [
    {
     "name": "stdout",
     "output_type": "stream",
     "text": [
      "cuda\n"
     ]
    }
   ],
   "source": [
    "device = torch.device('cuda' if torch.cuda.is_available() else 'cpu')\n",
    "print(device)"
   ]
  },
  {
   "cell_type": "code",
   "execution_count": 4,
   "id": "bbcb0753",
   "metadata": {
    "execution": {
     "iopub.execute_input": "2025-09-05T11:19:13.661991Z",
     "iopub.status.busy": "2025-09-05T11:19:13.661751Z",
     "iopub.status.idle": "2025-09-05T11:19:13.665101Z",
     "shell.execute_reply": "2025-09-05T11:19:13.664459Z"
    },
    "papermill": {
     "duration": 0.009138,
     "end_time": "2025-09-05T11:19:13.666184",
     "exception": false,
     "start_time": "2025-09-05T11:19:13.657046",
     "status": "completed"
    },
    "tags": []
   },
   "outputs": [],
   "source": [
    "batch_size = 32\n",
    "output_nodes = 10\n",
    "learning_rate = 0.001"
   ]
  },
  {
   "cell_type": "code",
   "execution_count": 5,
   "id": "9e46e26f",
   "metadata": {
    "execution": {
     "iopub.execute_input": "2025-09-05T11:19:13.675781Z",
     "iopub.status.busy": "2025-09-05T11:19:13.675456Z",
     "iopub.status.idle": "2025-09-05T11:19:13.679082Z",
     "shell.execute_reply": "2025-09-05T11:19:13.678274Z"
    },
    "papermill": {
     "duration": 0.009846,
     "end_time": "2025-09-05T11:19:13.680338",
     "exception": false,
     "start_time": "2025-09-05T11:19:13.670492",
     "status": "completed"
    },
    "tags": []
   },
   "outputs": [],
   "source": [
    "train_data_path = r\"/kaggle/input/mgdcc-feature/MGDCC/train\"\n",
    "val_data_path = r\"/kaggle/input/mgdcc-feature/MGDCC/dev\"\n",
    "test_data_path = r\"/kaggle/input/mgdcc-feature/MGDCC/test\""
   ]
  },
  {
   "cell_type": "code",
   "execution_count": 6,
   "id": "6eb2a5b0",
   "metadata": {
    "execution": {
     "iopub.execute_input": "2025-09-05T11:19:13.689307Z",
     "iopub.status.busy": "2025-09-05T11:19:13.689098Z",
     "iopub.status.idle": "2025-09-05T11:28:22.447416Z",
     "shell.execute_reply": "2025-09-05T11:28:22.446561Z"
    },
    "papermill": {
     "duration": 548.768782,
     "end_time": "2025-09-05T11:28:22.453402",
     "exception": false,
     "start_time": "2025-09-05T11:19:13.684620",
     "status": "completed"
    },
    "tags": []
   },
   "outputs": [
    {
     "name": "stdout",
     "output_type": "stream",
     "text": [
      "Training samples: 111633\n",
      "Validation samples: 37152\n",
      "Testing samples: 37971\n"
     ]
    }
   ],
   "source": [
    "import os\n",
    "import random\n",
    "import scipy.io\n",
    "import numpy as np\n",
    "from torch.utils.data import Dataset, DataLoader\n",
    "\n",
    "# ======================\n",
    "# Paths for both datasets\n",
    "# ======================\n",
    "train_mgdcc = r\"/kaggle/input/mgdcc-feature/MGDCC/train\"\n",
    "val_mgdcc   = r\"/kaggle/input/mgdcc-feature/MGDCC/dev\"\n",
    "test_mgdcc  = r\"/kaggle/input/mgdcc-feature/MGDCC/test\"\n",
    "\n",
    "train_lfcc = r\"/kaggle/input/mfcc-new/mfcc/train\"\n",
    "val_lfcc   = r\"/kaggle/input/mfcc-new/mfcc/dev\"\n",
    "test_lfcc  = r\"/kaggle/input/mfcc-new/mfcc/test\"\n",
    "\n",
    "# ======================\n",
    "# Dataset Class\n",
    "# ======================\n",
    "class MixedFeatureDataset(Dataset):\n",
    "    def __init__(self, mgdcc_dir, lfcc_dir, max_len=10):\n",
    "        \"\"\"Load MGDCC + LFCC features for the same audio files.\"\"\"\n",
    "        self.files = []\n",
    "        self.class_to_idx = {}\n",
    "        self.max_len = max_len\n",
    "\n",
    "        classes = sorted(entry.name for entry in os.scandir(mgdcc_dir) if entry.is_dir())\n",
    "\n",
    "        for c in classes:\n",
    "            if c not in self.class_to_idx:\n",
    "                self.class_to_idx[c] = len(self.class_to_idx)\n",
    "\n",
    "            mgdcc_cdir = os.path.join(mgdcc_dir, c)\n",
    "            lfcc_cdir = os.path.join(lfcc_dir, c)\n",
    "\n",
    "            for f in os.listdir(mgdcc_cdir):\n",
    "                mgdcc_file = os.path.join(mgdcc_cdir, f)\n",
    "                lfcc_file = os.path.join(lfcc_cdir, f)\n",
    "\n",
    "                if os.path.exists(lfcc_file):   # only keep if both exist\n",
    "                    self.files.append((mgdcc_file, lfcc_file, self.class_to_idx[c]))\n",
    "\n",
    "        random.shuffle(self.files)\n",
    "\n",
    "    def __len__(self):\n",
    "        return len(self.files)\n",
    "\n",
    "    def __getitem__(self, idx):\n",
    "        mgdcc_file, lfcc_file, label = self.files[idx]\n",
    "        try:\n",
    "            mgdcc_vals = scipy.io.loadmat(mgdcc_file)['final'].T\n",
    "            lfcc_vals  = scipy.io.loadmat(lfcc_file)['final'].T\n",
    "    \n",
    "            # Align feature dimension (rows)\n",
    "            max_rows = max(mgdcc_vals.shape[0], lfcc_vals.shape[0])\n",
    "    \n",
    "            def pad_rows(x, target_rows):\n",
    "                if x.shape[0] < target_rows:\n",
    "                    pad_amt = target_rows - x.shape[0]\n",
    "                    return np.pad(x, pad_width=((0, pad_amt), (0, 0)), mode='constant')\n",
    "                return x\n",
    "    \n",
    "            mgdcc_vals = pad_rows(mgdcc_vals, max_rows)\n",
    "            lfcc_vals  = pad_rows(lfcc_vals, max_rows)\n",
    "    \n",
    "            # Now safe to hstack (same rows, concatenate columns)\n",
    "            data = np.hstack([mgdcc_vals, lfcc_vals])\n",
    "    \n",
    "            # Optional: pad/truncate along time dimension (rows = frames)\n",
    "            max_len = 10\n",
    "            if max_len > data.shape[0]:\n",
    "                pad_width = max_len - data.shape[0]\n",
    "                data = np.pad(data, pad_width=((0, pad_width), (0, 0)), mode='constant')\n",
    "            else:\n",
    "                data = data[:max_len, :]\n",
    "    \n",
    "        except Exception as e:\n",
    "            print(f\"Error loading files {mgdcc_file}, {lfcc_file}: {str(e)}\")\n",
    "            return None\n",
    "    \n",
    "        return data, label\n",
    "\n",
    "\n",
    "\n",
    "# ======================\n",
    "# DataLoader wrapper\n",
    "# ======================\n",
    "class PtDataLoader(DataLoader):\n",
    "    def __init__(self, mgdcc_dir, lfcc_dir, batch_size, shuffle=True):\n",
    "        dataset = MixedFeatureDataset(mgdcc_dir, lfcc_dir)\n",
    "        super().__init__(dataset, batch_size=batch_size, shuffle=shuffle)\n",
    "\n",
    "# ======================\n",
    "# Load datasets\n",
    "# ======================\n",
    "batch_size = 32\n",
    "\n",
    "train_dataset = MixedFeatureDataset(train_mgdcc, train_lfcc)\n",
    "val_dataset   = MixedFeatureDataset(val_mgdcc, val_lfcc)\n",
    "test_dataset  = MixedFeatureDataset(test_mgdcc, test_lfcc)\n",
    "\n",
    "train_dataloader = PtDataLoader(train_mgdcc, train_lfcc, batch_size=batch_size)\n",
    "val_dataloader   = PtDataLoader(val_mgdcc, val_lfcc, batch_size=batch_size)\n",
    "test_dataloader  = PtDataLoader(test_mgdcc, test_lfcc, batch_size=batch_size)\n",
    "\n",
    "train_count = len(train_dataset)\n",
    "val_count   = len(val_dataset)\n",
    "test_count  = len(test_dataset)\n",
    "\n",
    "print(f\"Training samples: {train_count}\\nValidation samples: {val_count}\\nTesting samples: {test_count}\")\n"
   ]
  },
  {
   "cell_type": "code",
   "execution_count": 7,
   "id": "67c7af3e",
   "metadata": {
    "execution": {
     "iopub.execute_input": "2025-09-05T11:28:22.462654Z",
     "iopub.status.busy": "2025-09-05T11:28:22.462379Z",
     "iopub.status.idle": "2025-09-05T11:28:22.465570Z",
     "shell.execute_reply": "2025-09-05T11:28:22.464799Z"
    },
    "papermill": {
     "duration": 0.009048,
     "end_time": "2025-09-05T11:28:22.466754",
     "exception": false,
     "start_time": "2025-09-05T11:28:22.457706",
     "status": "completed"
    },
    "tags": []
   },
   "outputs": [],
   "source": [
    "# train_dataset = PtDataset(train_data_path)\n",
    "# val_dataset = PtDataset(val_data_path)\n",
    "# test_dataset = PtDataset(test_data_path)"
   ]
  },
  {
   "cell_type": "code",
   "execution_count": 8,
   "id": "3308334d",
   "metadata": {
    "execution": {
     "iopub.execute_input": "2025-09-05T11:28:22.475620Z",
     "iopub.status.busy": "2025-09-05T11:28:22.475383Z",
     "iopub.status.idle": "2025-09-05T11:28:22.477997Z",
     "shell.execute_reply": "2025-09-05T11:28:22.477379Z"
    },
    "papermill": {
     "duration": 0.008167,
     "end_time": "2025-09-05T11:28:22.479072",
     "exception": false,
     "start_time": "2025-09-05T11:28:22.470905",
     "status": "completed"
    },
    "tags": []
   },
   "outputs": [],
   "source": [
    "# class PtDataLoader(DataLoader):\n",
    "#     def __init__(self, directory, batch_size, shuffle=True):\n",
    "#         dataset = PtDataset(directory)\n",
    "#         super().__init__(dataset, batch_size=batch_size, shuffle=shuffle)"
   ]
  },
  {
   "cell_type": "code",
   "execution_count": 9,
   "id": "23ccc17a",
   "metadata": {
    "execution": {
     "iopub.execute_input": "2025-09-05T11:28:22.488016Z",
     "iopub.status.busy": "2025-09-05T11:28:22.487796Z",
     "iopub.status.idle": "2025-09-05T11:28:22.490672Z",
     "shell.execute_reply": "2025-09-05T11:28:22.489872Z"
    },
    "papermill": {
     "duration": 0.008702,
     "end_time": "2025-09-05T11:28:22.491942",
     "exception": false,
     "start_time": "2025-09-05T11:28:22.483240",
     "status": "completed"
    },
    "tags": []
   },
   "outputs": [],
   "source": [
    "# train_dataloader = PtDataLoader(directory=train_data_path, batch_size=batch_size)\n",
    "# val_dataloader = PtDataLoader(directory=val_data_path, batch_size=batch_size)\n",
    "# test_dataloader = PtDataLoader(directory=test_data_path, batch_size=batch_size)"
   ]
  },
  {
   "cell_type": "code",
   "execution_count": 10,
   "id": "36501110",
   "metadata": {
    "execution": {
     "iopub.execute_input": "2025-09-05T11:28:22.500946Z",
     "iopub.status.busy": "2025-09-05T11:28:22.500664Z",
     "iopub.status.idle": "2025-09-05T11:28:22.503491Z",
     "shell.execute_reply": "2025-09-05T11:28:22.502852Z"
    },
    "papermill": {
     "duration": 0.008717,
     "end_time": "2025-09-05T11:28:22.504773",
     "exception": false,
     "start_time": "2025-09-05T11:28:22.496056",
     "status": "completed"
    },
    "tags": []
   },
   "outputs": [],
   "source": [
    "# train_count = len(train_dataset) \n",
    "# val_count = len(val_dataset)\n",
    "# test_count = len(test_dataset)"
   ]
  },
  {
   "cell_type": "code",
   "execution_count": 11,
   "id": "49007e31",
   "metadata": {
    "execution": {
     "iopub.execute_input": "2025-09-05T11:28:22.514132Z",
     "iopub.status.busy": "2025-09-05T11:28:22.513938Z",
     "iopub.status.idle": "2025-09-05T11:28:22.518129Z",
     "shell.execute_reply": "2025-09-05T11:28:22.517504Z"
    },
    "papermill": {
     "duration": 0.009928,
     "end_time": "2025-09-05T11:28:22.519312",
     "exception": false,
     "start_time": "2025-09-05T11:28:22.509384",
     "status": "completed"
    },
    "tags": []
   },
   "outputs": [
    {
     "name": "stdout",
     "output_type": "stream",
     "text": [
      "111633\n",
      "37152\n",
      "37971\n"
     ]
    }
   ],
   "source": [
    "print(train_count)\n",
    "print(val_count)\n",
    "print(test_count)"
   ]
  },
  {
   "cell_type": "code",
   "execution_count": 12,
   "id": "5a9cb444",
   "metadata": {
    "execution": {
     "iopub.execute_input": "2025-09-05T11:28:22.528400Z",
     "iopub.status.busy": "2025-09-05T11:28:22.528208Z",
     "iopub.status.idle": "2025-09-05T11:28:22.584122Z",
     "shell.execute_reply": "2025-09-05T11:28:22.583515Z"
    },
    "papermill": {
     "duration": 0.06179,
     "end_time": "2025-09-05T11:28:22.585414",
     "exception": false,
     "start_time": "2025-09-05T11:28:22.523624",
     "status": "completed"
    },
    "tags": []
   },
   "outputs": [],
   "source": [
    "drop_amount = 0.255\n",
    "\n",
    "import torch\n",
    "import torch.nn as nn\n",
    "import torch.nn.functional as F\n",
    "from collections import OrderedDict\n",
    "from torch.nn.parameter import Parameter\n",
    "from torch.utils import data\n",
    "\n",
    "class Res2NetBlock(nn.Module):\n",
    "    def __init__(self, in_channels, out_channels, scale=4, kernel_size=3, stride=1, padding=1):\n",
    "        super(Res2NetBlock, self).__init__()\n",
    "        assert out_channels % scale == 0, \"Output channels must be divisible by scale\"\n",
    "        self.scale = scale\n",
    "        self.split_channels = out_channels // scale\n",
    "\n",
    "        self.conv1 = nn.Conv1d(in_channels, out_channels, kernel_size=1, stride=1, bias=False)\n",
    "        self.bn1 = nn.BatchNorm1d(out_channels)\n",
    "\n",
    "        self.convs = nn.ModuleList([\n",
    "            nn.Conv1d(self.split_channels, self.split_channels, kernel_size, stride=stride, padding=padding, bias=False)\n",
    "            for _ in range(scale - 1)\n",
    "        ])\n",
    "\n",
    "        self.bn2 = nn.BatchNorm1d(out_channels)\n",
    "        self.conv3 = nn.Conv1d(out_channels, out_channels, kernel_size=1, stride=1, bias=False)\n",
    "\n",
    "        self.relu = nn.ReLU(inplace=True)\n",
    "\n",
    "    def forward(self, x):\n",
    "        out = self.conv1(x)\n",
    "        out = self.bn1(out)\n",
    "        out = self.relu(out)\n",
    "\n",
    "        splits = torch.chunk(out, self.scale, dim=1)\n",
    "        out = splits[0]\n",
    "        result = [out]  # Collect outputs here to avoid in-place addition\n",
    "        for i, conv in enumerate(self.convs):\n",
    "            result.append(conv(splits[i + 1]))\n",
    "        out = torch.cat(result, dim=1)  # Concatenate all parts\n",
    "\n",
    "        out = self.conv3(out)\n",
    "        out = self.bn2(out)\n",
    "        return self.relu(out)\n",
    "\n",
    "\n",
    "class AMSoftmaxLoss(nn.Module):\n",
    "    def __init__(self, in_features, out_features, s=30.0, m=0.4):\n",
    "        super(AMSoftmaxLoss, self).__init__()\n",
    "        self.s = s\n",
    "        self.m = m\n",
    "        self.weight = Parameter(torch.DoubleTensor(out_features, in_features))\n",
    "        nn.init.xavier_uniform_(self.weight)\n",
    "\n",
    "    def forward(self, x, labels):\n",
    "        cosine = F.linear(F.normalize(x), F.normalize(self.weight))\n",
    "        phi = cosine - self.m\n",
    "        one_hot = torch.zeros_like(cosine)\n",
    "        one_hot.scatter_(1, labels.view(-1, 1).long(), 1)\n",
    "        logits = one_hot * phi + (1.0 - one_hot) * cosine\n",
    "        logits *= self.s\n",
    "        return logits\n",
    "\n",
    "\n",
    "class AASIST2(nn.Module):\n",
    "    def __init__(self, d_args):\n",
    "        super(AASIST2, self).__init__()\n",
    "        self.res2net_block1 = Res2NetBlock(d_args['in_channels'], d_args['filts'][0], scale=4)\n",
    "        self.res2net_block2 = Res2NetBlock(d_args['filts'][0], d_args['filts'][1], scale=4)\n",
    "        self.res2net_block3 = Res2NetBlock(d_args['filts'][1], d_args['filts'][2], scale=4)\n",
    "\n",
    "        self.gru = nn.GRU(input_size=d_args['filts'][2],\n",
    "                          hidden_size=d_args['gru_node'],\n",
    "                          num_layers=d_args['nb_gru_layer'],\n",
    "                          batch_first=True)\n",
    "\n",
    "        self.fc1 = nn.Linear(d_args['gru_node'], d_args['nb_fc_node'])  # Input size must match GRU hidden size\n",
    "        self.fc2 = nn.Linear(d_args['nb_fc_node'], d_args['nb_classes'])  # Matches number of classes\n",
    "\n",
    "        self.am_softmax = AMSoftmaxLoss(d_args['nb_fc_node'], d_args['nb_classes'])  # Use fc1 output size\n",
    "\n",
    "    def forward(self, x, labels=None, is_test=False):\n",
    "        x = self.res2net_block1(x)\n",
    "        x = self.res2net_block2(x)\n",
    "        x = self.res2net_block3(x)\n",
    "\n",
    "        x = x.permute(0, 2, 1)  # Permute for GRU input [batch, sequence, feature]\n",
    "        self.gru.flatten_parameters()\n",
    "        x, _ = self.gru(x)\n",
    "        x = x[:, -1, :]  # Take last time step output\n",
    "\n",
    "        x = self.fc1(x)\n",
    "        logits = self.fc2(x)\n",
    "\n",
    "        if labels is not None:  # Compute AMSoftmax only if labels are provided\n",
    "            return self.am_softmax(x, labels)\n",
    "        else:  # Return logits for testing/inference\n",
    "            return F.softmax(logits, dim=1)\n",
    "\n",
    "d_args = {\n",
    "    'in_channels': 1,\n",
    "    'filts': [64, 128, 256],\n",
    "    'gru_node': 128,\n",
    "    'nb_gru_layer': 2,\n",
    "    'nb_fc_node': 64,\n",
    "    'nb_classes': 2\n",
    "}\n",
    "model = AASIST2(d_args)\n"
   ]
  },
  {
   "cell_type": "code",
   "execution_count": 13,
   "id": "e74dbb1e",
   "metadata": {
    "execution": {
     "iopub.execute_input": "2025-09-05T11:28:22.594434Z",
     "iopub.status.busy": "2025-09-05T11:28:22.594208Z",
     "iopub.status.idle": "2025-09-05T11:28:22.597343Z",
     "shell.execute_reply": "2025-09-05T11:28:22.596737Z"
    },
    "papermill": {
     "duration": 0.008823,
     "end_time": "2025-09-05T11:28:22.598525",
     "exception": false,
     "start_time": "2025-09-05T11:28:22.589702",
     "status": "completed"
    },
    "tags": []
   },
   "outputs": [],
   "source": [
    "import torch\n",
    "from torch import nn\n",
    "from torch.nn import Parameter\n",
    "import torch.nn.functional as F"
   ]
  },
  {
   "cell_type": "code",
   "execution_count": 14,
   "id": "0e604e9b",
   "metadata": {
    "execution": {
     "iopub.execute_input": "2025-09-05T11:28:22.607697Z",
     "iopub.status.busy": "2025-09-05T11:28:22.607481Z",
     "iopub.status.idle": "2025-09-05T11:28:22.614396Z",
     "shell.execute_reply": "2025-09-05T11:28:22.613813Z"
    },
    "papermill": {
     "duration": 0.01286,
     "end_time": "2025-09-05T11:28:22.615620",
     "exception": false,
     "start_time": "2025-09-05T11:28:22.602760",
     "status": "completed"
    },
    "tags": []
   },
   "outputs": [],
   "source": [
    "# drop_amount = 0.255\n",
    "\n",
    "# class BiLSTMClassifier(nn.Module):\n",
    "#     def __init__(self, input_size, hidden_size, num_layers, num_classes):\n",
    "#         super(BiLSTMClassifier, self).__init__()\n",
    "#         self.hidden_size = hidden_size\n",
    "#         self.num_layers = num_layers\n",
    "#         self.lstm = nn.LSTM(input_size, hidden_size, num_layers, batch_first=True, bidirectional=True)\n",
    "#         self.dropout = nn.Dropout(p=drop_amount)\n",
    "#         self.fc = nn.Linear(hidden_size*2, num_classes)\n",
    "\n",
    "#     def forward(self, x):\n",
    "#         h0 = torch.zeros(self.num_layers*2, x.size(0), self.hidden_size).to(device=x.device, dtype=torch.double)\n",
    "#         c0 = torch.zeros(self.num_layers*2, x.size(0), self.hidden_size).to(device=x.device, dtype=torch.double)\n",
    "#         out, _ = self.lstm(x, (h0, c0))\n",
    "#         out = self.dropout(out)\n",
    "#         # Extract the output of the last time step from both directions\n",
    "#         last_hidden_state = torch.cat((out[:, -1, :self.hidden_size], out[:, 0, self.hidden_size:]), dim=1)\n",
    "#         output = self.fc(last_hidden_state)\n",
    "#         return output\n",
    "import torch\n",
    "import torch.nn as nn\n",
    "import torch.nn.functional as F\n",
    "\n",
    "drop_amount = 0.255  # keep your global drop\n",
    "\n",
    "class BiLSTMWithCrossAttention(nn.Module):\n",
    "    def __init__(self, input_size, hidden_size, num_layers, num_classes, num_heads=4):\n",
    "        super().__init__()\n",
    "        self.hidden_size = hidden_size\n",
    "        self.num_layers = num_layers\n",
    "\n",
    "        # BiLSTM (same as yours)\n",
    "        self.lstm = nn.LSTM(\n",
    "            input_size=input_size,\n",
    "            hidden_size=hidden_size,\n",
    "            num_layers=num_layers,\n",
    "            batch_first=True,\n",
    "            bidirectional=True\n",
    "        )\n",
    "\n",
    "        # Cross-attention: Q from BiLSTM (dim = 2*hidden),\n",
    "        # K,V from input projected to the same dim.\n",
    "        embed_dim = hidden_size * 2\n",
    "        self.k_proj = nn.Linear(input_size, embed_dim)\n",
    "        self.v_proj = nn.Linear(input_size, embed_dim)\n",
    "        self.cross_attn = nn.MultiheadAttention(\n",
    "            embed_dim=embed_dim,\n",
    "            num_heads=num_heads,\n",
    "            batch_first=True,\n",
    "            dropout=drop_amount\n",
    "        )\n",
    "\n",
    "        self.dropout = nn.Dropout(p=drop_amount)\n",
    "        self.fc = nn.Linear(embed_dim, num_classes)\n",
    "\n",
    "    def forward(self, x):\n",
    "        # x: [batch, seq_len, input_size]\n",
    "        # init states in the same device/dtype as x\n",
    "        h0 = torch.zeros(self.num_layers * 2, x.size(0), self.hidden_size,\n",
    "                         device=x.device, dtype=x.dtype)\n",
    "        c0 = torch.zeros(self.num_layers * 2, x.size(0), self.hidden_size,\n",
    "                         device=x.device, dtype=x.dtype)\n",
    "\n",
    "        # BiLSTM\n",
    "        lstm_out, _ = self.lstm(x, (h0, c0))            # [B, T, 2H]\n",
    "\n",
    "        # Project input to K,V for cross-attention\n",
    "        K = self.k_proj(x)                               # [B, T, 2H]\n",
    "        V = self.v_proj(x)                               # [B, T, 2H]\n",
    "\n",
    "        # Cross-attention: queries = BiLSTM outputs\n",
    "        attn_out, _ = self.cross_attn(query=lstm_out, key=K, value=V)  # [B, T, 2H]\n",
    "\n",
    "        # Residual + dropout\n",
    "        fused = self.dropout(lstm_out + attn_out)        # [B, T, 2H]\n",
    "\n",
    "        # Keep your original \"last forward + first backward\" trick\n",
    "        last_hidden_state = torch.cat(\n",
    "            (fused[:, -1, :self.hidden_size], fused[:, 0, self.hidden_size:]),\n",
    "            dim=1\n",
    "        )  # [B, 2H]\n",
    "\n",
    "        output = self.fc(last_hidden_state)              # [B, num_classes]\n",
    "        return output\n"
   ]
  },
  {
   "cell_type": "code",
   "execution_count": 15,
   "id": "cc962531",
   "metadata": {
    "execution": {
     "iopub.execute_input": "2025-09-05T11:28:22.624691Z",
     "iopub.status.busy": "2025-09-05T11:28:22.624482Z",
     "iopub.status.idle": "2025-09-05T11:28:22.955953Z",
     "shell.execute_reply": "2025-09-05T11:28:22.955139Z"
    },
    "papermill": {
     "duration": 0.337595,
     "end_time": "2025-09-05T11:28:22.957345",
     "exception": false,
     "start_time": "2025-09-05T11:28:22.619750",
     "status": "completed"
    },
    "tags": []
   },
   "outputs": [
    {
     "data": {
      "text/plain": [
       "BiLSTMWithCrossAttention(\n",
       "  (lstm): LSTM(40, 256, num_layers=2, batch_first=True, bidirectional=True)\n",
       "  (k_proj): Linear(in_features=40, out_features=512, bias=True)\n",
       "  (v_proj): Linear(in_features=40, out_features=512, bias=True)\n",
       "  (cross_attn): MultiheadAttention(\n",
       "    (out_proj): NonDynamicallyQuantizableLinear(in_features=512, out_features=512, bias=True)\n",
       "  )\n",
       "  (dropout): Dropout(p=0.255, inplace=False)\n",
       "  (fc): Linear(in_features=512, out_features=2, bias=True)\n",
       ")"
      ]
     },
     "execution_count": 15,
     "metadata": {},
     "output_type": "execute_result"
    }
   ],
   "source": [
    "# Define the parameters\n",
    "input_size = 20\n",
    "hidden_size = 256\n",
    "num_layers = 2\n",
    "num_classes = 2\n",
    "# model = BiLSTMClassifier(input_size, hidden_size, num_layers, num_classes)\n",
    "model = BiLSTMWithCrossAttention(\n",
    "    input_size=40,   # your MFCC dim\n",
    "    hidden_size=256,\n",
    "    num_layers=2,\n",
    "    num_classes=2,\n",
    "    num_heads=4\n",
    ")\n",
    "model.to(device, dtype=torch.double)  # stays compatible with your training loop\n",
    "\n",
    "model.to(device, dtype=torch.double)"
   ]
  },
  {
   "cell_type": "code",
   "execution_count": 16,
   "id": "87e16592",
   "metadata": {
    "execution": {
     "iopub.execute_input": "2025-09-05T11:28:22.967345Z",
     "iopub.status.busy": "2025-09-05T11:28:22.967125Z",
     "iopub.status.idle": "2025-09-05T11:28:22.970204Z",
     "shell.execute_reply": "2025-09-05T11:28:22.969610Z"
    },
    "papermill": {
     "duration": 0.009205,
     "end_time": "2025-09-05T11:28:22.971384",
     "exception": false,
     "start_time": "2025-09-05T11:28:22.962179",
     "status": "completed"
    },
    "tags": []
   },
   "outputs": [],
   "source": [
    "import torch\n",
    "import torch.nn as nn\n",
    "import torch.optim as optim"
   ]
  },
  {
   "cell_type": "code",
   "execution_count": 17,
   "id": "3c82b146",
   "metadata": {
    "execution": {
     "iopub.execute_input": "2025-09-05T11:28:22.980684Z",
     "iopub.status.busy": "2025-09-05T11:28:22.980428Z",
     "iopub.status.idle": "2025-09-05T11:28:26.443479Z",
     "shell.execute_reply": "2025-09-05T11:28:26.442563Z"
    },
    "papermill": {
     "duration": 3.469324,
     "end_time": "2025-09-05T11:28:26.445062",
     "exception": false,
     "start_time": "2025-09-05T11:28:22.975738",
     "status": "completed"
    },
    "tags": []
   },
   "outputs": [],
   "source": [
    "loss_function = nn.CrossEntropyLoss()\n",
    "optimizer = optim.Adam(model.parameters(), lr=learning_rate)"
   ]
  },
  {
   "cell_type": "code",
   "execution_count": 18,
   "id": "a56d04cd",
   "metadata": {
    "execution": {
     "iopub.execute_input": "2025-09-05T11:28:26.455107Z",
     "iopub.status.busy": "2025-09-05T11:28:26.454786Z",
     "iopub.status.idle": "2025-09-05T11:28:26.458849Z",
     "shell.execute_reply": "2025-09-05T11:28:26.457938Z"
    },
    "papermill": {
     "duration": 0.010267,
     "end_time": "2025-09-05T11:28:26.460072",
     "exception": false,
     "start_time": "2025-09-05T11:28:26.449805",
     "status": "completed"
    },
    "tags": []
   },
   "outputs": [
    {
     "name": "stdout",
     "output_type": "stream",
     "text": [
      "BiLSTMWithCrossAttention(\n",
      "  (lstm): LSTM(40, 256, num_layers=2, batch_first=True, bidirectional=True)\n",
      "  (k_proj): Linear(in_features=40, out_features=512, bias=True)\n",
      "  (v_proj): Linear(in_features=40, out_features=512, bias=True)\n",
      "  (cross_attn): MultiheadAttention(\n",
      "    (out_proj): NonDynamicallyQuantizableLinear(in_features=512, out_features=512, bias=True)\n",
      "  )\n",
      "  (dropout): Dropout(p=0.255, inplace=False)\n",
      "  (fc): Linear(in_features=512, out_features=2, bias=True)\n",
      ")\n"
     ]
    }
   ],
   "source": [
    "print(model)"
   ]
  },
  {
   "cell_type": "code",
   "execution_count": 19,
   "id": "65686934",
   "metadata": {
    "execution": {
     "iopub.execute_input": "2025-09-05T11:28:26.469666Z",
     "iopub.status.busy": "2025-09-05T11:28:26.469406Z",
     "iopub.status.idle": "2025-09-05T14:53:20.457683Z",
     "shell.execute_reply": "2025-09-05T14:53:20.456768Z"
    },
    "papermill": {
     "duration": 12296.531223,
     "end_time": "2025-09-05T14:53:22.995741",
     "exception": false,
     "start_time": "2025-09-05T11:28:26.464518",
     "status": "completed"
    },
    "tags": []
   },
   "outputs": [
    {
     "name": "stderr",
     "output_type": "stream",
     "text": [
      "Epoch 1/40 [Train]: 100%|██████████| 3489/3489 [15:58<00:00,  3.64it/s, loss=0.0385]\n",
      "Epoch 1/40 [Val]: 100%|██████████| 1161/1161 [05:59<00:00,  3.23it/s]\n"
     ]
    },
    {
     "name": "stdout",
     "output_type": "stream",
     "text": [
      "Epoch: 1/40, Train Loss: 0.2244, Train Accuracy: 0.9076, Val Accuracy: 0.8943\n"
     ]
    },
    {
     "name": "stderr",
     "output_type": "stream",
     "text": [
      "Epoch 2/40 [Train]: 100%|██████████| 3489/3489 [04:23<00:00, 13.23it/s, loss=0.191]\n",
      "Epoch 2/40 [Val]: 100%|██████████| 1161/1161 [01:03<00:00, 18.36it/s]\n"
     ]
    },
    {
     "name": "stdout",
     "output_type": "stream",
     "text": [
      "Epoch: 2/40, Train Loss: 0.1225, Train Accuracy: 0.9530, Val Accuracy: 0.9273\n"
     ]
    },
    {
     "name": "stderr",
     "output_type": "stream",
     "text": [
      "Epoch 3/40 [Train]: 100%|██████████| 3489/3489 [03:33<00:00, 16.31it/s, loss=0.0436]\n",
      "Epoch 3/40 [Val]: 100%|██████████| 1161/1161 [01:05<00:00, 17.60it/s]\n"
     ]
    },
    {
     "name": "stdout",
     "output_type": "stream",
     "text": [
      "Epoch: 3/40, Train Loss: 0.1197, Train Accuracy: 0.9558, Val Accuracy: 0.9255\n"
     ]
    },
    {
     "name": "stderr",
     "output_type": "stream",
     "text": [
      "Epoch 4/40 [Train]: 100%|██████████| 3489/3489 [03:57<00:00, 14.69it/s, loss=0.0074]\n",
      "Epoch 4/40 [Val]: 100%|██████████| 1161/1161 [01:09<00:00, 16.65it/s]\n"
     ]
    },
    {
     "name": "stdout",
     "output_type": "stream",
     "text": [
      "Epoch: 4/40, Train Loss: 0.0806, Train Accuracy: 0.9700, Val Accuracy: 0.9381\n"
     ]
    },
    {
     "name": "stderr",
     "output_type": "stream",
     "text": [
      "Epoch 5/40 [Train]: 100%|██████████| 3489/3489 [03:42<00:00, 15.68it/s, loss=0.0243]\n",
      "Epoch 5/40 [Val]: 100%|██████████| 1161/1161 [01:05<00:00, 17.72it/s]\n"
     ]
    },
    {
     "name": "stdout",
     "output_type": "stream",
     "text": [
      "Epoch: 5/40, Train Loss: 0.0986, Train Accuracy: 0.9666, Val Accuracy: 0.9144\n"
     ]
    },
    {
     "name": "stderr",
     "output_type": "stream",
     "text": [
      "Epoch 6/40 [Train]: 100%|██████████| 3489/3489 [03:33<00:00, 16.37it/s, loss=0.00433]\n",
      "Epoch 6/40 [Val]: 100%|██████████| 1161/1161 [01:00<00:00, 19.24it/s]\n"
     ]
    },
    {
     "name": "stdout",
     "output_type": "stream",
     "text": [
      "Epoch: 6/40, Train Loss: 0.0625, Train Accuracy: 0.9768, Val Accuracy: 0.9367\n"
     ]
    },
    {
     "name": "stderr",
     "output_type": "stream",
     "text": [
      "Epoch 7/40 [Train]: 100%|██████████| 3489/3489 [03:32<00:00, 16.43it/s, loss=0.0345]\n",
      "Epoch 7/40 [Val]: 100%|██████████| 1161/1161 [01:06<00:00, 17.43it/s]\n"
     ]
    },
    {
     "name": "stdout",
     "output_type": "stream",
     "text": [
      "Epoch: 7/40, Train Loss: 0.0532, Train Accuracy: 0.9814, Val Accuracy: 0.9413\n"
     ]
    },
    {
     "name": "stderr",
     "output_type": "stream",
     "text": [
      "Epoch 8/40 [Train]: 100%|██████████| 3489/3489 [03:32<00:00, 16.40it/s, loss=0.00471]\n",
      "Epoch 8/40 [Val]: 100%|██████████| 1161/1161 [01:01<00:00, 18.76it/s]\n"
     ]
    },
    {
     "name": "stdout",
     "output_type": "stream",
     "text": [
      "Epoch: 8/40, Train Loss: 0.0421, Train Accuracy: 0.9845, Val Accuracy: 0.9418\n"
     ]
    },
    {
     "name": "stderr",
     "output_type": "stream",
     "text": [
      "Epoch 9/40 [Train]: 100%|██████████| 3489/3489 [03:28<00:00, 16.73it/s, loss=0.153]\n",
      "Epoch 9/40 [Val]: 100%|██████████| 1161/1161 [01:00<00:00, 19.14it/s]\n"
     ]
    },
    {
     "name": "stdout",
     "output_type": "stream",
     "text": [
      "Epoch: 9/40, Train Loss: 0.0499, Train Accuracy: 0.9852, Val Accuracy: 0.9429\n"
     ]
    },
    {
     "name": "stderr",
     "output_type": "stream",
     "text": [
      "Epoch 10/40 [Train]: 100%|██████████| 3489/3489 [03:41<00:00, 15.76it/s, loss=0.00123]\n",
      "Epoch 10/40 [Val]: 100%|██████████| 1161/1161 [01:02<00:00, 18.44it/s]\n"
     ]
    },
    {
     "name": "stdout",
     "output_type": "stream",
     "text": [
      "Epoch: 10/40, Train Loss: 0.0285, Train Accuracy: 0.9895, Val Accuracy: 0.9425\n"
     ]
    },
    {
     "name": "stderr",
     "output_type": "stream",
     "text": [
      "Epoch 11/40 [Train]: 100%|██████████| 3489/3489 [03:24<00:00, 17.04it/s, loss=0.00192]\n",
      "Epoch 11/40 [Val]: 100%|██████████| 1161/1161 [01:00<00:00, 19.17it/s]\n"
     ]
    },
    {
     "name": "stdout",
     "output_type": "stream",
     "text": [
      "Epoch: 11/40, Train Loss: 0.0281, Train Accuracy: 0.9903, Val Accuracy: 0.9420\n"
     ]
    },
    {
     "name": "stderr",
     "output_type": "stream",
     "text": [
      "Epoch 12/40 [Train]: 100%|██████████| 3489/3489 [03:23<00:00, 17.16it/s, loss=0.0316]\n",
      "Epoch 12/40 [Val]: 100%|██████████| 1161/1161 [01:04<00:00, 17.93it/s]\n"
     ]
    },
    {
     "name": "stdout",
     "output_type": "stream",
     "text": [
      "Epoch: 12/40, Train Loss: 0.0241, Train Accuracy: 0.9911, Val Accuracy: 0.9359\n"
     ]
    },
    {
     "name": "stderr",
     "output_type": "stream",
     "text": [
      "Epoch 13/40 [Train]: 100%|██████████| 3489/3489 [03:28<00:00, 16.72it/s, loss=0.000918]\n",
      "Epoch 13/40 [Val]: 100%|██████████| 1161/1161 [01:10<00:00, 16.52it/s]\n"
     ]
    },
    {
     "name": "stdout",
     "output_type": "stream",
     "text": [
      "Epoch: 13/40, Train Loss: 0.0527, Train Accuracy: 0.9862, Val Accuracy: 0.9266\n"
     ]
    },
    {
     "name": "stderr",
     "output_type": "stream",
     "text": [
      "Epoch 14/40 [Train]: 100%|██████████| 3489/3489 [03:46<00:00, 15.40it/s, loss=0.00251]\n",
      "Epoch 14/40 [Val]: 100%|██████████| 1161/1161 [01:05<00:00, 17.83it/s]\n"
     ]
    },
    {
     "name": "stdout",
     "output_type": "stream",
     "text": [
      "Epoch: 14/40, Train Loss: 0.0395, Train Accuracy: 0.9861, Val Accuracy: 0.9417\n"
     ]
    },
    {
     "name": "stderr",
     "output_type": "stream",
     "text": [
      "Epoch 15/40 [Train]: 100%|██████████| 3489/3489 [03:41<00:00, 15.78it/s, loss=0.152]\n",
      "Epoch 15/40 [Val]: 100%|██████████| 1161/1161 [01:00<00:00, 19.19it/s]\n"
     ]
    },
    {
     "name": "stdout",
     "output_type": "stream",
     "text": [
      "Epoch: 15/40, Train Loss: 0.0281, Train Accuracy: 0.9906, Val Accuracy: 0.9455\n"
     ]
    },
    {
     "name": "stderr",
     "output_type": "stream",
     "text": [
      "Epoch 16/40 [Train]: 100%|██████████| 3489/3489 [03:24<00:00, 17.04it/s, loss=0.0155]\n",
      "Epoch 16/40 [Val]: 100%|██████████| 1161/1161 [01:03<00:00, 18.26it/s]\n"
     ]
    },
    {
     "name": "stdout",
     "output_type": "stream",
     "text": [
      "Epoch: 16/40, Train Loss: 0.0341, Train Accuracy: 0.9883, Val Accuracy: 0.9414\n"
     ]
    },
    {
     "name": "stderr",
     "output_type": "stream",
     "text": [
      "Epoch 17/40 [Train]: 100%|██████████| 3489/3489 [03:35<00:00, 16.19it/s, loss=4.13e-5]\n",
      "Epoch 17/40 [Val]: 100%|██████████| 1161/1161 [01:18<00:00, 14.84it/s]\n"
     ]
    },
    {
     "name": "stdout",
     "output_type": "stream",
     "text": [
      "Epoch: 17/40, Train Loss: 0.0258, Train Accuracy: 0.9906, Val Accuracy: 0.9468\n"
     ]
    },
    {
     "name": "stderr",
     "output_type": "stream",
     "text": [
      "Epoch 18/40 [Train]: 100%|██████████| 3489/3489 [03:51<00:00, 15.05it/s, loss=0.0164]\n",
      "Epoch 18/40 [Val]: 100%|██████████| 1161/1161 [01:02<00:00, 18.55it/s]\n"
     ]
    },
    {
     "name": "stdout",
     "output_type": "stream",
     "text": [
      "Epoch: 18/40, Train Loss: 0.0318, Train Accuracy: 0.9903, Val Accuracy: 0.9432\n"
     ]
    },
    {
     "name": "stderr",
     "output_type": "stream",
     "text": [
      "Epoch 19/40 [Train]: 100%|██████████| 3489/3489 [03:43<00:00, 15.64it/s, loss=0.0507]\n",
      "Epoch 19/40 [Val]: 100%|██████████| 1161/1161 [01:04<00:00, 17.96it/s]\n"
     ]
    },
    {
     "name": "stdout",
     "output_type": "stream",
     "text": [
      "Epoch: 19/40, Train Loss: 0.0596, Train Accuracy: 0.9781, Val Accuracy: 0.9439\n"
     ]
    },
    {
     "name": "stderr",
     "output_type": "stream",
     "text": [
      "Epoch 20/40 [Train]: 100%|██████████| 3489/3489 [03:42<00:00, 15.66it/s, loss=0.000337]\n",
      "Epoch 20/40 [Val]: 100%|██████████| 1161/1161 [01:10<00:00, 16.55it/s]\n"
     ]
    },
    {
     "name": "stdout",
     "output_type": "stream",
     "text": [
      "Epoch: 20/40, Train Loss: 0.0373, Train Accuracy: 0.9873, Val Accuracy: 0.9413\n"
     ]
    },
    {
     "name": "stderr",
     "output_type": "stream",
     "text": [
      "Epoch 21/40 [Train]: 100%|██████████| 3489/3489 [03:40<00:00, 15.81it/s, loss=3.32e-5]\n",
      "Epoch 21/40 [Val]: 100%|██████████| 1161/1161 [01:03<00:00, 18.23it/s]\n"
     ]
    },
    {
     "name": "stdout",
     "output_type": "stream",
     "text": [
      "Epoch: 21/40, Train Loss: 0.0371, Train Accuracy: 0.9873, Val Accuracy: 0.9436\n"
     ]
    },
    {
     "name": "stderr",
     "output_type": "stream",
     "text": [
      "Epoch 22/40 [Train]: 100%|██████████| 3489/3489 [03:30<00:00, 16.59it/s, loss=0.00155]\n",
      "Epoch 22/40 [Val]: 100%|██████████| 1161/1161 [01:03<00:00, 18.20it/s]\n"
     ]
    },
    {
     "name": "stdout",
     "output_type": "stream",
     "text": [
      "Epoch: 22/40, Train Loss: 0.0293, Train Accuracy: 0.9900, Val Accuracy: 0.9387\n"
     ]
    },
    {
     "name": "stderr",
     "output_type": "stream",
     "text": [
      "Epoch 23/40 [Train]: 100%|██████████| 3489/3489 [03:30<00:00, 16.55it/s, loss=0.00191]\n",
      "Epoch 23/40 [Val]: 100%|██████████| 1161/1161 [01:02<00:00, 18.68it/s]\n"
     ]
    },
    {
     "name": "stdout",
     "output_type": "stream",
     "text": [
      "Epoch: 23/40, Train Loss: 0.0494, Train Accuracy: 0.9827, Val Accuracy: 0.9353\n"
     ]
    },
    {
     "name": "stderr",
     "output_type": "stream",
     "text": [
      "Epoch 24/40 [Train]: 100%|██████████| 3489/3489 [03:25<00:00, 17.00it/s, loss=0.0731]\n",
      "Epoch 24/40 [Val]: 100%|██████████| 1161/1161 [01:01<00:00, 18.73it/s]\n"
     ]
    },
    {
     "name": "stdout",
     "output_type": "stream",
     "text": [
      "Epoch: 24/40, Train Loss: 0.0384, Train Accuracy: 0.9867, Val Accuracy: 0.9403\n"
     ]
    },
    {
     "name": "stderr",
     "output_type": "stream",
     "text": [
      "Epoch 25/40 [Train]: 100%|██████████| 3489/3489 [03:28<00:00, 16.76it/s, loss=0.0588]\n",
      "Epoch 25/40 [Val]: 100%|██████████| 1161/1161 [00:59<00:00, 19.37it/s]\n"
     ]
    },
    {
     "name": "stdout",
     "output_type": "stream",
     "text": [
      "Epoch: 25/40, Train Loss: 0.0481, Train Accuracy: 0.9833, Val Accuracy: 0.9373\n"
     ]
    },
    {
     "name": "stderr",
     "output_type": "stream",
     "text": [
      "Epoch 26/40 [Train]: 100%|██████████| 3489/3489 [03:28<00:00, 16.76it/s, loss=0.0112]\n",
      "Epoch 26/40 [Val]: 100%|██████████| 1161/1161 [01:04<00:00, 17.97it/s]\n"
     ]
    },
    {
     "name": "stdout",
     "output_type": "stream",
     "text": [
      "Epoch: 26/40, Train Loss: 0.0388, Train Accuracy: 0.9868, Val Accuracy: 0.9112\n"
     ]
    },
    {
     "name": "stderr",
     "output_type": "stream",
     "text": [
      "Epoch 27/40 [Train]: 100%|██████████| 3489/3489 [03:26<00:00, 16.87it/s, loss=0.00359]\n",
      "Epoch 27/40 [Val]: 100%|██████████| 1161/1161 [01:02<00:00, 18.53it/s]\n"
     ]
    },
    {
     "name": "stdout",
     "output_type": "stream",
     "text": [
      "Epoch: 27/40, Train Loss: 0.0300, Train Accuracy: 0.9904, Val Accuracy: 0.9405\n"
     ]
    },
    {
     "name": "stderr",
     "output_type": "stream",
     "text": [
      "Epoch 28/40 [Train]: 100%|██████████| 3489/3489 [03:29<00:00, 16.63it/s, loss=0.00186]\n",
      "Epoch 28/40 [Val]: 100%|██████████| 1161/1161 [01:04<00:00, 18.11it/s]\n"
     ]
    },
    {
     "name": "stdout",
     "output_type": "stream",
     "text": [
      "Epoch: 28/40, Train Loss: 0.0551, Train Accuracy: 0.9800, Val Accuracy: 0.9444\n"
     ]
    },
    {
     "name": "stderr",
     "output_type": "stream",
     "text": [
      "Epoch 29/40 [Train]: 100%|██████████| 3489/3489 [03:37<00:00, 16.07it/s, loss=0.0198]\n",
      "Epoch 29/40 [Val]: 100%|██████████| 1161/1161 [01:02<00:00, 18.67it/s]\n"
     ]
    },
    {
     "name": "stdout",
     "output_type": "stream",
     "text": [
      "Epoch: 29/40, Train Loss: 0.0402, Train Accuracy: 0.9864, Val Accuracy: 0.9289\n"
     ]
    },
    {
     "name": "stderr",
     "output_type": "stream",
     "text": [
      "Epoch 30/40 [Train]: 100%|██████████| 3489/3489 [03:47<00:00, 15.31it/s, loss=0.0218]\n",
      "Epoch 30/40 [Val]: 100%|██████████| 1161/1161 [01:07<00:00, 17.21it/s]\n"
     ]
    },
    {
     "name": "stdout",
     "output_type": "stream",
     "text": [
      "Epoch: 30/40, Train Loss: 0.0438, Train Accuracy: 0.9850, Val Accuracy: 0.9323\n"
     ]
    },
    {
     "name": "stderr",
     "output_type": "stream",
     "text": [
      "Epoch 31/40 [Train]: 100%|██████████| 3489/3489 [03:48<00:00, 15.28it/s, loss=0.19]\n",
      "Epoch 31/40 [Val]: 100%|██████████| 1161/1161 [01:05<00:00, 17.83it/s]\n"
     ]
    },
    {
     "name": "stdout",
     "output_type": "stream",
     "text": [
      "Epoch: 31/40, Train Loss: 0.0732, Train Accuracy: 0.9727, Val Accuracy: 0.9367\n"
     ]
    },
    {
     "name": "stderr",
     "output_type": "stream",
     "text": [
      "Epoch 32/40 [Train]: 100%|██████████| 3489/3489 [03:49<00:00, 15.21it/s, loss=0.0628]\n",
      "Epoch 32/40 [Val]: 100%|██████████| 1161/1161 [01:10<00:00, 16.54it/s]\n"
     ]
    },
    {
     "name": "stdout",
     "output_type": "stream",
     "text": [
      "Epoch: 32/40, Train Loss: 0.0417, Train Accuracy: 0.9860, Val Accuracy: 0.9271\n"
     ]
    },
    {
     "name": "stderr",
     "output_type": "stream",
     "text": [
      "Epoch 33/40 [Train]: 100%|██████████| 3489/3489 [03:57<00:00, 14.69it/s, loss=9.31e-5]\n",
      "Epoch 33/40 [Val]: 100%|██████████| 1161/1161 [01:01<00:00, 18.79it/s]\n"
     ]
    },
    {
     "name": "stdout",
     "output_type": "stream",
     "text": [
      "Epoch: 33/40, Train Loss: 0.0281, Train Accuracy: 0.9905, Val Accuracy: 0.9453\n"
     ]
    },
    {
     "name": "stderr",
     "output_type": "stream",
     "text": [
      "Epoch 34/40 [Train]: 100%|██████████| 3489/3489 [03:30<00:00, 16.56it/s, loss=0.000419]\n",
      "Epoch 34/40 [Val]: 100%|██████████| 1161/1161 [01:01<00:00, 18.83it/s]\n"
     ]
    },
    {
     "name": "stdout",
     "output_type": "stream",
     "text": [
      "Epoch: 34/40, Train Loss: 0.0231, Train Accuracy: 0.9929, Val Accuracy: 0.9387\n"
     ]
    },
    {
     "name": "stderr",
     "output_type": "stream",
     "text": [
      "Epoch 35/40 [Train]: 100%|██████████| 3489/3489 [03:33<00:00, 16.31it/s, loss=0.000232]\n",
      "Epoch 35/40 [Val]: 100%|██████████| 1161/1161 [01:03<00:00, 18.26it/s]\n"
     ]
    },
    {
     "name": "stdout",
     "output_type": "stream",
     "text": [
      "Epoch: 35/40, Train Loss: 0.0492, Train Accuracy: 0.9824, Val Accuracy: 0.9408\n"
     ]
    },
    {
     "name": "stderr",
     "output_type": "stream",
     "text": [
      "Epoch 36/40 [Train]: 100%|██████████| 3489/3489 [03:39<00:00, 15.90it/s, loss=0.00701]\n",
      "Epoch 36/40 [Val]: 100%|██████████| 1161/1161 [01:08<00:00, 17.01it/s]\n"
     ]
    },
    {
     "name": "stdout",
     "output_type": "stream",
     "text": [
      "Epoch: 36/40, Train Loss: 0.0441, Train Accuracy: 0.9866, Val Accuracy: 0.9346\n"
     ]
    },
    {
     "name": "stderr",
     "output_type": "stream",
     "text": [
      "Epoch 37/40 [Train]: 100%|██████████| 3489/3489 [03:29<00:00, 16.62it/s, loss=0.00151]\n",
      "Epoch 37/40 [Val]: 100%|██████████| 1161/1161 [01:02<00:00, 18.55it/s]\n"
     ]
    },
    {
     "name": "stdout",
     "output_type": "stream",
     "text": [
      "Epoch: 37/40, Train Loss: 0.0296, Train Accuracy: 0.9903, Val Accuracy: 0.9424\n"
     ]
    },
    {
     "name": "stderr",
     "output_type": "stream",
     "text": [
      "Epoch 38/40 [Train]: 100%|██████████| 3489/3489 [03:24<00:00, 17.04it/s, loss=0.0028]\n",
      "Epoch 38/40 [Val]: 100%|██████████| 1161/1161 [01:00<00:00, 19.06it/s]\n"
     ]
    },
    {
     "name": "stdout",
     "output_type": "stream",
     "text": [
      "Epoch: 38/40, Train Loss: 0.0536, Train Accuracy: 0.9810, Val Accuracy: 0.9424\n"
     ]
    },
    {
     "name": "stderr",
     "output_type": "stream",
     "text": [
      "Epoch 39/40 [Train]: 100%|██████████| 3489/3489 [03:27<00:00, 16.85it/s, loss=0.000652]\n",
      "Epoch 39/40 [Val]: 100%|██████████| 1161/1161 [01:02<00:00, 18.52it/s]\n"
     ]
    },
    {
     "name": "stdout",
     "output_type": "stream",
     "text": [
      "Epoch: 39/40, Train Loss: 0.0245, Train Accuracy: 0.9921, Val Accuracy: 0.9442\n"
     ]
    },
    {
     "name": "stderr",
     "output_type": "stream",
     "text": [
      "Epoch 40/40 [Train]: 100%|██████████| 3489/3489 [03:27<00:00, 16.83it/s, loss=0.00246]\n",
      "Epoch 40/40 [Val]: 100%|██████████| 1161/1161 [01:06<00:00, 17.37it/s]"
     ]
    },
    {
     "name": "stdout",
     "output_type": "stream",
     "text": [
      "Epoch: 40/40, Train Loss: 0.0285, Train Accuracy: 0.9910, Val Accuracy: 0.9414\n",
      "Max Accuracy: 0.9467861757105943\n"
     ]
    },
    {
     "name": "stderr",
     "output_type": "stream",
     "text": [
      "\n"
     ]
    }
   ],
   "source": [
    "from tqdm import tqdm\n",
    "\n",
    "# Model training and testing\n",
    "n_total_steps = len(train_dataloader)\n",
    "train_accuracy_list = []\n",
    "train_loss_list = []\n",
    "val_accuracy_list = []\n",
    "max_acc = 0\n",
    "num_epochs = 40\n",
    "pred_labels = []\n",
    "act_labels = []\n",
    "device = torch.device('cuda' if torch.cuda.is_available() else 'cpu')\n",
    "model.to(device)\n",
    "\n",
    "for epoch in range(num_epochs):\n",
    "    model.train()\n",
    "    train_accuracy = 0.0\n",
    "    train_loss = 0.0\n",
    "\n",
    "    # Training loop with tqdm\n",
    "    train_loop = tqdm(enumerate(train_dataloader), total=len(train_dataloader), desc=f\"Epoch {epoch+1}/{num_epochs} [Train]\")\n",
    "    for batch_idx, (images, labels) in train_loop:\n",
    "        images, labels = images.to(device), labels.to(device)\n",
    "        optimizer.zero_grad()\n",
    "        outputs = model(images)\n",
    "        loss = loss_function(outputs, labels)\n",
    "        loss.backward()\n",
    "        optimizer.step()\n",
    "\n",
    "        # stats\n",
    "        train_loss += loss.item() * images.size(0)\n",
    "        _, prediction = torch.max(outputs.data, 1)\n",
    "        train_accuracy += int((prediction == labels).sum().item())\n",
    "\n",
    "        # Update tqdm bar\n",
    "        train_loop.set_postfix(loss=loss.item())\n",
    "\n",
    "    train_accuracy /= train_count\n",
    "    train_loss /= train_count\n",
    "    train_accuracy_list.append(train_accuracy)\n",
    "    train_loss_list.append(train_loss)\n",
    "\n",
    "    # Validation loop with tqdm\n",
    "    model.eval()\n",
    "    val_accuracy = 0.0\n",
    "    pred = []\n",
    "    lab = []\n",
    "\n",
    "    val_loop = tqdm(val_dataloader, total=len(val_dataloader), desc=f\"Epoch {epoch+1}/{num_epochs} [Val]\")\n",
    "    with torch.no_grad():\n",
    "        for images, labels in val_loop:\n",
    "            images, labels = images.to(device), labels.to(device)\n",
    "            outputs = model(images)\n",
    "            _, prediction = torch.max(outputs.data, 1)\n",
    "            val_accuracy += int((prediction == labels).sum().item())\n",
    "            pred.extend(prediction.cpu().tolist())\n",
    "            lab.extend(labels.cpu().tolist())\n",
    "\n",
    "    val_accuracy /= val_count\n",
    "    val_accuracy_list.append(val_accuracy)\n",
    "\n",
    "    if max_acc < val_accuracy:\n",
    "        max_acc = val_accuracy\n",
    "        pred_labels = pred\n",
    "        actual_labels = lab\n",
    "        torch.save(model, \"best_accuracy_model_BiLSTM.pth\")\n",
    "\n",
    "    print(f\"Epoch: {epoch + 1}/{num_epochs}, Train Loss: {train_loss:.4f}, \"\n",
    "          f\"Train Accuracy: {train_accuracy:.4f}, Val Accuracy: {val_accuracy:.4f}\")\n",
    "\n",
    "print(\"Max Accuracy:\", max_acc)\n"
   ]
  },
  {
   "cell_type": "code",
   "execution_count": 20,
   "id": "a01d1780",
   "metadata": {
    "execution": {
     "iopub.execute_input": "2025-09-05T14:53:45.971095Z",
     "iopub.status.busy": "2025-09-05T14:53:45.970773Z",
     "iopub.status.idle": "2025-09-05T15:00:30.923641Z",
     "shell.execute_reply": "2025-09-05T15:00:30.922596Z"
    },
    "papermill": {
     "duration": 427.994204,
     "end_time": "2025-09-05T15:00:42.399893",
     "exception": false,
     "start_time": "2025-09-05T14:53:34.405689",
     "status": "completed"
    },
    "tags": []
   },
   "outputs": [
    {
     "name": "stdout",
     "output_type": "stream",
     "text": [
      "Testing Accuracy: 94.72%\n"
     ]
    }
   ],
   "source": [
    "best_model=torch.load(\"best_accuracy_model_BiLSTM.pth\", weights_only=False)\n",
    "best_model.to(device, dtype=torch.double)\n",
    "best_model.eval()\n",
    "\n",
    "# Initialize variables to store results\n",
    "testing_accuracy = 0.0\n",
    "pred_labels = []\n",
    "act_labels = []\n",
    "\n",
    "# Iterate over the test dataloader\n",
    "with torch.no_grad():\n",
    "    for i, (images, labels) in enumerate(test_dataloader):\n",
    "        if torch.cuda.is_available():\n",
    "            images = Variable(images.cuda())\n",
    "            labels = Variable(labels.cuda())\n",
    "        else:\n",
    "            images = Variable(images)\n",
    "            labels = Variable(labels)\n",
    "\n",
    "        # Forward pass (only input x)\n",
    "        outputs = best_model(images)\n",
    "\n",
    "        # Get predictions by taking the index with the highest score\n",
    "        _, prediction = torch.max(outputs.data, 1)\n",
    "\n",
    "        # Calculate the number of correct predictions\n",
    "        testing_accuracy += (prediction == labels).sum().item()\n",
    "\n",
    "        # Store predicted and actual labels\n",
    "        pred_labels.extend(prediction.cpu().tolist())\n",
    "        act_labels.extend(labels.cpu().tolist())\n",
    "\n",
    "# Calculate the testing accuracy\n",
    "testing_accuracy /= len(test_dataloader.dataset)\n",
    "\n",
    "# Print the testing accuracy\n",
    "print(f\"Testing Accuracy: {testing_accuracy * 100:.2f}%\")"
   ]
  },
  {
   "cell_type": "code",
   "execution_count": 21,
   "id": "4ee46bfa",
   "metadata": {
    "execution": {
     "iopub.execute_input": "2025-09-05T15:01:05.764944Z",
     "iopub.status.busy": "2025-09-05T15:01:05.764627Z",
     "iopub.status.idle": "2025-09-05T15:01:05.768191Z",
     "shell.execute_reply": "2025-09-05T15:01:05.767281Z"
    },
    "papermill": {
     "duration": 11.929629,
     "end_time": "2025-09-05T15:01:05.769602",
     "exception": false,
     "start_time": "2025-09-05T15:00:53.839973",
     "status": "completed"
    },
    "tags": []
   },
   "outputs": [],
   "source": [
    "# # Calculate the confusion matrix\n",
    "# import seaborn as sns\n",
    "# conf_mat = confusion_matrix(act_labels, pred_labels)\n",
    "# # Plot confusion matrix heat map\n",
    "# sns.heatmap(conf_mat, cmap=\"flare\",annot=True, fmt = \"g\", \n",
    "#             cbar_kws={\"label\":\"color bar\"},\n",
    "#             xticklabels=train_dataset.classes,\n",
    "#             yticklabels=train_dataset.classes)\n",
    "# plt.xlabel(\"Predicted\")\n",
    "# plt.ylabel(\"Actual\")\n",
    "# plt.title(\"Confusion Matrix\")\n",
    "# plt.savefig(\"ConfusionMatrix_BiLSTM.png\")\n",
    "# plt.show()\n",
    "# from sklearn.metrics import f1_score\n",
    "# f1_score = f1_score(pred_labels, act_labels, average='macro')\n",
    "# print('F1 Score : ', f1_score)"
   ]
  },
  {
   "cell_type": "code",
   "execution_count": 22,
   "id": "d796ddc6",
   "metadata": {
    "execution": {
     "iopub.execute_input": "2025-09-05T15:01:28.748030Z",
     "iopub.status.busy": "2025-09-05T15:01:28.747699Z",
     "iopub.status.idle": "2025-09-05T15:01:28.767989Z",
     "shell.execute_reply": "2025-09-05T15:01:28.767221Z"
    },
    "papermill": {
     "duration": 11.515777,
     "end_time": "2025-09-05T15:01:28.769308",
     "exception": false,
     "start_time": "2025-09-05T15:01:17.253531",
     "status": "completed"
    },
    "tags": []
   },
   "outputs": [
    {
     "name": "stdout",
     "output_type": "stream",
     "text": [
      "The equal error rate is 0.053\n"
     ]
    }
   ],
   "source": [
    "import numpy as np\n",
    "import sklearn.metrics\n",
    "\n",
    "\"\"\"\n",
    "Python compute equal error rate (eer)\n",
    "ONLY tested on binary classification\n",
    "\n",
    ":param label: ground-truth label, should be a 1-d list or np.array, each element represents the ground-truth label of one sample\n",
    ":param pred: model prediction, should be a 1-d list or np.array, each element represents the model prediction of one sample\n",
    ":param positive_label: the class that is viewed as positive class when computing EER\n",
    ":return: equal error rate (EER)\n",
    "\"\"\"\n",
    "def compute_eer(label, pred):\n",
    "    # all fpr, tpr, fnr, fnr, threshold are lists (in the format of np.array)\n",
    "    fpr, tpr, threshold = sklearn.metrics.roc_curve(label, pred)\n",
    "    fnr = 1 - tpr\n",
    "\n",
    "    # the threshold of fnr == fpr\n",
    "    eer_threshold = threshold[np.nanargmin(np.absolute((fnr - fpr)))]\n",
    "\n",
    "    # theoretically eer from fpr and eer from fnr should be identical but they can be slightly differ in reality\n",
    "    eer_1 = fpr[np.nanargmin(np.absolute((fnr - fpr)))]\n",
    "    eer_2 = fnr[np.nanargmin(np.absolute((fnr - fpr)))]\n",
    "\n",
    "    # return the mean of eer from fpr and from fnr\n",
    "    eer = (eer_1 + eer_2) / 2\n",
    "    return eer\n",
    "\n",
    "eer = compute_eer(act_labels, pred_labels)\n",
    "print('The equal error rate is {:.3f}'.format(eer))"
   ]
  },
  {
   "cell_type": "code",
   "execution_count": null,
   "id": "59d5e51f",
   "metadata": {
    "papermill": {
     "duration": 11.586659,
     "end_time": "2025-09-05T15:01:51.954162",
     "exception": false,
     "start_time": "2025-09-05T15:01:40.367503",
     "status": "completed"
    },
    "tags": []
   },
   "outputs": [],
   "source": []
  }
 ],
 "metadata": {
  "kaggle": {
   "accelerator": "gpu",
   "dataSources": [
    {
     "datasetId": 8157101,
     "sourceId": 12892670,
     "sourceType": "datasetVersion"
    },
    {
     "datasetId": 8169899,
     "sourceId": 12911904,
     "sourceType": "datasetVersion"
    }
   ],
   "dockerImageVersionId": 30839,
   "isGpuEnabled": true,
   "isInternetEnabled": false,
   "language": "python",
   "sourceType": "notebook"
  },
  "kernelspec": {
   "display_name": "Python 3",
   "language": "python",
   "name": "python3"
  },
  "language_info": {
   "codemirror_mode": {
    "name": "ipython",
    "version": 3
   },
   "file_extension": ".py",
   "mimetype": "text/x-python",
   "name": "python",
   "nbconvert_exporter": "python",
   "pygments_lexer": "ipython3",
   "version": "3.10.12"
  },
  "papermill": {
   "default_parameters": {},
   "duration": 13379.132043,
   "end_time": "2025-09-05T15:02:06.056571",
   "environment_variables": {},
   "exception": null,
   "input_path": "__notebook__.ipynb",
   "output_path": "__notebook__.ipynb",
   "parameters": {},
   "start_time": "2025-09-05T11:19:06.924528",
   "version": "2.5.0"
  }
 },
 "nbformat": 4,
 "nbformat_minor": 5
}
