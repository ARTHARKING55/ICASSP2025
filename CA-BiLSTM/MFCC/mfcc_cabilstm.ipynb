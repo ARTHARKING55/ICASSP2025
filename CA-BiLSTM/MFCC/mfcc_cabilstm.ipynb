{
 "cells": [
  {
   "cell_type": "code",
   "execution_count": 1,
   "id": "825f6a9e",
   "metadata": {
    "execution": {
     "iopub.execute_input": "2025-09-03T18:46:07.480183Z",
     "iopub.status.busy": "2025-09-03T18:46:07.479950Z",
     "iopub.status.idle": "2025-09-03T18:46:07.483461Z",
     "shell.execute_reply": "2025-09-03T18:46:07.482965Z"
    },
    "papermill": {
     "duration": 0.009744,
     "end_time": "2025-09-03T18:46:07.484534",
     "exception": false,
     "start_time": "2025-09-03T18:46:07.474790",
     "status": "completed"
    },
    "tags": []
   },
   "outputs": [],
   "source": [
    "# !pip install --upgrade scipy"
   ]
  },
  {
   "cell_type": "code",
   "execution_count": 2,
   "id": "cd2558f3",
   "metadata": {
    "execution": {
     "iopub.execute_input": "2025-09-03T18:46:07.492784Z",
     "iopub.status.busy": "2025-09-03T18:46:07.492109Z",
     "iopub.status.idle": "2025-09-03T18:46:12.688346Z",
     "shell.execute_reply": "2025-09-03T18:46:12.687751Z"
    },
    "papermill": {
     "duration": 5.201538,
     "end_time": "2025-09-03T18:46:12.689813",
     "exception": false,
     "start_time": "2025-09-03T18:46:07.488275",
     "status": "completed"
    },
    "tags": []
   },
   "outputs": [],
   "source": [
    "import torch \n",
    "import torch.nn as nn\n",
    "import torch.nn.functional as F\n",
    "from torch.autograd import Variable\n",
    "from torch.utils.data import Dataset, DataLoader\n",
    "\n",
    "import os, pathlib, glob, random\n",
    "import numpy as np\n",
    "import matplotlib.pyplot as plt \n",
    "\n",
    "from sklearn.metrics import confusion_matrix\n",
    "import scipy\n",
    "from scipy import io"
   ]
  },
  {
   "cell_type": "code",
   "execution_count": 3,
   "id": "6c0f1516",
   "metadata": {
    "execution": {
     "iopub.execute_input": "2025-09-03T18:46:12.698459Z",
     "iopub.status.busy": "2025-09-03T18:46:12.697694Z",
     "iopub.status.idle": "2025-09-03T18:46:12.770590Z",
     "shell.execute_reply": "2025-09-03T18:46:12.769792Z"
    },
    "papermill": {
     "duration": 0.078011,
     "end_time": "2025-09-03T18:46:12.771702",
     "exception": false,
     "start_time": "2025-09-03T18:46:12.693691",
     "status": "completed"
    },
    "tags": []
   },
   "outputs": [
    {
     "name": "stdout",
     "output_type": "stream",
     "text": [
      "cuda\n"
     ]
    }
   ],
   "source": [
    "device = torch.device('cuda' if torch.cuda.is_available() else 'cpu')\n",
    "print(device)"
   ]
  },
  {
   "cell_type": "code",
   "execution_count": 4,
   "id": "e2facb2e",
   "metadata": {
    "execution": {
     "iopub.execute_input": "2025-09-03T18:46:12.779810Z",
     "iopub.status.busy": "2025-09-03T18:46:12.779228Z",
     "iopub.status.idle": "2025-09-03T18:46:12.782761Z",
     "shell.execute_reply": "2025-09-03T18:46:12.782057Z"
    },
    "papermill": {
     "duration": 0.008663,
     "end_time": "2025-09-03T18:46:12.783819",
     "exception": false,
     "start_time": "2025-09-03T18:46:12.775156",
     "status": "completed"
    },
    "tags": []
   },
   "outputs": [],
   "source": [
    "batch_size = 32\n",
    "output_nodes = 10\n",
    "learning_rate = 0.001"
   ]
  },
  {
   "cell_type": "code",
   "execution_count": 5,
   "id": "bc0fc438",
   "metadata": {
    "execution": {
     "iopub.execute_input": "2025-09-03T18:46:12.791188Z",
     "iopub.status.busy": "2025-09-03T18:46:12.790985Z",
     "iopub.status.idle": "2025-09-03T18:46:15.640734Z",
     "shell.execute_reply": "2025-09-03T18:46:15.640002Z"
    },
    "papermill": {
     "duration": 2.854836,
     "end_time": "2025-09-03T18:46:15.641914",
     "exception": false,
     "start_time": "2025-09-03T18:46:12.787078",
     "status": "completed"
    },
    "tags": []
   },
   "outputs": [
    {
     "name": "stdout",
     "output_type": "stream",
     "text": [
      "Training samples: 111633\n",
      "Validation samples: 37152\n",
      "Testing samples: 37971\n"
     ]
    }
   ],
   "source": [
    "import os\n",
    "import random\n",
    "import scipy.io\n",
    "import numpy as np\n",
    "from torch.utils.data import Dataset, DataLoader\n",
    "\n",
    "# Paths for both datasets\n",
    "train_data_paths = [\n",
    "    r\"/kaggle/input/mfcc-fornew/mfcc/train\" #,  # Language 1\n",
    "    # r\"/kaggle/input/singfox-t2-gfcc-icassp/GFCC_T2/gfcc/train\"   # Language 2\n",
    "]\n",
    "validation_data_paths = [\n",
    "    r\"/kaggle/input/mfcc-fornew/mfcc/dev\" #,\n",
    "    # r\"/kaggle/input/singfox-t2-gfcc-icassp/GFCC_T2/gfcc/val\"\n",
    "]\n",
    "testing_data_paths = [\n",
    "    r\"/kaggle/input/mfcc-fornew/mfcc/test\" #,\n",
    "    # r\"/kaggle/input/singfox-t2-gfcc-icassp/GFCC_T2/gfcc/test\"\n",
    "]\n",
    "\n",
    "class MixedPtDataset(Dataset):\n",
    "    def __init__(self, directories):\n",
    "        \"\"\"Load features from multiple directories.\"\"\"\n",
    "        self.files = []\n",
    "        self.class_to_idx = {}\n",
    "\n",
    "        for directory in directories:\n",
    "            classes = sorted(entry.name for entry in os.scandir(directory) if entry.is_dir())\n",
    "            \n",
    "            # Assign class indices if not already assigned\n",
    "            for c in classes:\n",
    "                if c not in self.class_to_idx:\n",
    "                    self.class_to_idx[c] = len(self.class_to_idx)\n",
    "\n",
    "            for c in classes:\n",
    "                c_dir = os.path.join(directory, c)\n",
    "                c_files = [(os.path.join(c_dir, f), self.class_to_idx[c]) for f in os.listdir(c_dir)]\n",
    "                self.files.extend(c_files)\n",
    "\n",
    "        random.shuffle(self.files)\n",
    "\n",
    "    def __len__(self):\n",
    "        return len(self.files)\n",
    "\n",
    "    def __getitem__(self, idx):\n",
    "        filepath, label = self.files[idx]\n",
    "        try:\n",
    "            mat_vals = scipy.io.loadmat(filepath)\n",
    "            data = mat_vals['final'].T\n",
    "            max_len = 10\n",
    "            if max_len > data.shape[0]:\n",
    "                pad_width = max_len - data.shape[0]\n",
    "                data = np.pad(data, pad_width=((0, pad_width), (0, 0)), mode='constant')\n",
    "            else:\n",
    "                data = data[:max_len, :]\n",
    "        except Exception as e:\n",
    "            print(f\"Error loading file {filepath}: {str(e)}\")\n",
    "            return None\n",
    "        return data, label\n",
    "\n",
    "# Combine both datasets\n",
    "train_dataset = MixedPtDataset(train_data_paths)\n",
    "val_dataset = MixedPtDataset(validation_data_paths)\n",
    "test_dataset = MixedPtDataset(testing_data_paths)\n",
    "\n",
    "class PtDataLoader(DataLoader):\n",
    "    def __init__(self, directories, batch_size, shuffle=True):\n",
    "        dataset = MixedPtDataset(directories)\n",
    "        super().__init__(dataset, batch_size=batch_size, shuffle=shuffle)\n",
    "\n",
    "# Load mixed datasets\n",
    "batch_size = 32\n",
    "train_dataloader = PtDataLoader(directories=train_data_paths, batch_size=batch_size)\n",
    "val_dataloader = PtDataLoader(directories=validation_data_paths, batch_size=batch_size)\n",
    "test_dataloader = PtDataLoader(directories=testing_data_paths, batch_size=batch_size)\n",
    "\n",
    "train_count = len(train_dataset)\n",
    "val_count = len(val_dataset)\n",
    "test_count = len(test_dataset)\n",
    "\n",
    "print(f\"Training samples: {train_count}\\nValidation samples: {val_count}\\nTesting samples: {test_count}\")"
   ]
  },
  {
   "cell_type": "code",
   "execution_count": 6,
   "id": "f8f7c4bd",
   "metadata": {
    "execution": {
     "iopub.execute_input": "2025-09-03T18:46:15.649747Z",
     "iopub.status.busy": "2025-09-03T18:46:15.649520Z",
     "iopub.status.idle": "2025-09-03T18:46:15.652369Z",
     "shell.execute_reply": "2025-09-03T18:46:15.651857Z"
    },
    "papermill": {
     "duration": 0.00789,
     "end_time": "2025-09-03T18:46:15.653446",
     "exception": false,
     "start_time": "2025-09-03T18:46:15.645556",
     "status": "completed"
    },
    "tags": []
   },
   "outputs": [],
   "source": [
    "# train_dataset = PtDataset(train_data_path)\n",
    "# val_dataset = PtDataset(val_data_path)\n",
    "# test_dataset = PtDataset(test_data_path)"
   ]
  },
  {
   "cell_type": "code",
   "execution_count": 7,
   "id": "83d9922b",
   "metadata": {
    "execution": {
     "iopub.execute_input": "2025-09-03T18:46:15.661235Z",
     "iopub.status.busy": "2025-09-03T18:46:15.661037Z",
     "iopub.status.idle": "2025-09-03T18:46:15.663855Z",
     "shell.execute_reply": "2025-09-03T18:46:15.663347Z"
    },
    "papermill": {
     "duration": 0.007719,
     "end_time": "2025-09-03T18:46:15.664849",
     "exception": false,
     "start_time": "2025-09-03T18:46:15.657130",
     "status": "completed"
    },
    "tags": []
   },
   "outputs": [],
   "source": [
    "# class PtDataLoader(DataLoader):\n",
    "#     def __init__(self, directory, batch_size, shuffle=True):\n",
    "#         dataset = PtDataset(directory)\n",
    "#         super().__init__(dataset, batch_size=batch_size, shuffle=shuffle)"
   ]
  },
  {
   "cell_type": "code",
   "execution_count": 8,
   "id": "6ce863c7",
   "metadata": {
    "execution": {
     "iopub.execute_input": "2025-09-03T18:46:15.672301Z",
     "iopub.status.busy": "2025-09-03T18:46:15.672099Z",
     "iopub.status.idle": "2025-09-03T18:46:15.675109Z",
     "shell.execute_reply": "2025-09-03T18:46:15.674575Z"
    },
    "papermill": {
     "duration": 0.007936,
     "end_time": "2025-09-03T18:46:15.676104",
     "exception": false,
     "start_time": "2025-09-03T18:46:15.668168",
     "status": "completed"
    },
    "tags": []
   },
   "outputs": [],
   "source": [
    "# train_dataloader = PtDataLoader(directory=train_data_path, batch_size=batch_size)\n",
    "# val_dataloader = PtDataLoader(directory=val_data_path, batch_size=batch_size)\n",
    "# test_dataloader = PtDataLoader(directory=test_data_path, batch_size=batch_size)"
   ]
  },
  {
   "cell_type": "code",
   "execution_count": 9,
   "id": "56f72770",
   "metadata": {
    "execution": {
     "iopub.execute_input": "2025-09-03T18:46:15.684277Z",
     "iopub.status.busy": "2025-09-03T18:46:15.683904Z",
     "iopub.status.idle": "2025-09-03T18:46:15.686870Z",
     "shell.execute_reply": "2025-09-03T18:46:15.686196Z"
    },
    "papermill": {
     "duration": 0.007659,
     "end_time": "2025-09-03T18:46:15.687906",
     "exception": false,
     "start_time": "2025-09-03T18:46:15.680247",
     "status": "completed"
    },
    "tags": []
   },
   "outputs": [],
   "source": [
    "# train_count = len(train_dataset) \n",
    "# val_count = len(val_dataset)\n",
    "# test_count = len(test_dataset)"
   ]
  },
  {
   "cell_type": "code",
   "execution_count": 10,
   "id": "b6adc23b",
   "metadata": {
    "execution": {
     "iopub.execute_input": "2025-09-03T18:46:15.695077Z",
     "iopub.status.busy": "2025-09-03T18:46:15.694881Z",
     "iopub.status.idle": "2025-09-03T18:46:15.698490Z",
     "shell.execute_reply": "2025-09-03T18:46:15.697818Z"
    },
    "papermill": {
     "duration": 0.008361,
     "end_time": "2025-09-03T18:46:15.699500",
     "exception": false,
     "start_time": "2025-09-03T18:46:15.691139",
     "status": "completed"
    },
    "tags": []
   },
   "outputs": [
    {
     "name": "stdout",
     "output_type": "stream",
     "text": [
      "111633\n",
      "37152\n",
      "37971\n"
     ]
    }
   ],
   "source": [
    "print(train_count)\n",
    "print(val_count)\n",
    "print(test_count)"
   ]
  },
  {
   "cell_type": "code",
   "execution_count": 11,
   "id": "3536a9f1",
   "metadata": {
    "execution": {
     "iopub.execute_input": "2025-09-03T18:46:15.707043Z",
     "iopub.status.busy": "2025-09-03T18:46:15.706839Z",
     "iopub.status.idle": "2025-09-03T18:46:15.761938Z",
     "shell.execute_reply": "2025-09-03T18:46:15.761211Z"
    },
    "papermill": {
     "duration": 0.060257,
     "end_time": "2025-09-03T18:46:15.763113",
     "exception": false,
     "start_time": "2025-09-03T18:46:15.702856",
     "status": "completed"
    },
    "tags": []
   },
   "outputs": [],
   "source": [
    "drop_amount = 0.255\n",
    "\n",
    "import torch\n",
    "import torch.nn as nn\n",
    "import torch.nn.functional as F\n",
    "from collections import OrderedDict\n",
    "from torch.nn.parameter import Parameter\n",
    "from torch.utils import data\n",
    "\n",
    "class Res2NetBlock(nn.Module):\n",
    "    def __init__(self, in_channels, out_channels, scale=4, kernel_size=3, stride=1, padding=1):\n",
    "        super(Res2NetBlock, self).__init__()\n",
    "        assert out_channels % scale == 0, \"Output channels must be divisible by scale\"\n",
    "        self.scale = scale\n",
    "        self.split_channels = out_channels // scale\n",
    "\n",
    "        self.conv1 = nn.Conv1d(in_channels, out_channels, kernel_size=1, stride=1, bias=False)\n",
    "        self.bn1 = nn.BatchNorm1d(out_channels)\n",
    "\n",
    "        self.convs = nn.ModuleList([\n",
    "            nn.Conv1d(self.split_channels, self.split_channels, kernel_size, stride=stride, padding=padding, bias=False)\n",
    "            for _ in range(scale - 1)\n",
    "        ])\n",
    "\n",
    "        self.bn2 = nn.BatchNorm1d(out_channels)\n",
    "        self.conv3 = nn.Conv1d(out_channels, out_channels, kernel_size=1, stride=1, bias=False)\n",
    "\n",
    "        self.relu = nn.ReLU(inplace=True)\n",
    "\n",
    "    def forward(self, x):\n",
    "        out = self.conv1(x)\n",
    "        out = self.bn1(out)\n",
    "        out = self.relu(out)\n",
    "\n",
    "        splits = torch.chunk(out, self.scale, dim=1)\n",
    "        out = splits[0]\n",
    "        result = [out]  # Collect outputs here to avoid in-place addition\n",
    "        for i, conv in enumerate(self.convs):\n",
    "            result.append(conv(splits[i + 1]))\n",
    "        out = torch.cat(result, dim=1)  # Concatenate all parts\n",
    "\n",
    "        out = self.conv3(out)\n",
    "        out = self.bn2(out)\n",
    "        return self.relu(out)\n",
    "\n",
    "\n",
    "class AMSoftmaxLoss(nn.Module):\n",
    "    def __init__(self, in_features, out_features, s=30.0, m=0.4):\n",
    "        super(AMSoftmaxLoss, self).__init__()\n",
    "        self.s = s\n",
    "        self.m = m\n",
    "        self.weight = Parameter(torch.DoubleTensor(out_features, in_features))\n",
    "        nn.init.xavier_uniform_(self.weight)\n",
    "\n",
    "    def forward(self, x, labels):\n",
    "        cosine = F.linear(F.normalize(x), F.normalize(self.weight))\n",
    "        phi = cosine - self.m\n",
    "        one_hot = torch.zeros_like(cosine)\n",
    "        one_hot.scatter_(1, labels.view(-1, 1).long(), 1)\n",
    "        logits = one_hot * phi + (1.0 - one_hot) * cosine\n",
    "        logits *= self.s\n",
    "        return logits\n",
    "\n",
    "\n",
    "class AASIST2(nn.Module):\n",
    "    def __init__(self, d_args):\n",
    "        super(AASIST2, self).__init__()\n",
    "        self.res2net_block1 = Res2NetBlock(d_args['in_channels'], d_args['filts'][0], scale=4)\n",
    "        self.res2net_block2 = Res2NetBlock(d_args['filts'][0], d_args['filts'][1], scale=4)\n",
    "        self.res2net_block3 = Res2NetBlock(d_args['filts'][1], d_args['filts'][2], scale=4)\n",
    "\n",
    "        self.gru = nn.GRU(input_size=d_args['filts'][2],\n",
    "                          hidden_size=d_args['gru_node'],\n",
    "                          num_layers=d_args['nb_gru_layer'],\n",
    "                          batch_first=True)\n",
    "\n",
    "        self.fc1 = nn.Linear(d_args['gru_node'], d_args['nb_fc_node'])  # Input size must match GRU hidden size\n",
    "        self.fc2 = nn.Linear(d_args['nb_fc_node'], d_args['nb_classes'])  # Matches number of classes\n",
    "\n",
    "        self.am_softmax = AMSoftmaxLoss(d_args['nb_fc_node'], d_args['nb_classes'])  # Use fc1 output size\n",
    "\n",
    "    def forward(self, x, labels=None, is_test=False):\n",
    "        x = self.res2net_block1(x)\n",
    "        x = self.res2net_block2(x)\n",
    "        x = self.res2net_block3(x)\n",
    "\n",
    "        x = x.permute(0, 2, 1)  # Permute for GRU input [batch, sequence, feature]\n",
    "        self.gru.flatten_parameters()\n",
    "        x, _ = self.gru(x)\n",
    "        x = x[:, -1, :]  # Take last time step output\n",
    "\n",
    "        x = self.fc1(x)\n",
    "        logits = self.fc2(x)\n",
    "\n",
    "        if labels is not None:  # Compute AMSoftmax only if labels are provided\n",
    "            return self.am_softmax(x, labels)\n",
    "        else:  # Return logits for testing/inference\n",
    "            return F.softmax(logits, dim=1)\n",
    "\n",
    "d_args = {\n",
    "    'in_channels': 1,\n",
    "    'filts': [64, 128, 256],\n",
    "    'gru_node': 128,\n",
    "    'nb_gru_layer': 2,\n",
    "    'nb_fc_node': 64,\n",
    "    'nb_classes': 2\n",
    "}\n",
    "model = AASIST2(d_args)\n"
   ]
  },
  {
   "cell_type": "code",
   "execution_count": 12,
   "id": "38e2bb28",
   "metadata": {
    "execution": {
     "iopub.execute_input": "2025-09-03T18:46:15.771217Z",
     "iopub.status.busy": "2025-09-03T18:46:15.770570Z",
     "iopub.status.idle": "2025-09-03T18:46:15.773969Z",
     "shell.execute_reply": "2025-09-03T18:46:15.773417Z"
    },
    "papermill": {
     "duration": 0.008379,
     "end_time": "2025-09-03T18:46:15.775000",
     "exception": false,
     "start_time": "2025-09-03T18:46:15.766621",
     "status": "completed"
    },
    "tags": []
   },
   "outputs": [],
   "source": [
    "import torch\n",
    "from torch import nn\n",
    "from torch.nn import Parameter\n",
    "import torch.nn.functional as F"
   ]
  },
  {
   "cell_type": "code",
   "execution_count": 13,
   "id": "914dec3d",
   "metadata": {
    "execution": {
     "iopub.execute_input": "2025-09-03T18:46:15.782794Z",
     "iopub.status.busy": "2025-09-03T18:46:15.782276Z",
     "iopub.status.idle": "2025-09-03T18:46:15.790075Z",
     "shell.execute_reply": "2025-09-03T18:46:15.789362Z"
    },
    "papermill": {
     "duration": 0.012831,
     "end_time": "2025-09-03T18:46:15.791231",
     "exception": false,
     "start_time": "2025-09-03T18:46:15.778400",
     "status": "completed"
    },
    "tags": []
   },
   "outputs": [],
   "source": [
    "# drop_amount = 0.255\n",
    "\n",
    "# class BiLSTMClassifier(nn.Module):\n",
    "#     def __init__(self, input_size, hidden_size, num_layers, num_classes):\n",
    "#         super(BiLSTMClassifier, self).__init__()\n",
    "#         self.hidden_size = hidden_size\n",
    "#         self.num_layers = num_layers\n",
    "#         self.lstm = nn.LSTM(input_size, hidden_size, num_layers, batch_first=True, bidirectional=True)\n",
    "#         self.dropout = nn.Dropout(p=drop_amount)\n",
    "#         self.fc = nn.Linear(hidden_size*2, num_classes)\n",
    "\n",
    "#     def forward(self, x):\n",
    "#         h0 = torch.zeros(self.num_layers*2, x.size(0), self.hidden_size).to(device=x.device, dtype=torch.double)\n",
    "#         c0 = torch.zeros(self.num_layers*2, x.size(0), self.hidden_size).to(device=x.device, dtype=torch.double)\n",
    "#         out, _ = self.lstm(x, (h0, c0))\n",
    "#         out = self.dropout(out)\n",
    "#         # Extract the output of the last time step from both directions\n",
    "#         last_hidden_state = torch.cat((out[:, -1, :self.hidden_size], out[:, 0, self.hidden_size:]), dim=1)\n",
    "#         output = self.fc(last_hidden_state)\n",
    "#         return output\n",
    "import torch\n",
    "import torch.nn as nn\n",
    "import torch.nn.functional as F\n",
    "\n",
    "drop_amount = 0.255  # keep your global drop\n",
    "\n",
    "class BiLSTMWithCrossAttention(nn.Module):\n",
    "    def __init__(self, input_size, hidden_size, num_layers, num_classes, num_heads=4):\n",
    "        super().__init__()\n",
    "        self.hidden_size = hidden_size\n",
    "        self.num_layers = num_layers\n",
    "\n",
    "        # BiLSTM (same as yours)\n",
    "        self.lstm = nn.LSTM(\n",
    "            input_size=input_size,\n",
    "            hidden_size=hidden_size,\n",
    "            num_layers=num_layers,\n",
    "            batch_first=True,\n",
    "            bidirectional=True\n",
    "        )\n",
    "\n",
    "        # Cross-attention: Q from BiLSTM (dim = 2*hidden),\n",
    "        # K,V from input projected to the same dim.\n",
    "        embed_dim = hidden_size * 2\n",
    "        self.k_proj = nn.Linear(input_size, embed_dim)\n",
    "        self.v_proj = nn.Linear(input_size, embed_dim)\n",
    "        self.cross_attn = nn.MultiheadAttention(\n",
    "            embed_dim=embed_dim,\n",
    "            num_heads=num_heads,\n",
    "            batch_first=True,\n",
    "            dropout=drop_amount\n",
    "        )\n",
    "\n",
    "        self.dropout = nn.Dropout(p=drop_amount)\n",
    "        self.fc = nn.Linear(embed_dim, num_classes)\n",
    "\n",
    "    def forward(self, x):\n",
    "        # x: [batch, seq_len, input_size]\n",
    "        # init states in the same device/dtype as x\n",
    "        h0 = torch.zeros(self.num_layers * 2, x.size(0), self.hidden_size,\n",
    "                         device=x.device, dtype=x.dtype)\n",
    "        c0 = torch.zeros(self.num_layers * 2, x.size(0), self.hidden_size,\n",
    "                         device=x.device, dtype=x.dtype)\n",
    "\n",
    "        # BiLSTM\n",
    "        lstm_out, _ = self.lstm(x, (h0, c0))            # [B, T, 2H]\n",
    "\n",
    "        # Project input to K,V for cross-attention\n",
    "        K = self.k_proj(x)                               # [B, T, 2H]\n",
    "        V = self.v_proj(x)                               # [B, T, 2H]\n",
    "\n",
    "        # Cross-attention: queries = BiLSTM outputs\n",
    "        attn_out, _ = self.cross_attn(query=lstm_out, key=K, value=V)  # [B, T, 2H]\n",
    "\n",
    "        # Residual + dropout\n",
    "        fused = self.dropout(lstm_out + attn_out)        # [B, T, 2H]\n",
    "\n",
    "        # Keep your original \"last forward + first backward\" trick\n",
    "        last_hidden_state = torch.cat(\n",
    "            (fused[:, -1, :self.hidden_size], fused[:, 0, self.hidden_size:]),\n",
    "            dim=1\n",
    "        )  # [B, 2H]\n",
    "\n",
    "        output = self.fc(last_hidden_state)              # [B, num_classes]\n",
    "        return output\n"
   ]
  },
  {
   "cell_type": "code",
   "execution_count": 14,
   "id": "a3160a0b",
   "metadata": {
    "execution": {
     "iopub.execute_input": "2025-09-03T18:46:15.798683Z",
     "iopub.status.busy": "2025-09-03T18:46:15.798277Z",
     "iopub.status.idle": "2025-09-03T18:46:16.099917Z",
     "shell.execute_reply": "2025-09-03T18:46:16.099250Z"
    },
    "papermill": {
     "duration": 0.306505,
     "end_time": "2025-09-03T18:46:16.101047",
     "exception": false,
     "start_time": "2025-09-03T18:46:15.794542",
     "status": "completed"
    },
    "tags": []
   },
   "outputs": [
    {
     "data": {
      "text/plain": [
       "BiLSTMWithCrossAttention(\n",
       "  (lstm): LSTM(20, 256, num_layers=2, batch_first=True, bidirectional=True)\n",
       "  (k_proj): Linear(in_features=20, out_features=512, bias=True)\n",
       "  (v_proj): Linear(in_features=20, out_features=512, bias=True)\n",
       "  (cross_attn): MultiheadAttention(\n",
       "    (out_proj): NonDynamicallyQuantizableLinear(in_features=512, out_features=512, bias=True)\n",
       "  )\n",
       "  (dropout): Dropout(p=0.255, inplace=False)\n",
       "  (fc): Linear(in_features=512, out_features=2, bias=True)\n",
       ")"
      ]
     },
     "execution_count": 14,
     "metadata": {},
     "output_type": "execute_result"
    }
   ],
   "source": [
    "# Define the parameters\n",
    "input_size = 20\n",
    "hidden_size = 256\n",
    "num_layers = 2\n",
    "num_classes = 2\n",
    "# model = BiLSTMClassifier(input_size, hidden_size, num_layers, num_classes)\n",
    "model = BiLSTMWithCrossAttention(\n",
    "    input_size=20,   # your MFCC dim\n",
    "    hidden_size=256,\n",
    "    num_layers=2,\n",
    "    num_classes=2,\n",
    "    num_heads=4\n",
    ")\n",
    "model.to(device, dtype=torch.double)  # stays compatible with your training loop\n",
    "\n",
    "model.to(device, dtype=torch.double)"
   ]
  },
  {
   "cell_type": "code",
   "execution_count": 15,
   "id": "f0d3e93b",
   "metadata": {
    "execution": {
     "iopub.execute_input": "2025-09-03T18:46:16.109500Z",
     "iopub.status.busy": "2025-09-03T18:46:16.109058Z",
     "iopub.status.idle": "2025-09-03T18:46:16.112212Z",
     "shell.execute_reply": "2025-09-03T18:46:16.111585Z"
    },
    "papermill": {
     "duration": 0.008464,
     "end_time": "2025-09-03T18:46:16.113298",
     "exception": false,
     "start_time": "2025-09-03T18:46:16.104834",
     "status": "completed"
    },
    "tags": []
   },
   "outputs": [],
   "source": [
    "import torch\n",
    "import torch.nn as nn\n",
    "import torch.optim as optim"
   ]
  },
  {
   "cell_type": "code",
   "execution_count": 16,
   "id": "cc44f449",
   "metadata": {
    "execution": {
     "iopub.execute_input": "2025-09-03T18:46:16.120904Z",
     "iopub.status.busy": "2025-09-03T18:46:16.120699Z",
     "iopub.status.idle": "2025-09-03T18:46:20.629990Z",
     "shell.execute_reply": "2025-09-03T18:46:20.629429Z"
    },
    "papermill": {
     "duration": 4.51447,
     "end_time": "2025-09-03T18:46:20.631323",
     "exception": false,
     "start_time": "2025-09-03T18:46:16.116853",
     "status": "completed"
    },
    "tags": []
   },
   "outputs": [],
   "source": [
    "loss_function = nn.CrossEntropyLoss()\n",
    "optimizer = optim.Adam(model.parameters(), lr=learning_rate)"
   ]
  },
  {
   "cell_type": "code",
   "execution_count": 17,
   "id": "2f8f68d7",
   "metadata": {
    "execution": {
     "iopub.execute_input": "2025-09-03T18:46:20.639590Z",
     "iopub.status.busy": "2025-09-03T18:46:20.639270Z",
     "iopub.status.idle": "2025-09-03T18:46:20.643204Z",
     "shell.execute_reply": "2025-09-03T18:46:20.642464Z"
    },
    "papermill": {
     "duration": 0.009258,
     "end_time": "2025-09-03T18:46:20.644369",
     "exception": false,
     "start_time": "2025-09-03T18:46:20.635111",
     "status": "completed"
    },
    "tags": []
   },
   "outputs": [
    {
     "name": "stdout",
     "output_type": "stream",
     "text": [
      "BiLSTMWithCrossAttention(\n",
      "  (lstm): LSTM(20, 256, num_layers=2, batch_first=True, bidirectional=True)\n",
      "  (k_proj): Linear(in_features=20, out_features=512, bias=True)\n",
      "  (v_proj): Linear(in_features=20, out_features=512, bias=True)\n",
      "  (cross_attn): MultiheadAttention(\n",
      "    (out_proj): NonDynamicallyQuantizableLinear(in_features=512, out_features=512, bias=True)\n",
      "  )\n",
      "  (dropout): Dropout(p=0.255, inplace=False)\n",
      "  (fc): Linear(in_features=512, out_features=2, bias=True)\n",
      ")\n"
     ]
    }
   ],
   "source": [
    "print(model)"
   ]
  },
  {
   "cell_type": "code",
   "execution_count": 18,
   "id": "23290fc4",
   "metadata": {
    "execution": {
     "iopub.execute_input": "2025-09-03T18:46:20.655359Z",
     "iopub.status.busy": "2025-09-03T18:46:20.654962Z",
     "iopub.status.idle": "2025-09-03T20:33:04.757253Z",
     "shell.execute_reply": "2025-09-03T20:33:04.756522Z"
    },
    "papermill": {
     "duration": 6404.107657,
     "end_time": "2025-09-03T20:33:04.758385",
     "exception": false,
     "start_time": "2025-09-03T18:46:20.650728",
     "status": "completed"
    },
    "tags": []
   },
   "outputs": [
    {
     "name": "stderr",
     "output_type": "stream",
     "text": [
      "Epoch 1/40 [Train]: 100%|██████████| 3489/3489 [06:40<00:00,  8.71it/s, loss=0.128]\n",
      "Epoch 1/40 [Val]: 100%|██████████| 1161/1161 [02:17<00:00,  8.42it/s]\n"
     ]
    },
    {
     "name": "stdout",
     "output_type": "stream",
     "text": [
      "Epoch: 1/40, Train Loss: 0.3200, Train Accuracy: 0.8613, Val Accuracy: 0.8645\n"
     ]
    },
    {
     "name": "stderr",
     "output_type": "stream",
     "text": [
      "Epoch 2/40 [Train]: 100%|██████████| 3489/3489 [02:40<00:00, 21.76it/s, loss=0.302]\n",
      "Epoch 2/40 [Val]: 100%|██████████| 1161/1161 [00:30<00:00, 38.02it/s]\n"
     ]
    },
    {
     "name": "stdout",
     "output_type": "stream",
     "text": [
      "Epoch: 2/40, Train Loss: 0.2138, Train Accuracy: 0.9164, Val Accuracy: 0.8774\n"
     ]
    },
    {
     "name": "stderr",
     "output_type": "stream",
     "text": [
      "Epoch 3/40 [Train]: 100%|██████████| 3489/3489 [01:58<00:00, 29.51it/s, loss=0.058]\n",
      "Epoch 3/40 [Val]: 100%|██████████| 1161/1161 [00:33<00:00, 34.88it/s]\n"
     ]
    },
    {
     "name": "stdout",
     "output_type": "stream",
     "text": [
      "Epoch: 3/40, Train Loss: 0.1596, Train Accuracy: 0.9370, Val Accuracy: 0.8915\n"
     ]
    },
    {
     "name": "stderr",
     "output_type": "stream",
     "text": [
      "Epoch 4/40 [Train]: 100%|██████████| 3489/3489 [01:56<00:00, 29.85it/s, loss=0.0216]\n",
      "Epoch 4/40 [Val]: 100%|██████████| 1161/1161 [00:30<00:00, 38.45it/s]\n"
     ]
    },
    {
     "name": "stdout",
     "output_type": "stream",
     "text": [
      "Epoch: 4/40, Train Loss: 0.1229, Train Accuracy: 0.9528, Val Accuracy: 0.9138\n"
     ]
    },
    {
     "name": "stderr",
     "output_type": "stream",
     "text": [
      "Epoch 5/40 [Train]: 100%|██████████| 3489/3489 [01:53<00:00, 30.86it/s, loss=0.222]\n",
      "Epoch 5/40 [Val]: 100%|██████████| 1161/1161 [00:30<00:00, 37.46it/s]\n"
     ]
    },
    {
     "name": "stdout",
     "output_type": "stream",
     "text": [
      "Epoch: 5/40, Train Loss: 0.1102, Train Accuracy: 0.9592, Val Accuracy: 0.8753\n"
     ]
    },
    {
     "name": "stderr",
     "output_type": "stream",
     "text": [
      "Epoch 6/40 [Train]: 100%|██████████| 3489/3489 [01:54<00:00, 30.51it/s, loss=0.0484]\n",
      "Epoch 6/40 [Val]: 100%|██████████| 1161/1161 [00:30<00:00, 38.34it/s]\n"
     ]
    },
    {
     "name": "stdout",
     "output_type": "stream",
     "text": [
      "Epoch: 6/40, Train Loss: 0.0892, Train Accuracy: 0.9663, Val Accuracy: 0.9162\n"
     ]
    },
    {
     "name": "stderr",
     "output_type": "stream",
     "text": [
      "Epoch 7/40 [Train]: 100%|██████████| 3489/3489 [01:55<00:00, 30.20it/s, loss=0.0407]\n",
      "Epoch 7/40 [Val]: 100%|██████████| 1161/1161 [00:31<00:00, 36.56it/s]\n"
     ]
    },
    {
     "name": "stdout",
     "output_type": "stream",
     "text": [
      "Epoch: 7/40, Train Loss: 0.0718, Train Accuracy: 0.9733, Val Accuracy: 0.9209\n"
     ]
    },
    {
     "name": "stderr",
     "output_type": "stream",
     "text": [
      "Epoch 8/40 [Train]: 100%|██████████| 3489/3489 [01:53<00:00, 30.73it/s, loss=0.104]\n",
      "Epoch 8/40 [Val]: 100%|██████████| 1161/1161 [00:30<00:00, 37.78it/s]\n"
     ]
    },
    {
     "name": "stdout",
     "output_type": "stream",
     "text": [
      "Epoch: 8/40, Train Loss: 0.0973, Train Accuracy: 0.9634, Val Accuracy: 0.9242\n"
     ]
    },
    {
     "name": "stderr",
     "output_type": "stream",
     "text": [
      "Epoch 9/40 [Train]: 100%|██████████| 3489/3489 [01:54<00:00, 30.51it/s, loss=0.00877]\n",
      "Epoch 9/40 [Val]: 100%|██████████| 1161/1161 [00:30<00:00, 37.62it/s]\n"
     ]
    },
    {
     "name": "stdout",
     "output_type": "stream",
     "text": [
      "Epoch: 9/40, Train Loss: 0.0708, Train Accuracy: 0.9736, Val Accuracy: 0.9178\n"
     ]
    },
    {
     "name": "stderr",
     "output_type": "stream",
     "text": [
      "Epoch 10/40 [Train]: 100%|██████████| 3489/3489 [01:51<00:00, 31.28it/s, loss=0.00295]\n",
      "Epoch 10/40 [Val]: 100%|██████████| 1161/1161 [00:30<00:00, 38.06it/s]\n"
     ]
    },
    {
     "name": "stdout",
     "output_type": "stream",
     "text": [
      "Epoch: 10/40, Train Loss: 0.0800, Train Accuracy: 0.9698, Val Accuracy: 0.9197\n"
     ]
    },
    {
     "name": "stderr",
     "output_type": "stream",
     "text": [
      "Epoch 11/40 [Train]: 100%|██████████| 3489/3489 [01:53<00:00, 30.76it/s, loss=0.000942]\n",
      "Epoch 11/40 [Val]: 100%|██████████| 1161/1161 [00:29<00:00, 39.90it/s]\n"
     ]
    },
    {
     "name": "stdout",
     "output_type": "stream",
     "text": [
      "Epoch: 11/40, Train Loss: 0.0639, Train Accuracy: 0.9772, Val Accuracy: 0.9158\n"
     ]
    },
    {
     "name": "stderr",
     "output_type": "stream",
     "text": [
      "Epoch 12/40 [Train]: 100%|██████████| 3489/3489 [01:51<00:00, 31.34it/s, loss=0.266]\n",
      "Epoch 12/40 [Val]: 100%|██████████| 1161/1161 [00:31<00:00, 36.88it/s]\n"
     ]
    },
    {
     "name": "stdout",
     "output_type": "stream",
     "text": [
      "Epoch: 12/40, Train Loss: 0.0681, Train Accuracy: 0.9748, Val Accuracy: 0.9211\n"
     ]
    },
    {
     "name": "stderr",
     "output_type": "stream",
     "text": [
      "Epoch 13/40 [Train]: 100%|██████████| 3489/3489 [01:52<00:00, 30.91it/s, loss=0.0289]\n",
      "Epoch 13/40 [Val]: 100%|██████████| 1161/1161 [00:30<00:00, 37.64it/s]\n"
     ]
    },
    {
     "name": "stdout",
     "output_type": "stream",
     "text": [
      "Epoch: 13/40, Train Loss: 0.0494, Train Accuracy: 0.9824, Val Accuracy: 0.9230\n"
     ]
    },
    {
     "name": "stderr",
     "output_type": "stream",
     "text": [
      "Epoch 14/40 [Train]: 100%|██████████| 3489/3489 [01:54<00:00, 30.38it/s, loss=0.0068]\n",
      "Epoch 14/40 [Val]: 100%|██████████| 1161/1161 [00:30<00:00, 37.64it/s]\n"
     ]
    },
    {
     "name": "stdout",
     "output_type": "stream",
     "text": [
      "Epoch: 14/40, Train Loss: 0.0410, Train Accuracy: 0.9854, Val Accuracy: 0.9195\n"
     ]
    },
    {
     "name": "stderr",
     "output_type": "stream",
     "text": [
      "Epoch 15/40 [Train]: 100%|██████████| 3489/3489 [01:54<00:00, 30.37it/s, loss=0.0408]\n",
      "Epoch 15/40 [Val]: 100%|██████████| 1161/1161 [00:31<00:00, 37.35it/s]\n"
     ]
    },
    {
     "name": "stdout",
     "output_type": "stream",
     "text": [
      "Epoch: 15/40, Train Loss: 0.0428, Train Accuracy: 0.9849, Val Accuracy: 0.9213\n"
     ]
    },
    {
     "name": "stderr",
     "output_type": "stream",
     "text": [
      "Epoch 16/40 [Train]: 100%|██████████| 3489/3489 [01:55<00:00, 30.11it/s, loss=0.02]\n",
      "Epoch 16/40 [Val]: 100%|██████████| 1161/1161 [00:29<00:00, 39.35it/s]\n"
     ]
    },
    {
     "name": "stdout",
     "output_type": "stream",
     "text": [
      "Epoch: 16/40, Train Loss: 0.0327, Train Accuracy: 0.9881, Val Accuracy: 0.9289\n"
     ]
    },
    {
     "name": "stderr",
     "output_type": "stream",
     "text": [
      "Epoch 17/40 [Train]: 100%|██████████| 3489/3489 [01:56<00:00, 30.02it/s, loss=0.0305]\n",
      "Epoch 17/40 [Val]: 100%|██████████| 1161/1161 [00:31<00:00, 37.16it/s]\n"
     ]
    },
    {
     "name": "stdout",
     "output_type": "stream",
     "text": [
      "Epoch: 17/40, Train Loss: 0.0320, Train Accuracy: 0.9888, Val Accuracy: 0.9286\n"
     ]
    },
    {
     "name": "stderr",
     "output_type": "stream",
     "text": [
      "Epoch 18/40 [Train]: 100%|██████████| 3489/3489 [01:55<00:00, 30.24it/s, loss=0.0219]\n",
      "Epoch 18/40 [Val]: 100%|██████████| 1161/1161 [00:29<00:00, 39.16it/s]\n"
     ]
    },
    {
     "name": "stdout",
     "output_type": "stream",
     "text": [
      "Epoch: 18/40, Train Loss: 0.0262, Train Accuracy: 0.9909, Val Accuracy: 0.9301\n"
     ]
    },
    {
     "name": "stderr",
     "output_type": "stream",
     "text": [
      "Epoch 19/40 [Train]: 100%|██████████| 3489/3489 [01:54<00:00, 30.36it/s, loss=0.00584]\n",
      "Epoch 19/40 [Val]: 100%|██████████| 1161/1161 [00:30<00:00, 38.04it/s]\n"
     ]
    },
    {
     "name": "stdout",
     "output_type": "stream",
     "text": [
      "Epoch: 19/40, Train Loss: 0.0329, Train Accuracy: 0.9894, Val Accuracy: 0.9268\n"
     ]
    },
    {
     "name": "stderr",
     "output_type": "stream",
     "text": [
      "Epoch 20/40 [Train]: 100%|██████████| 3489/3489 [01:59<00:00, 29.31it/s, loss=0.000722]\n",
      "Epoch 20/40 [Val]: 100%|██████████| 1161/1161 [00:31<00:00, 36.95it/s]\n"
     ]
    },
    {
     "name": "stdout",
     "output_type": "stream",
     "text": [
      "Epoch: 20/40, Train Loss: 0.0258, Train Accuracy: 0.9911, Val Accuracy: 0.9260\n"
     ]
    },
    {
     "name": "stderr",
     "output_type": "stream",
     "text": [
      "Epoch 21/40 [Train]: 100%|██████████| 3489/3489 [02:06<00:00, 27.48it/s, loss=8.69e-5]\n",
      "Epoch 21/40 [Val]: 100%|██████████| 1161/1161 [00:33<00:00, 34.85it/s]\n"
     ]
    },
    {
     "name": "stdout",
     "output_type": "stream",
     "text": [
      "Epoch: 21/40, Train Loss: 0.0214, Train Accuracy: 0.9923, Val Accuracy: 0.9312\n"
     ]
    },
    {
     "name": "stderr",
     "output_type": "stream",
     "text": [
      "Epoch 22/40 [Train]: 100%|██████████| 3489/3489 [02:02<00:00, 28.45it/s, loss=0.000447]\n",
      "Epoch 22/40 [Val]: 100%|██████████| 1161/1161 [00:33<00:00, 34.46it/s]\n"
     ]
    },
    {
     "name": "stdout",
     "output_type": "stream",
     "text": [
      "Epoch: 22/40, Train Loss: 0.0219, Train Accuracy: 0.9925, Val Accuracy: 0.9273\n"
     ]
    },
    {
     "name": "stderr",
     "output_type": "stream",
     "text": [
      "Epoch 23/40 [Train]: 100%|██████████| 3489/3489 [02:05<00:00, 27.90it/s, loss=0.00019]\n",
      "Epoch 23/40 [Val]: 100%|██████████| 1161/1161 [00:32<00:00, 35.91it/s]\n"
     ]
    },
    {
     "name": "stdout",
     "output_type": "stream",
     "text": [
      "Epoch: 23/40, Train Loss: 0.0194, Train Accuracy: 0.9934, Val Accuracy: 0.9287\n"
     ]
    },
    {
     "name": "stderr",
     "output_type": "stream",
     "text": [
      "Epoch 24/40 [Train]: 100%|██████████| 3489/3489 [02:01<00:00, 28.78it/s, loss=0.00225]\n",
      "Epoch 24/40 [Val]: 100%|██████████| 1161/1161 [00:32<00:00, 35.64it/s]\n"
     ]
    },
    {
     "name": "stdout",
     "output_type": "stream",
     "text": [
      "Epoch: 24/40, Train Loss: 0.0265, Train Accuracy: 0.9917, Val Accuracy: 0.9291\n"
     ]
    },
    {
     "name": "stderr",
     "output_type": "stream",
     "text": [
      "Epoch 25/40 [Train]: 100%|██████████| 3489/3489 [01:55<00:00, 30.10it/s, loss=0.00143]\n",
      "Epoch 25/40 [Val]: 100%|██████████| 1161/1161 [00:30<00:00, 37.80it/s]\n"
     ]
    },
    {
     "name": "stdout",
     "output_type": "stream",
     "text": [
      "Epoch: 25/40, Train Loss: 0.0389, Train Accuracy: 0.9877, Val Accuracy: 0.9255\n"
     ]
    },
    {
     "name": "stderr",
     "output_type": "stream",
     "text": [
      "Epoch 26/40 [Train]: 100%|██████████| 3489/3489 [01:58<00:00, 29.41it/s, loss=0.164]\n",
      "Epoch 26/40 [Val]: 100%|██████████| 1161/1161 [00:31<00:00, 37.11it/s]\n"
     ]
    },
    {
     "name": "stdout",
     "output_type": "stream",
     "text": [
      "Epoch: 26/40, Train Loss: 0.0180, Train Accuracy: 0.9938, Val Accuracy: 0.9220\n"
     ]
    },
    {
     "name": "stderr",
     "output_type": "stream",
     "text": [
      "Epoch 27/40 [Train]: 100%|██████████| 3489/3489 [01:59<00:00, 29.15it/s, loss=2.09e-5]\n",
      "Epoch 27/40 [Val]: 100%|██████████| 1161/1161 [00:31<00:00, 36.94it/s]\n"
     ]
    },
    {
     "name": "stdout",
     "output_type": "stream",
     "text": [
      "Epoch: 27/40, Train Loss: 0.0228, Train Accuracy: 0.9941, Val Accuracy: 0.9275\n"
     ]
    },
    {
     "name": "stderr",
     "output_type": "stream",
     "text": [
      "Epoch 28/40 [Train]: 100%|██████████| 3489/3489 [02:00<00:00, 28.98it/s, loss=0.000283]\n",
      "Epoch 28/40 [Val]: 100%|██████████| 1161/1161 [00:31<00:00, 36.53it/s]\n"
     ]
    },
    {
     "name": "stdout",
     "output_type": "stream",
     "text": [
      "Epoch: 28/40, Train Loss: 0.0283, Train Accuracy: 0.9938, Val Accuracy: 0.9251\n"
     ]
    },
    {
     "name": "stderr",
     "output_type": "stream",
     "text": [
      "Epoch 29/40 [Train]: 100%|██████████| 3489/3489 [01:59<00:00, 29.18it/s, loss=0.00103]\n",
      "Epoch 29/40 [Val]: 100%|██████████| 1161/1161 [00:30<00:00, 37.80it/s]\n"
     ]
    },
    {
     "name": "stdout",
     "output_type": "stream",
     "text": [
      "Epoch: 29/40, Train Loss: 0.0185, Train Accuracy: 0.9949, Val Accuracy: 0.9128\n"
     ]
    },
    {
     "name": "stderr",
     "output_type": "stream",
     "text": [
      "Epoch 30/40 [Train]: 100%|██████████| 3489/3489 [01:58<00:00, 29.52it/s, loss=0.000344]\n",
      "Epoch 30/40 [Val]: 100%|██████████| 1161/1161 [00:30<00:00, 37.51it/s]\n"
     ]
    },
    {
     "name": "stdout",
     "output_type": "stream",
     "text": [
      "Epoch: 30/40, Train Loss: 0.0238, Train Accuracy: 0.9926, Val Accuracy: 0.9269\n"
     ]
    },
    {
     "name": "stderr",
     "output_type": "stream",
     "text": [
      "Epoch 31/40 [Train]: 100%|██████████| 3489/3489 [01:53<00:00, 30.63it/s, loss=0.00813]\n",
      "Epoch 31/40 [Val]: 100%|██████████| 1161/1161 [00:31<00:00, 37.13it/s]\n"
     ]
    },
    {
     "name": "stdout",
     "output_type": "stream",
     "text": [
      "Epoch: 31/40, Train Loss: 0.0300, Train Accuracy: 0.9910, Val Accuracy: 0.9251\n"
     ]
    },
    {
     "name": "stderr",
     "output_type": "stream",
     "text": [
      "Epoch 32/40 [Train]: 100%|██████████| 3489/3489 [01:56<00:00, 29.92it/s, loss=0.172]\n",
      "Epoch 32/40 [Val]: 100%|██████████| 1161/1161 [00:34<00:00, 33.69it/s]\n"
     ]
    },
    {
     "name": "stdout",
     "output_type": "stream",
     "text": [
      "Epoch: 32/40, Train Loss: 0.0337, Train Accuracy: 0.9946, Val Accuracy: 0.9278\n"
     ]
    },
    {
     "name": "stderr",
     "output_type": "stream",
     "text": [
      "Epoch 33/40 [Train]: 100%|██████████| 3489/3489 [02:20<00:00, 24.84it/s, loss=0.00264]\n",
      "Epoch 33/40 [Val]: 100%|██████████| 1161/1161 [00:30<00:00, 37.63it/s]\n"
     ]
    },
    {
     "name": "stdout",
     "output_type": "stream",
     "text": [
      "Epoch: 33/40, Train Loss: 0.0223, Train Accuracy: 0.9924, Val Accuracy: 0.9225\n"
     ]
    },
    {
     "name": "stderr",
     "output_type": "stream",
     "text": [
      "Epoch 34/40 [Train]: 100%|██████████| 3489/3489 [01:57<00:00, 29.70it/s, loss=0.00729]\n",
      "Epoch 34/40 [Val]: 100%|██████████| 1161/1161 [00:31<00:00, 36.95it/s]\n"
     ]
    },
    {
     "name": "stdout",
     "output_type": "stream",
     "text": [
      "Epoch: 34/40, Train Loss: 0.0339, Train Accuracy: 0.9934, Val Accuracy: 0.9191\n"
     ]
    },
    {
     "name": "stderr",
     "output_type": "stream",
     "text": [
      "Epoch 35/40 [Train]: 100%|██████████| 3489/3489 [01:55<00:00, 30.33it/s, loss=0.00013]\n",
      "Epoch 35/40 [Val]: 100%|██████████| 1161/1161 [00:30<00:00, 38.39it/s]\n"
     ]
    },
    {
     "name": "stdout",
     "output_type": "stream",
     "text": [
      "Epoch: 35/40, Train Loss: 0.0286, Train Accuracy: 0.9920, Val Accuracy: 0.9296\n"
     ]
    },
    {
     "name": "stderr",
     "output_type": "stream",
     "text": [
      "Epoch 36/40 [Train]: 100%|██████████| 3489/3489 [01:59<00:00, 29.10it/s, loss=0.0146]\n",
      "Epoch 36/40 [Val]: 100%|██████████| 1161/1161 [00:33<00:00, 34.76it/s]\n"
     ]
    },
    {
     "name": "stdout",
     "output_type": "stream",
     "text": [
      "Epoch: 36/40, Train Loss: 0.0278, Train Accuracy: 0.9907, Val Accuracy: 0.9215\n"
     ]
    },
    {
     "name": "stderr",
     "output_type": "stream",
     "text": [
      "Epoch 37/40 [Train]: 100%|██████████| 3489/3489 [01:58<00:00, 29.52it/s, loss=0.0336]\n",
      "Epoch 37/40 [Val]: 100%|██████████| 1161/1161 [00:30<00:00, 38.50it/s]\n"
     ]
    },
    {
     "name": "stdout",
     "output_type": "stream",
     "text": [
      "Epoch: 37/40, Train Loss: 0.0289, Train Accuracy: 0.9898, Val Accuracy: 0.9156\n"
     ]
    },
    {
     "name": "stderr",
     "output_type": "stream",
     "text": [
      "Epoch 38/40 [Train]: 100%|██████████| 3489/3489 [01:57<00:00, 29.64it/s, loss=0.000826]\n",
      "Epoch 38/40 [Val]: 100%|██████████| 1161/1161 [00:30<00:00, 37.54it/s]\n"
     ]
    },
    {
     "name": "stdout",
     "output_type": "stream",
     "text": [
      "Epoch: 38/40, Train Loss: 0.0230, Train Accuracy: 0.9920, Val Accuracy: 0.9270\n"
     ]
    },
    {
     "name": "stderr",
     "output_type": "stream",
     "text": [
      "Epoch 39/40 [Train]: 100%|██████████| 3489/3489 [01:56<00:00, 29.93it/s, loss=4.22e-5]\n",
      "Epoch 39/40 [Val]: 100%|██████████| 1161/1161 [00:35<00:00, 32.35it/s]\n"
     ]
    },
    {
     "name": "stdout",
     "output_type": "stream",
     "text": [
      "Epoch: 39/40, Train Loss: 0.0161, Train Accuracy: 0.9947, Val Accuracy: 0.9258\n"
     ]
    },
    {
     "name": "stderr",
     "output_type": "stream",
     "text": [
      "Epoch 40/40 [Train]: 100%|██████████| 3489/3489 [02:11<00:00, 26.45it/s, loss=0.000962]\n",
      "Epoch 40/40 [Val]: 100%|██████████| 1161/1161 [00:29<00:00, 38.76it/s]"
     ]
    },
    {
     "name": "stdout",
     "output_type": "stream",
     "text": [
      "Epoch: 40/40, Train Loss: 0.0161, Train Accuracy: 0.9951, Val Accuracy: 0.9280\n",
      "Max Accuracy: 0.9312284668389319\n"
     ]
    },
    {
     "name": "stderr",
     "output_type": "stream",
     "text": [
      "\n"
     ]
    }
   ],
   "source": [
    "from tqdm import tqdm\n",
    "\n",
    "# Model training and testing\n",
    "n_total_steps = len(train_dataloader)\n",
    "train_accuracy_list = []\n",
    "train_loss_list = []\n",
    "val_accuracy_list = []\n",
    "max_acc = 0\n",
    "num_epochs = 40\n",
    "pred_labels = []\n",
    "act_labels = []\n",
    "device = torch.device('cuda' if torch.cuda.is_available() else 'cpu')\n",
    "model.to(device)\n",
    "\n",
    "for epoch in range(num_epochs):\n",
    "    model.train()\n",
    "    train_accuracy = 0.0\n",
    "    train_loss = 0.0\n",
    "\n",
    "    # Training loop with tqdm\n",
    "    train_loop = tqdm(enumerate(train_dataloader), total=len(train_dataloader), desc=f\"Epoch {epoch+1}/{num_epochs} [Train]\")\n",
    "    for batch_idx, (images, labels) in train_loop:\n",
    "        images, labels = images.to(device), labels.to(device)\n",
    "        optimizer.zero_grad()\n",
    "        outputs = model(images)\n",
    "        loss = loss_function(outputs, labels)\n",
    "        loss.backward()\n",
    "        optimizer.step()\n",
    "\n",
    "        # stats\n",
    "        train_loss += loss.item() * images.size(0)\n",
    "        _, prediction = torch.max(outputs.data, 1)\n",
    "        train_accuracy += int((prediction == labels).sum().item())\n",
    "\n",
    "        # Update tqdm bar\n",
    "        train_loop.set_postfix(loss=loss.item())\n",
    "\n",
    "    train_accuracy /= train_count\n",
    "    train_loss /= train_count\n",
    "    train_accuracy_list.append(train_accuracy)\n",
    "    train_loss_list.append(train_loss)\n",
    "\n",
    "    # Validation loop with tqdm\n",
    "    model.eval()\n",
    "    val_accuracy = 0.0\n",
    "    pred = []\n",
    "    lab = []\n",
    "\n",
    "    val_loop = tqdm(val_dataloader, total=len(val_dataloader), desc=f\"Epoch {epoch+1}/{num_epochs} [Val]\")\n",
    "    with torch.no_grad():\n",
    "        for images, labels in val_loop:\n",
    "            images, labels = images.to(device), labels.to(device)\n",
    "            outputs = model(images)\n",
    "            _, prediction = torch.max(outputs.data, 1)\n",
    "            val_accuracy += int((prediction == labels).sum().item())\n",
    "            pred.extend(prediction.cpu().tolist())\n",
    "            lab.extend(labels.cpu().tolist())\n",
    "\n",
    "    val_accuracy /= val_count\n",
    "    val_accuracy_list.append(val_accuracy)\n",
    "\n",
    "    if max_acc < val_accuracy:\n",
    "        max_acc = val_accuracy\n",
    "        pred_labels = pred\n",
    "        actual_labels = lab\n",
    "        torch.save(model, \"best_accuracy_model_BiLSTM.pth\")\n",
    "\n",
    "    print(f\"Epoch: {epoch + 1}/{num_epochs}, Train Loss: {train_loss:.4f}, \"\n",
    "          f\"Train Accuracy: {train_accuracy:.4f}, Val Accuracy: {val_accuracy:.4f}\")\n",
    "\n",
    "print(\"Max Accuracy:\", max_acc)\n"
   ]
  },
  {
   "cell_type": "code",
   "execution_count": 19,
   "id": "d14854b3",
   "metadata": {
    "execution": {
     "iopub.execute_input": "2025-09-03T20:33:21.424337Z",
     "iopub.status.busy": "2025-09-03T20:33:21.424047Z",
     "iopub.status.idle": "2025-09-03T20:36:37.490594Z",
     "shell.execute_reply": "2025-09-03T20:36:37.489895Z"
    },
    "papermill": {
     "duration": 212.441319,
     "end_time": "2025-09-03T20:36:45.724171",
     "exception": false,
     "start_time": "2025-09-03T20:33:13.282852",
     "status": "completed"
    },
    "tags": []
   },
   "outputs": [
    {
     "name": "stdout",
     "output_type": "stream",
     "text": [
      "Testing Accuracy: 94.66%\n"
     ]
    }
   ],
   "source": [
    "best_model=torch.load(\"best_accuracy_model_BiLSTM.pth\", weights_only=False)\n",
    "best_model.to(device, dtype=torch.double)\n",
    "best_model.eval()\n",
    "\n",
    "# Initialize variables to store results\n",
    "testing_accuracy = 0.0\n",
    "pred_labels = []\n",
    "act_labels = []\n",
    "\n",
    "# Iterate over the test dataloader\n",
    "with torch.no_grad():\n",
    "    for i, (images, labels) in enumerate(test_dataloader):\n",
    "        if torch.cuda.is_available():\n",
    "            images = Variable(images.cuda())\n",
    "            labels = Variable(labels.cuda())\n",
    "        else:\n",
    "            images = Variable(images)\n",
    "            labels = Variable(labels)\n",
    "\n",
    "        # Forward pass (only input x)\n",
    "        outputs = best_model(images)\n",
    "\n",
    "        # Get predictions by taking the index with the highest score\n",
    "        _, prediction = torch.max(outputs.data, 1)\n",
    "\n",
    "        # Calculate the number of correct predictions\n",
    "        testing_accuracy += (prediction == labels).sum().item()\n",
    "\n",
    "        # Store predicted and actual labels\n",
    "        pred_labels.extend(prediction.cpu().tolist())\n",
    "        act_labels.extend(labels.cpu().tolist())\n",
    "\n",
    "# Calculate the testing accuracy\n",
    "testing_accuracy /= len(test_dataloader.dataset)\n",
    "\n",
    "# Print the testing accuracy\n",
    "print(f\"Testing Accuracy: {testing_accuracy * 100:.2f}%\")"
   ]
  },
  {
   "cell_type": "code",
   "execution_count": 20,
   "id": "55a5661d",
   "metadata": {
    "execution": {
     "iopub.execute_input": "2025-09-03T20:37:02.537888Z",
     "iopub.status.busy": "2025-09-03T20:37:02.537313Z",
     "iopub.status.idle": "2025-09-03T20:37:02.540903Z",
     "shell.execute_reply": "2025-09-03T20:37:02.540350Z"
    },
    "papermill": {
     "duration": 8.390009,
     "end_time": "2025-09-03T20:37:02.542021",
     "exception": false,
     "start_time": "2025-09-03T20:36:54.152012",
     "status": "completed"
    },
    "tags": []
   },
   "outputs": [],
   "source": [
    "# # Calculate the confusion matrix\n",
    "# import seaborn as sns\n",
    "# conf_mat = confusion_matrix(act_labels, pred_labels)\n",
    "# # Plot confusion matrix heat map\n",
    "# sns.heatmap(conf_mat, cmap=\"flare\",annot=True, fmt = \"g\", \n",
    "#             cbar_kws={\"label\":\"color bar\"},\n",
    "#             xticklabels=train_dataset.classes,\n",
    "#             yticklabels=train_dataset.classes)\n",
    "# plt.xlabel(\"Predicted\")\n",
    "# plt.ylabel(\"Actual\")\n",
    "# plt.title(\"Confusion Matrix\")\n",
    "# plt.savefig(\"ConfusionMatrix_BiLSTM.png\")\n",
    "# plt.show()\n",
    "# from sklearn.metrics import f1_score\n",
    "# f1_score = f1_score(pred_labels, act_labels, average='macro')\n",
    "# print('F1 Score : ', f1_score)"
   ]
  },
  {
   "cell_type": "code",
   "execution_count": 21,
   "id": "9c52e781",
   "metadata": {
    "execution": {
     "iopub.execute_input": "2025-09-03T20:37:19.291475Z",
     "iopub.status.busy": "2025-09-03T20:37:19.290841Z",
     "iopub.status.idle": "2025-09-03T20:37:19.310885Z",
     "shell.execute_reply": "2025-09-03T20:37:19.310145Z"
    },
    "papermill": {
     "duration": 8.437429,
     "end_time": "2025-09-03T20:37:19.312019",
     "exception": false,
     "start_time": "2025-09-03T20:37:10.874590",
     "status": "completed"
    },
    "tags": []
   },
   "outputs": [
    {
     "name": "stdout",
     "output_type": "stream",
     "text": [
      "The equal error rate is 0.053\n"
     ]
    }
   ],
   "source": [
    "import numpy as np\n",
    "import sklearn.metrics\n",
    "\n",
    "\"\"\"\n",
    "Python compute equal error rate (eer)\n",
    "ONLY tested on binary classification\n",
    "\n",
    ":param label: ground-truth label, should be a 1-d list or np.array, each element represents the ground-truth label of one sample\n",
    ":param pred: model prediction, should be a 1-d list or np.array, each element represents the model prediction of one sample\n",
    ":param positive_label: the class that is viewed as positive class when computing EER\n",
    ":return: equal error rate (EER)\n",
    "\"\"\"\n",
    "def compute_eer(label, pred):\n",
    "    # all fpr, tpr, fnr, fnr, threshold are lists (in the format of np.array)\n",
    "    fpr, tpr, threshold = sklearn.metrics.roc_curve(label, pred)\n",
    "    fnr = 1 - tpr\n",
    "\n",
    "    # the threshold of fnr == fpr\n",
    "    eer_threshold = threshold[np.nanargmin(np.absolute((fnr - fpr)))]\n",
    "\n",
    "    # theoretically eer from fpr and eer from fnr should be identical but they can be slightly differ in reality\n",
    "    eer_1 = fpr[np.nanargmin(np.absolute((fnr - fpr)))]\n",
    "    eer_2 = fnr[np.nanargmin(np.absolute((fnr - fpr)))]\n",
    "\n",
    "    # return the mean of eer from fpr and from fnr\n",
    "    eer = (eer_1 + eer_2) / 2\n",
    "    return eer\n",
    "\n",
    "eer = compute_eer(act_labels, pred_labels)\n",
    "print('The equal error rate is {:.3f}'.format(eer))"
   ]
  },
  {
   "cell_type": "code",
   "execution_count": null,
   "id": "625e536e",
   "metadata": {
    "papermill": {
     "duration": 8.47487,
     "end_time": "2025-09-03T20:37:36.289347",
     "exception": false,
     "start_time": "2025-09-03T20:37:27.814477",
     "status": "completed"
    },
    "tags": []
   },
   "outputs": [],
   "source": []
  }
 ],
 "metadata": {
  "kaggle": {
   "accelerator": "gpu",
   "dataSources": [
    {
     "datasetId": 8169740,
     "sourceId": 12911688,
     "sourceType": "datasetVersion"
    }
   ],
   "dockerImageVersionId": 31090,
   "isGpuEnabled": true,
   "isInternetEnabled": false,
   "language": "python",
   "sourceType": "notebook"
  },
  "kernelspec": {
   "display_name": "Python 3",
   "language": "python",
   "name": "python3"
  },
  "language_info": {
   "codemirror_mode": {
    "name": "ipython",
    "version": 3
   },
   "file_extension": ".py",
   "mimetype": "text/x-python",
   "name": "python",
   "nbconvert_exporter": "python",
   "pygments_lexer": "ipython3",
   "version": "3.11.13"
  },
  "papermill": {
   "default_parameters": {},
   "duration": 6703.142719,
   "end_time": "2025-09-03T20:37:46.481324",
   "environment_variables": {},
   "exception": null,
   "input_path": "__notebook__.ipynb",
   "output_path": "__notebook__.ipynb",
   "parameters": {},
   "start_time": "2025-09-03T18:46:03.338605",
   "version": "2.5.0"
  }
 },
 "nbformat": 4,
 "nbformat_minor": 5
}
