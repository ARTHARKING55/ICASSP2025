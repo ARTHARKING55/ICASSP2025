{
 "cells": [
  {
   "cell_type": "code",
   "execution_count": 1,
   "id": "c9225b71",
   "metadata": {
    "execution": {
     "iopub.execute_input": "2025-09-03T17:36:26.798097Z",
     "iopub.status.busy": "2025-09-03T17:36:26.797770Z",
     "iopub.status.idle": "2025-09-03T17:36:26.802531Z",
     "shell.execute_reply": "2025-09-03T17:36:26.801883Z"
    },
    "papermill": {
     "duration": 0.01208,
     "end_time": "2025-09-03T17:36:26.803813",
     "exception": false,
     "start_time": "2025-09-03T17:36:26.791733",
     "status": "completed"
    },
    "tags": []
   },
   "outputs": [],
   "source": [
    "# !pip install --upgrade scipy"
   ]
  },
  {
   "cell_type": "code",
   "execution_count": 2,
   "id": "9e32891f",
   "metadata": {
    "execution": {
     "iopub.execute_input": "2025-09-03T17:36:26.813333Z",
     "iopub.status.busy": "2025-09-03T17:36:26.813092Z",
     "iopub.status.idle": "2025-09-03T17:36:31.163713Z",
     "shell.execute_reply": "2025-09-03T17:36:31.162776Z"
    },
    "papermill": {
     "duration": 4.357209,
     "end_time": "2025-09-03T17:36:31.165547",
     "exception": false,
     "start_time": "2025-09-03T17:36:26.808338",
     "status": "completed"
    },
    "tags": []
   },
   "outputs": [],
   "source": [
    "import torch \n",
    "import torch.nn as nn\n",
    "import torch.nn.functional as F\n",
    "from torch.autograd import Variable\n",
    "from torch.utils.data import Dataset, DataLoader\n",
    "\n",
    "import os, pathlib, glob, random\n",
    "import numpy as np\n",
    "import matplotlib.pyplot as plt \n",
    "\n",
    "from sklearn.metrics import confusion_matrix\n",
    "import scipy\n",
    "from scipy import io"
   ]
  },
  {
   "cell_type": "code",
   "execution_count": 3,
   "id": "7e77163e",
   "metadata": {
    "execution": {
     "iopub.execute_input": "2025-09-03T17:36:31.175180Z",
     "iopub.status.busy": "2025-09-03T17:36:31.174790Z",
     "iopub.status.idle": "2025-09-03T17:36:31.226028Z",
     "shell.execute_reply": "2025-09-03T17:36:31.225105Z"
    },
    "papermill": {
     "duration": 0.057308,
     "end_time": "2025-09-03T17:36:31.227427",
     "exception": false,
     "start_time": "2025-09-03T17:36:31.170119",
     "status": "completed"
    },
    "tags": []
   },
   "outputs": [
    {
     "name": "stdout",
     "output_type": "stream",
     "text": [
      "cuda\n"
     ]
    }
   ],
   "source": [
    "device = torch.device('cuda' if torch.cuda.is_available() else 'cpu')\n",
    "print(device)"
   ]
  },
  {
   "cell_type": "code",
   "execution_count": 4,
   "id": "b5403f94",
   "metadata": {
    "execution": {
     "iopub.execute_input": "2025-09-03T17:36:31.237027Z",
     "iopub.status.busy": "2025-09-03T17:36:31.236792Z",
     "iopub.status.idle": "2025-09-03T17:36:31.239951Z",
     "shell.execute_reply": "2025-09-03T17:36:31.239336Z"
    },
    "papermill": {
     "duration": 0.009089,
     "end_time": "2025-09-03T17:36:31.241094",
     "exception": false,
     "start_time": "2025-09-03T17:36:31.232005",
     "status": "completed"
    },
    "tags": []
   },
   "outputs": [],
   "source": [
    "batch_size = 32\n",
    "output_nodes = 10\n",
    "learning_rate = 0.001"
   ]
  },
  {
   "cell_type": "code",
   "execution_count": 5,
   "id": "7b62f002",
   "metadata": {
    "execution": {
     "iopub.execute_input": "2025-09-03T17:36:31.250400Z",
     "iopub.status.busy": "2025-09-03T17:36:31.250181Z",
     "iopub.status.idle": "2025-09-03T17:36:31.253079Z",
     "shell.execute_reply": "2025-09-03T17:36:31.252496Z"
    },
    "papermill": {
     "duration": 0.008975,
     "end_time": "2025-09-03T17:36:31.254385",
     "exception": false,
     "start_time": "2025-09-03T17:36:31.245410",
     "status": "completed"
    },
    "tags": []
   },
   "outputs": [],
   "source": [
    "train_data_path = r\"/kaggle/input/mgdcc-feature/MGDCC/train\"\n",
    "val_data_path = r\"/kaggle/input/mgdcc-feature/MGDCC/dev\"\n",
    "test_data_path = r\"/kaggle/input/mgdcc-feature/MGDCC/test\""
   ]
  },
  {
   "cell_type": "code",
   "execution_count": 6,
   "id": "3168072b",
   "metadata": {
    "execution": {
     "iopub.execute_input": "2025-09-03T17:36:31.263567Z",
     "iopub.status.busy": "2025-09-03T17:36:31.263357Z",
     "iopub.status.idle": "2025-09-03T17:36:34.024253Z",
     "shell.execute_reply": "2025-09-03T17:36:34.023135Z"
    },
    "papermill": {
     "duration": 2.76694,
     "end_time": "2025-09-03T17:36:34.025573",
     "exception": false,
     "start_time": "2025-09-03T17:36:31.258633",
     "status": "completed"
    },
    "tags": []
   },
   "outputs": [
    {
     "name": "stdout",
     "output_type": "stream",
     "text": [
      "Training samples: 111633\n",
      "Validation samples: 37152\n",
      "Testing samples: 37971\n"
     ]
    }
   ],
   "source": [
    "# import os\n",
    "# import random\n",
    "# import numpy as np\n",
    "# import scipy.io\n",
    "# from torch.utils.data import Dataset\n",
    "# import torch\n",
    "\n",
    "# class PtDataset(Dataset):\n",
    "#     def __init__(self, directory, max_len=10):\n",
    "#         \"\"\"\n",
    "#         Custom dataset for loading .mat files from a directory structure.\n",
    "#         Args:\n",
    "#             directory (str): The path to the root data directory.\n",
    "#             max_len (int): The maximum sequence length for padding/truncating.\n",
    "#         \"\"\"\n",
    "#         self.directory = directory\n",
    "#         self.classes = sorted(entry.name for entry in os.scandir(directory) if entry.is_dir())\n",
    "#         self.class_to_idx = {c: i for i, c in enumerate(self.classes)}\n",
    "#         self.files = []\n",
    "#         self.max_len = max_len\n",
    "#         for c in self.classes:\n",
    "#             c_dir = os.path.join(directory, c)\n",
    "#             c_files = [(os.path.join(c_dir, f), self.class_to_idx[c]) for f in os.listdir(c_dir) if f.endswith('.mat')]\n",
    "#             self.files.extend(c_files)\n",
    "#         random.shuffle(self.files)\n",
    "        \n",
    "#     def __len__(self):\n",
    "#         return len(self.files)\n",
    "    \n",
    "#     def __getitem__(self, idx):\n",
    "#         \"\"\"\n",
    "#         Load a .mat file, process it to the required shape, and return it with the label.\n",
    "#         \"\"\"\n",
    "#         filepath, label = self.files[idx]\n",
    "#         try:\n",
    "#             mat_vals = scipy.io.loadmat(filepath)\n",
    "#             data = mat_vals['final']  # Assuming 'final' is the key for data\n",
    "#             data = data.T  # Transpose to (time, features)\n",
    "#             feature_dim = data.shape[1]\n",
    "\n",
    "#             # Ensure data is exactly (max_len, feature_dim)\n",
    "#             if data.shape[0] < self.max_len:\n",
    "#                 pad_width = self.max_len - data.shape[0]\n",
    "#                 data = np.pad(data, pad_width=((0, pad_width), (0, 0)), mode='constant')\n",
    "#             else:\n",
    "#                 data = data[:self.max_len, :]\n",
    "\n",
    "#             # Flatten data to fit conv1d input (batch_size, in_channels, length)\n",
    "#             data = data.reshape(1, -1)  # Reshape to (1, max_len * feature_dim)\n",
    "#             data = torch.from_numpy(data).double()  # Convert to tensor\n",
    "#         except Exception as e:\n",
    "#             print(f\"Error loading file {filepath}: {str(e)}\")\n",
    "#             return self.__getitem__((idx + 1) % len(self.files))  # Retry with a different sample\n",
    "\n",
    "#         return data, label\n",
    "import os\n",
    "import random\n",
    "import scipy.io\n",
    "import numpy as np\n",
    "from torch.utils.data import Dataset, DataLoader\n",
    "\n",
    "# Paths for both datasets\n",
    "train_data_paths = [\n",
    "    r\"/kaggle/input/mgdcc-feature/MGDCC/train\" #,  # Language 1\n",
    "    # r\"/kaggle/input/singfox-t2-gfcc-icassp/GFCC_T2/gfcc/train\"   # Language 2\n",
    "]\n",
    "validation_data_paths = [\n",
    "    r\"/kaggle/input/mgdcc-feature/MGDCC/dev\" #,\n",
    "    # r\"/kaggle/input/singfox-t2-gfcc-icassp/GFCC_T2/gfcc/val\"\n",
    "]\n",
    "testing_data_paths = [\n",
    "    r\"/kaggle/input/mgdcc-feature/MGDCC/test\" #,\n",
    "    # r\"/kaggle/input/singfox-t2-gfcc-icassp/GFCC_T2/gfcc/test\"\n",
    "]\n",
    "\n",
    "class MixedPtDataset(Dataset):\n",
    "    def __init__(self, directories):\n",
    "        \"\"\"Load features from multiple directories.\"\"\"\n",
    "        self.files = []\n",
    "        self.class_to_idx = {}\n",
    "\n",
    "        for directory in directories:\n",
    "            classes = sorted(entry.name for entry in os.scandir(directory) if entry.is_dir())\n",
    "            \n",
    "            # Assign class indices if not already assigned\n",
    "            for c in classes:\n",
    "                if c not in self.class_to_idx:\n",
    "                    self.class_to_idx[c] = len(self.class_to_idx)\n",
    "\n",
    "            for c in classes:\n",
    "                c_dir = os.path.join(directory, c)\n",
    "                c_files = [(os.path.join(c_dir, f), self.class_to_idx[c]) for f in os.listdir(c_dir)]\n",
    "                self.files.extend(c_files)\n",
    "\n",
    "        random.shuffle(self.files)\n",
    "\n",
    "    def __len__(self):\n",
    "        return len(self.files)\n",
    "\n",
    "    def __getitem__(self, idx):\n",
    "        filepath, label = self.files[idx]\n",
    "        try:\n",
    "            mat_vals = scipy.io.loadmat(filepath)\n",
    "            data = mat_vals['final'].T\n",
    "            max_len = 10\n",
    "            if max_len > data.shape[0]:\n",
    "                pad_width = max_len - data.shape[0]\n",
    "                data = np.pad(data, pad_width=((0, pad_width), (0, 0)), mode='constant')\n",
    "            else:\n",
    "                data = data[:max_len, :]\n",
    "        except Exception as e:\n",
    "            print(f\"Error loading file {filepath}: {str(e)}\")\n",
    "            return None\n",
    "        return data, label\n",
    "\n",
    "# Combine both datasets\n",
    "train_dataset = MixedPtDataset(train_data_paths)\n",
    "val_dataset = MixedPtDataset(validation_data_paths)\n",
    "test_dataset = MixedPtDataset(testing_data_paths)\n",
    "\n",
    "class PtDataLoader(DataLoader):\n",
    "    def __init__(self, directories, batch_size, shuffle=True):\n",
    "        dataset = MixedPtDataset(directories)\n",
    "        super().__init__(dataset, batch_size=batch_size, shuffle=shuffle)\n",
    "\n",
    "# Load mixed datasets\n",
    "batch_size = 32\n",
    "train_dataloader = PtDataLoader(directories=train_data_paths, batch_size=batch_size)\n",
    "val_dataloader = PtDataLoader(directories=validation_data_paths, batch_size=batch_size)\n",
    "test_dataloader = PtDataLoader(directories=testing_data_paths, batch_size=batch_size)\n",
    "\n",
    "train_count = len(train_dataset)\n",
    "val_count = len(val_dataset)\n",
    "test_count = len(test_dataset)\n",
    "\n",
    "print(f\"Training samples: {train_count}\\nValidation samples: {val_count}\\nTesting samples: {test_count}\")"
   ]
  },
  {
   "cell_type": "code",
   "execution_count": 7,
   "id": "a4acd5d9",
   "metadata": {
    "execution": {
     "iopub.execute_input": "2025-09-03T17:36:34.035195Z",
     "iopub.status.busy": "2025-09-03T17:36:34.034906Z",
     "iopub.status.idle": "2025-09-03T17:36:34.037982Z",
     "shell.execute_reply": "2025-09-03T17:36:34.037185Z"
    },
    "papermill": {
     "duration": 0.009078,
     "end_time": "2025-09-03T17:36:34.039198",
     "exception": false,
     "start_time": "2025-09-03T17:36:34.030120",
     "status": "completed"
    },
    "tags": []
   },
   "outputs": [],
   "source": [
    "# train_dataset = PtDataset(train_data_path)\n",
    "# val_dataset = PtDataset(val_data_path)\n",
    "# test_dataset = PtDataset(test_data_path)"
   ]
  },
  {
   "cell_type": "code",
   "execution_count": 8,
   "id": "0d1672b0",
   "metadata": {
    "execution": {
     "iopub.execute_input": "2025-09-03T17:36:34.048302Z",
     "iopub.status.busy": "2025-09-03T17:36:34.048062Z",
     "iopub.status.idle": "2025-09-03T17:36:34.051056Z",
     "shell.execute_reply": "2025-09-03T17:36:34.050240Z"
    },
    "papermill": {
     "duration": 0.008847,
     "end_time": "2025-09-03T17:36:34.052235",
     "exception": false,
     "start_time": "2025-09-03T17:36:34.043388",
     "status": "completed"
    },
    "tags": []
   },
   "outputs": [],
   "source": [
    "# class PtDataLoader(DataLoader):\n",
    "#     def __init__(self, directory, batch_size, shuffle=True):\n",
    "#         dataset = PtDataset(directory)\n",
    "#         super().__init__(dataset, batch_size=batch_size, shuffle=shuffle)"
   ]
  },
  {
   "cell_type": "code",
   "execution_count": 9,
   "id": "bc9a550b",
   "metadata": {
    "execution": {
     "iopub.execute_input": "2025-09-03T17:36:34.061145Z",
     "iopub.status.busy": "2025-09-03T17:36:34.060883Z",
     "iopub.status.idle": "2025-09-03T17:36:34.063824Z",
     "shell.execute_reply": "2025-09-03T17:36:34.063048Z"
    },
    "papermill": {
     "duration": 0.008596,
     "end_time": "2025-09-03T17:36:34.064951",
     "exception": false,
     "start_time": "2025-09-03T17:36:34.056355",
     "status": "completed"
    },
    "tags": []
   },
   "outputs": [],
   "source": [
    "# train_dataloader = PtDataLoader(directory=train_data_path, batch_size=batch_size)\n",
    "# val_dataloader = PtDataLoader(directory=val_data_path, batch_size=batch_size)\n",
    "# test_dataloader = PtDataLoader(directory=test_data_path, batch_size=batch_size)"
   ]
  },
  {
   "cell_type": "code",
   "execution_count": 10,
   "id": "a7860b21",
   "metadata": {
    "execution": {
     "iopub.execute_input": "2025-09-03T17:36:34.074123Z",
     "iopub.status.busy": "2025-09-03T17:36:34.073846Z",
     "iopub.status.idle": "2025-09-03T17:36:34.076801Z",
     "shell.execute_reply": "2025-09-03T17:36:34.076019Z"
    },
    "papermill": {
     "duration": 0.008818,
     "end_time": "2025-09-03T17:36:34.078066",
     "exception": false,
     "start_time": "2025-09-03T17:36:34.069248",
     "status": "completed"
    },
    "tags": []
   },
   "outputs": [],
   "source": [
    "# train_count = len(train_dataset) \n",
    "# val_count = len(val_dataset)\n",
    "# test_count = len(test_dataset)"
   ]
  },
  {
   "cell_type": "code",
   "execution_count": 11,
   "id": "6b02b4cc",
   "metadata": {
    "execution": {
     "iopub.execute_input": "2025-09-03T17:36:34.087154Z",
     "iopub.status.busy": "2025-09-03T17:36:34.086912Z",
     "iopub.status.idle": "2025-09-03T17:36:34.091292Z",
     "shell.execute_reply": "2025-09-03T17:36:34.090446Z"
    },
    "papermill": {
     "duration": 0.010188,
     "end_time": "2025-09-03T17:36:34.092500",
     "exception": false,
     "start_time": "2025-09-03T17:36:34.082312",
     "status": "completed"
    },
    "tags": []
   },
   "outputs": [
    {
     "name": "stdout",
     "output_type": "stream",
     "text": [
      "111633\n",
      "37152\n",
      "37971\n"
     ]
    }
   ],
   "source": [
    "print(train_count)\n",
    "print(val_count)\n",
    "print(test_count)"
   ]
  },
  {
   "cell_type": "code",
   "execution_count": 12,
   "id": "750a37fc",
   "metadata": {
    "execution": {
     "iopub.execute_input": "2025-09-03T17:36:34.101714Z",
     "iopub.status.busy": "2025-09-03T17:36:34.101509Z",
     "iopub.status.idle": "2025-09-03T17:36:34.155777Z",
     "shell.execute_reply": "2025-09-03T17:36:34.155109Z"
    },
    "papermill": {
     "duration": 0.060581,
     "end_time": "2025-09-03T17:36:34.157326",
     "exception": false,
     "start_time": "2025-09-03T17:36:34.096745",
     "status": "completed"
    },
    "tags": []
   },
   "outputs": [],
   "source": [
    "drop_amount = 0.255\n",
    "\n",
    "import torch\n",
    "import torch.nn as nn\n",
    "import torch.nn.functional as F\n",
    "from collections import OrderedDict\n",
    "from torch.nn.parameter import Parameter\n",
    "from torch.utils import data\n",
    "\n",
    "class Res2NetBlock(nn.Module):\n",
    "    def __init__(self, in_channels, out_channels, scale=4, kernel_size=3, stride=1, padding=1):\n",
    "        super(Res2NetBlock, self).__init__()\n",
    "        assert out_channels % scale == 0, \"Output channels must be divisible by scale\"\n",
    "        self.scale = scale\n",
    "        self.split_channels = out_channels // scale\n",
    "\n",
    "        self.conv1 = nn.Conv1d(in_channels, out_channels, kernel_size=1, stride=1, bias=False)\n",
    "        self.bn1 = nn.BatchNorm1d(out_channels)\n",
    "\n",
    "        self.convs = nn.ModuleList([\n",
    "            nn.Conv1d(self.split_channels, self.split_channels, kernel_size, stride=stride, padding=padding, bias=False)\n",
    "            for _ in range(scale - 1)\n",
    "        ])\n",
    "\n",
    "        self.bn2 = nn.BatchNorm1d(out_channels)\n",
    "        self.conv3 = nn.Conv1d(out_channels, out_channels, kernel_size=1, stride=1, bias=False)\n",
    "\n",
    "        self.relu = nn.ReLU(inplace=True)\n",
    "\n",
    "    def forward(self, x):\n",
    "        out = self.conv1(x)\n",
    "        out = self.bn1(out)\n",
    "        out = self.relu(out)\n",
    "\n",
    "        splits = torch.chunk(out, self.scale, dim=1)\n",
    "        out = splits[0]\n",
    "        result = [out]  # Collect outputs here to avoid in-place addition\n",
    "        for i, conv in enumerate(self.convs):\n",
    "            result.append(conv(splits[i + 1]))\n",
    "        out = torch.cat(result, dim=1)  # Concatenate all parts\n",
    "\n",
    "        out = self.conv3(out)\n",
    "        out = self.bn2(out)\n",
    "        return self.relu(out)\n",
    "\n",
    "\n",
    "class AMSoftmaxLoss(nn.Module):\n",
    "    def __init__(self, in_features, out_features, s=30.0, m=0.4):\n",
    "        super(AMSoftmaxLoss, self).__init__()\n",
    "        self.s = s\n",
    "        self.m = m\n",
    "        self.weight = Parameter(torch.DoubleTensor(out_features, in_features))\n",
    "        nn.init.xavier_uniform_(self.weight)\n",
    "\n",
    "    def forward(self, x, labels):\n",
    "        cosine = F.linear(F.normalize(x), F.normalize(self.weight))\n",
    "        phi = cosine - self.m\n",
    "        one_hot = torch.zeros_like(cosine)\n",
    "        one_hot.scatter_(1, labels.view(-1, 1).long(), 1)\n",
    "        logits = one_hot * phi + (1.0 - one_hot) * cosine\n",
    "        logits *= self.s\n",
    "        return logits\n",
    "\n",
    "\n",
    "class AASIST2(nn.Module):\n",
    "    def __init__(self, d_args):\n",
    "        super(AASIST2, self).__init__()\n",
    "        self.res2net_block1 = Res2NetBlock(d_args['in_channels'], d_args['filts'][0], scale=4)\n",
    "        self.res2net_block2 = Res2NetBlock(d_args['filts'][0], d_args['filts'][1], scale=4)\n",
    "        self.res2net_block3 = Res2NetBlock(d_args['filts'][1], d_args['filts'][2], scale=4)\n",
    "\n",
    "        self.gru = nn.GRU(input_size=d_args['filts'][2],\n",
    "                          hidden_size=d_args['gru_node'],\n",
    "                          num_layers=d_args['nb_gru_layer'],\n",
    "                          batch_first=True)\n",
    "\n",
    "        self.fc1 = nn.Linear(d_args['gru_node'], d_args['nb_fc_node'])  # Input size must match GRU hidden size\n",
    "        self.fc2 = nn.Linear(d_args['nb_fc_node'], d_args['nb_classes'])  # Matches number of classes\n",
    "\n",
    "        self.am_softmax = AMSoftmaxLoss(d_args['nb_fc_node'], d_args['nb_classes'])  # Use fc1 output size\n",
    "\n",
    "    def forward(self, x, labels=None, is_test=False):\n",
    "        x = self.res2net_block1(x)\n",
    "        x = self.res2net_block2(x)\n",
    "        x = self.res2net_block3(x)\n",
    "\n",
    "        x = x.permute(0, 2, 1)  # Permute for GRU input [batch, sequence, feature]\n",
    "        self.gru.flatten_parameters()\n",
    "        x, _ = self.gru(x)\n",
    "        x = x[:, -1, :]  # Take last time step output\n",
    "\n",
    "        x = self.fc1(x)\n",
    "        logits = self.fc2(x)\n",
    "\n",
    "        if labels is not None:  # Compute AMSoftmax only if labels are provided\n",
    "            return self.am_softmax(x, labels)\n",
    "        else:  # Return logits for testing/inference\n",
    "            return F.softmax(logits, dim=1)\n",
    "\n",
    "d_args = {\n",
    "    'in_channels': 1,\n",
    "    'filts': [64, 128, 256],\n",
    "    'gru_node': 128,\n",
    "    'nb_gru_layer': 2,\n",
    "    'nb_fc_node': 64,\n",
    "    'nb_classes': 2\n",
    "}\n",
    "model = AASIST2(d_args)\n"
   ]
  },
  {
   "cell_type": "code",
   "execution_count": 13,
   "id": "3a03193e",
   "metadata": {
    "execution": {
     "iopub.execute_input": "2025-09-03T17:36:34.167199Z",
     "iopub.status.busy": "2025-09-03T17:36:34.166900Z",
     "iopub.status.idle": "2025-09-03T17:36:34.170009Z",
     "shell.execute_reply": "2025-09-03T17:36:34.169468Z"
    },
    "papermill": {
     "duration": 0.009369,
     "end_time": "2025-09-03T17:36:34.171274",
     "exception": false,
     "start_time": "2025-09-03T17:36:34.161905",
     "status": "completed"
    },
    "tags": []
   },
   "outputs": [],
   "source": [
    "import torch\n",
    "from torch import nn\n",
    "from torch.nn import Parameter\n",
    "import torch.nn.functional as F"
   ]
  },
  {
   "cell_type": "code",
   "execution_count": 14,
   "id": "0252ad9f",
   "metadata": {
    "execution": {
     "iopub.execute_input": "2025-09-03T17:36:34.180771Z",
     "iopub.status.busy": "2025-09-03T17:36:34.180567Z",
     "iopub.status.idle": "2025-09-03T17:36:34.187571Z",
     "shell.execute_reply": "2025-09-03T17:36:34.186968Z"
    },
    "papermill": {
     "duration": 0.013184,
     "end_time": "2025-09-03T17:36:34.188784",
     "exception": false,
     "start_time": "2025-09-03T17:36:34.175600",
     "status": "completed"
    },
    "tags": []
   },
   "outputs": [],
   "source": [
    "# drop_amount = 0.255\n",
    "\n",
    "# class BiLSTMClassifier(nn.Module):\n",
    "#     def __init__(self, input_size, hidden_size, num_layers, num_classes):\n",
    "#         super(BiLSTMClassifier, self).__init__()\n",
    "#         self.hidden_size = hidden_size\n",
    "#         self.num_layers = num_layers\n",
    "#         self.lstm = nn.LSTM(input_size, hidden_size, num_layers, batch_first=True, bidirectional=True)\n",
    "#         self.dropout = nn.Dropout(p=drop_amount)\n",
    "#         self.fc = nn.Linear(hidden_size*2, num_classes)\n",
    "\n",
    "#     def forward(self, x):\n",
    "#         h0 = torch.zeros(self.num_layers*2, x.size(0), self.hidden_size).to(device=x.device, dtype=torch.double)\n",
    "#         c0 = torch.zeros(self.num_layers*2, x.size(0), self.hidden_size).to(device=x.device, dtype=torch.double)\n",
    "#         out, _ = self.lstm(x, (h0, c0))\n",
    "#         out = self.dropout(out)\n",
    "#         # Extract the output of the last time step from both directions\n",
    "#         last_hidden_state = torch.cat((out[:, -1, :self.hidden_size], out[:, 0, self.hidden_size:]), dim=1)\n",
    "#         output = self.fc(last_hidden_state)\n",
    "#         return output\n",
    "import torch\n",
    "import torch.nn as nn\n",
    "import torch.nn.functional as F\n",
    "\n",
    "drop_amount = 0.255  # keep your global drop\n",
    "\n",
    "class BiLSTMWithCrossAttention(nn.Module):\n",
    "    def __init__(self, input_size, hidden_size, num_layers, num_classes, num_heads=4):\n",
    "        super().__init__()\n",
    "        self.hidden_size = hidden_size\n",
    "        self.num_layers = num_layers\n",
    "\n",
    "        # BiLSTM (same as yours)\n",
    "        self.lstm = nn.LSTM(\n",
    "            input_size=input_size,\n",
    "            hidden_size=hidden_size,\n",
    "            num_layers=num_layers,\n",
    "            batch_first=True,\n",
    "            bidirectional=True\n",
    "        )\n",
    "\n",
    "        # Cross-attention: Q from BiLSTM (dim = 2*hidden),\n",
    "        # K,V from input projected to the same dim.\n",
    "        embed_dim = hidden_size * 2\n",
    "        self.k_proj = nn.Linear(input_size, embed_dim)\n",
    "        self.v_proj = nn.Linear(input_size, embed_dim)\n",
    "        self.cross_attn = nn.MultiheadAttention(\n",
    "            embed_dim=embed_dim,\n",
    "            num_heads=num_heads,\n",
    "            batch_first=True,\n",
    "            dropout=drop_amount\n",
    "        )\n",
    "\n",
    "        self.dropout = nn.Dropout(p=drop_amount)\n",
    "        self.fc = nn.Linear(embed_dim, num_classes)\n",
    "\n",
    "    def forward(self, x):\n",
    "        # x: [batch, seq_len, input_size]\n",
    "        # init states in the same device/dtype as x\n",
    "        h0 = torch.zeros(self.num_layers * 2, x.size(0), self.hidden_size,\n",
    "                         device=x.device, dtype=x.dtype)\n",
    "        c0 = torch.zeros(self.num_layers * 2, x.size(0), self.hidden_size,\n",
    "                         device=x.device, dtype=x.dtype)\n",
    "\n",
    "        # BiLSTM\n",
    "        lstm_out, _ = self.lstm(x, (h0, c0))            # [B, T, 2H]\n",
    "\n",
    "        # Project input to K,V for cross-attention\n",
    "        K = self.k_proj(x)                               # [B, T, 2H]\n",
    "        V = self.v_proj(x)                               # [B, T, 2H]\n",
    "\n",
    "        # Cross-attention: queries = BiLSTM outputs\n",
    "        attn_out, _ = self.cross_attn(query=lstm_out, key=K, value=V)  # [B, T, 2H]\n",
    "\n",
    "        # Residual + dropout\n",
    "        fused = self.dropout(lstm_out + attn_out)        # [B, T, 2H]\n",
    "\n",
    "        # Keep your original \"last forward + first backward\" trick\n",
    "        last_hidden_state = torch.cat(\n",
    "            (fused[:, -1, :self.hidden_size], fused[:, 0, self.hidden_size:]),\n",
    "            dim=1\n",
    "        )  # [B, 2H]\n",
    "\n",
    "        output = self.fc(last_hidden_state)              # [B, num_classes]\n",
    "        return output\n"
   ]
  },
  {
   "cell_type": "code",
   "execution_count": 15,
   "id": "08ea19c8",
   "metadata": {
    "execution": {
     "iopub.execute_input": "2025-09-03T17:36:34.198187Z",
     "iopub.status.busy": "2025-09-03T17:36:34.197943Z",
     "iopub.status.idle": "2025-09-03T17:36:34.517626Z",
     "shell.execute_reply": "2025-09-03T17:36:34.516673Z"
    },
    "papermill": {
     "duration": 0.325838,
     "end_time": "2025-09-03T17:36:34.519105",
     "exception": false,
     "start_time": "2025-09-03T17:36:34.193267",
     "status": "completed"
    },
    "tags": []
   },
   "outputs": [
    {
     "data": {
      "text/plain": [
       "BiLSTMWithCrossAttention(\n",
       "  (lstm): LSTM(20, 256, num_layers=2, batch_first=True, bidirectional=True)\n",
       "  (k_proj): Linear(in_features=20, out_features=512, bias=True)\n",
       "  (v_proj): Linear(in_features=20, out_features=512, bias=True)\n",
       "  (cross_attn): MultiheadAttention(\n",
       "    (out_proj): NonDynamicallyQuantizableLinear(in_features=512, out_features=512, bias=True)\n",
       "  )\n",
       "  (dropout): Dropout(p=0.255, inplace=False)\n",
       "  (fc): Linear(in_features=512, out_features=2, bias=True)\n",
       ")"
      ]
     },
     "execution_count": 15,
     "metadata": {},
     "output_type": "execute_result"
    }
   ],
   "source": [
    "# Define the parameters\n",
    "input_size = 20\n",
    "hidden_size = 256\n",
    "num_layers = 2\n",
    "num_classes = 2\n",
    "# model = BiLSTMClassifier(input_size, hidden_size, num_layers, num_classes)\n",
    "model = BiLSTMWithCrossAttention(\n",
    "    input_size=20,   # your MFCC dim\n",
    "    hidden_size=256,\n",
    "    num_layers=2,\n",
    "    num_classes=2,\n",
    "    num_heads=4\n",
    ")\n",
    "model.to(device, dtype=torch.double)  # stays compatible with your training loop\n",
    "\n",
    "model.to(device, dtype=torch.double)"
   ]
  },
  {
   "cell_type": "code",
   "execution_count": 16,
   "id": "243d2898",
   "metadata": {
    "execution": {
     "iopub.execute_input": "2025-09-03T17:36:34.529690Z",
     "iopub.status.busy": "2025-09-03T17:36:34.529428Z",
     "iopub.status.idle": "2025-09-03T17:36:34.532621Z",
     "shell.execute_reply": "2025-09-03T17:36:34.532014Z"
    },
    "papermill": {
     "duration": 0.00973,
     "end_time": "2025-09-03T17:36:34.534099",
     "exception": false,
     "start_time": "2025-09-03T17:36:34.524369",
     "status": "completed"
    },
    "tags": []
   },
   "outputs": [],
   "source": [
    "import torch\n",
    "import torch.nn as nn\n",
    "import torch.optim as optim"
   ]
  },
  {
   "cell_type": "code",
   "execution_count": 17,
   "id": "498a6b7b",
   "metadata": {
    "execution": {
     "iopub.execute_input": "2025-09-03T17:36:34.543775Z",
     "iopub.status.busy": "2025-09-03T17:36:34.543535Z",
     "iopub.status.idle": "2025-09-03T17:36:38.060393Z",
     "shell.execute_reply": "2025-09-03T17:36:38.059671Z"
    },
    "papermill": {
     "duration": 3.523271,
     "end_time": "2025-09-03T17:36:38.062003",
     "exception": false,
     "start_time": "2025-09-03T17:36:34.538732",
     "status": "completed"
    },
    "tags": []
   },
   "outputs": [],
   "source": [
    "loss_function = nn.CrossEntropyLoss()\n",
    "optimizer = optim.Adam(model.parameters(), lr=learning_rate)"
   ]
  },
  {
   "cell_type": "code",
   "execution_count": 18,
   "id": "9f661a46",
   "metadata": {
    "execution": {
     "iopub.execute_input": "2025-09-03T17:36:38.072412Z",
     "iopub.status.busy": "2025-09-03T17:36:38.071994Z",
     "iopub.status.idle": "2025-09-03T17:36:38.076250Z",
     "shell.execute_reply": "2025-09-03T17:36:38.075448Z"
    },
    "papermill": {
     "duration": 0.010677,
     "end_time": "2025-09-03T17:36:38.077536",
     "exception": false,
     "start_time": "2025-09-03T17:36:38.066859",
     "status": "completed"
    },
    "tags": []
   },
   "outputs": [
    {
     "name": "stdout",
     "output_type": "stream",
     "text": [
      "BiLSTMWithCrossAttention(\n",
      "  (lstm): LSTM(20, 256, num_layers=2, batch_first=True, bidirectional=True)\n",
      "  (k_proj): Linear(in_features=20, out_features=512, bias=True)\n",
      "  (v_proj): Linear(in_features=20, out_features=512, bias=True)\n",
      "  (cross_attn): MultiheadAttention(\n",
      "    (out_proj): NonDynamicallyQuantizableLinear(in_features=512, out_features=512, bias=True)\n",
      "  )\n",
      "  (dropout): Dropout(p=0.255, inplace=False)\n",
      "  (fc): Linear(in_features=512, out_features=2, bias=True)\n",
      ")\n"
     ]
    }
   ],
   "source": [
    "print(model)"
   ]
  },
  {
   "cell_type": "code",
   "execution_count": 19,
   "id": "274456bd",
   "metadata": {
    "execution": {
     "iopub.execute_input": "2025-09-03T17:36:38.087472Z",
     "iopub.status.busy": "2025-09-03T17:36:38.087255Z",
     "iopub.status.idle": "2025-09-03T19:34:17.357981Z",
     "shell.execute_reply": "2025-09-03T19:34:17.356840Z"
    },
    "papermill": {
     "duration": 7059.277304,
     "end_time": "2025-09-03T19:34:17.359406",
     "exception": false,
     "start_time": "2025-09-03T17:36:38.082102",
     "status": "completed"
    },
    "tags": []
   },
   "outputs": [
    {
     "name": "stderr",
     "output_type": "stream",
     "text": [
      "Epoch 1/40 [Train]: 100%|██████████| 3489/3489 [09:03<00:00,  6.42it/s, loss=0.652]\n",
      "Epoch 1/40 [Val]: 100%|██████████| 1161/1161 [02:24<00:00,  8.03it/s]\n"
     ]
    },
    {
     "name": "stdout",
     "output_type": "stream",
     "text": [
      "Epoch: 1/40, Train Loss: 0.2991, Train Accuracy: 0.8713, Val Accuracy: 0.8907\n"
     ]
    },
    {
     "name": "stderr",
     "output_type": "stream",
     "text": [
      "Epoch 2/40 [Train]: 100%|██████████| 3489/3489 [02:44<00:00, 21.24it/s, loss=0.258]\n",
      "Epoch 2/40 [Val]: 100%|██████████| 1161/1161 [00:33<00:00, 34.77it/s]\n"
     ]
    },
    {
     "name": "stdout",
     "output_type": "stream",
     "text": [
      "Epoch: 2/40, Train Loss: 0.2107, Train Accuracy: 0.9171, Val Accuracy: 0.9093\n"
     ]
    },
    {
     "name": "stderr",
     "output_type": "stream",
     "text": [
      "Epoch 3/40 [Train]: 100%|██████████| 3489/3489 [02:02<00:00, 28.44it/s, loss=0.0579]\n",
      "Epoch 3/40 [Val]: 100%|██████████| 1161/1161 [00:32<00:00, 35.61it/s]\n"
     ]
    },
    {
     "name": "stdout",
     "output_type": "stream",
     "text": [
      "Epoch: 3/40, Train Loss: 0.1601, Train Accuracy: 0.9373, Val Accuracy: 0.9202\n"
     ]
    },
    {
     "name": "stderr",
     "output_type": "stream",
     "text": [
      "Epoch 4/40 [Train]: 100%|██████████| 3489/3489 [02:05<00:00, 27.89it/s, loss=0.018]\n",
      "Epoch 4/40 [Val]: 100%|██████████| 1161/1161 [00:33<00:00, 34.24it/s]\n"
     ]
    },
    {
     "name": "stdout",
     "output_type": "stream",
     "text": [
      "Epoch: 4/40, Train Loss: 0.1314, Train Accuracy: 0.9493, Val Accuracy: 0.9234\n"
     ]
    },
    {
     "name": "stderr",
     "output_type": "stream",
     "text": [
      "Epoch 5/40 [Train]: 100%|██████████| 3489/3489 [02:04<00:00, 27.97it/s, loss=0.0134]\n",
      "Epoch 5/40 [Val]: 100%|██████████| 1161/1161 [00:34<00:00, 34.03it/s]\n"
     ]
    },
    {
     "name": "stdout",
     "output_type": "stream",
     "text": [
      "Epoch: 5/40, Train Loss: 0.1157, Train Accuracy: 0.9559, Val Accuracy: 0.9318\n"
     ]
    },
    {
     "name": "stderr",
     "output_type": "stream",
     "text": [
      "Epoch 6/40 [Train]: 100%|██████████| 3489/3489 [02:19<00:00, 25.09it/s, loss=0.0546]\n",
      "Epoch 6/40 [Val]: 100%|██████████| 1161/1161 [00:35<00:00, 32.97it/s]\n"
     ]
    },
    {
     "name": "stdout",
     "output_type": "stream",
     "text": [
      "Epoch: 6/40, Train Loss: 0.0930, Train Accuracy: 0.9656, Val Accuracy: 0.9385\n"
     ]
    },
    {
     "name": "stderr",
     "output_type": "stream",
     "text": [
      "Epoch 7/40 [Train]: 100%|██████████| 3489/3489 [02:10<00:00, 26.74it/s, loss=0.0694]\n",
      "Epoch 7/40 [Val]: 100%|██████████| 1161/1161 [00:37<00:00, 31.03it/s]\n"
     ]
    },
    {
     "name": "stdout",
     "output_type": "stream",
     "text": [
      "Epoch: 7/40, Train Loss: 0.0785, Train Accuracy: 0.9708, Val Accuracy: 0.9370\n"
     ]
    },
    {
     "name": "stderr",
     "output_type": "stream",
     "text": [
      "Epoch 8/40 [Train]: 100%|██████████| 3489/3489 [02:10<00:00, 26.70it/s, loss=0.00137]\n",
      "Epoch 8/40 [Val]: 100%|██████████| 1161/1161 [00:35<00:00, 32.76it/s]\n"
     ]
    },
    {
     "name": "stdout",
     "output_type": "stream",
     "text": [
      "Epoch: 8/40, Train Loss: 0.0654, Train Accuracy: 0.9760, Val Accuracy: 0.9386\n"
     ]
    },
    {
     "name": "stderr",
     "output_type": "stream",
     "text": [
      "Epoch 9/40 [Train]: 100%|██████████| 3489/3489 [02:10<00:00, 26.71it/s, loss=0.0594]\n",
      "Epoch 9/40 [Val]: 100%|██████████| 1161/1161 [00:35<00:00, 32.81it/s]\n"
     ]
    },
    {
     "name": "stdout",
     "output_type": "stream",
     "text": [
      "Epoch: 9/40, Train Loss: 0.0575, Train Accuracy: 0.9789, Val Accuracy: 0.9378\n"
     ]
    },
    {
     "name": "stderr",
     "output_type": "stream",
     "text": [
      "Epoch 10/40 [Train]: 100%|██████████| 3489/3489 [02:06<00:00, 27.52it/s, loss=0.293]\n",
      "Epoch 10/40 [Val]: 100%|██████████| 1161/1161 [00:34<00:00, 34.11it/s]\n"
     ]
    },
    {
     "name": "stdout",
     "output_type": "stream",
     "text": [
      "Epoch: 10/40, Train Loss: 0.0495, Train Accuracy: 0.9821, Val Accuracy: 0.9376\n"
     ]
    },
    {
     "name": "stderr",
     "output_type": "stream",
     "text": [
      "Epoch 11/40 [Train]: 100%|██████████| 3489/3489 [02:09<00:00, 27.03it/s, loss=0.00064]\n",
      "Epoch 11/40 [Val]: 100%|██████████| 1161/1161 [00:33<00:00, 34.59it/s]\n"
     ]
    },
    {
     "name": "stdout",
     "output_type": "stream",
     "text": [
      "Epoch: 11/40, Train Loss: 0.0417, Train Accuracy: 0.9847, Val Accuracy: 0.9398\n"
     ]
    },
    {
     "name": "stderr",
     "output_type": "stream",
     "text": [
      "Epoch 12/40 [Train]: 100%|██████████| 3489/3489 [02:07<00:00, 27.28it/s, loss=0.038]\n",
      "Epoch 12/40 [Val]: 100%|██████████| 1161/1161 [00:36<00:00, 32.18it/s]\n"
     ]
    },
    {
     "name": "stdout",
     "output_type": "stream",
     "text": [
      "Epoch: 12/40, Train Loss: 0.0357, Train Accuracy: 0.9875, Val Accuracy: 0.9423\n"
     ]
    },
    {
     "name": "stderr",
     "output_type": "stream",
     "text": [
      "Epoch 13/40 [Train]: 100%|██████████| 3489/3489 [02:12<00:00, 26.35it/s, loss=0.00413]\n",
      "Epoch 13/40 [Val]: 100%|██████████| 1161/1161 [00:35<00:00, 32.62it/s]\n"
     ]
    },
    {
     "name": "stdout",
     "output_type": "stream",
     "text": [
      "Epoch: 13/40, Train Loss: 0.0318, Train Accuracy: 0.9888, Val Accuracy: 0.9389\n"
     ]
    },
    {
     "name": "stderr",
     "output_type": "stream",
     "text": [
      "Epoch 14/40 [Train]: 100%|██████████| 3489/3489 [02:08<00:00, 27.20it/s, loss=0.000748]\n",
      "Epoch 14/40 [Val]: 100%|██████████| 1161/1161 [00:35<00:00, 32.81it/s]\n"
     ]
    },
    {
     "name": "stdout",
     "output_type": "stream",
     "text": [
      "Epoch: 14/40, Train Loss: 0.0273, Train Accuracy: 0.9904, Val Accuracy: 0.9326\n"
     ]
    },
    {
     "name": "stderr",
     "output_type": "stream",
     "text": [
      "Epoch 15/40 [Train]: 100%|██████████| 3489/3489 [02:16<00:00, 25.58it/s, loss=0.00688]\n",
      "Epoch 15/40 [Val]: 100%|██████████| 1161/1161 [00:37<00:00, 31.10it/s]\n"
     ]
    },
    {
     "name": "stdout",
     "output_type": "stream",
     "text": [
      "Epoch: 15/40, Train Loss: 0.0282, Train Accuracy: 0.9904, Val Accuracy: 0.9415\n"
     ]
    },
    {
     "name": "stderr",
     "output_type": "stream",
     "text": [
      "Epoch 16/40 [Train]: 100%|██████████| 3489/3489 [02:18<00:00, 25.15it/s, loss=0.00828]\n",
      "Epoch 16/40 [Val]: 100%|██████████| 1161/1161 [00:36<00:00, 31.99it/s]\n"
     ]
    },
    {
     "name": "stdout",
     "output_type": "stream",
     "text": [
      "Epoch: 16/40, Train Loss: 0.0253, Train Accuracy: 0.9915, Val Accuracy: 0.9398\n"
     ]
    },
    {
     "name": "stderr",
     "output_type": "stream",
     "text": [
      "Epoch 17/40 [Train]: 100%|██████████| 3489/3489 [02:09<00:00, 26.87it/s, loss=0.00557]\n",
      "Epoch 17/40 [Val]: 100%|██████████| 1161/1161 [00:35<00:00, 32.66it/s]\n"
     ]
    },
    {
     "name": "stdout",
     "output_type": "stream",
     "text": [
      "Epoch: 17/40, Train Loss: 0.0228, Train Accuracy: 0.9924, Val Accuracy: 0.9382\n"
     ]
    },
    {
     "name": "stderr",
     "output_type": "stream",
     "text": [
      "Epoch 18/40 [Train]: 100%|██████████| 3489/3489 [02:11<00:00, 26.55it/s, loss=0.0243]\n",
      "Epoch 18/40 [Val]: 100%|██████████| 1161/1161 [00:37<00:00, 31.00it/s]\n"
     ]
    },
    {
     "name": "stdout",
     "output_type": "stream",
     "text": [
      "Epoch: 18/40, Train Loss: 0.0208, Train Accuracy: 0.9930, Val Accuracy: 0.9367\n"
     ]
    },
    {
     "name": "stderr",
     "output_type": "stream",
     "text": [
      "Epoch 19/40 [Train]: 100%|██████████| 3489/3489 [02:06<00:00, 27.57it/s, loss=0.00439]\n",
      "Epoch 19/40 [Val]: 100%|██████████| 1161/1161 [00:33<00:00, 34.55it/s]\n"
     ]
    },
    {
     "name": "stdout",
     "output_type": "stream",
     "text": [
      "Epoch: 19/40, Train Loss: 0.0282, Train Accuracy: 0.9905, Val Accuracy: 0.8886\n"
     ]
    },
    {
     "name": "stderr",
     "output_type": "stream",
     "text": [
      "Epoch 20/40 [Train]: 100%|██████████| 3489/3489 [02:07<00:00, 27.42it/s, loss=0.000453]\n",
      "Epoch 20/40 [Val]: 100%|██████████| 1161/1161 [00:34<00:00, 33.63it/s]\n"
     ]
    },
    {
     "name": "stdout",
     "output_type": "stream",
     "text": [
      "Epoch: 20/40, Train Loss: 0.0208, Train Accuracy: 0.9933, Val Accuracy: 0.9403\n"
     ]
    },
    {
     "name": "stderr",
     "output_type": "stream",
     "text": [
      "Epoch 21/40 [Train]: 100%|██████████| 3489/3489 [02:09<00:00, 26.99it/s, loss=0.00254]\n",
      "Epoch 21/40 [Val]: 100%|██████████| 1161/1161 [00:35<00:00, 33.07it/s]\n"
     ]
    },
    {
     "name": "stdout",
     "output_type": "stream",
     "text": [
      "Epoch: 21/40, Train Loss: 0.0258, Train Accuracy: 0.9917, Val Accuracy: 0.9420\n"
     ]
    },
    {
     "name": "stderr",
     "output_type": "stream",
     "text": [
      "Epoch 22/40 [Train]: 100%|██████████| 3489/3489 [02:13<00:00, 26.23it/s, loss=0.00128]\n",
      "Epoch 22/40 [Val]: 100%|██████████| 1161/1161 [00:37<00:00, 30.81it/s]\n"
     ]
    },
    {
     "name": "stdout",
     "output_type": "stream",
     "text": [
      "Epoch: 22/40, Train Loss: 0.0176, Train Accuracy: 0.9945, Val Accuracy: 0.9414\n"
     ]
    },
    {
     "name": "stderr",
     "output_type": "stream",
     "text": [
      "Epoch 23/40 [Train]: 100%|██████████| 3489/3489 [02:07<00:00, 27.45it/s, loss=0.000383]\n",
      "Epoch 23/40 [Val]: 100%|██████████| 1161/1161 [00:34<00:00, 33.64it/s]\n"
     ]
    },
    {
     "name": "stdout",
     "output_type": "stream",
     "text": [
      "Epoch: 23/40, Train Loss: 0.0187, Train Accuracy: 0.9939, Val Accuracy: 0.9426\n"
     ]
    },
    {
     "name": "stderr",
     "output_type": "stream",
     "text": [
      "Epoch 24/40 [Train]: 100%|██████████| 3489/3489 [02:13<00:00, 26.19it/s, loss=0.000771]\n",
      "Epoch 24/40 [Val]: 100%|██████████| 1161/1161 [00:34<00:00, 34.09it/s]\n"
     ]
    },
    {
     "name": "stdout",
     "output_type": "stream",
     "text": [
      "Epoch: 24/40, Train Loss: 0.0212, Train Accuracy: 0.9931, Val Accuracy: 0.9412\n"
     ]
    },
    {
     "name": "stderr",
     "output_type": "stream",
     "text": [
      "Epoch 25/40 [Train]: 100%|██████████| 3489/3489 [02:10<00:00, 26.68it/s, loss=0.000597]\n",
      "Epoch 25/40 [Val]: 100%|██████████| 1161/1161 [00:34<00:00, 33.89it/s]\n"
     ]
    },
    {
     "name": "stdout",
     "output_type": "stream",
     "text": [
      "Epoch: 25/40, Train Loss: 0.0137, Train Accuracy: 0.9957, Val Accuracy: 0.9405\n"
     ]
    },
    {
     "name": "stderr",
     "output_type": "stream",
     "text": [
      "Epoch 26/40 [Train]: 100%|██████████| 3489/3489 [02:03<00:00, 28.14it/s, loss=0.000348]\n",
      "Epoch 26/40 [Val]: 100%|██████████| 1161/1161 [00:34<00:00, 33.42it/s]\n"
     ]
    },
    {
     "name": "stdout",
     "output_type": "stream",
     "text": [
      "Epoch: 26/40, Train Loss: 0.0148, Train Accuracy: 0.9953, Val Accuracy: 0.9444\n"
     ]
    },
    {
     "name": "stderr",
     "output_type": "stream",
     "text": [
      "Epoch 27/40 [Train]: 100%|██████████| 3489/3489 [02:04<00:00, 28.03it/s, loss=0.000401]\n",
      "Epoch 27/40 [Val]: 100%|██████████| 1161/1161 [00:32<00:00, 35.97it/s]\n"
     ]
    },
    {
     "name": "stdout",
     "output_type": "stream",
     "text": [
      "Epoch: 27/40, Train Loss: 0.0163, Train Accuracy: 0.9950, Val Accuracy: 0.9399\n"
     ]
    },
    {
     "name": "stderr",
     "output_type": "stream",
     "text": [
      "Epoch 28/40 [Train]: 100%|██████████| 3489/3489 [02:02<00:00, 28.37it/s, loss=0.00051]\n",
      "Epoch 28/40 [Val]: 100%|██████████| 1161/1161 [00:33<00:00, 34.97it/s]\n"
     ]
    },
    {
     "name": "stdout",
     "output_type": "stream",
     "text": [
      "Epoch: 28/40, Train Loss: 0.0174, Train Accuracy: 0.9946, Val Accuracy: 0.9439\n"
     ]
    },
    {
     "name": "stderr",
     "output_type": "stream",
     "text": [
      "Epoch 29/40 [Train]: 100%|██████████| 3489/3489 [02:01<00:00, 28.62it/s, loss=0.000423]\n",
      "Epoch 29/40 [Val]: 100%|██████████| 1161/1161 [00:31<00:00, 36.60it/s]\n"
     ]
    },
    {
     "name": "stdout",
     "output_type": "stream",
     "text": [
      "Epoch: 29/40, Train Loss: 0.0126, Train Accuracy: 0.9962, Val Accuracy: 0.9423\n"
     ]
    },
    {
     "name": "stderr",
     "output_type": "stream",
     "text": [
      "Epoch 30/40 [Train]: 100%|██████████| 3489/3489 [02:01<00:00, 28.61it/s, loss=0.00298]\n",
      "Epoch 30/40 [Val]: 100%|██████████| 1161/1161 [00:33<00:00, 35.18it/s]\n"
     ]
    },
    {
     "name": "stdout",
     "output_type": "stream",
     "text": [
      "Epoch: 30/40, Train Loss: 0.0132, Train Accuracy: 0.9959, Val Accuracy: 0.9466\n"
     ]
    },
    {
     "name": "stderr",
     "output_type": "stream",
     "text": [
      "Epoch 31/40 [Train]: 100%|██████████| 3489/3489 [02:04<00:00, 28.08it/s, loss=0.00276]\n",
      "Epoch 31/40 [Val]: 100%|██████████| 1161/1161 [00:34<00:00, 34.14it/s]\n"
     ]
    },
    {
     "name": "stdout",
     "output_type": "stream",
     "text": [
      "Epoch: 31/40, Train Loss: 0.0142, Train Accuracy: 0.9954, Val Accuracy: 0.9434\n"
     ]
    },
    {
     "name": "stderr",
     "output_type": "stream",
     "text": [
      "Epoch 32/40 [Train]: 100%|██████████| 3489/3489 [02:05<00:00, 27.88it/s, loss=0.000392]\n",
      "Epoch 32/40 [Val]: 100%|██████████| 1161/1161 [00:32<00:00, 35.31it/s]\n"
     ]
    },
    {
     "name": "stdout",
     "output_type": "stream",
     "text": [
      "Epoch: 32/40, Train Loss: 0.0255, Train Accuracy: 0.9924, Val Accuracy: 0.9328\n"
     ]
    },
    {
     "name": "stderr",
     "output_type": "stream",
     "text": [
      "Epoch 33/40 [Train]: 100%|██████████| 3489/3489 [02:04<00:00, 27.94it/s, loss=0.000323]\n",
      "Epoch 33/40 [Val]: 100%|██████████| 1161/1161 [00:33<00:00, 34.93it/s]\n"
     ]
    },
    {
     "name": "stdout",
     "output_type": "stream",
     "text": [
      "Epoch: 33/40, Train Loss: 0.0138, Train Accuracy: 0.9958, Val Accuracy: 0.9351\n"
     ]
    },
    {
     "name": "stderr",
     "output_type": "stream",
     "text": [
      "Epoch 34/40 [Train]: 100%|██████████| 3489/3489 [02:04<00:00, 27.96it/s, loss=0.000504]\n",
      "Epoch 34/40 [Val]: 100%|██████████| 1161/1161 [00:34<00:00, 34.01it/s]\n"
     ]
    },
    {
     "name": "stdout",
     "output_type": "stream",
     "text": [
      "Epoch: 34/40, Train Loss: 0.0154, Train Accuracy: 0.9951, Val Accuracy: 0.9413\n"
     ]
    },
    {
     "name": "stderr",
     "output_type": "stream",
     "text": [
      "Epoch 35/40 [Train]: 100%|██████████| 3489/3489 [02:06<00:00, 27.65it/s, loss=0.000708]\n",
      "Epoch 35/40 [Val]: 100%|██████████| 1161/1161 [00:35<00:00, 32.90it/s]\n"
     ]
    },
    {
     "name": "stdout",
     "output_type": "stream",
     "text": [
      "Epoch: 35/40, Train Loss: 0.0202, Train Accuracy: 0.9939, Val Accuracy: 0.9416\n"
     ]
    },
    {
     "name": "stderr",
     "output_type": "stream",
     "text": [
      "Epoch 36/40 [Train]: 100%|██████████| 3489/3489 [02:12<00:00, 26.38it/s, loss=0.00302]\n",
      "Epoch 36/40 [Val]: 100%|██████████| 1161/1161 [00:32<00:00, 35.55it/s]\n"
     ]
    },
    {
     "name": "stdout",
     "output_type": "stream",
     "text": [
      "Epoch: 36/40, Train Loss: 0.0147, Train Accuracy: 0.9955, Val Accuracy: 0.9418\n"
     ]
    },
    {
     "name": "stderr",
     "output_type": "stream",
     "text": [
      "Epoch 37/40 [Train]: 100%|██████████| 3489/3489 [02:02<00:00, 28.50it/s, loss=0.000499]\n",
      "Epoch 37/40 [Val]: 100%|██████████| 1161/1161 [00:33<00:00, 35.04it/s]\n"
     ]
    },
    {
     "name": "stdout",
     "output_type": "stream",
     "text": [
      "Epoch: 37/40, Train Loss: 0.0168, Train Accuracy: 0.9948, Val Accuracy: 0.9431\n"
     ]
    },
    {
     "name": "stderr",
     "output_type": "stream",
     "text": [
      "Epoch 38/40 [Train]: 100%|██████████| 3489/3489 [02:03<00:00, 28.36it/s, loss=0.00354]\n",
      "Epoch 38/40 [Val]: 100%|██████████| 1161/1161 [00:32<00:00, 35.64it/s]\n"
     ]
    },
    {
     "name": "stdout",
     "output_type": "stream",
     "text": [
      "Epoch: 38/40, Train Loss: 0.0120, Train Accuracy: 0.9964, Val Accuracy: 0.9366\n"
     ]
    },
    {
     "name": "stderr",
     "output_type": "stream",
     "text": [
      "Epoch 39/40 [Train]: 100%|██████████| 3489/3489 [02:02<00:00, 28.55it/s, loss=0.000188]\n",
      "Epoch 39/40 [Val]: 100%|██████████| 1161/1161 [00:34<00:00, 33.81it/s]\n"
     ]
    },
    {
     "name": "stdout",
     "output_type": "stream",
     "text": [
      "Epoch: 39/40, Train Loss: 0.0127, Train Accuracy: 0.9960, Val Accuracy: 0.9412\n"
     ]
    },
    {
     "name": "stderr",
     "output_type": "stream",
     "text": [
      "Epoch 40/40 [Train]: 100%|██████████| 3489/3489 [02:09<00:00, 26.87it/s, loss=7.7e-5]\n",
      "Epoch 40/40 [Val]: 100%|██████████| 1161/1161 [00:34<00:00, 33.50it/s]"
     ]
    },
    {
     "name": "stdout",
     "output_type": "stream",
     "text": [
      "Epoch: 40/40, Train Loss: 0.0099, Train Accuracy: 0.9971, Val Accuracy: 0.9400\n",
      "Max Accuracy: 0.946624677002584\n"
     ]
    },
    {
     "name": "stderr",
     "output_type": "stream",
     "text": [
      "\n"
     ]
    }
   ],
   "source": [
    "from tqdm import tqdm\n",
    "\n",
    "# Model training and testing\n",
    "n_total_steps = len(train_dataloader)\n",
    "train_accuracy_list = []\n",
    "train_loss_list = []\n",
    "val_accuracy_list = []\n",
    "max_acc = 0\n",
    "num_epochs = 40\n",
    "pred_labels = []\n",
    "act_labels = []\n",
    "device = torch.device('cuda' if torch.cuda.is_available() else 'cpu')\n",
    "model.to(device)\n",
    "\n",
    "for epoch in range(num_epochs):\n",
    "    model.train()\n",
    "    train_accuracy = 0.0\n",
    "    train_loss = 0.0\n",
    "\n",
    "    # Training loop with tqdm\n",
    "    train_loop = tqdm(enumerate(train_dataloader), total=len(train_dataloader), desc=f\"Epoch {epoch+1}/{num_epochs} [Train]\")\n",
    "    for batch_idx, (images, labels) in train_loop:\n",
    "        images, labels = images.to(device), labels.to(device)\n",
    "        optimizer.zero_grad()\n",
    "        outputs = model(images)\n",
    "        loss = loss_function(outputs, labels)\n",
    "        loss.backward()\n",
    "        optimizer.step()\n",
    "\n",
    "        # stats\n",
    "        train_loss += loss.item() * images.size(0)\n",
    "        _, prediction = torch.max(outputs.data, 1)\n",
    "        train_accuracy += int((prediction == labels).sum().item())\n",
    "\n",
    "        # Update tqdm bar\n",
    "        train_loop.set_postfix(loss=loss.item())\n",
    "\n",
    "    train_accuracy /= train_count\n",
    "    train_loss /= train_count\n",
    "    train_accuracy_list.append(train_accuracy)\n",
    "    train_loss_list.append(train_loss)\n",
    "\n",
    "    # Validation loop with tqdm\n",
    "    model.eval()\n",
    "    val_accuracy = 0.0\n",
    "    pred = []\n",
    "    lab = []\n",
    "\n",
    "    val_loop = tqdm(val_dataloader, total=len(val_dataloader), desc=f\"Epoch {epoch+1}/{num_epochs} [Val]\")\n",
    "    with torch.no_grad():\n",
    "        for images, labels in val_loop:\n",
    "            images, labels = images.to(device), labels.to(device)\n",
    "            outputs = model(images)\n",
    "            _, prediction = torch.max(outputs.data, 1)\n",
    "            val_accuracy += int((prediction == labels).sum().item())\n",
    "            pred.extend(prediction.cpu().tolist())\n",
    "            lab.extend(labels.cpu().tolist())\n",
    "\n",
    "    val_accuracy /= val_count\n",
    "    val_accuracy_list.append(val_accuracy)\n",
    "\n",
    "    if max_acc < val_accuracy:\n",
    "        max_acc = val_accuracy\n",
    "        pred_labels = pred\n",
    "        actual_labels = lab\n",
    "        torch.save(model, \"best_accuracy_model_BiLSTM.pth\")\n",
    "\n",
    "    print(f\"Epoch: {epoch + 1}/{num_epochs}, Train Loss: {train_loss:.4f}, \"\n",
    "          f\"Train Accuracy: {train_accuracy:.4f}, Val Accuracy: {val_accuracy:.4f}\")\n",
    "\n",
    "print(\"Max Accuracy:\", max_acc)\n"
   ]
  },
  {
   "cell_type": "code",
   "execution_count": 20,
   "id": "41345db9",
   "metadata": {
    "execution": {
     "iopub.execute_input": "2025-09-03T19:34:37.182554Z",
     "iopub.status.busy": "2025-09-03T19:34:37.182225Z",
     "iopub.status.idle": "2025-09-03T19:37:42.439968Z",
     "shell.execute_reply": "2025-09-03T19:37:42.438903Z"
    },
    "papermill": {
     "duration": 204.916256,
     "end_time": "2025-09-03T19:37:52.330684",
     "exception": false,
     "start_time": "2025-09-03T19:34:27.414428",
     "status": "completed"
    },
    "tags": []
   },
   "outputs": [
    {
     "name": "stdout",
     "output_type": "stream",
     "text": [
      "Testing Accuracy: 94.03%\n"
     ]
    }
   ],
   "source": [
    "best_model=torch.load(\"best_accuracy_model_BiLSTM.pth\", weights_only=False)\n",
    "best_model.to(device, dtype=torch.double)\n",
    "best_model.eval()\n",
    "\n",
    "# Initialize variables to store results\n",
    "testing_accuracy = 0.0\n",
    "pred_labels = []\n",
    "act_labels = []\n",
    "\n",
    "# Iterate over the test dataloader\n",
    "with torch.no_grad():\n",
    "    for i, (images, labels) in enumerate(test_dataloader):\n",
    "        if torch.cuda.is_available():\n",
    "            images = Variable(images.cuda())\n",
    "            labels = Variable(labels.cuda())\n",
    "        else:\n",
    "            images = Variable(images)\n",
    "            labels = Variable(labels)\n",
    "\n",
    "        # Forward pass (only input x)\n",
    "        outputs = best_model(images)\n",
    "\n",
    "        # Get predictions by taking the index with the highest score\n",
    "        _, prediction = torch.max(outputs.data, 1)\n",
    "\n",
    "        # Calculate the number of correct predictions\n",
    "        testing_accuracy += (prediction == labels).sum().item()\n",
    "\n",
    "        # Store predicted and actual labels\n",
    "        pred_labels.extend(prediction.cpu().tolist())\n",
    "        act_labels.extend(labels.cpu().tolist())\n",
    "\n",
    "# Calculate the testing accuracy\n",
    "testing_accuracy /= len(test_dataloader.dataset)\n",
    "\n",
    "# Print the testing accuracy\n",
    "print(f\"Testing Accuracy: {testing_accuracy * 100:.2f}%\")"
   ]
  },
  {
   "cell_type": "code",
   "execution_count": 21,
   "id": "f2b668bb",
   "metadata": {
    "execution": {
     "iopub.execute_input": "2025-09-03T19:38:12.052666Z",
     "iopub.status.busy": "2025-09-03T19:38:12.052355Z",
     "iopub.status.idle": "2025-09-03T19:38:12.055575Z",
     "shell.execute_reply": "2025-09-03T19:38:12.054885Z"
    },
    "papermill": {
     "duration": 10.019044,
     "end_time": "2025-09-03T19:38:12.056860",
     "exception": false,
     "start_time": "2025-09-03T19:38:02.037816",
     "status": "completed"
    },
    "tags": []
   },
   "outputs": [],
   "source": [
    "# # Calculate the confusion matrix\n",
    "# import seaborn as sns\n",
    "# conf_mat = confusion_matrix(act_labels, pred_labels)\n",
    "# # Plot confusion matrix heat map\n",
    "# sns.heatmap(conf_mat, cmap=\"flare\",annot=True, fmt = \"g\", \n",
    "#             cbar_kws={\"label\":\"color bar\"},\n",
    "#             xticklabels=train_dataset.classes,\n",
    "#             yticklabels=train_dataset.classes)\n",
    "# plt.xlabel(\"Predicted\")\n",
    "# plt.ylabel(\"Actual\")\n",
    "# plt.title(\"Confusion Matrix\")\n",
    "# plt.savefig(\"ConfusionMatrix_BiLSTM.png\")\n",
    "# plt.show()\n",
    "# from sklearn.metrics import f1_score\n",
    "# f1_score = f1_score(pred_labels, act_labels, average='macro')\n",
    "# print('F1 Score : ', f1_score)"
   ]
  },
  {
   "cell_type": "code",
   "execution_count": 22,
   "id": "d218bdba",
   "metadata": {
    "execution": {
     "iopub.execute_input": "2025-09-03T19:38:31.741917Z",
     "iopub.status.busy": "2025-09-03T19:38:31.741632Z",
     "iopub.status.idle": "2025-09-03T19:38:31.763314Z",
     "shell.execute_reply": "2025-09-03T19:38:31.762434Z"
    },
    "papermill": {
     "duration": 9.94735,
     "end_time": "2025-09-03T19:38:31.764599",
     "exception": false,
     "start_time": "2025-09-03T19:38:21.817249",
     "status": "completed"
    },
    "tags": []
   },
   "outputs": [
    {
     "name": "stdout",
     "output_type": "stream",
     "text": [
      "The equal error rate is 0.060\n"
     ]
    }
   ],
   "source": [
    "import numpy as np\n",
    "import sklearn.metrics\n",
    "\n",
    "\"\"\"\n",
    "Python compute equal error rate (eer)\n",
    "ONLY tested on binary classification\n",
    "\n",
    ":param label: ground-truth label, should be a 1-d list or np.array, each element represents the ground-truth label of one sample\n",
    ":param pred: model prediction, should be a 1-d list or np.array, each element represents the model prediction of one sample\n",
    ":param positive_label: the class that is viewed as positive class when computing EER\n",
    ":return: equal error rate (EER)\n",
    "\"\"\"\n",
    "def compute_eer(label, pred):\n",
    "    # all fpr, tpr, fnr, fnr, threshold are lists (in the format of np.array)\n",
    "    fpr, tpr, threshold = sklearn.metrics.roc_curve(label, pred)\n",
    "    fnr = 1 - tpr\n",
    "\n",
    "    # the threshold of fnr == fpr\n",
    "    eer_threshold = threshold[np.nanargmin(np.absolute((fnr - fpr)))]\n",
    "\n",
    "    # theoretically eer from fpr and eer from fnr should be identical but they can be slightly differ in reality\n",
    "    eer_1 = fpr[np.nanargmin(np.absolute((fnr - fpr)))]\n",
    "    eer_2 = fnr[np.nanargmin(np.absolute((fnr - fpr)))]\n",
    "\n",
    "    # return the mean of eer from fpr and from fnr\n",
    "    eer = (eer_1 + eer_2) / 2\n",
    "    return eer\n",
    "\n",
    "eer = compute_eer(act_labels, pred_labels)\n",
    "print('The equal error rate is {:.3f}'.format(eer))"
   ]
  },
  {
   "cell_type": "code",
   "execution_count": null,
   "id": "6488ac7e",
   "metadata": {
    "papermill": {
     "duration": 9.911375,
     "end_time": "2025-09-03T19:38:51.365168",
     "exception": false,
     "start_time": "2025-09-03T19:38:41.453793",
     "status": "completed"
    },
    "tags": []
   },
   "outputs": [],
   "source": []
  }
 ],
 "metadata": {
  "kaggle": {
   "accelerator": "gpu",
   "dataSources": [
    {
     "datasetId": 8157101,
     "sourceId": 12892670,
     "sourceType": "datasetVersion"
    }
   ],
   "dockerImageVersionId": 30839,
   "isGpuEnabled": true,
   "isInternetEnabled": false,
   "language": "python",
   "sourceType": "notebook"
  },
  "kernelspec": {
   "display_name": "Python 3",
   "language": "python",
   "name": "python3"
  },
  "language_info": {
   "codemirror_mode": {
    "name": "ipython",
    "version": 3
   },
   "file_extension": ".py",
   "mimetype": "text/x-python",
   "name": "python",
   "nbconvert_exporter": "python",
   "pygments_lexer": "ipython3",
   "version": "3.10.12"
  },
  "papermill": {
   "default_parameters": {},
   "duration": 7359.378211,
   "end_time": "2025-09-03T19:39:03.618355",
   "environment_variables": {},
   "exception": null,
   "input_path": "__notebook__.ipynb",
   "output_path": "__notebook__.ipynb",
   "parameters": {},
   "start_time": "2025-09-03T17:36:24.240144",
   "version": "2.5.0"
  }
 },
 "nbformat": 4,
 "nbformat_minor": 5
}
